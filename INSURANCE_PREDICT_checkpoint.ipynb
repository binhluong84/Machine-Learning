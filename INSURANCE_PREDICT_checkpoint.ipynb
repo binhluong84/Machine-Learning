{
  "cells": [
    {
      "cell_type": "markdown",
      "metadata": {
        "id": "view-in-github",
        "colab_type": "text"
      },
      "source": [
        "<a href=\"https://colab.research.google.com/github/binhluong84/Machine-Learning/blob/main/INSURANCE_PREDICT_checkpoint.ipynb\" target=\"_parent\"><img src=\"https://colab.research.google.com/assets/colab-badge.svg\" alt=\"Open In Colab\"/></a>"
      ]
    },
    {
      "cell_type": "code",
      "execution_count": null,
      "id": "d478a323",
      "metadata": {
        "id": "d478a323"
      },
      "outputs": [],
      "source": [
        "import numpy as np\n",
        "import pandas as pd\n",
        "import seaborn as sns\n",
        "import matplotlib.pyplot as plt\n",
        "import plotly.express as px\n",
        "import plotly.graph_objects as go\n",
        "from plotly.offline import plot, iplot, init_notebook_mode\n",
        "from sklearn.preprocessing import StandardScaler, PolynomialFeatures\n",
        "from sklearn.decomposition import PCA\n",
        "from sklearn.linear_model import LinearRegression\n",
        "from sklearn.neighbors import KNeighborsRegressor\n",
        "from sklearn.svm import SVR\n",
        "from sklearn.ensemble import GradientBoostingRegressor\n",
        "from sklearn.model_selection import train_test_split, RandomizedSearchCV\n",
        "from sklearn.metrics import r2_score, mean_squared_error\n",
        "import warnings\n",
        "warnings.filterwarnings(\"ignore\")\n"
      ]
    },
    {
      "cell_type": "code",
      "source": [
        "#Connect Google Drive\n",
        "from google.colab import drive\n",
        "drive.mount('/gdrive')"
      ],
      "metadata": {
        "colab": {
          "base_uri": "https://localhost:8080/"
        },
        "id": "Xe0r7K6AGcS8",
        "outputId": "d614d4c7-e161-43b1-a35c-2f39bfbe8ab3"
      },
      "id": "Xe0r7K6AGcS8",
      "execution_count": null,
      "outputs": [
        {
          "output_type": "stream",
          "name": "stdout",
          "text": [
            "Mounted at /gdrive\n"
          ]
        }
      ]
    },
    {
      "cell_type": "code",
      "execution_count": null,
      "id": "ee48cb41",
      "metadata": {
        "id": "ee48cb41"
      },
      "outputs": [],
      "source": [
        "ins = pd.read_csv('/gdrive/MyDrive/INSURANCE REGION PREDICT/insurance.csv')\n"
      ]
    },
    {
      "cell_type": "code",
      "execution_count": null,
      "id": "4718f84a",
      "metadata": {
        "colab": {
          "base_uri": "https://localhost:8080/",
          "height": 206
        },
        "id": "4718f84a",
        "outputId": "8f8fc65f-0faa-49f1-a59a-a80612d39db3"
      },
      "outputs": [
        {
          "output_type": "execute_result",
          "data": {
            "text/plain": [
              "   age     sex     bmi  children smoker     region      charges\n",
              "0   19  female  27.900         0    yes  southwest  16884.92400\n",
              "1   18    male  33.770         1     no  southeast   1725.55230\n",
              "2   28    male  33.000         3     no  southeast   4449.46200\n",
              "3   33    male  22.705         0     no  northwest  21984.47061\n",
              "4   32    male  28.880         0     no  northwest   3866.85520"
            ],
            "text/html": [
              "\n",
              "  <div id=\"df-69dd17f3-057b-4aa8-95c0-1f42f4f9a1bb\">\n",
              "    <div class=\"colab-df-container\">\n",
              "      <div>\n",
              "<style scoped>\n",
              "    .dataframe tbody tr th:only-of-type {\n",
              "        vertical-align: middle;\n",
              "    }\n",
              "\n",
              "    .dataframe tbody tr th {\n",
              "        vertical-align: top;\n",
              "    }\n",
              "\n",
              "    .dataframe thead th {\n",
              "        text-align: right;\n",
              "    }\n",
              "</style>\n",
              "<table border=\"1\" class=\"dataframe\">\n",
              "  <thead>\n",
              "    <tr style=\"text-align: right;\">\n",
              "      <th></th>\n",
              "      <th>age</th>\n",
              "      <th>sex</th>\n",
              "      <th>bmi</th>\n",
              "      <th>children</th>\n",
              "      <th>smoker</th>\n",
              "      <th>region</th>\n",
              "      <th>charges</th>\n",
              "    </tr>\n",
              "  </thead>\n",
              "  <tbody>\n",
              "    <tr>\n",
              "      <th>0</th>\n",
              "      <td>19</td>\n",
              "      <td>female</td>\n",
              "      <td>27.900</td>\n",
              "      <td>0</td>\n",
              "      <td>yes</td>\n",
              "      <td>southwest</td>\n",
              "      <td>16884.92400</td>\n",
              "    </tr>\n",
              "    <tr>\n",
              "      <th>1</th>\n",
              "      <td>18</td>\n",
              "      <td>male</td>\n",
              "      <td>33.770</td>\n",
              "      <td>1</td>\n",
              "      <td>no</td>\n",
              "      <td>southeast</td>\n",
              "      <td>1725.55230</td>\n",
              "    </tr>\n",
              "    <tr>\n",
              "      <th>2</th>\n",
              "      <td>28</td>\n",
              "      <td>male</td>\n",
              "      <td>33.000</td>\n",
              "      <td>3</td>\n",
              "      <td>no</td>\n",
              "      <td>southeast</td>\n",
              "      <td>4449.46200</td>\n",
              "    </tr>\n",
              "    <tr>\n",
              "      <th>3</th>\n",
              "      <td>33</td>\n",
              "      <td>male</td>\n",
              "      <td>22.705</td>\n",
              "      <td>0</td>\n",
              "      <td>no</td>\n",
              "      <td>northwest</td>\n",
              "      <td>21984.47061</td>\n",
              "    </tr>\n",
              "    <tr>\n",
              "      <th>4</th>\n",
              "      <td>32</td>\n",
              "      <td>male</td>\n",
              "      <td>28.880</td>\n",
              "      <td>0</td>\n",
              "      <td>no</td>\n",
              "      <td>northwest</td>\n",
              "      <td>3866.85520</td>\n",
              "    </tr>\n",
              "  </tbody>\n",
              "</table>\n",
              "</div>\n",
              "      <button class=\"colab-df-convert\" onclick=\"convertToInteractive('df-69dd17f3-057b-4aa8-95c0-1f42f4f9a1bb')\"\n",
              "              title=\"Convert this dataframe to an interactive table.\"\n",
              "              style=\"display:none;\">\n",
              "        \n",
              "  <svg xmlns=\"http://www.w3.org/2000/svg\" height=\"24px\"viewBox=\"0 0 24 24\"\n",
              "       width=\"24px\">\n",
              "    <path d=\"M0 0h24v24H0V0z\" fill=\"none\"/>\n",
              "    <path d=\"M18.56 5.44l.94 2.06.94-2.06 2.06-.94-2.06-.94-.94-2.06-.94 2.06-2.06.94zm-11 1L8.5 8.5l.94-2.06 2.06-.94-2.06-.94L8.5 2.5l-.94 2.06-2.06.94zm10 10l.94 2.06.94-2.06 2.06-.94-2.06-.94-.94-2.06-.94 2.06-2.06.94z\"/><path d=\"M17.41 7.96l-1.37-1.37c-.4-.4-.92-.59-1.43-.59-.52 0-1.04.2-1.43.59L10.3 9.45l-7.72 7.72c-.78.78-.78 2.05 0 2.83L4 21.41c.39.39.9.59 1.41.59.51 0 1.02-.2 1.41-.59l7.78-7.78 2.81-2.81c.8-.78.8-2.07 0-2.86zM5.41 20L4 18.59l7.72-7.72 1.47 1.35L5.41 20z\"/>\n",
              "  </svg>\n",
              "      </button>\n",
              "      \n",
              "  <style>\n",
              "    .colab-df-container {\n",
              "      display:flex;\n",
              "      flex-wrap:wrap;\n",
              "      gap: 12px;\n",
              "    }\n",
              "\n",
              "    .colab-df-convert {\n",
              "      background-color: #E8F0FE;\n",
              "      border: none;\n",
              "      border-radius: 50%;\n",
              "      cursor: pointer;\n",
              "      display: none;\n",
              "      fill: #1967D2;\n",
              "      height: 32px;\n",
              "      padding: 0 0 0 0;\n",
              "      width: 32px;\n",
              "    }\n",
              "\n",
              "    .colab-df-convert:hover {\n",
              "      background-color: #E2EBFA;\n",
              "      box-shadow: 0px 1px 2px rgba(60, 64, 67, 0.3), 0px 1px 3px 1px rgba(60, 64, 67, 0.15);\n",
              "      fill: #174EA6;\n",
              "    }\n",
              "\n",
              "    [theme=dark] .colab-df-convert {\n",
              "      background-color: #3B4455;\n",
              "      fill: #D2E3FC;\n",
              "    }\n",
              "\n",
              "    [theme=dark] .colab-df-convert:hover {\n",
              "      background-color: #434B5C;\n",
              "      box-shadow: 0px 1px 3px 1px rgba(0, 0, 0, 0.15);\n",
              "      filter: drop-shadow(0px 1px 2px rgba(0, 0, 0, 0.3));\n",
              "      fill: #FFFFFF;\n",
              "    }\n",
              "  </style>\n",
              "\n",
              "      <script>\n",
              "        const buttonEl =\n",
              "          document.querySelector('#df-69dd17f3-057b-4aa8-95c0-1f42f4f9a1bb button.colab-df-convert');\n",
              "        buttonEl.style.display =\n",
              "          google.colab.kernel.accessAllowed ? 'block' : 'none';\n",
              "\n",
              "        async function convertToInteractive(key) {\n",
              "          const element = document.querySelector('#df-69dd17f3-057b-4aa8-95c0-1f42f4f9a1bb');\n",
              "          const dataTable =\n",
              "            await google.colab.kernel.invokeFunction('convertToInteractive',\n",
              "                                                     [key], {});\n",
              "          if (!dataTable) return;\n",
              "\n",
              "          const docLinkHtml = 'Like what you see? Visit the ' +\n",
              "            '<a target=\"_blank\" href=https://colab.research.google.com/notebooks/data_table.ipynb>data table notebook</a>'\n",
              "            + ' to learn more about interactive tables.';\n",
              "          element.innerHTML = '';\n",
              "          dataTable['output_type'] = 'display_data';\n",
              "          await google.colab.output.renderOutput(dataTable, element);\n",
              "          const docLink = document.createElement('div');\n",
              "          docLink.innerHTML = docLinkHtml;\n",
              "          element.appendChild(docLink);\n",
              "        }\n",
              "      </script>\n",
              "    </div>\n",
              "  </div>\n",
              "  "
            ]
          },
          "metadata": {},
          "execution_count": 4
        }
      ],
      "source": [
        "ins.head()"
      ]
    },
    {
      "cell_type": "code",
      "execution_count": null,
      "id": "fa1afcaf",
      "metadata": {
        "colab": {
          "base_uri": "https://localhost:8080/",
          "height": 175
        },
        "id": "fa1afcaf",
        "outputId": "c80bcee7-fb84-4219-e241-291780c0a408"
      },
      "outputs": [
        {
          "output_type": "execute_result",
          "data": {
            "text/plain": [
              "           count          mean           std        min         25%       50%  \\\n",
              "age       1338.0     39.207025     14.049960    18.0000    27.00000    39.000   \n",
              "bmi       1338.0     30.663397      6.098187    15.9600    26.29625    30.400   \n",
              "children  1338.0      1.094918      1.205493     0.0000     0.00000     1.000   \n",
              "charges   1338.0  13270.422265  12110.011237  1121.8739  4740.28715  9382.033   \n",
              "\n",
              "                   75%          max  \n",
              "age          51.000000     64.00000  \n",
              "bmi          34.693750     53.13000  \n",
              "children      2.000000      5.00000  \n",
              "charges   16639.912515  63770.42801  "
            ],
            "text/html": [
              "\n",
              "  <div id=\"df-f344ed53-30c4-46e5-bcd9-0c5ee69659ce\">\n",
              "    <div class=\"colab-df-container\">\n",
              "      <div>\n",
              "<style scoped>\n",
              "    .dataframe tbody tr th:only-of-type {\n",
              "        vertical-align: middle;\n",
              "    }\n",
              "\n",
              "    .dataframe tbody tr th {\n",
              "        vertical-align: top;\n",
              "    }\n",
              "\n",
              "    .dataframe thead th {\n",
              "        text-align: right;\n",
              "    }\n",
              "</style>\n",
              "<table border=\"1\" class=\"dataframe\">\n",
              "  <thead>\n",
              "    <tr style=\"text-align: right;\">\n",
              "      <th></th>\n",
              "      <th>count</th>\n",
              "      <th>mean</th>\n",
              "      <th>std</th>\n",
              "      <th>min</th>\n",
              "      <th>25%</th>\n",
              "      <th>50%</th>\n",
              "      <th>75%</th>\n",
              "      <th>max</th>\n",
              "    </tr>\n",
              "  </thead>\n",
              "  <tbody>\n",
              "    <tr>\n",
              "      <th>age</th>\n",
              "      <td>1338.0</td>\n",
              "      <td>39.207025</td>\n",
              "      <td>14.049960</td>\n",
              "      <td>18.0000</td>\n",
              "      <td>27.00000</td>\n",
              "      <td>39.000</td>\n",
              "      <td>51.000000</td>\n",
              "      <td>64.00000</td>\n",
              "    </tr>\n",
              "    <tr>\n",
              "      <th>bmi</th>\n",
              "      <td>1338.0</td>\n",
              "      <td>30.663397</td>\n",
              "      <td>6.098187</td>\n",
              "      <td>15.9600</td>\n",
              "      <td>26.29625</td>\n",
              "      <td>30.400</td>\n",
              "      <td>34.693750</td>\n",
              "      <td>53.13000</td>\n",
              "    </tr>\n",
              "    <tr>\n",
              "      <th>children</th>\n",
              "      <td>1338.0</td>\n",
              "      <td>1.094918</td>\n",
              "      <td>1.205493</td>\n",
              "      <td>0.0000</td>\n",
              "      <td>0.00000</td>\n",
              "      <td>1.000</td>\n",
              "      <td>2.000000</td>\n",
              "      <td>5.00000</td>\n",
              "    </tr>\n",
              "    <tr>\n",
              "      <th>charges</th>\n",
              "      <td>1338.0</td>\n",
              "      <td>13270.422265</td>\n",
              "      <td>12110.011237</td>\n",
              "      <td>1121.8739</td>\n",
              "      <td>4740.28715</td>\n",
              "      <td>9382.033</td>\n",
              "      <td>16639.912515</td>\n",
              "      <td>63770.42801</td>\n",
              "    </tr>\n",
              "  </tbody>\n",
              "</table>\n",
              "</div>\n",
              "      <button class=\"colab-df-convert\" onclick=\"convertToInteractive('df-f344ed53-30c4-46e5-bcd9-0c5ee69659ce')\"\n",
              "              title=\"Convert this dataframe to an interactive table.\"\n",
              "              style=\"display:none;\">\n",
              "        \n",
              "  <svg xmlns=\"http://www.w3.org/2000/svg\" height=\"24px\"viewBox=\"0 0 24 24\"\n",
              "       width=\"24px\">\n",
              "    <path d=\"M0 0h24v24H0V0z\" fill=\"none\"/>\n",
              "    <path d=\"M18.56 5.44l.94 2.06.94-2.06 2.06-.94-2.06-.94-.94-2.06-.94 2.06-2.06.94zm-11 1L8.5 8.5l.94-2.06 2.06-.94-2.06-.94L8.5 2.5l-.94 2.06-2.06.94zm10 10l.94 2.06.94-2.06 2.06-.94-2.06-.94-.94-2.06-.94 2.06-2.06.94z\"/><path d=\"M17.41 7.96l-1.37-1.37c-.4-.4-.92-.59-1.43-.59-.52 0-1.04.2-1.43.59L10.3 9.45l-7.72 7.72c-.78.78-.78 2.05 0 2.83L4 21.41c.39.39.9.59 1.41.59.51 0 1.02-.2 1.41-.59l7.78-7.78 2.81-2.81c.8-.78.8-2.07 0-2.86zM5.41 20L4 18.59l7.72-7.72 1.47 1.35L5.41 20z\"/>\n",
              "  </svg>\n",
              "      </button>\n",
              "      \n",
              "  <style>\n",
              "    .colab-df-container {\n",
              "      display:flex;\n",
              "      flex-wrap:wrap;\n",
              "      gap: 12px;\n",
              "    }\n",
              "\n",
              "    .colab-df-convert {\n",
              "      background-color: #E8F0FE;\n",
              "      border: none;\n",
              "      border-radius: 50%;\n",
              "      cursor: pointer;\n",
              "      display: none;\n",
              "      fill: #1967D2;\n",
              "      height: 32px;\n",
              "      padding: 0 0 0 0;\n",
              "      width: 32px;\n",
              "    }\n",
              "\n",
              "    .colab-df-convert:hover {\n",
              "      background-color: #E2EBFA;\n",
              "      box-shadow: 0px 1px 2px rgba(60, 64, 67, 0.3), 0px 1px 3px 1px rgba(60, 64, 67, 0.15);\n",
              "      fill: #174EA6;\n",
              "    }\n",
              "\n",
              "    [theme=dark] .colab-df-convert {\n",
              "      background-color: #3B4455;\n",
              "      fill: #D2E3FC;\n",
              "    }\n",
              "\n",
              "    [theme=dark] .colab-df-convert:hover {\n",
              "      background-color: #434B5C;\n",
              "      box-shadow: 0px 1px 3px 1px rgba(0, 0, 0, 0.15);\n",
              "      filter: drop-shadow(0px 1px 2px rgba(0, 0, 0, 0.3));\n",
              "      fill: #FFFFFF;\n",
              "    }\n",
              "  </style>\n",
              "\n",
              "      <script>\n",
              "        const buttonEl =\n",
              "          document.querySelector('#df-f344ed53-30c4-46e5-bcd9-0c5ee69659ce button.colab-df-convert');\n",
              "        buttonEl.style.display =\n",
              "          google.colab.kernel.accessAllowed ? 'block' : 'none';\n",
              "\n",
              "        async function convertToInteractive(key) {\n",
              "          const element = document.querySelector('#df-f344ed53-30c4-46e5-bcd9-0c5ee69659ce');\n",
              "          const dataTable =\n",
              "            await google.colab.kernel.invokeFunction('convertToInteractive',\n",
              "                                                     [key], {});\n",
              "          if (!dataTable) return;\n",
              "\n",
              "          const docLinkHtml = 'Like what you see? Visit the ' +\n",
              "            '<a target=\"_blank\" href=https://colab.research.google.com/notebooks/data_table.ipynb>data table notebook</a>'\n",
              "            + ' to learn more about interactive tables.';\n",
              "          element.innerHTML = '';\n",
              "          dataTable['output_type'] = 'display_data';\n",
              "          await google.colab.output.renderOutput(dataTable, element);\n",
              "          const docLink = document.createElement('div');\n",
              "          docLink.innerHTML = docLinkHtml;\n",
              "          element.appendChild(docLink);\n",
              "        }\n",
              "      </script>\n",
              "    </div>\n",
              "  </div>\n",
              "  "
            ]
          },
          "metadata": {},
          "execution_count": 5
        }
      ],
      "source": [
        "ins.describe().T"
      ]
    },
    {
      "cell_type": "code",
      "execution_count": null,
      "id": "88800dca",
      "metadata": {
        "colab": {
          "base_uri": "https://localhost:8080/"
        },
        "id": "88800dca",
        "outputId": "06c46fd8-f8d5-4f01-d9a1-0604e4f9bbe2"
      },
      "outputs": [
        {
          "output_type": "stream",
          "name": "stdout",
          "text": [
            "There are 1,338 observations and 7 columns in the data set.\n"
          ]
        }
      ],
      "source": [
        "## kiểm tra số dòng, số cột:\n",
        "print(\"There are {:,} observations and {} columns in the data set.\".format(ins.shape[0], ins.shape[1]))"
      ]
    },
    {
      "cell_type": "code",
      "execution_count": null,
      "id": "e476448c",
      "metadata": {
        "colab": {
          "base_uri": "https://localhost:8080/"
        },
        "id": "e476448c",
        "outputId": "9de57c6a-3a50-4a8b-8276-a43ce8058d5c"
      },
      "outputs": [
        {
          "output_type": "stream",
          "name": "stdout",
          "text": [
            "There are 0 missing values in the data.\n"
          ]
        }
      ],
      "source": [
        "## kiểm tra missig value:\n",
        "print(\"There are {} missing values in the data.\".format(ins.isna().sum().sum()))"
      ]
    },
    {
      "cell_type": "code",
      "execution_count": null,
      "id": "d802ef96",
      "metadata": {
        "colab": {
          "base_uri": "https://localhost:8080/",
          "height": 175
        },
        "id": "d802ef96",
        "outputId": "bc016eee-1aa1-4e47-8bcd-2ea037f97eca"
      },
      "outputs": [
        {
          "output_type": "execute_result",
          "data": {
            "text/plain": [
              "         sex smoker     region\n",
              "count   1338   1338       1338\n",
              "unique     2      2          4\n",
              "top     male     no  southeast\n",
              "freq     676   1064        364"
            ],
            "text/html": [
              "\n",
              "  <div id=\"df-adcde735-5f55-4f61-8afe-b49d61be1dd3\">\n",
              "    <div class=\"colab-df-container\">\n",
              "      <div>\n",
              "<style scoped>\n",
              "    .dataframe tbody tr th:only-of-type {\n",
              "        vertical-align: middle;\n",
              "    }\n",
              "\n",
              "    .dataframe tbody tr th {\n",
              "        vertical-align: top;\n",
              "    }\n",
              "\n",
              "    .dataframe thead th {\n",
              "        text-align: right;\n",
              "    }\n",
              "</style>\n",
              "<table border=\"1\" class=\"dataframe\">\n",
              "  <thead>\n",
              "    <tr style=\"text-align: right;\">\n",
              "      <th></th>\n",
              "      <th>sex</th>\n",
              "      <th>smoker</th>\n",
              "      <th>region</th>\n",
              "    </tr>\n",
              "  </thead>\n",
              "  <tbody>\n",
              "    <tr>\n",
              "      <th>count</th>\n",
              "      <td>1338</td>\n",
              "      <td>1338</td>\n",
              "      <td>1338</td>\n",
              "    </tr>\n",
              "    <tr>\n",
              "      <th>unique</th>\n",
              "      <td>2</td>\n",
              "      <td>2</td>\n",
              "      <td>4</td>\n",
              "    </tr>\n",
              "    <tr>\n",
              "      <th>top</th>\n",
              "      <td>male</td>\n",
              "      <td>no</td>\n",
              "      <td>southeast</td>\n",
              "    </tr>\n",
              "    <tr>\n",
              "      <th>freq</th>\n",
              "      <td>676</td>\n",
              "      <td>1064</td>\n",
              "      <td>364</td>\n",
              "    </tr>\n",
              "  </tbody>\n",
              "</table>\n",
              "</div>\n",
              "      <button class=\"colab-df-convert\" onclick=\"convertToInteractive('df-adcde735-5f55-4f61-8afe-b49d61be1dd3')\"\n",
              "              title=\"Convert this dataframe to an interactive table.\"\n",
              "              style=\"display:none;\">\n",
              "        \n",
              "  <svg xmlns=\"http://www.w3.org/2000/svg\" height=\"24px\"viewBox=\"0 0 24 24\"\n",
              "       width=\"24px\">\n",
              "    <path d=\"M0 0h24v24H0V0z\" fill=\"none\"/>\n",
              "    <path d=\"M18.56 5.44l.94 2.06.94-2.06 2.06-.94-2.06-.94-.94-2.06-.94 2.06-2.06.94zm-11 1L8.5 8.5l.94-2.06 2.06-.94-2.06-.94L8.5 2.5l-.94 2.06-2.06.94zm10 10l.94 2.06.94-2.06 2.06-.94-2.06-.94-.94-2.06-.94 2.06-2.06.94z\"/><path d=\"M17.41 7.96l-1.37-1.37c-.4-.4-.92-.59-1.43-.59-.52 0-1.04.2-1.43.59L10.3 9.45l-7.72 7.72c-.78.78-.78 2.05 0 2.83L4 21.41c.39.39.9.59 1.41.59.51 0 1.02-.2 1.41-.59l7.78-7.78 2.81-2.81c.8-.78.8-2.07 0-2.86zM5.41 20L4 18.59l7.72-7.72 1.47 1.35L5.41 20z\"/>\n",
              "  </svg>\n",
              "      </button>\n",
              "      \n",
              "  <style>\n",
              "    .colab-df-container {\n",
              "      display:flex;\n",
              "      flex-wrap:wrap;\n",
              "      gap: 12px;\n",
              "    }\n",
              "\n",
              "    .colab-df-convert {\n",
              "      background-color: #E8F0FE;\n",
              "      border: none;\n",
              "      border-radius: 50%;\n",
              "      cursor: pointer;\n",
              "      display: none;\n",
              "      fill: #1967D2;\n",
              "      height: 32px;\n",
              "      padding: 0 0 0 0;\n",
              "      width: 32px;\n",
              "    }\n",
              "\n",
              "    .colab-df-convert:hover {\n",
              "      background-color: #E2EBFA;\n",
              "      box-shadow: 0px 1px 2px rgba(60, 64, 67, 0.3), 0px 1px 3px 1px rgba(60, 64, 67, 0.15);\n",
              "      fill: #174EA6;\n",
              "    }\n",
              "\n",
              "    [theme=dark] .colab-df-convert {\n",
              "      background-color: #3B4455;\n",
              "      fill: #D2E3FC;\n",
              "    }\n",
              "\n",
              "    [theme=dark] .colab-df-convert:hover {\n",
              "      background-color: #434B5C;\n",
              "      box-shadow: 0px 1px 3px 1px rgba(0, 0, 0, 0.15);\n",
              "      filter: drop-shadow(0px 1px 2px rgba(0, 0, 0, 0.3));\n",
              "      fill: #FFFFFF;\n",
              "    }\n",
              "  </style>\n",
              "\n",
              "      <script>\n",
              "        const buttonEl =\n",
              "          document.querySelector('#df-adcde735-5f55-4f61-8afe-b49d61be1dd3 button.colab-df-convert');\n",
              "        buttonEl.style.display =\n",
              "          google.colab.kernel.accessAllowed ? 'block' : 'none';\n",
              "\n",
              "        async function convertToInteractive(key) {\n",
              "          const element = document.querySelector('#df-adcde735-5f55-4f61-8afe-b49d61be1dd3');\n",
              "          const dataTable =\n",
              "            await google.colab.kernel.invokeFunction('convertToInteractive',\n",
              "                                                     [key], {});\n",
              "          if (!dataTable) return;\n",
              "\n",
              "          const docLinkHtml = 'Like what you see? Visit the ' +\n",
              "            '<a target=\"_blank\" href=https://colab.research.google.com/notebooks/data_table.ipynb>data table notebook</a>'\n",
              "            + ' to learn more about interactive tables.';\n",
              "          element.innerHTML = '';\n",
              "          dataTable['output_type'] = 'display_data';\n",
              "          await google.colab.output.renderOutput(dataTable, element);\n",
              "          const docLink = document.createElement('div');\n",
              "          docLink.innerHTML = docLinkHtml;\n",
              "          element.appendChild(docLink);\n",
              "        }\n",
              "      </script>\n",
              "    </div>\n",
              "  </div>\n",
              "  "
            ]
          },
          "metadata": {},
          "execution_count": 8
        }
      ],
      "source": [
        "## kiểm tra dtype của các trường mang giá trị object:\n",
        "ins.select_dtypes(include=['object']).describe()"
      ]
    },
    {
      "cell_type": "code",
      "execution_count": null,
      "id": "4ad6beb5",
      "metadata": {
        "colab": {
          "base_uri": "https://localhost:8080/",
          "height": 417
        },
        "id": "4ad6beb5",
        "outputId": "8d9a111d-7072-4e7a-b6c4-433bf658ee30"
      },
      "outputs": [
        {
          "output_type": "display_data",
          "data": {
            "text/plain": [
              "<pandas.io.formats.style.Styler at 0x7f3612b71ad0>"
            ],
            "text/html": [
              "<style type=\"text/css\">\n",
              "</style>\n",
              "<table id=\"T_6e8dc_\" class=\"dataframe\">\n",
              "  <caption>Variable: sex</caption>\n",
              "  <thead>\n",
              "    <tr>\n",
              "      <th class=\"blank level0\" >&nbsp;</th>\n",
              "      <th class=\"col_heading level0 col0\" >Number of Policyholders</th>\n",
              "      <th class=\"col_heading level0 col1\" >Average Claim Amount</th>\n",
              "    </tr>\n",
              "  </thead>\n",
              "  <tbody>\n",
              "    <tr>\n",
              "      <th id=\"T_6e8dc_level0_row0\" class=\"row_heading level0 row0\" >male</th>\n",
              "      <td id=\"T_6e8dc_row0_col0\" class=\"data row0 col0\" >676</td>\n",
              "      <td id=\"T_6e8dc_row0_col1\" class=\"data row0 col1\" >$13,956.75</td>\n",
              "    </tr>\n",
              "    <tr>\n",
              "      <th id=\"T_6e8dc_level0_row1\" class=\"row_heading level0 row1\" >female</th>\n",
              "      <td id=\"T_6e8dc_row1_col0\" class=\"data row1 col0\" >662</td>\n",
              "      <td id=\"T_6e8dc_row1_col1\" class=\"data row1 col1\" >$12,569.58</td>\n",
              "    </tr>\n",
              "  </tbody>\n",
              "</table>\n"
            ]
          },
          "metadata": {}
        },
        {
          "output_type": "display_data",
          "data": {
            "text/plain": [
              "<pandas.io.formats.style.Styler at 0x7f3612b71a10>"
            ],
            "text/html": [
              "<style type=\"text/css\">\n",
              "</style>\n",
              "<table id=\"T_9cde6_\" class=\"dataframe\">\n",
              "  <caption>Variable: smoker</caption>\n",
              "  <thead>\n",
              "    <tr>\n",
              "      <th class=\"blank level0\" >&nbsp;</th>\n",
              "      <th class=\"col_heading level0 col0\" >Number of Policyholders</th>\n",
              "      <th class=\"col_heading level0 col1\" >Average Claim Amount</th>\n",
              "    </tr>\n",
              "  </thead>\n",
              "  <tbody>\n",
              "    <tr>\n",
              "      <th id=\"T_9cde6_level0_row0\" class=\"row_heading level0 row0\" >no</th>\n",
              "      <td id=\"T_9cde6_row0_col0\" class=\"data row0 col0\" >1064</td>\n",
              "      <td id=\"T_9cde6_row0_col1\" class=\"data row0 col1\" >$8,434.27</td>\n",
              "    </tr>\n",
              "    <tr>\n",
              "      <th id=\"T_9cde6_level0_row1\" class=\"row_heading level0 row1\" >yes</th>\n",
              "      <td id=\"T_9cde6_row1_col0\" class=\"data row1 col0\" >274</td>\n",
              "      <td id=\"T_9cde6_row1_col1\" class=\"data row1 col1\" >$32,050.23</td>\n",
              "    </tr>\n",
              "  </tbody>\n",
              "</table>\n"
            ]
          },
          "metadata": {}
        },
        {
          "output_type": "display_data",
          "data": {
            "text/plain": [
              "<pandas.io.formats.style.Styler at 0x7f35f58b3750>"
            ],
            "text/html": [
              "<style type=\"text/css\">\n",
              "</style>\n",
              "<table id=\"T_488d7_\" class=\"dataframe\">\n",
              "  <caption>Variable: region</caption>\n",
              "  <thead>\n",
              "    <tr>\n",
              "      <th class=\"blank level0\" >&nbsp;</th>\n",
              "      <th class=\"col_heading level0 col0\" >Number of Policyholders</th>\n",
              "      <th class=\"col_heading level0 col1\" >Average Claim Amount</th>\n",
              "    </tr>\n",
              "  </thead>\n",
              "  <tbody>\n",
              "    <tr>\n",
              "      <th id=\"T_488d7_level0_row0\" class=\"row_heading level0 row0\" >southeast</th>\n",
              "      <td id=\"T_488d7_row0_col0\" class=\"data row0 col0\" >364</td>\n",
              "      <td id=\"T_488d7_row0_col1\" class=\"data row0 col1\" >$14,735.41</td>\n",
              "    </tr>\n",
              "    <tr>\n",
              "      <th id=\"T_488d7_level0_row1\" class=\"row_heading level0 row1\" >northwest</th>\n",
              "      <td id=\"T_488d7_row1_col0\" class=\"data row1 col0\" >325</td>\n",
              "      <td id=\"T_488d7_row1_col1\" class=\"data row1 col1\" >$12,417.58</td>\n",
              "    </tr>\n",
              "    <tr>\n",
              "      <th id=\"T_488d7_level0_row2\" class=\"row_heading level0 row2\" >southwest</th>\n",
              "      <td id=\"T_488d7_row2_col0\" class=\"data row2 col0\" >325</td>\n",
              "      <td id=\"T_488d7_row2_col1\" class=\"data row2 col1\" >$12,346.94</td>\n",
              "    </tr>\n",
              "    <tr>\n",
              "      <th id=\"T_488d7_level0_row3\" class=\"row_heading level0 row3\" >northeast</th>\n",
              "      <td id=\"T_488d7_row3_col0\" class=\"data row3 col0\" >324</td>\n",
              "      <td id=\"T_488d7_row3_col1\" class=\"data row3 col1\" >$13,406.38</td>\n",
              "    </tr>\n",
              "  </tbody>\n",
              "</table>\n"
            ]
          },
          "metadata": {}
        }
      ],
      "source": [
        "## lựa chọn trường có dtype = object:\n",
        "cat=ins.select_dtypes(include=['object']).columns.tolist()\n",
        "\n",
        "## vòng lặp đếm giá trị trong các trường có dtype = object:\n",
        "for i in cat:\n",
        "    obs=ins[i].value_counts()\n",
        "    avg_claim=ins.groupby(i)[\"charges\"].mean()\n",
        "    display(pd.DataFrame({\"Number of Policyholders\":obs, \"Average Claim Amount\":avg_claim.map('${:,.2f}'.format)})\\\n",
        "            .sort_values('Number of Policyholders', ascending=False)\\\n",
        "            .style.set_caption(\"Variable: {}\".format(i)))"
      ]
    },
    {
      "cell_type": "code",
      "execution_count": null,
      "id": "f2a68585",
      "metadata": {
        "colab": {
          "base_uri": "https://localhost:8080/",
          "height": 617
        },
        "id": "f2a68585",
        "outputId": "105c8206-886e-43fc-eff6-5aa4af459537"
      },
      "outputs": [
        {
          "output_type": "display_data",
          "data": {
            "text/html": [
              "        <script type=\"text/javascript\">\n",
              "        window.PlotlyConfig = {MathJaxConfig: 'local'};\n",
              "        if (window.MathJax) {MathJax.Hub.Config({SVG: {font: \"STIX-Web\"}});}\n",
              "        if (typeof require !== 'undefined') {\n",
              "        require.undef(\"plotly\");\n",
              "        requirejs.config({\n",
              "            paths: {\n",
              "                'plotly': ['https://cdn.plot.ly/plotly-2.8.3.min']\n",
              "            }\n",
              "        });\n",
              "        require(['plotly'], function(Plotly) {\n",
              "            window._Plotly = Plotly;\n",
              "        });\n",
              "        }\n",
              "        </script>\n",
              "        "
            ]
          },
          "metadata": {}
        },
        {
          "output_type": "display_data",
          "data": {
            "text/html": [
              "<html>\n",
              "<head><meta charset=\"utf-8\" /></head>\n",
              "<body>\n",
              "    <div>            <script src=\"https://cdnjs.cloudflare.com/ajax/libs/mathjax/2.7.5/MathJax.js?config=TeX-AMS-MML_SVG\"></script><script type=\"text/javascript\">if (window.MathJax) {MathJax.Hub.Config({SVG: {font: \"STIX-Web\"}});}</script>                <script type=\"text/javascript\">window.PlotlyConfig = {MathJaxConfig: 'local'};</script>\n",
              "        <script src=\"https://cdn.plot.ly/plotly-2.8.3.min.js\"></script>                <div id=\"2e90e7ab-2bd0-4697-8c5a-8226d815442c\" class=\"plotly-graph-div\" style=\"height:600px; width:100%;\"></div>            <script type=\"text/javascript\">                                    window.PLOTLYENV=window.PLOTLYENV || {};                                    if (document.getElementById(\"2e90e7ab-2bd0-4697-8c5a-8226d815442c\")) {                    Plotly.newPlot(                        \"2e90e7ab-2bd0-4697-8c5a-8226d815442c\",                        [{\"alignmentgroup\":\"True\",\"boxpoints\":\"outliers\",\"hovertemplate\":\"region=%{x}<br>charges=%{y}<extra></extra>\",\"legendgroup\":\"southwest\",\"marker\":{\"color\":\"#B14B51\"},\"name\":\"southwest\",\"notched\":true,\"offsetgroup\":\"southwest\",\"orientation\":\"v\",\"showlegend\":true,\"x\":[\"southwest\",\"southwest\",\"southwest\",\"southwest\",\"southwest\",\"southwest\",\"southwest\",\"southwest\",\"southwest\",\"southwest\",\"southwest\",\"southwest\",\"southwest\",\"southwest\",\"southwest\",\"southwest\",\"southwest\",\"southwest\",\"southwest\",\"southwest\",\"southwest\",\"southwest\",\"southwest\",\"southwest\",\"southwest\",\"southwest\",\"southwest\",\"southwest\",\"southwest\",\"southwest\",\"southwest\",\"southwest\",\"southwest\",\"southwest\",\"southwest\",\"southwest\",\"southwest\",\"southwest\",\"southwest\",\"southwest\",\"southwest\",\"southwest\",\"southwest\",\"southwest\",\"southwest\",\"southwest\",\"southwest\",\"southwest\",\"southwest\",\"southwest\",\"southwest\",\"southwest\",\"southwest\",\"southwest\",\"southwest\",\"southwest\",\"southwest\",\"southwest\",\"southwest\",\"southwest\",\"southwest\",\"southwest\",\"southwest\",\"southwest\",\"southwest\",\"southwest\",\"southwest\",\"southwest\",\"southwest\",\"southwest\",\"southwest\",\"southwest\",\"southwest\",\"southwest\",\"southwest\",\"southwest\",\"southwest\",\"southwest\",\"southwest\",\"southwest\",\"southwest\",\"southwest\",\"southwest\",\"southwest\",\"southwest\",\"southwest\",\"southwest\",\"southwest\",\"southwest\",\"southwest\",\"southwest\",\"southwest\",\"southwest\",\"southwest\",\"southwest\",\"southwest\",\"southwest\",\"southwest\",\"southwest\",\"southwest\",\"southwest\",\"southwest\",\"southwest\",\"southwest\",\"southwest\",\"southwest\",\"southwest\",\"southwest\",\"southwest\",\"southwest\",\"southwest\",\"southwest\",\"southwest\",\"southwest\",\"southwest\",\"southwest\",\"southwest\",\"southwest\",\"southwest\",\"southwest\",\"southwest\",\"southwest\",\"southwest\",\"southwest\",\"southwest\",\"southwest\",\"southwest\",\"southwest\",\"southwest\",\"southwest\",\"southwest\",\"southwest\",\"southwest\",\"southwest\",\"southwest\",\"southwest\",\"southwest\",\"southwest\",\"southwest\",\"southwest\",\"southwest\",\"southwest\",\"southwest\",\"southwest\",\"southwest\",\"southwest\",\"southwest\",\"southwest\",\"southwest\",\"southwest\",\"southwest\",\"southwest\",\"southwest\",\"southwest\",\"southwest\",\"southwest\",\"southwest\",\"southwest\",\"southwest\",\"southwest\",\"southwest\",\"southwest\",\"southwest\",\"southwest\",\"southwest\",\"southwest\",\"southwest\",\"southwest\",\"southwest\",\"southwest\",\"southwest\",\"southwest\",\"southwest\",\"southwest\",\"southwest\",\"southwest\",\"southwest\",\"southwest\",\"southwest\",\"southwest\",\"southwest\",\"southwest\",\"southwest\",\"southwest\",\"southwest\",\"southwest\",\"southwest\",\"southwest\",\"southwest\",\"southwest\",\"southwest\",\"southwest\",\"southwest\",\"southwest\",\"southwest\",\"southwest\",\"southwest\",\"southwest\",\"southwest\",\"southwest\",\"southwest\",\"southwest\",\"southwest\",\"southwest\",\"southwest\",\"southwest\",\"southwest\",\"southwest\",\"southwest\",\"southwest\",\"southwest\",\"southwest\",\"southwest\",\"southwest\",\"southwest\",\"southwest\",\"southwest\",\"southwest\",\"southwest\",\"southwest\",\"southwest\",\"southwest\",\"southwest\",\"southwest\",\"southwest\",\"southwest\",\"southwest\",\"southwest\",\"southwest\",\"southwest\",\"southwest\",\"southwest\",\"southwest\",\"southwest\",\"southwest\",\"southwest\",\"southwest\",\"southwest\",\"southwest\",\"southwest\",\"southwest\",\"southwest\",\"southwest\",\"southwest\",\"southwest\",\"southwest\",\"southwest\",\"southwest\",\"southwest\",\"southwest\",\"southwest\",\"southwest\",\"southwest\",\"southwest\",\"southwest\",\"southwest\",\"southwest\",\"southwest\",\"southwest\",\"southwest\",\"southwest\",\"southwest\",\"southwest\",\"southwest\",\"southwest\",\"southwest\",\"southwest\",\"southwest\",\"southwest\",\"southwest\",\"southwest\",\"southwest\",\"southwest\",\"southwest\",\"southwest\",\"southwest\",\"southwest\",\"southwest\",\"southwest\",\"southwest\",\"southwest\",\"southwest\",\"southwest\",\"southwest\",\"southwest\",\"southwest\",\"southwest\",\"southwest\",\"southwest\",\"southwest\",\"southwest\",\"southwest\",\"southwest\",\"southwest\",\"southwest\",\"southwest\",\"southwest\",\"southwest\",\"southwest\",\"southwest\",\"southwest\",\"southwest\",\"southwest\",\"southwest\",\"southwest\",\"southwest\",\"southwest\",\"southwest\",\"southwest\",\"southwest\",\"southwest\",\"southwest\",\"southwest\",\"southwest\",\"southwest\",\"southwest\",\"southwest\",\"southwest\",\"southwest\",\"southwest\",\"southwest\",\"southwest\",\"southwest\",\"southwest\",\"southwest\"],\"x0\":\" \",\"xaxis\":\"x\",\"y\":[16884.924,1826.843,1837.237,10602.385,36837.467,4149.736,38711.0,35585.576,4687.797,51194.55914,2302.3,48173.361,20630.28351,23568.272,1743.214,14235.072,11741.726,7726.854,39836.519,11073.176,47291.055,12105.32,15820.699,6186.127,5003.853,2331.519,11881.358,4646.759,7740.337,17081.08,9634.538,6082.405,11163.568,1261.442,2166.732,1842.519,10450.552,5152.134,4830.63,8116.68,5246.047,48824.45,10436.096,8823.279,5325.651,6775.961,4883.866,5649.715,7147.105,13880.949,1980.07,8520.026,7371.772,5012.471,5253.524,34779.615,1727.785,12333.828,35160.13457,7196.867,1832.094,47305.305,4260.744,11837.16,7441.053,42856.838,2150.469,9625.92,3172.018,3906.127,16297.846,12646.207,20177.67113,8444.474,1737.376,34838.873,35491.64,2866.091,47928.03,9144.565,13822.803,18955.22017,8932.084,3554.203,24603.04837,4751.07,13844.506,2597.779,36085.219,1261.859,8522.003,14988.432,9264.797,3260.199,8539.671,5080.096,18608.262,8968.33,23082.95533,5969.723,12638.195,5926.846,37079.372,7345.084,5910.944,4762.329,7512.267,1969.614,21797.0004,10601.412,22144.032,13224.693,1744.465,25382.297,9880.068,9563.029,1253.936,1748.774,12574.049,17942.106,4931.647,8027.968,13470.86,36197.699,11455.28,1256.299,21082.16,11362.755,5240.765,9861.025,5972.378,8825.086,6196.448,11538.421,13390.559,12957.118,3847.674,2494.022,11552.904,3761.292,9724.53,1242.816,11842.442,7441.501,11070.535,39241.442,6571.544,23306.547,10713.644,3659.346,40182.246,9182.17,11365.952,10085.846,1977.815,9391.346,6666.243,3410.324,8703.456,12363.547,2585.269,1242.26,40103.89,4766.022,26236.57997,8068.185,3577.999,5375.038,2457.502,12146.971,11264.541,12979.358,1263.249,10065.413,4234.927,14007.222,3484.331,44585.45587,11737.84884,8556.907,2416.955,19040.876,8062.764,7050.642,14319.031,27941.28758,11150.78,18259.216,24520.264,6414.178,1252.407,11848.141,2103.08,9414.92,3597.596,7445.918,13393.756,4402.233,1526.312,9872.701,2974.126,1875.344,10965.446,46113.511,7151.092,8782.469,6600.361,11576.13,4391.652,8457.818,6849.026,26140.3603,6282.235,6311.952,3443.064,1682.597,13063.883,12644.589,15170.069,17496.306,7626.993,13041.921,13451.122,13462.52,5488.262,6250.435,2913.569,12032.326,6238.298,10096.97,7348.142,12233.828,11674.13,7160.094,19933.458,38998.546,3353.284,4746.344,1759.338,19199.944,7624.63,3378.91,10118.424,7418.522,34472.841,1972.95,21232.18226,8269.044,5383.536,3987.926,8798.593,2020.177,9850.432,12094.478,3161.454,39727.614,25309.489,8277.523,5708.867,7045.499,8551.347,4076.497,19023.26,10577.087,3591.48,11299.343,11253.421,20420.60465,2904.088,34166.273,10214.636,14358.36437,1728.897,3693.428,7623.518,7954.517,9630.397,52590.82939,10791.96,5979.731,3989.841,4529.477,4670.64,22478.6,2154.361,6496.886,2632.992,13126.67745,4934.705,36910.60803,38415.474,12347.172,10806.839,41661.602,20167.33603,11345.519,5615.369,9101.798,6059.173,1241.565,16232.847,15828.82173,6474.013,3277.161,7337.748,10704.47,1880.487,8615.3,10959.33,47403.88,5472.449,38344.566,34828.654,1964.78,3208.787,37829.7242,33900.653,6875.961,4536.259,36397.576,1731.677,10325.206,10795.93733,11411.685,2007.945],\"y0\":\" \",\"yaxis\":\"y\",\"type\":\"box\"},{\"alignmentgroup\":\"True\",\"boxpoints\":\"outliers\",\"hovertemplate\":\"region=%{x}<br>charges=%{y}<extra></extra>\",\"legendgroup\":\"southeast\",\"marker\":{\"color\":\"#D0A99C\"},\"name\":\"southeast\",\"notched\":true,\"offsetgroup\":\"southeast\",\"orientation\":\"v\",\"showlegend\":true,\"x\":[\"southeast\",\"southeast\",\"southeast\",\"southeast\",\"southeast\",\"southeast\",\"southeast\",\"southeast\",\"southeast\",\"southeast\",\"southeast\",\"southeast\",\"southeast\",\"southeast\",\"southeast\",\"southeast\",\"southeast\",\"southeast\",\"southeast\",\"southeast\",\"southeast\",\"southeast\",\"southeast\",\"southeast\",\"southeast\",\"southeast\",\"southeast\",\"southeast\",\"southeast\",\"southeast\",\"southeast\",\"southeast\",\"southeast\",\"southeast\",\"southeast\",\"southeast\",\"southeast\",\"southeast\",\"southeast\",\"southeast\",\"southeast\",\"southeast\",\"southeast\",\"southeast\",\"southeast\",\"southeast\",\"southeast\",\"southeast\",\"southeast\",\"southeast\",\"southeast\",\"southeast\",\"southeast\",\"southeast\",\"southeast\",\"southeast\",\"southeast\",\"southeast\",\"southeast\",\"southeast\",\"southeast\",\"southeast\",\"southeast\",\"southeast\",\"southeast\",\"southeast\",\"southeast\",\"southeast\",\"southeast\",\"southeast\",\"southeast\",\"southeast\",\"southeast\",\"southeast\",\"southeast\",\"southeast\",\"southeast\",\"southeast\",\"southeast\",\"southeast\",\"southeast\",\"southeast\",\"southeast\",\"southeast\",\"southeast\",\"southeast\",\"southeast\",\"southeast\",\"southeast\",\"southeast\",\"southeast\",\"southeast\",\"southeast\",\"southeast\",\"southeast\",\"southeast\",\"southeast\",\"southeast\",\"southeast\",\"southeast\",\"southeast\",\"southeast\",\"southeast\",\"southeast\",\"southeast\",\"southeast\",\"southeast\",\"southeast\",\"southeast\",\"southeast\",\"southeast\",\"southeast\",\"southeast\",\"southeast\",\"southeast\",\"southeast\",\"southeast\",\"southeast\",\"southeast\",\"southeast\",\"southeast\",\"southeast\",\"southeast\",\"southeast\",\"southeast\",\"southeast\",\"southeast\",\"southeast\",\"southeast\",\"southeast\",\"southeast\",\"southeast\",\"southeast\",\"southeast\",\"southeast\",\"southeast\",\"southeast\",\"southeast\",\"southeast\",\"southeast\",\"southeast\",\"southeast\",\"southeast\",\"southeast\",\"southeast\",\"southeast\",\"southeast\",\"southeast\",\"southeast\",\"southeast\",\"southeast\",\"southeast\",\"southeast\",\"southeast\",\"southeast\",\"southeast\",\"southeast\",\"southeast\",\"southeast\",\"southeast\",\"southeast\",\"southeast\",\"southeast\",\"southeast\",\"southeast\",\"southeast\",\"southeast\",\"southeast\",\"southeast\",\"southeast\",\"southeast\",\"southeast\",\"southeast\",\"southeast\",\"southeast\",\"southeast\",\"southeast\",\"southeast\",\"southeast\",\"southeast\",\"southeast\",\"southeast\",\"southeast\",\"southeast\",\"southeast\",\"southeast\",\"southeast\",\"southeast\",\"southeast\",\"southeast\",\"southeast\",\"southeast\",\"southeast\",\"southeast\",\"southeast\",\"southeast\",\"southeast\",\"southeast\",\"southeast\",\"southeast\",\"southeast\",\"southeast\",\"southeast\",\"southeast\",\"southeast\",\"southeast\",\"southeast\",\"southeast\",\"southeast\",\"southeast\",\"southeast\",\"southeast\",\"southeast\",\"southeast\",\"southeast\",\"southeast\",\"southeast\",\"southeast\",\"southeast\",\"southeast\",\"southeast\",\"southeast\",\"southeast\",\"southeast\",\"southeast\",\"southeast\",\"southeast\",\"southeast\",\"southeast\",\"southeast\",\"southeast\",\"southeast\",\"southeast\",\"southeast\",\"southeast\",\"southeast\",\"southeast\",\"southeast\",\"southeast\",\"southeast\",\"southeast\",\"southeast\",\"southeast\",\"southeast\",\"southeast\",\"southeast\",\"southeast\",\"southeast\",\"southeast\",\"southeast\",\"southeast\",\"southeast\",\"southeast\",\"southeast\",\"southeast\",\"southeast\",\"southeast\",\"southeast\",\"southeast\",\"southeast\",\"southeast\",\"southeast\",\"southeast\",\"southeast\",\"southeast\",\"southeast\",\"southeast\",\"southeast\",\"southeast\",\"southeast\",\"southeast\",\"southeast\",\"southeast\",\"southeast\",\"southeast\",\"southeast\",\"southeast\",\"southeast\",\"southeast\",\"southeast\",\"southeast\",\"southeast\",\"southeast\",\"southeast\",\"southeast\",\"southeast\",\"southeast\",\"southeast\",\"southeast\",\"southeast\",\"southeast\",\"southeast\",\"southeast\",\"southeast\",\"southeast\",\"southeast\",\"southeast\",\"southeast\",\"southeast\",\"southeast\",\"southeast\",\"southeast\",\"southeast\",\"southeast\",\"southeast\",\"southeast\",\"southeast\",\"southeast\",\"southeast\",\"southeast\",\"southeast\",\"southeast\",\"southeast\",\"southeast\",\"southeast\",\"southeast\",\"southeast\",\"southeast\",\"southeast\",\"southeast\",\"southeast\",\"southeast\",\"southeast\",\"southeast\",\"southeast\",\"southeast\",\"southeast\",\"southeast\",\"southeast\",\"southeast\",\"southeast\",\"southeast\",\"southeast\",\"southeast\",\"southeast\",\"southeast\",\"southeast\",\"southeast\",\"southeast\",\"southeast\",\"southeast\",\"southeast\",\"southeast\",\"southeast\",\"southeast\",\"southeast\",\"southeast\",\"southeast\",\"southeast\",\"southeast\",\"southeast\",\"southeast\",\"southeast\",\"southeast\",\"southeast\",\"southeast\",\"southeast\",\"southeast\",\"southeast\",\"southeast\",\"southeast\",\"southeast\",\"southeast\",\"southeast\"],\"x0\":\" \",\"xaxis\":\"x\",\"y\":[1725.5523,4449.462,3756.6216,8240.5896,27808.7251,11090.7178,39611.7577,1137.011,14001.1338,4949.7587,6272.4772,6313.759,12629.8967,38709.176,37742.5757,34303.1672,23244.7902,4504.6624,5920.1041,17663.1442,16577.7795,11946.6259,3947.4131,1532.4697,37165.1638,2026.9741,3766.8838,10226.2842,30942.1918,2867.1196,47055.5321,11381.3254,19107.7796,8601.3293,2155.6815,27322.73386,18972.495,5138.2567,9877.6077,7789.635,21223.6758,36950.2567,19749.38338,36149.4835,13405.3903,1631.8212,7731.4271,3981.9768,12557.6053,2137.6536,1137.4697,8516.829,8871.1517,37133.8982,11743.299,5002.7827,2483.736,3392.9768,25081.76784,19515.5416,11987.1682,2689.4954,24227.33724,14001.2867,19444.2658,1615.7667,4463.2051,7152.6714,12648.7034,1986.9334,44260.7499,5400.9805,17085.2676,20462.99766,46151.1245,17179.522,1719.4363,12928.7911,9855.1314,7742.1098,25992.82104,42112.2356,2156.7518,21978.6769,12265.5069,4349.462,4151.0287,42124.5153,8124.4084,3561.8889,12142.5786,8232.6388,10977.2063,6184.2994,4889.9995,5478.0368,14133.03775,8944.1151,1837.2819,1607.5101,3180.5101,1391.5287,38126.2465,27000.98473,20781.48892,5846.9176,11856.4115,16586.49771,1631.6683,8083.9198,4185.0979,6652.5288,4074.4537,7345.7266,9140.951,14418.2804,46889.2612,46599.1084,9788.8659,13919.8229,12592.5345,1149.3959,28287.89766,4686.3887,11881.9696,7682.67,10381.4787,19521.9682,2201.0971,2497.0383,1534.3045,1824.2854,9304.7019,1622.1885,48885.13561,24513.09126,8211.1002,22218.1149,32548.3405,5974.3847,2498.4144,27724.28875,3994.1778,5397.6167,38245.59327,11482.63485,48675.5177,12925.886,19214.70553,13831.1152,8233.0975,27346.04207,3056.3881,13887.204,63770.42801,45863.205,3972.9247,3935.1799,9058.7303,2801.2588,2219.4451,4753.6368,1664.9996,6356.2707,17626.23951,4779.6023,5976.8311,2566.4707,5709.1644,7640.3092,1633.0444,16085.1275,9283.562,8547.6913,1880.07,42969.8527,34439.8559,11326.71487,3366.6697,12949.1554,18806.14547,9800.8882,10579.711,8280.6227,8527.532,12244.531,24667.419,6435.6237,22192.43711,1136.3994,27037.9141,42560.4304,6500.2359,4837.5823,4399.731,6185.3208,46200.9851,12485.8009,5438.7491,34806.4677,40273.6455,3500.6123,2020.5523,9504.3103,44400.4064,1727.54,10107.2206,40932.4295,6781.3542,19361.9988,40419.0191,18246.4955,3757.8448,19539.243,11833.7823,23065.4207,36307.7983,10560.4917,5934.3798,1146.7966,9386.1613,4350.5144,13457.9608,5662.225,21195.818,4266.1658,7046.7222,14313.8463,38792.6856,1815.8759,1131.5066,11013.7119,5584.3057,1877.9294,1621.8827,8219.2039,43813.8661,7160.3303,36021.0112,27533.9129,45008.9555,2438.0552,40974.1649,18218.16139,1141.4451,3392.3652,5966.8874,6653.7886,19719.6947,7243.8136,44202.6536,1634.5734,48673.5588,8125.7845,7633.7206,2473.3341,5245.2269,13470.8044,6289.7549,2927.0647,4673.3922,2304.0022,9487.6442,1121.8739,9549.5651,12982.8747,47462.894,3875.7341,41999.52,14474.675,8596.8278,10702.6424,2322.6218,7804.1605,2902.9065,4889.0368,5484.4673,13887.9685,18767.7377,36580.28216,35595.5898,42211.1382,1711.0268,8569.8618,44423.803,37484.4493,44501.3982,17929.30337,2480.9791,1981.5819,11554.2236,48970.2476,8978.1851,10928.849,39871.7043,4562.8421,34672.1472,15161.5344,11884.04858,9748.9106,41676.0811,1674.6323,3227.1211,3471.4096,11363.2832,10338.9316,8605.3615,41949.2441,24180.9335,10807.4863,36124.5737,38282.7495,8347.1643,5836.5204,8582.3023,3704.3545,9048.0273,27117.99378,6338.0756,40941.2854,39722.7462,5124.1887,18963.17192,10982.5013,11093.6229,19350.3689,18328.2381,5699.8375,18223.4512,23563.01618,5415.6612,4058.1161,6593.5083,8442.667,26125.67477,4795.6568,7162.0122,10594.2257,8515.7587,3238.4357,47269.854,49577.6624,3171.6149,1135.9407,1633.9618,4415.1588,6770.1925,26926.5144,14478.33015,4747.0529,17043.3414,8283.6807,1720.3537,7147.4728,1515.3449,4340.4409,62592.87309,2464.6188,1163.4627,12981.3457,43896.3763,9377.9047,12629.1656,1629.8335],\"y0\":\" \",\"yaxis\":\"y\",\"type\":\"box\"},{\"alignmentgroup\":\"True\",\"boxpoints\":\"outliers\",\"hovertemplate\":\"region=%{x}<br>charges=%{y}<extra></extra>\",\"legendgroup\":\"northwest\",\"marker\":{\"color\":\"#5D8370\"},\"name\":\"northwest\",\"notched\":true,\"offsetgroup\":\"northwest\",\"orientation\":\"v\",\"showlegend\":true,\"x\":[\"northwest\",\"northwest\",\"northwest\",\"northwest\",\"northwest\",\"northwest\",\"northwest\",\"northwest\",\"northwest\",\"northwest\",\"northwest\",\"northwest\",\"northwest\",\"northwest\",\"northwest\",\"northwest\",\"northwest\",\"northwest\",\"northwest\",\"northwest\",\"northwest\",\"northwest\",\"northwest\",\"northwest\",\"northwest\",\"northwest\",\"northwest\",\"northwest\",\"northwest\",\"northwest\",\"northwest\",\"northwest\",\"northwest\",\"northwest\",\"northwest\",\"northwest\",\"northwest\",\"northwest\",\"northwest\",\"northwest\",\"northwest\",\"northwest\",\"northwest\",\"northwest\",\"northwest\",\"northwest\",\"northwest\",\"northwest\",\"northwest\",\"northwest\",\"northwest\",\"northwest\",\"northwest\",\"northwest\",\"northwest\",\"northwest\",\"northwest\",\"northwest\",\"northwest\",\"northwest\",\"northwest\",\"northwest\",\"northwest\",\"northwest\",\"northwest\",\"northwest\",\"northwest\",\"northwest\",\"northwest\",\"northwest\",\"northwest\",\"northwest\",\"northwest\",\"northwest\",\"northwest\",\"northwest\",\"northwest\",\"northwest\",\"northwest\",\"northwest\",\"northwest\",\"northwest\",\"northwest\",\"northwest\",\"northwest\",\"northwest\",\"northwest\",\"northwest\",\"northwest\",\"northwest\",\"northwest\",\"northwest\",\"northwest\",\"northwest\",\"northwest\",\"northwest\",\"northwest\",\"northwest\",\"northwest\",\"northwest\",\"northwest\",\"northwest\",\"northwest\",\"northwest\",\"northwest\",\"northwest\",\"northwest\",\"northwest\",\"northwest\",\"northwest\",\"northwest\",\"northwest\",\"northwest\",\"northwest\",\"northwest\",\"northwest\",\"northwest\",\"northwest\",\"northwest\",\"northwest\",\"northwest\",\"northwest\",\"northwest\",\"northwest\",\"northwest\",\"northwest\",\"northwest\",\"northwest\",\"northwest\",\"northwest\",\"northwest\",\"northwest\",\"northwest\",\"northwest\",\"northwest\",\"northwest\",\"northwest\",\"northwest\",\"northwest\",\"northwest\",\"northwest\",\"northwest\",\"northwest\",\"northwest\",\"northwest\",\"northwest\",\"northwest\",\"northwest\",\"northwest\",\"northwest\",\"northwest\",\"northwest\",\"northwest\",\"northwest\",\"northwest\",\"northwest\",\"northwest\",\"northwest\",\"northwest\",\"northwest\",\"northwest\",\"northwest\",\"northwest\",\"northwest\",\"northwest\",\"northwest\",\"northwest\",\"northwest\",\"northwest\",\"northwest\",\"northwest\",\"northwest\",\"northwest\",\"northwest\",\"northwest\",\"northwest\",\"northwest\",\"northwest\",\"northwest\",\"northwest\",\"northwest\",\"northwest\",\"northwest\",\"northwest\",\"northwest\",\"northwest\",\"northwest\",\"northwest\",\"northwest\",\"northwest\",\"northwest\",\"northwest\",\"northwest\",\"northwest\",\"northwest\",\"northwest\",\"northwest\",\"northwest\",\"northwest\",\"northwest\",\"northwest\",\"northwest\",\"northwest\",\"northwest\",\"northwest\",\"northwest\",\"northwest\",\"northwest\",\"northwest\",\"northwest\",\"northwest\",\"northwest\",\"northwest\",\"northwest\",\"northwest\",\"northwest\",\"northwest\",\"northwest\",\"northwest\",\"northwest\",\"northwest\",\"northwest\",\"northwest\",\"northwest\",\"northwest\",\"northwest\",\"northwest\",\"northwest\",\"northwest\",\"northwest\",\"northwest\",\"northwest\",\"northwest\",\"northwest\",\"northwest\",\"northwest\",\"northwest\",\"northwest\",\"northwest\",\"northwest\",\"northwest\",\"northwest\",\"northwest\",\"northwest\",\"northwest\",\"northwest\",\"northwest\",\"northwest\",\"northwest\",\"northwest\",\"northwest\",\"northwest\",\"northwest\",\"northwest\",\"northwest\",\"northwest\",\"northwest\",\"northwest\",\"northwest\",\"northwest\",\"northwest\",\"northwest\",\"northwest\",\"northwest\",\"northwest\",\"northwest\",\"northwest\",\"northwest\",\"northwest\",\"northwest\",\"northwest\",\"northwest\",\"northwest\",\"northwest\",\"northwest\",\"northwest\",\"northwest\",\"northwest\",\"northwest\",\"northwest\",\"northwest\",\"northwest\",\"northwest\",\"northwest\",\"northwest\",\"northwest\",\"northwest\",\"northwest\",\"northwest\",\"northwest\",\"northwest\",\"northwest\",\"northwest\",\"northwest\",\"northwest\",\"northwest\",\"northwest\",\"northwest\",\"northwest\",\"northwest\",\"northwest\",\"northwest\",\"northwest\",\"northwest\",\"northwest\",\"northwest\",\"northwest\",\"northwest\",\"northwest\",\"northwest\",\"northwest\",\"northwest\",\"northwest\",\"northwest\",\"northwest\",\"northwest\",\"northwest\",\"northwest\",\"northwest\",\"northwest\",\"northwest\",\"northwest\",\"northwest\",\"northwest\",\"northwest\"],\"x0\":\" \",\"xaxis\":\"x\",\"y\":[21984.47061,3866.8552,7281.5056,28923.13692,6203.90175,12268.63225,2775.19215,13770.0979,1625.43375,15612.19335,3556.9223,3579.8287,8059.6791,47496.49445,5989.52365,30166.61817,4133.64165,14711.7438,6389.37785,11356.6609,6571.02435,11033.6617,21098.55405,43578.9394,8026.6666,11082.5772,10942.13205,5729.0053,17560.37975,3877.30425,10825.2537,2404.7338,6686.4313,2257.47525,10115.00885,32734.1863,1632.56445,2045.68525,18157.876,20745.9891,40720.55105,10959.6947,5125.2157,6948.7008,21348.706,5028.1466,6128.79745,2719.27975,2855.43755,6455.86265,11735.87905,7419.4779,4922.9159,12044.342,1639.5631,9644.2525,2130.6759,13012.20865,8162.71625,3537.703,10355.641,7443.64305,6710.1919,17352.6803,24476.47851,43921.1837,11520.09985,33750.2918,36219.40545,7265.7025,2523.1695,2803.69785,14256.1928,38746.3551,9249.4952,19442.3535,7749.1564,8835.26495,7421.19455,4894.7533,42760.5022,24393.6224,13429.0354,13937.6665,13352.0998,1635.73365,11830.6072,9620.3307,8017.06115,8116.26885,13415.0381,18033.9679,16455.70785,30284.64294,3176.8159,4618.0799,2138.0707,7526.70645,14692.66935,10269.46,1621.3402,2134.9015,28950.4692,18804.7524,4906.40965,4243.59005,4738.2682,26109.32905,11454.0215,4032.2407,1769.53165,11840.77505,1632.03625,12643.3778,28868.6639,2534.39375,15555.18875,12475.3513,10461.9794,6796.86325,2643.2685,3077.0955,8413.46305,24059.68019,10231.4999,23807.2406,11187.6567,39983.42595,1646.4297,9193.8385,2128.43105,6373.55735,7256.7231,45702.02235,12222.8983,1639.5631,43943.8761,8428.0693,33471.97189,9174.13565,17468.9839,25678.77845,12129.61415,3736.4647,42983.4585,2709.1119,32787.45859,4466.6214,6123.5688,4058.71245,40003.33225,7222.78625,46130.5265,10156.7832,9863.4718,2362.22905,2352.96845,3201.24515,10976.24575,5385.3379,8930.93455,10264.4421,8310.83915,9566.9909,13112.6048,10848.1343,12231.6136,6664.68595,9583.8933,8827.2099,9910.35985,1627.28245,3062.50825,1906.35825,14210.53595,11842.62375,6933.24225,17748.5062,7261.741,6986.697,9869.8102,1917.3184,7209.4918,18310.742,7731.85785,28476.73499,2136.88225,6360.9936,2842.76075,55135.40209,2680.9493,12523.6048,6117.4945,5266.3656,4719.73655,11743.9341,5377.4578,12622.1795,10601.63225,14119.62,15817.9857,12269.68865,2690.1138,2789.0574,4877.98105,5272.1758,11945.1327,29330.98315,2221.56445,2117.33885,2639.0429,14382.70905,5257.50795,21774.32215,4320.41085,8965.79575,1628.4709,6358.77645,4527.18295,20009.63365,12609.88702,28468.91901,2730.10785,26467.09737,23967.38305,7518.02535,2527.81865,8410.04685,28340.18885,16420.49455,5267.81815,17361.7661,4433.3877,24915.22085,8765.249,12124.9924,2709.24395,12495.29085,26018.95052,16450.8947,21595.38229,21677.28345,12950.0712,39725.51805,22493.65964,20234.85475,21880.82,3594.17085,8023.13545,3353.4703,10594.50155,4462.7218,6548.19505,14349.8544,1909.52745,4454.40265,5855.9025,15019.76005,11353.2276,33907.548,8988.15875,10493.9458,5312.16985,5693.4305,46661.4424,14254.6082,9991.03765,19673.33573,11085.5868,3176.2877,36898.73308,11289.10925,2261.5688,12235.8392,5630.45785,11015.1747,14426.07385,7727.2532,7153.5539,6112.35295,6457.8434,4433.9159,23887.6627,2850.68375,37465.34375,13844.7972,5327.40025,8671.19125,4134.08245,18838.70366,33307.5508,6393.60345,6198.7518,8733.22925,2055.3249,5116.5004,5373.36425,3956.07145,7537.1639,60021.39897,12479.70895,2699.56835,12224.35085,4296.2712,11436.73815,11305.93455,30063.58055,3292.52985,3021.80915,4357.04365,4189.1131,24535.69855,9301.89355,5261.46945,2710.82855,46718.16325,21472.4788,6940.90985,4571.41305,18765.87545,7201.70085,5425.02335,4239.89265,10600.5483,29141.3603],\"y0\":\" \",\"yaxis\":\"y\",\"type\":\"box\"},{\"alignmentgroup\":\"True\",\"boxpoints\":\"outliers\",\"hovertemplate\":\"region=%{x}<br>charges=%{y}<extra></extra>\",\"legendgroup\":\"northeast\",\"marker\":{\"color\":\"#6C839B\"},\"name\":\"northeast\",\"notched\":true,\"offsetgroup\":\"northeast\",\"orientation\":\"v\",\"showlegend\":true,\"x\":[\"northeast\",\"northeast\",\"northeast\",\"northeast\",\"northeast\",\"northeast\",\"northeast\",\"northeast\",\"northeast\",\"northeast\",\"northeast\",\"northeast\",\"northeast\",\"northeast\",\"northeast\",\"northeast\",\"northeast\",\"northeast\",\"northeast\",\"northeast\",\"northeast\",\"northeast\",\"northeast\",\"northeast\",\"northeast\",\"northeast\",\"northeast\",\"northeast\",\"northeast\",\"northeast\",\"northeast\",\"northeast\",\"northeast\",\"northeast\",\"northeast\",\"northeast\",\"northeast\",\"northeast\",\"northeast\",\"northeast\",\"northeast\",\"northeast\",\"northeast\",\"northeast\",\"northeast\",\"northeast\",\"northeast\",\"northeast\",\"northeast\",\"northeast\",\"northeast\",\"northeast\",\"northeast\",\"northeast\",\"northeast\",\"northeast\",\"northeast\",\"northeast\",\"northeast\",\"northeast\",\"northeast\",\"northeast\",\"northeast\",\"northeast\",\"northeast\",\"northeast\",\"northeast\",\"northeast\",\"northeast\",\"northeast\",\"northeast\",\"northeast\",\"northeast\",\"northeast\",\"northeast\",\"northeast\",\"northeast\",\"northeast\",\"northeast\",\"northeast\",\"northeast\",\"northeast\",\"northeast\",\"northeast\",\"northeast\",\"northeast\",\"northeast\",\"northeast\",\"northeast\",\"northeast\",\"northeast\",\"northeast\",\"northeast\",\"northeast\",\"northeast\",\"northeast\",\"northeast\",\"northeast\",\"northeast\",\"northeast\",\"northeast\",\"northeast\",\"northeast\",\"northeast\",\"northeast\",\"northeast\",\"northeast\",\"northeast\",\"northeast\",\"northeast\",\"northeast\",\"northeast\",\"northeast\",\"northeast\",\"northeast\",\"northeast\",\"northeast\",\"northeast\",\"northeast\",\"northeast\",\"northeast\",\"northeast\",\"northeast\",\"northeast\",\"northeast\",\"northeast\",\"northeast\",\"northeast\",\"northeast\",\"northeast\",\"northeast\",\"northeast\",\"northeast\",\"northeast\",\"northeast\",\"northeast\",\"northeast\",\"northeast\",\"northeast\",\"northeast\",\"northeast\",\"northeast\",\"northeast\",\"northeast\",\"northeast\",\"northeast\",\"northeast\",\"northeast\",\"northeast\",\"northeast\",\"northeast\",\"northeast\",\"northeast\",\"northeast\",\"northeast\",\"northeast\",\"northeast\",\"northeast\",\"northeast\",\"northeast\",\"northeast\",\"northeast\",\"northeast\",\"northeast\",\"northeast\",\"northeast\",\"northeast\",\"northeast\",\"northeast\",\"northeast\",\"northeast\",\"northeast\",\"northeast\",\"northeast\",\"northeast\",\"northeast\",\"northeast\",\"northeast\",\"northeast\",\"northeast\",\"northeast\",\"northeast\",\"northeast\",\"northeast\",\"northeast\",\"northeast\",\"northeast\",\"northeast\",\"northeast\",\"northeast\",\"northeast\",\"northeast\",\"northeast\",\"northeast\",\"northeast\",\"northeast\",\"northeast\",\"northeast\",\"northeast\",\"northeast\",\"northeast\",\"northeast\",\"northeast\",\"northeast\",\"northeast\",\"northeast\",\"northeast\",\"northeast\",\"northeast\",\"northeast\",\"northeast\",\"northeast\",\"northeast\",\"northeast\",\"northeast\",\"northeast\",\"northeast\",\"northeast\",\"northeast\",\"northeast\",\"northeast\",\"northeast\",\"northeast\",\"northeast\",\"northeast\",\"northeast\",\"northeast\",\"northeast\",\"northeast\",\"northeast\",\"northeast\",\"northeast\",\"northeast\",\"northeast\",\"northeast\",\"northeast\",\"northeast\",\"northeast\",\"northeast\",\"northeast\",\"northeast\",\"northeast\",\"northeast\",\"northeast\",\"northeast\",\"northeast\",\"northeast\",\"northeast\",\"northeast\",\"northeast\",\"northeast\",\"northeast\",\"northeast\",\"northeast\",\"northeast\",\"northeast\",\"northeast\",\"northeast\",\"northeast\",\"northeast\",\"northeast\",\"northeast\",\"northeast\",\"northeast\",\"northeast\",\"northeast\",\"northeast\",\"northeast\",\"northeast\",\"northeast\",\"northeast\",\"northeast\",\"northeast\",\"northeast\",\"northeast\",\"northeast\",\"northeast\",\"northeast\",\"northeast\",\"northeast\",\"northeast\",\"northeast\",\"northeast\",\"northeast\",\"northeast\",\"northeast\",\"northeast\",\"northeast\",\"northeast\",\"northeast\",\"northeast\",\"northeast\",\"northeast\",\"northeast\",\"northeast\",\"northeast\",\"northeast\",\"northeast\",\"northeast\",\"northeast\",\"northeast\",\"northeast\",\"northeast\",\"northeast\",\"northeast\",\"northeast\",\"northeast\",\"northeast\",\"northeast\",\"northeast\",\"northeast\",\"northeast\",\"northeast\",\"northeast\",\"northeast\",\"northeast\",\"northeast\",\"northeast\",\"northeast\",\"northeast\",\"northeast\",\"northeast\",\"northeast\",\"northeast\"],\"x0\":\" \",\"xaxis\":\"x\",\"y\":[6406.4107,2721.3208,10797.3362,2395.17155,13228.84695,37701.8768,14451.83515,2198.18985,39774.2763,3046.062,6079.6715,3393.35635,2211.13075,13607.36875,8606.2174,6799.458,2755.02095,4441.21315,7935.29115,30184.9367,22412.6485,3645.0894,21344.8467,11488.31695,30259.99556,1705.6245,39556.4945,3385.39915,12815.44495,13616.3586,2457.21115,27375.90478,3490.5491,6334.34355,19964.7463,7077.1894,15518.18025,10407.08585,4827.90495,1694.7964,8538.28845,4005.4225,43753.33705,14901.5167,4337.7352,20984.0936,6610.1097,10564.8845,7358.17565,9225.2564,38511.6283,5354.07465,29523.1656,4040.55825,12829.4551,41097.16175,13047.33235,24869.8368,14590.63205,9282.4806,9617.66245,9715.841,22331.5668,48549.17835,4237.12655,11879.10405,9432.9253,47896.79135,20277.80751,1704.5681,6746.7425,24873.3849,11944.59435,9722.7695,10435.06525,4667.60765,24671.66334,11566.30055,6600.20595,48517.56315,11658.37915,19144.57652,41919.097,13217.0945,13981.85035,8334.45755,12404.8791,10043.249,9778.3472,13430.265,3481.868,12029.2867,7639.41745,21659.9301,15006.57945,42303.69215,8302.53565,10736.87075,8964.06055,9290.1395,9411.005,11396.9002,19594.80965,14455.64405,39125.33225,2727.3951,6555.07035,7323.734819,3167.45585,2254.7967,2897.3235,12730.9996,15230.32405,11165.41765,23288.9284,2203.47185,20878.78443,35147.52848,4347.02335,2196.4732,1967.0227,6837.3687,3044.2133,11763.0009,9361.3268,3857.75925,25656.57526,9866.30485,8342.90875,1708.0014,14043.4767,6067.12675,3268.84665,3213.62205,17878.90068,8334.5896,10923.9332,31620.00106,13224.05705,58571.07448,3206.49135,12913.9924,3861.20965,13635.6379,15359.1045,8823.98575,5594.8455,3558.62025,4435.0942,2207.69745,6753.038,11658.11505,34617.84065,6748.5912,7173.35995,14410.9321,24915.04626,20149.3229,13143.86485,10141.1362,8252.2843,1712.227,12430.95335,26392.26029,14394.39815,5148.5526,45710.20785,3943.5954,11244.3769,7729.64575,2104.1134,29186.48236,9541.69555,6113.23105,5469.0066,1984.4533,9875.6804,10106.13425,16657.71745,2217.6012,9447.25035,36189.1017,8604.48365,43254.41795,17128.42608,5031.26955,7985.815,5428.7277,3925.7582,3070.8087,9095.06825,12797.20962,7448.40395,12741.16745,5209.57885,2731.9122,4719.52405,17904.52705,3309.7926,4428.88785,23401.30575,16069.08475,20773.62775,39597.4072,11657.7189,6402.29135,12323.936,10072.05505,37270.1512,42111.6647,11729.6795,24106.91255,5458.04645,13129.60345,8891.1395,2585.85065,46255.1125,27218.43725,10422.91665,13555.0049,19798.05455,8688.85885,4661.28635,4564.19145,4846.92015,33732.6867,35069.37452,25333.33284,32108.66282,2217.46915,39047.285,11534.87265,41034.2214,9500.57305,3279.86855,4992.3764,16138.76205,9704.66805,25517.11363,4500.33925,16796.41194,4915.05985,4518.82625,14571.8908,7144.86265,7986.47525,6551.7501,8627.5411,4438.2634,23241.47453,9957.7216,6877.9801,4137.5227,13747.87235,2250.8352,1704.70015,33475.81715,11394.06555,7325.0482,14394.5579,9288.0267,5757.41345,13974.45555,12096.6512,13204.28565,2102.2647,10796.35025,11286.5387,4561.1885,44641.1974,23045.56616,16776.30405,11512.405,2396.0959,9222.4026,18903.49141,40904.1995,20709.02034,2203.73595,7228.21565,2459.7201,2200.83085,5227.98875,17178.6824,2899.48935,7650.77375,9447.3824,8603.8234,21771.3423,13725.47184,13019.16105,9964.06,20296.86345,1702.4553,12890.05765,4718.20355,6858.4796,6640.54485,11938.25595,14449.8544,6985.50695,37607.5277,18648.4217,10197.7722,4544.2348,10370.91255,34254.05335,2741.948,22462.04375,14283.4594,8534.6718,3732.6251,7133.9025,11931.12525,1708.92575,21259.37795,16115.3045,11272.33139,19496.71917,28101.33305,13143.33665,7050.0213,22395.74424,2205.9808],\"y0\":\" \",\"yaxis\":\"y\",\"type\":\"box\"}],                        {\"template\":{\"data\":{\"barpolar\":[{\"marker\":{\"line\":{\"color\":\"white\",\"width\":0.5},\"pattern\":{\"fillmode\":\"overlay\",\"size\":10,\"solidity\":0.2}},\"type\":\"barpolar\"}],\"bar\":[{\"error_x\":{\"color\":\"#2a3f5f\"},\"error_y\":{\"color\":\"#2a3f5f\"},\"marker\":{\"line\":{\"color\":\"white\",\"width\":0.5},\"pattern\":{\"fillmode\":\"overlay\",\"size\":10,\"solidity\":0.2}},\"type\":\"bar\"}],\"carpet\":[{\"aaxis\":{\"endlinecolor\":\"#2a3f5f\",\"gridcolor\":\"#C8D4E3\",\"linecolor\":\"#C8D4E3\",\"minorgridcolor\":\"#C8D4E3\",\"startlinecolor\":\"#2a3f5f\"},\"baxis\":{\"endlinecolor\":\"#2a3f5f\",\"gridcolor\":\"#C8D4E3\",\"linecolor\":\"#C8D4E3\",\"minorgridcolor\":\"#C8D4E3\",\"startlinecolor\":\"#2a3f5f\"},\"type\":\"carpet\"}],\"choropleth\":[{\"colorbar\":{\"outlinewidth\":0,\"ticks\":\"\"},\"type\":\"choropleth\"}],\"contourcarpet\":[{\"colorbar\":{\"outlinewidth\":0,\"ticks\":\"\"},\"type\":\"contourcarpet\"}],\"contour\":[{\"colorbar\":{\"outlinewidth\":0,\"ticks\":\"\"},\"colorscale\":[[0.0,\"#0d0887\"],[0.1111111111111111,\"#46039f\"],[0.2222222222222222,\"#7201a8\"],[0.3333333333333333,\"#9c179e\"],[0.4444444444444444,\"#bd3786\"],[0.5555555555555556,\"#d8576b\"],[0.6666666666666666,\"#ed7953\"],[0.7777777777777778,\"#fb9f3a\"],[0.8888888888888888,\"#fdca26\"],[1.0,\"#f0f921\"]],\"type\":\"contour\"}],\"heatmapgl\":[{\"colorbar\":{\"outlinewidth\":0,\"ticks\":\"\"},\"colorscale\":[[0.0,\"#0d0887\"],[0.1111111111111111,\"#46039f\"],[0.2222222222222222,\"#7201a8\"],[0.3333333333333333,\"#9c179e\"],[0.4444444444444444,\"#bd3786\"],[0.5555555555555556,\"#d8576b\"],[0.6666666666666666,\"#ed7953\"],[0.7777777777777778,\"#fb9f3a\"],[0.8888888888888888,\"#fdca26\"],[1.0,\"#f0f921\"]],\"type\":\"heatmapgl\"}],\"heatmap\":[{\"colorbar\":{\"outlinewidth\":0,\"ticks\":\"\"},\"colorscale\":[[0.0,\"#0d0887\"],[0.1111111111111111,\"#46039f\"],[0.2222222222222222,\"#7201a8\"],[0.3333333333333333,\"#9c179e\"],[0.4444444444444444,\"#bd3786\"],[0.5555555555555556,\"#d8576b\"],[0.6666666666666666,\"#ed7953\"],[0.7777777777777778,\"#fb9f3a\"],[0.8888888888888888,\"#fdca26\"],[1.0,\"#f0f921\"]],\"type\":\"heatmap\"}],\"histogram2dcontour\":[{\"colorbar\":{\"outlinewidth\":0,\"ticks\":\"\"},\"colorscale\":[[0.0,\"#0d0887\"],[0.1111111111111111,\"#46039f\"],[0.2222222222222222,\"#7201a8\"],[0.3333333333333333,\"#9c179e\"],[0.4444444444444444,\"#bd3786\"],[0.5555555555555556,\"#d8576b\"],[0.6666666666666666,\"#ed7953\"],[0.7777777777777778,\"#fb9f3a\"],[0.8888888888888888,\"#fdca26\"],[1.0,\"#f0f921\"]],\"type\":\"histogram2dcontour\"}],\"histogram2d\":[{\"colorbar\":{\"outlinewidth\":0,\"ticks\":\"\"},\"colorscale\":[[0.0,\"#0d0887\"],[0.1111111111111111,\"#46039f\"],[0.2222222222222222,\"#7201a8\"],[0.3333333333333333,\"#9c179e\"],[0.4444444444444444,\"#bd3786\"],[0.5555555555555556,\"#d8576b\"],[0.6666666666666666,\"#ed7953\"],[0.7777777777777778,\"#fb9f3a\"],[0.8888888888888888,\"#fdca26\"],[1.0,\"#f0f921\"]],\"type\":\"histogram2d\"}],\"histogram\":[{\"marker\":{\"pattern\":{\"fillmode\":\"overlay\",\"size\":10,\"solidity\":0.2}},\"type\":\"histogram\"}],\"mesh3d\":[{\"colorbar\":{\"outlinewidth\":0,\"ticks\":\"\"},\"type\":\"mesh3d\"}],\"parcoords\":[{\"line\":{\"colorbar\":{\"outlinewidth\":0,\"ticks\":\"\"}},\"type\":\"parcoords\"}],\"pie\":[{\"automargin\":true,\"type\":\"pie\"}],\"scatter3d\":[{\"line\":{\"colorbar\":{\"outlinewidth\":0,\"ticks\":\"\"}},\"marker\":{\"colorbar\":{\"outlinewidth\":0,\"ticks\":\"\"}},\"type\":\"scatter3d\"}],\"scattercarpet\":[{\"marker\":{\"colorbar\":{\"outlinewidth\":0,\"ticks\":\"\"}},\"type\":\"scattercarpet\"}],\"scattergeo\":[{\"marker\":{\"colorbar\":{\"outlinewidth\":0,\"ticks\":\"\"}},\"type\":\"scattergeo\"}],\"scattergl\":[{\"marker\":{\"colorbar\":{\"outlinewidth\":0,\"ticks\":\"\"}},\"type\":\"scattergl\"}],\"scattermapbox\":[{\"marker\":{\"colorbar\":{\"outlinewidth\":0,\"ticks\":\"\"}},\"type\":\"scattermapbox\"}],\"scatterpolargl\":[{\"marker\":{\"colorbar\":{\"outlinewidth\":0,\"ticks\":\"\"}},\"type\":\"scatterpolargl\"}],\"scatterpolar\":[{\"marker\":{\"colorbar\":{\"outlinewidth\":0,\"ticks\":\"\"}},\"type\":\"scatterpolar\"}],\"scatter\":[{\"marker\":{\"colorbar\":{\"outlinewidth\":0,\"ticks\":\"\"}},\"type\":\"scatter\"}],\"scatterternary\":[{\"marker\":{\"colorbar\":{\"outlinewidth\":0,\"ticks\":\"\"}},\"type\":\"scatterternary\"}],\"surface\":[{\"colorbar\":{\"outlinewidth\":0,\"ticks\":\"\"},\"colorscale\":[[0.0,\"#0d0887\"],[0.1111111111111111,\"#46039f\"],[0.2222222222222222,\"#7201a8\"],[0.3333333333333333,\"#9c179e\"],[0.4444444444444444,\"#bd3786\"],[0.5555555555555556,\"#d8576b\"],[0.6666666666666666,\"#ed7953\"],[0.7777777777777778,\"#fb9f3a\"],[0.8888888888888888,\"#fdca26\"],[1.0,\"#f0f921\"]],\"type\":\"surface\"}],\"table\":[{\"cells\":{\"fill\":{\"color\":\"#EBF0F8\"},\"line\":{\"color\":\"white\"}},\"header\":{\"fill\":{\"color\":\"#C8D4E3\"},\"line\":{\"color\":\"white\"}},\"type\":\"table\"}]},\"layout\":{\"annotationdefaults\":{\"arrowcolor\":\"#2a3f5f\",\"arrowhead\":0,\"arrowwidth\":1},\"autotypenumbers\":\"strict\",\"coloraxis\":{\"colorbar\":{\"outlinewidth\":0,\"ticks\":\"\"}},\"colorscale\":{\"diverging\":[[0,\"#8e0152\"],[0.1,\"#c51b7d\"],[0.2,\"#de77ae\"],[0.3,\"#f1b6da\"],[0.4,\"#fde0ef\"],[0.5,\"#f7f7f7\"],[0.6,\"#e6f5d0\"],[0.7,\"#b8e186\"],[0.8,\"#7fbc41\"],[0.9,\"#4d9221\"],[1,\"#276419\"]],\"sequential\":[[0.0,\"#0d0887\"],[0.1111111111111111,\"#46039f\"],[0.2222222222222222,\"#7201a8\"],[0.3333333333333333,\"#9c179e\"],[0.4444444444444444,\"#bd3786\"],[0.5555555555555556,\"#d8576b\"],[0.6666666666666666,\"#ed7953\"],[0.7777777777777778,\"#fb9f3a\"],[0.8888888888888888,\"#fdca26\"],[1.0,\"#f0f921\"]],\"sequentialminus\":[[0.0,\"#0d0887\"],[0.1111111111111111,\"#46039f\"],[0.2222222222222222,\"#7201a8\"],[0.3333333333333333,\"#9c179e\"],[0.4444444444444444,\"#bd3786\"],[0.5555555555555556,\"#d8576b\"],[0.6666666666666666,\"#ed7953\"],[0.7777777777777778,\"#fb9f3a\"],[0.8888888888888888,\"#fdca26\"],[1.0,\"#f0f921\"]]},\"colorway\":[\"#636efa\",\"#EF553B\",\"#00cc96\",\"#ab63fa\",\"#FFA15A\",\"#19d3f3\",\"#FF6692\",\"#B6E880\",\"#FF97FF\",\"#FECB52\"],\"font\":{\"color\":\"#2a3f5f\"},\"geo\":{\"bgcolor\":\"white\",\"lakecolor\":\"white\",\"landcolor\":\"white\",\"showlakes\":true,\"showland\":true,\"subunitcolor\":\"#C8D4E3\"},\"hoverlabel\":{\"align\":\"left\"},\"hovermode\":\"closest\",\"mapbox\":{\"style\":\"light\"},\"paper_bgcolor\":\"white\",\"plot_bgcolor\":\"white\",\"polar\":{\"angularaxis\":{\"gridcolor\":\"#EBF0F8\",\"linecolor\":\"#EBF0F8\",\"ticks\":\"\"},\"bgcolor\":\"white\",\"radialaxis\":{\"gridcolor\":\"#EBF0F8\",\"linecolor\":\"#EBF0F8\",\"ticks\":\"\"}},\"scene\":{\"xaxis\":{\"backgroundcolor\":\"white\",\"gridcolor\":\"#DFE8F3\",\"gridwidth\":2,\"linecolor\":\"#EBF0F8\",\"showbackground\":true,\"ticks\":\"\",\"zerolinecolor\":\"#EBF0F8\"},\"yaxis\":{\"backgroundcolor\":\"white\",\"gridcolor\":\"#DFE8F3\",\"gridwidth\":2,\"linecolor\":\"#EBF0F8\",\"showbackground\":true,\"ticks\":\"\",\"zerolinecolor\":\"#EBF0F8\"},\"zaxis\":{\"backgroundcolor\":\"white\",\"gridcolor\":\"#DFE8F3\",\"gridwidth\":2,\"linecolor\":\"#EBF0F8\",\"showbackground\":true,\"ticks\":\"\",\"zerolinecolor\":\"#EBF0F8\"}},\"shapedefaults\":{\"line\":{\"color\":\"#2a3f5f\"}},\"ternary\":{\"aaxis\":{\"gridcolor\":\"#DFE8F3\",\"linecolor\":\"#A2B1C6\",\"ticks\":\"\"},\"baxis\":{\"gridcolor\":\"#DFE8F3\",\"linecolor\":\"#A2B1C6\",\"ticks\":\"\"},\"bgcolor\":\"white\",\"caxis\":{\"gridcolor\":\"#DFE8F3\",\"linecolor\":\"#A2B1C6\",\"ticks\":\"\"}},\"title\":{\"x\":0.05},\"xaxis\":{\"automargin\":true,\"gridcolor\":\"#EBF0F8\",\"linecolor\":\"#EBF0F8\",\"ticks\":\"\",\"title\":{\"standoff\":15},\"zerolinecolor\":\"#EBF0F8\",\"zerolinewidth\":2},\"yaxis\":{\"automargin\":true,\"gridcolor\":\"#EBF0F8\",\"linecolor\":\"#EBF0F8\",\"ticks\":\"\",\"title\":{\"standoff\":15},\"zerolinecolor\":\"#EBF0F8\",\"zerolinewidth\":2}}},\"xaxis\":{\"anchor\":\"y\",\"domain\":[0.0,1.0],\"title\":{\"text\":\"region\"},\"categoryorder\":\"array\",\"categoryarray\":[\"southwest\",\"southeast\",\"northwest\",\"northeast\"]},\"yaxis\":{\"anchor\":\"x\",\"domain\":[0.0,1.0],\"title\":{\"text\":\"charges\"}},\"legend\":{\"title\":{\"text\":\"region\"},\"tracegroupgap\":0},\"title\":{\"text\":\"Distribution of Insurance Costs by Region\"},\"boxmode\":\"overlay\",\"height\":600},                        {\"responsive\": true}                    ).then(function(){\n",
              "                            \n",
              "var gd = document.getElementById('2e90e7ab-2bd0-4697-8c5a-8226d815442c');\n",
              "var x = new MutationObserver(function (mutations, observer) {{\n",
              "        var display = window.getComputedStyle(gd).display;\n",
              "        if (!display || display === 'none') {{\n",
              "            console.log([gd, 'removed!']);\n",
              "            Plotly.purge(gd);\n",
              "            observer.disconnect();\n",
              "        }}\n",
              "}});\n",
              "\n",
              "// Listen for the removal of the full notebook cells\n",
              "var notebookContainer = gd.closest('#notebook-container');\n",
              "if (notebookContainer) {{\n",
              "    x.observe(notebookContainer, {childList: true});\n",
              "}}\n",
              "\n",
              "// Listen for the clearing of the current output cell\n",
              "var outputEl = gd.closest('.output');\n",
              "if (outputEl) {{\n",
              "    x.observe(outputEl, {childList: true});\n",
              "}}\n",
              "\n",
              "                        })                };                            </script>        </div>\n",
              "</body>\n",
              "</html>"
            ]
          },
          "metadata": {}
        }
      ],
      "source": [
        "## PHÂN TÍCH DỮ LIỆU\n",
        "## đồ thị biểu diễn tổng charge cho từng khu vực:\n",
        "init_notebook_mode(connected=True)\n",
        "px.defaults.template = \"plotly_white\"\n",
        "plot_df=ins.copy()\n",
        "fig = px.box(plot_df, x=\"region\", y=\"charges\", color=\"region\", \n",
        "             notched=True, points=\"outliers\", height=600,\n",
        "             title=\"Distribution of Insurance Costs by Region\",\n",
        "             color_discrete_sequence=['#B14B51', '#D0A99C', '#5D8370', '#6C839B'])\n",
        "fig.show(renderer=\"colab\")"
      ]
    },
    {
      "cell_type": "code",
      "execution_count": null,
      "id": "603a8a9f",
      "metadata": {
        "colab": {
          "base_uri": "https://localhost:8080/",
          "height": 617
        },
        "id": "603a8a9f",
        "outputId": "8553d6d5-59c8-4cf3-8853-a3ed97e9930b"
      },
      "outputs": [
        {
          "output_type": "display_data",
          "data": {
            "text/html": [
              "        <script type=\"text/javascript\">\n",
              "        window.PlotlyConfig = {MathJaxConfig: 'local'};\n",
              "        if (window.MathJax) {MathJax.Hub.Config({SVG: {font: \"STIX-Web\"}});}\n",
              "        if (typeof require !== 'undefined') {\n",
              "        require.undef(\"plotly\");\n",
              "        requirejs.config({\n",
              "            paths: {\n",
              "                'plotly': ['https://cdn.plot.ly/plotly-2.8.3.min']\n",
              "            }\n",
              "        });\n",
              "        require(['plotly'], function(Plotly) {\n",
              "            window._Plotly = Plotly;\n",
              "        });\n",
              "        }\n",
              "        </script>\n",
              "        "
            ]
          },
          "metadata": {}
        },
        {
          "output_type": "display_data",
          "data": {
            "text/html": [
              "<html>\n",
              "<head><meta charset=\"utf-8\" /></head>\n",
              "<body>\n",
              "    <div>            <script src=\"https://cdnjs.cloudflare.com/ajax/libs/mathjax/2.7.5/MathJax.js?config=TeX-AMS-MML_SVG\"></script><script type=\"text/javascript\">if (window.MathJax) {MathJax.Hub.Config({SVG: {font: \"STIX-Web\"}});}</script>                <script type=\"text/javascript\">window.PlotlyConfig = {MathJaxConfig: 'local'};</script>\n",
              "        <script src=\"https://cdn.plot.ly/plotly-2.8.3.min.js\"></script>                <div id=\"903ad5cd-c38a-4cb7-a6ae-28302dd5ef4b\" class=\"plotly-graph-div\" style=\"height:600px; width:100%;\"></div>            <script type=\"text/javascript\">                                    window.PLOTLYENV=window.PLOTLYENV || {};                                    if (document.getElementById(\"903ad5cd-c38a-4cb7-a6ae-28302dd5ef4b\")) {                    Plotly.newPlot(                        \"903ad5cd-c38a-4cb7-a6ae-28302dd5ef4b\",                        [{\"alignmentgroup\":\"True\",\"boxpoints\":\"outliers\",\"hovertemplate\":\"sex=%{x}<br>charges=%{y}<extra></extra>\",\"legendgroup\":\"female\",\"marker\":{\"color\":\"#B14B51\"},\"name\":\"female\",\"notched\":true,\"offsetgroup\":\"female\",\"orientation\":\"v\",\"showlegend\":true,\"x\":[\"female\",\"female\",\"female\",\"female\",\"female\",\"female\",\"female\",\"female\",\"female\",\"female\",\"female\",\"female\",\"female\",\"female\",\"female\",\"female\",\"female\",\"female\",\"female\",\"female\",\"female\",\"female\",\"female\",\"female\",\"female\",\"female\",\"female\",\"female\",\"female\",\"female\",\"female\",\"female\",\"female\",\"female\",\"female\",\"female\",\"female\",\"female\",\"female\",\"female\",\"female\",\"female\",\"female\",\"female\",\"female\",\"female\",\"female\",\"female\",\"female\",\"female\",\"female\",\"female\",\"female\",\"female\",\"female\",\"female\",\"female\",\"female\",\"female\",\"female\",\"female\",\"female\",\"female\",\"female\",\"female\",\"female\",\"female\",\"female\",\"female\",\"female\",\"female\",\"female\",\"female\",\"female\",\"female\",\"female\",\"female\",\"female\",\"female\",\"female\",\"female\",\"female\",\"female\",\"female\",\"female\",\"female\",\"female\",\"female\",\"female\",\"female\",\"female\",\"female\",\"female\",\"female\",\"female\",\"female\",\"female\",\"female\",\"female\",\"female\",\"female\",\"female\",\"female\",\"female\",\"female\",\"female\",\"female\",\"female\",\"female\",\"female\",\"female\",\"female\",\"female\",\"female\",\"female\",\"female\",\"female\",\"female\",\"female\",\"female\",\"female\",\"female\",\"female\",\"female\",\"female\",\"female\",\"female\",\"female\",\"female\",\"female\",\"female\",\"female\",\"female\",\"female\",\"female\",\"female\",\"female\",\"female\",\"female\",\"female\",\"female\",\"female\",\"female\",\"female\",\"female\",\"female\",\"female\",\"female\",\"female\",\"female\",\"female\",\"female\",\"female\",\"female\",\"female\",\"female\",\"female\",\"female\",\"female\",\"female\",\"female\",\"female\",\"female\",\"female\",\"female\",\"female\",\"female\",\"female\",\"female\",\"female\",\"female\",\"female\",\"female\",\"female\",\"female\",\"female\",\"female\",\"female\",\"female\",\"female\",\"female\",\"female\",\"female\",\"female\",\"female\",\"female\",\"female\",\"female\",\"female\",\"female\",\"female\",\"female\",\"female\",\"female\",\"female\",\"female\",\"female\",\"female\",\"female\",\"female\",\"female\",\"female\",\"female\",\"female\",\"female\",\"female\",\"female\",\"female\",\"female\",\"female\",\"female\",\"female\",\"female\",\"female\",\"female\",\"female\",\"female\",\"female\",\"female\",\"female\",\"female\",\"female\",\"female\",\"female\",\"female\",\"female\",\"female\",\"female\",\"female\",\"female\",\"female\",\"female\",\"female\",\"female\",\"female\",\"female\",\"female\",\"female\",\"female\",\"female\",\"female\",\"female\",\"female\",\"female\",\"female\",\"female\",\"female\",\"female\",\"female\",\"female\",\"female\",\"female\",\"female\",\"female\",\"female\",\"female\",\"female\",\"female\",\"female\",\"female\",\"female\",\"female\",\"female\",\"female\",\"female\",\"female\",\"female\",\"female\",\"female\",\"female\",\"female\",\"female\",\"female\",\"female\",\"female\",\"female\",\"female\",\"female\",\"female\",\"female\",\"female\",\"female\",\"female\",\"female\",\"female\",\"female\",\"female\",\"female\",\"female\",\"female\",\"female\",\"female\",\"female\",\"female\",\"female\",\"female\",\"female\",\"female\",\"female\",\"female\",\"female\",\"female\",\"female\",\"female\",\"female\",\"female\",\"female\",\"female\",\"female\",\"female\",\"female\",\"female\",\"female\",\"female\",\"female\",\"female\",\"female\",\"female\",\"female\",\"female\",\"female\",\"female\",\"female\",\"female\",\"female\",\"female\",\"female\",\"female\",\"female\",\"female\",\"female\",\"female\",\"female\",\"female\",\"female\",\"female\",\"female\",\"female\",\"female\",\"female\",\"female\",\"female\",\"female\",\"female\",\"female\",\"female\",\"female\",\"female\",\"female\",\"female\",\"female\",\"female\",\"female\",\"female\",\"female\",\"female\",\"female\",\"female\",\"female\",\"female\",\"female\",\"female\",\"female\",\"female\",\"female\",\"female\",\"female\",\"female\",\"female\",\"female\",\"female\",\"female\",\"female\",\"female\",\"female\",\"female\",\"female\",\"female\",\"female\",\"female\",\"female\",\"female\",\"female\",\"female\",\"female\",\"female\",\"female\",\"female\",\"female\",\"female\",\"female\",\"female\",\"female\",\"female\",\"female\",\"female\",\"female\",\"female\",\"female\",\"female\",\"female\",\"female\",\"female\",\"female\",\"female\",\"female\",\"female\",\"female\",\"female\",\"female\",\"female\",\"female\",\"female\",\"female\",\"female\",\"female\",\"female\",\"female\",\"female\",\"female\",\"female\",\"female\",\"female\",\"female\",\"female\",\"female\",\"female\",\"female\",\"female\",\"female\",\"female\",\"female\",\"female\",\"female\",\"female\",\"female\",\"female\",\"female\",\"female\",\"female\",\"female\",\"female\",\"female\",\"female\",\"female\",\"female\",\"female\",\"female\",\"female\",\"female\",\"female\",\"female\",\"female\",\"female\",\"female\",\"female\",\"female\",\"female\",\"female\",\"female\",\"female\",\"female\",\"female\",\"female\",\"female\",\"female\",\"female\",\"female\",\"female\",\"female\",\"female\",\"female\",\"female\",\"female\",\"female\",\"female\",\"female\",\"female\",\"female\",\"female\",\"female\",\"female\",\"female\",\"female\",\"female\",\"female\",\"female\",\"female\",\"female\",\"female\",\"female\",\"female\",\"female\",\"female\",\"female\",\"female\",\"female\",\"female\",\"female\",\"female\",\"female\",\"female\",\"female\",\"female\",\"female\",\"female\",\"female\",\"female\",\"female\",\"female\",\"female\",\"female\",\"female\",\"female\",\"female\",\"female\",\"female\",\"female\",\"female\",\"female\",\"female\",\"female\",\"female\",\"female\",\"female\",\"female\",\"female\",\"female\",\"female\",\"female\",\"female\",\"female\",\"female\",\"female\",\"female\",\"female\",\"female\",\"female\",\"female\",\"female\",\"female\",\"female\",\"female\",\"female\",\"female\",\"female\",\"female\",\"female\",\"female\",\"female\",\"female\",\"female\",\"female\",\"female\",\"female\",\"female\",\"female\",\"female\",\"female\",\"female\",\"female\",\"female\",\"female\",\"female\",\"female\",\"female\",\"female\",\"female\",\"female\",\"female\",\"female\",\"female\",\"female\",\"female\",\"female\",\"female\",\"female\",\"female\",\"female\",\"female\",\"female\",\"female\",\"female\",\"female\",\"female\",\"female\",\"female\",\"female\",\"female\",\"female\",\"female\",\"female\",\"female\",\"female\",\"female\",\"female\",\"female\",\"female\",\"female\",\"female\",\"female\",\"female\",\"female\",\"female\",\"female\",\"female\",\"female\",\"female\",\"female\",\"female\",\"female\",\"female\",\"female\",\"female\",\"female\",\"female\",\"female\",\"female\",\"female\",\"female\",\"female\",\"female\",\"female\",\"female\",\"female\",\"female\",\"female\",\"female\",\"female\",\"female\",\"female\",\"female\",\"female\",\"female\",\"female\",\"female\",\"female\",\"female\",\"female\",\"female\",\"female\",\"female\",\"female\",\"female\",\"female\",\"female\",\"female\",\"female\",\"female\",\"female\",\"female\",\"female\",\"female\",\"female\",\"female\",\"female\",\"female\",\"female\",\"female\",\"female\",\"female\",\"female\"],\"x0\":\" \",\"xaxis\":\"x\",\"y\":[16884.924,3756.6216,8240.5896,7281.5056,28923.13692,27808.7251,11090.7178,10797.3362,13228.84695,4149.736,37701.8768,14001.1338,14451.83515,12268.63225,2198.18985,4687.797,15612.19335,3046.062,4949.7587,6313.759,3393.35635,3556.9223,12629.8967,2211.13075,3579.8287,8059.6791,13607.36875,23244.7902,5989.52365,4133.64165,14711.7438,1743.214,14235.072,5920.1041,16577.7795,11741.726,3947.4131,2755.02095,6571.02435,7935.29115,11033.6617,39836.519,43578.9394,11073.176,8026.6666,11082.5772,2026.9741,10942.13205,47291.055,3766.8838,12105.32,6186.127,21344.8467,30942.1918,5003.853,2331.519,11881.358,2404.7338,19107.7796,8601.3293,6686.4313,2257.47525,10115.00885,3385.39915,17081.08,9634.538,32734.1863,12815.44495,13616.3586,11163.568,2457.21115,2155.6815,27322.73386,2166.732,5138.2567,9877.6077,10959.6947,6334.34355,19964.7463,7077.1894,19749.38338,21348.706,36149.4835,5152.134,4830.63,6128.79745,2719.27975,5246.047,2855.43755,48824.45,8823.279,8538.28845,1631.8212,7419.4779,3981.9768,5325.651,6775.961,4922.9159,4883.866,12044.342,5649.715,8516.829,9644.2525,14901.5167,2130.6759,8871.1517,13012.20865,37133.8982,4337.7352,13880.949,5002.7827,8520.026,7371.772,10355.641,3392.9768,25081.76784,5012.471,10564.8845,24227.33724,7358.17565,7443.64305,14001.2867,1727.785,19444.2658,1615.7667,38511.6283,5354.07465,35160.13457,29523.1656,12648.7034,47305.305,13047.33235,5400.9805,11837.16,17085.2676,20462.99766,14590.63205,9715.841,2150.469,9855.1314,22331.5668,11879.10405,9625.92,9432.9253,14256.1928,47896.79135,3172.018,2156.7518,9249.4952,24873.3849,12265.5069,4349.462,12646.207,20177.67113,4151.0287,7749.1564,1737.376,34838.873,7421.19455,24671.66334,3561.8889,47928.03,48517.56315,13429.0354,11658.37915,19144.57652,8232.6388,18955.22017,13217.0945,10977.2063,6184.2994,5478.0368,11830.6072,8932.084,3554.203,14133.03775,1607.5101,10043.249,13844.506,2597.779,3180.5101,9778.3472,13430.265,8017.06115,13415.0381,12029.2867,7639.41745,18033.9679,21659.9301,16455.70785,15006.57945,5846.9176,11856.4115,3176.8159,4618.0799,2138.0707,9411.005,8522.003,1631.6683,9264.797,14692.66935,11396.9002,4185.0979,8539.671,19594.80965,14455.64405,2134.9015,7345.7266,18608.262,28950.4692,6555.07035,7323.734819,3167.45585,18804.7524,4906.40965,12638.195,12592.5345,4738.2682,37079.372,28287.89766,7345.084,11454.0215,5910.944,11881.9696,11840.77505,7682.67,10381.4787,15230.32405,19521.9682,13224.693,12643.3778,23288.9284,2201.0971,2203.47185,1744.465,20878.78443,1622.1885,9880.068,4347.02335,12475.3513,48885.13561,1748.774,24513.09126,2196.4732,4931.647,8211.1002,13470.86,5974.3847,3044.2133,11455.28,5240.765,25656.57526,3994.1778,9866.30485,5397.6167,11482.63485,24059.68019,9861.025,14043.4767,5972.378,8825.086,8233.0975,6196.448,3056.3881,13887.204,63770.42801,11538.421,3213.62205,45863.205,3972.9247,11187.6567,17878.90068,39983.42595,9193.8385,10923.9332,2801.2588,2128.43105,6373.55735,11552.904,3761.292,2219.4451,4753.6368,31620.00106,13224.05705,12222.8983,58571.07448,3206.49135,17626.23951,4779.6023,43943.8761,13635.6379,5976.8311,11842.442,15359.1045,8823.98575,7640.3092,5594.8455,33471.97189,1633.0444,11070.535,16085.1275,17468.9839,9283.562,3558.62025,25678.77845,8547.6913,6571.544,2207.69745,6753.038,1880.07,42969.8527,11658.11505,34439.8559,10713.644,9182.17,3736.4647,42983.4585,3366.6697,2709.1119,24915.04626,4466.6214,8252.2843,12430.95335,9800.8882,10579.711,8280.6227,8527.532,12244.531,24667.419,3410.324,26392.26029,14394.39815,22192.43711,5148.5526,27037.9141,40003.33225,6500.2359,3943.5954,6185.3208,46200.9851,12485.8009,10156.7832,2585.269,4766.022,26236.57997,3577.999,3201.24515,29186.48236,3500.6123,2020.5523,9541.69555,5385.3379,8930.93455,5375.038,44400.4064,6113.23105,5469.0066,10107.2206,8310.83915,2457.502,9566.9909,10848.1343,12231.6136,9875.6804,10106.13425,40932.4295,16657.71745,2217.6012,6781.3542,4234.927,9447.25035,14007.222,9583.8933,40419.0191,3757.8448,9910.35985,8556.907,19539.243,11833.7823,7985.815,23065.4207,3925.7582,9095.06825,11842.62375,7050.642,14319.031,6933.24225,11150.78,12797.20962,17748.5062,24520.264,4350.5144,6414.178,13457.9608,5662.225,2731.9122,7209.4918,4719.52405,11848.141,7046.7222,14313.8463,38792.6856,7731.85785,28476.73499,2136.88225,9414.92,6360.9936,1877.9294,2842.76075,23401.30575,55135.40209,1621.8827,8219.2039,16069.08475,5266.3656,4719.73655,11657.7189,6402.29135,12622.1795,36021.0112,27533.9129,45008.9555,9872.701,2974.126,37270.1512,42111.6647,11729.6795,24106.91255,1875.344,40974.1649,18218.16139,46113.511,7151.092,12269.68865,5458.04645,4391.652,3392.3652,2690.1138,26140.3603,6311.952,2585.85065,46255.1125,5272.1758,29330.98315,7243.8136,13063.883,19798.05455,1634.5734,2117.33885,12644.589,4564.19145,7633.7206,17496.306,14382.70905,7626.993,2473.3341,21774.32215,13041.921,5245.2269,13451.122,13462.52,2913.569,12032.326,13470.8044,6238.298,7348.142,12233.828,8965.79575,9549.5651,2217.46915,11674.13,4527.18295,2730.10785,3353.284,14474.675,8596.8278,10702.6424,4992.3764,2527.81865,1759.338,9704.66805,4889.0368,16796.41194,7624.63,28340.18885,14571.8908,3378.91,7144.86265,10118.424,16420.49455,7986.47525,7418.522,13887.9685,6551.7501,5267.81815,8269.044,36580.28216,5383.536,2709.24395,3987.926,12495.29085,26018.95052,35595.5898,8569.8618,2020.177,6877.9801,21677.28345,44423.803,4137.5227,12094.478,39725.51805,20234.85475,3161.454,21880.82,7325.0482,3594.17085,8023.13545,3353.4703,8277.523,17929.30337,2480.9791,5708.867,7045.499,10928.849,12096.6512,13204.28565,4562.8421,8551.347,15019.76005,19023.26,11286.5387,33907.548,11299.343,4561.1885,44641.1974,23045.56616,3227.1211,16776.30405,10338.9316,8988.15875,10493.9458,11512.405,24180.9335,5312.16985,5693.4305,34166.273,46661.4424,18903.49141,40904.1995,14254.6082,5836.5204,1728.897,8582.3023,9991.03765,11085.5868,7623.518,3176.2877,36898.73308,7954.517,27117.99378,2261.5688,2203.73595,12235.8392,40941.2854,5630.45785,11015.1747,7228.21565,14426.07385,2459.7201,3989.841,7727.2532,2200.83085,7153.5539,5227.98875,4529.477,6112.35295,22478.6,11093.6229,2154.361,23887.6627,6496.886,2899.48935,7650.77375,2850.68375,2632.992,9447.3824,18328.2381,13844.7972,21771.3423,13126.67745,5327.40025,13725.47184,13019.16105,8671.19125,4134.08245,18838.70366,33307.5508,4934.705,18223.4512,36910.60803,20296.86345,10806.839,3956.07145,41661.602,7537.1639,4718.20355,26125.67477,4795.6568,20167.33603,12479.70895,8515.7587,14449.8544,12224.35085,3238.4357,4296.2712,3171.6149,9101.798,1633.9618,15828.82173,4415.1588,6474.013,11436.73815,11305.93455,10197.7722,4544.2348,6770.1925,7337.748,10370.91255,10704.47,1880.487,3021.80915,2741.948,4357.04365,4189.1131,8283.6807,24535.69855,14283.4594,8534.6718,3732.6251,5472.449,7133.9025,4340.4409,2710.82855,3208.787,2464.6188,16115.3045,33900.653,4571.41305,36397.576,18765.87545,1731.677,7201.70085,43896.3763,7050.0213,22395.74424,12629.1656,10795.93733,11411.685,2205.9808,1629.8335,2007.945,29141.3603],\"y0\":\" \",\"yaxis\":\"y\",\"type\":\"box\"},{\"alignmentgroup\":\"True\",\"boxpoints\":\"outliers\",\"hovertemplate\":\"sex=%{x}<br>charges=%{y}<extra></extra>\",\"legendgroup\":\"male\",\"marker\":{\"color\":\"#D0A99C\"},\"name\":\"male\",\"notched\":true,\"offsetgroup\":\"male\",\"orientation\":\"v\",\"showlegend\":true,\"x\":[\"male\",\"male\",\"male\",\"male\",\"male\",\"male\",\"male\",\"male\",\"male\",\"male\",\"male\",\"male\",\"male\",\"male\",\"male\",\"male\",\"male\",\"male\",\"male\",\"male\",\"male\",\"male\",\"male\",\"male\",\"male\",\"male\",\"male\",\"male\",\"male\",\"male\",\"male\",\"male\",\"male\",\"male\",\"male\",\"male\",\"male\",\"male\",\"male\",\"male\",\"male\",\"male\",\"male\",\"male\",\"male\",\"male\",\"male\",\"male\",\"male\",\"male\",\"male\",\"male\",\"male\",\"male\",\"male\",\"male\",\"male\",\"male\",\"male\",\"male\",\"male\",\"male\",\"male\",\"male\",\"male\",\"male\",\"male\",\"male\",\"male\",\"male\",\"male\",\"male\",\"male\",\"male\",\"male\",\"male\",\"male\",\"male\",\"male\",\"male\",\"male\",\"male\",\"male\",\"male\",\"male\",\"male\",\"male\",\"male\",\"male\",\"male\",\"male\",\"male\",\"male\",\"male\",\"male\",\"male\",\"male\",\"male\",\"male\",\"male\",\"male\",\"male\",\"male\",\"male\",\"male\",\"male\",\"male\",\"male\",\"male\",\"male\",\"male\",\"male\",\"male\",\"male\",\"male\",\"male\",\"male\",\"male\",\"male\",\"male\",\"male\",\"male\",\"male\",\"male\",\"male\",\"male\",\"male\",\"male\",\"male\",\"male\",\"male\",\"male\",\"male\",\"male\",\"male\",\"male\",\"male\",\"male\",\"male\",\"male\",\"male\",\"male\",\"male\",\"male\",\"male\",\"male\",\"male\",\"male\",\"male\",\"male\",\"male\",\"male\",\"male\",\"male\",\"male\",\"male\",\"male\",\"male\",\"male\",\"male\",\"male\",\"male\",\"male\",\"male\",\"male\",\"male\",\"male\",\"male\",\"male\",\"male\",\"male\",\"male\",\"male\",\"male\",\"male\",\"male\",\"male\",\"male\",\"male\",\"male\",\"male\",\"male\",\"male\",\"male\",\"male\",\"male\",\"male\",\"male\",\"male\",\"male\",\"male\",\"male\",\"male\",\"male\",\"male\",\"male\",\"male\",\"male\",\"male\",\"male\",\"male\",\"male\",\"male\",\"male\",\"male\",\"male\",\"male\",\"male\",\"male\",\"male\",\"male\",\"male\",\"male\",\"male\",\"male\",\"male\",\"male\",\"male\",\"male\",\"male\",\"male\",\"male\",\"male\",\"male\",\"male\",\"male\",\"male\",\"male\",\"male\",\"male\",\"male\",\"male\",\"male\",\"male\",\"male\",\"male\",\"male\",\"male\",\"male\",\"male\",\"male\",\"male\",\"male\",\"male\",\"male\",\"male\",\"male\",\"male\",\"male\",\"male\",\"male\",\"male\",\"male\",\"male\",\"male\",\"male\",\"male\",\"male\",\"male\",\"male\",\"male\",\"male\",\"male\",\"male\",\"male\",\"male\",\"male\",\"male\",\"male\",\"male\",\"male\",\"male\",\"male\",\"male\",\"male\",\"male\",\"male\",\"male\",\"male\",\"male\",\"male\",\"male\",\"male\",\"male\",\"male\",\"male\",\"male\",\"male\",\"male\",\"male\",\"male\",\"male\",\"male\",\"male\",\"male\",\"male\",\"male\",\"male\",\"male\",\"male\",\"male\",\"male\",\"male\",\"male\",\"male\",\"male\",\"male\",\"male\",\"male\",\"male\",\"male\",\"male\",\"male\",\"male\",\"male\",\"male\",\"male\",\"male\",\"male\",\"male\",\"male\",\"male\",\"male\",\"male\",\"male\",\"male\",\"male\",\"male\",\"male\",\"male\",\"male\",\"male\",\"male\",\"male\",\"male\",\"male\",\"male\",\"male\",\"male\",\"male\",\"male\",\"male\",\"male\",\"male\",\"male\",\"male\",\"male\",\"male\",\"male\",\"male\",\"male\",\"male\",\"male\",\"male\",\"male\",\"male\",\"male\",\"male\",\"male\",\"male\",\"male\",\"male\",\"male\",\"male\",\"male\",\"male\",\"male\",\"male\",\"male\",\"male\",\"male\",\"male\",\"male\",\"male\",\"male\",\"male\",\"male\",\"male\",\"male\",\"male\",\"male\",\"male\",\"male\",\"male\",\"male\",\"male\",\"male\",\"male\",\"male\",\"male\",\"male\",\"male\",\"male\",\"male\",\"male\",\"male\",\"male\",\"male\",\"male\",\"male\",\"male\",\"male\",\"male\",\"male\",\"male\",\"male\",\"male\",\"male\",\"male\",\"male\",\"male\",\"male\",\"male\",\"male\",\"male\",\"male\",\"male\",\"male\",\"male\",\"male\",\"male\",\"male\",\"male\",\"male\",\"male\",\"male\",\"male\",\"male\",\"male\",\"male\",\"male\",\"male\",\"male\",\"male\",\"male\",\"male\",\"male\",\"male\",\"male\",\"male\",\"male\",\"male\",\"male\",\"male\",\"male\",\"male\",\"male\",\"male\",\"male\",\"male\",\"male\",\"male\",\"male\",\"male\",\"male\",\"male\",\"male\",\"male\",\"male\",\"male\",\"male\",\"male\",\"male\",\"male\",\"male\",\"male\",\"male\",\"male\",\"male\",\"male\",\"male\",\"male\",\"male\",\"male\",\"male\",\"male\",\"male\",\"male\",\"male\",\"male\",\"male\",\"male\",\"male\",\"male\",\"male\",\"male\",\"male\",\"male\",\"male\",\"male\",\"male\",\"male\",\"male\",\"male\",\"male\",\"male\",\"male\",\"male\",\"male\",\"male\",\"male\",\"male\",\"male\",\"male\",\"male\",\"male\",\"male\",\"male\",\"male\",\"male\",\"male\",\"male\",\"male\",\"male\",\"male\",\"male\",\"male\",\"male\",\"male\",\"male\",\"male\",\"male\",\"male\",\"male\",\"male\",\"male\",\"male\",\"male\",\"male\",\"male\",\"male\",\"male\",\"male\",\"male\",\"male\",\"male\",\"male\",\"male\",\"male\",\"male\",\"male\",\"male\",\"male\",\"male\",\"male\",\"male\",\"male\",\"male\",\"male\",\"male\",\"male\",\"male\",\"male\",\"male\",\"male\",\"male\",\"male\",\"male\",\"male\",\"male\",\"male\",\"male\",\"male\",\"male\",\"male\",\"male\",\"male\",\"male\",\"male\",\"male\",\"male\",\"male\",\"male\",\"male\",\"male\",\"male\",\"male\",\"male\",\"male\",\"male\",\"male\",\"male\",\"male\",\"male\",\"male\",\"male\",\"male\",\"male\",\"male\",\"male\",\"male\",\"male\",\"male\",\"male\",\"male\",\"male\",\"male\",\"male\",\"male\",\"male\",\"male\",\"male\",\"male\",\"male\",\"male\",\"male\",\"male\",\"male\",\"male\",\"male\",\"male\",\"male\",\"male\",\"male\",\"male\",\"male\",\"male\",\"male\",\"male\",\"male\",\"male\",\"male\",\"male\",\"male\",\"male\",\"male\",\"male\",\"male\",\"male\",\"male\",\"male\",\"male\",\"male\",\"male\",\"male\",\"male\",\"male\",\"male\",\"male\",\"male\",\"male\",\"male\",\"male\",\"male\",\"male\",\"male\",\"male\",\"male\",\"male\",\"male\",\"male\",\"male\",\"male\",\"male\",\"male\",\"male\",\"male\",\"male\",\"male\",\"male\",\"male\",\"male\",\"male\",\"male\",\"male\",\"male\",\"male\",\"male\",\"male\",\"male\",\"male\",\"male\",\"male\",\"male\",\"male\",\"male\"],\"x0\":\" \",\"xaxis\":\"x\",\"y\":[1725.5523,4449.462,21984.47061,3866.8552,6406.4107,2721.3208,1826.843,39611.7577,1837.237,2395.17155,10602.385,36837.467,1137.011,6203.90175,2775.19215,38711.0,35585.576,13770.0979,51194.55914,1625.43375,2302.3,39774.2763,48173.361,6272.4772,6079.6715,20630.28351,38709.176,23568.272,37742.5757,47496.49445,34303.1672,8606.2174,4504.6624,30166.61817,6389.37785,17663.1442,6799.458,11946.6259,7726.854,11356.6609,1532.4697,4441.21315,37165.1638,21098.55405,30184.9367,5729.0053,10226.2842,22412.6485,15820.699,3645.0894,17560.37975,3877.30425,2867.1196,47055.5321,10825.2537,4646.759,11488.31695,30259.99556,11381.3254,7740.337,1705.6245,39556.4945,6082.405,1632.56445,1261.442,2045.68525,27375.90478,3490.5491,18972.495,18157.876,20745.9891,40720.55105,1842.519,5125.2157,7789.635,6948.7008,21223.6758,15518.18025,36950.2567,10450.552,5028.1466,10407.08585,4827.90495,13405.3903,8116.68,1694.7964,6455.86265,10436.096,11735.87905,4005.4225,7731.4271,43753.33705,12557.6053,2137.6536,1137.4697,1639.5631,7147.105,11743.299,20984.0936,6610.1097,1980.07,8162.71625,3537.703,2483.736,5253.524,34779.615,19515.5416,11987.1682,2689.4954,9225.2564,12333.828,6710.1919,4463.2051,17352.6803,7152.6714,7196.867,24476.47851,1986.9334,1832.094,4040.55825,12829.4551,44260.7499,4260.744,41097.16175,43921.1837,11520.09985,33750.2918,24869.8368,36219.40545,46151.1245,17179.522,7441.053,9282.4806,1719.4363,42856.838,7265.7025,9617.66245,2523.1695,2803.69785,12928.7911,48549.17835,4237.12655,7742.1098,25992.82104,20277.80751,42112.2356,3906.127,1704.5681,16297.846,21978.6769,38746.3551,6746.7425,19442.3535,11944.59435,8444.474,42124.5153,8124.4084,9722.7695,8835.26495,10435.06525,4667.60765,4894.7533,35491.64,11566.30055,2866.091,6600.20595,42760.5022,9144.565,24393.6224,13822.803,12142.5786,13937.6665,41919.097,13352.0998,13981.85035,4889.9995,8334.45755,1635.73365,12404.8791,24603.04837,8944.1151,9620.3307,1837.2819,4751.07,8116.26885,3481.868,36085.219,1391.5287,38126.2465,27000.98473,42303.69215,20781.48892,8302.53565,1261.859,30284.64294,10736.87075,8964.06055,9290.1395,7526.70645,16586.49771,14988.432,8083.9198,10269.46,3260.199,6652.5288,4074.4537,1621.3402,5080.096,9140.951,14418.2804,46889.2612,46599.1084,39125.33225,2727.3951,8968.33,9788.8659,23082.95533,5969.723,4243.59005,13919.8229,2254.7967,5926.846,2897.3235,1149.3959,26109.32905,12730.9996,4762.329,7512.267,4032.2407,1969.614,1769.53165,4686.3887,21797.0004,10601.412,22144.032,11165.41765,1632.03625,2497.0383,25382.297,28868.6639,35147.52848,2534.39375,1534.3045,1824.2854,15555.18875,9304.7019,9563.029,1253.936,10461.9794,12574.049,17942.106,1967.0227,8027.968,36197.699,6837.3687,22218.1149,32548.3405,6796.86325,2643.2685,3077.0955,11763.0009,2498.4144,9361.3268,1256.299,21082.16,11362.755,27724.28875,8413.46305,3857.75925,38245.59327,8342.90875,1708.0014,48675.5177,12925.886,19214.70553,13831.1152,6067.12675,27346.04207,10231.4999,23807.2406,3268.84665,13390.559,12957.118,3847.674,8334.5896,3935.1799,1646.4297,2494.022,9058.7303,7256.7231,45702.02235,1664.9996,9724.53,12913.9924,1639.5631,6356.2707,1242.816,3861.20965,8428.0693,2566.4707,5709.1644,7441.501,9174.13565,4435.0942,39241.442,23306.547,3659.346,40182.246,34617.84065,12129.61415,6748.5912,11326.71487,11365.952,10085.846,1977.815,7173.35995,9391.346,14410.9321,20149.3229,12949.1554,6666.243,32787.45859,13143.86485,18806.14547,10141.1362,6123.5688,1712.227,4058.71245,6435.6237,1136.3994,42560.4304,8703.456,45710.20785,4837.5823,4399.731,7222.78625,46130.5265,12363.547,1242.26,40103.89,9863.4718,11244.3769,7729.64575,5438.7491,34806.4677,2104.1134,8068.185,2362.22905,2352.96845,40273.6455,10976.24575,9504.3103,10264.4421,1727.54,1984.4533,12146.971,13112.6048,11264.541,12979.358,1263.249,6664.68595,19361.9988,10065.413,3484.331,36189.1017,44585.45587,8604.48365,18246.4955,43254.41795,8827.2099,11737.84884,1627.28245,3062.50825,1906.35825,14210.53595,17128.42608,5031.26955,5428.7277,36307.7983,2416.955,19040.876,3070.8087,8062.764,27941.28758,7261.741,10560.4917,6986.697,7448.40395,5934.3798,9869.8102,18259.216,1146.7966,9386.1613,12741.16745,1917.3184,5209.57885,1252.407,21195.818,18310.742,4266.1658,17904.52705,2103.08,1815.8759,1131.5066,3309.7926,11013.7119,4428.88785,5584.3057,3597.596,7445.918,2680.9493,12523.6048,43813.8661,20773.62775,39597.4072,6117.4945,13393.756,11743.9341,5377.4578,7160.3303,4402.233,1526.312,12323.936,10072.05505,2438.0552,10601.63225,14119.62,15817.9857,10965.446,8782.469,6600.361,1141.4451,11576.13,13129.60345,8457.818,5966.8874,6849.026,8891.1395,6653.7886,6282.235,3443.064,2789.0574,4877.98105,19719.6947,27218.43725,1682.597,11945.1327,10422.91665,44202.6536,13555.0049,2221.56445,8688.85885,48673.5588,4661.28635,8125.7845,4846.92015,15170.069,2639.0429,33732.6867,5257.50795,35069.37452,5488.262,4320.41085,6250.435,25333.33284,6289.7549,2927.0647,10096.97,4673.3922,32108.66282,2304.0022,9487.6442,1121.8739,1628.4709,12982.8747,7160.094,39047.285,6358.77645,19933.458,11534.87265,47462.894,38998.546,20009.63365,3875.7341,41999.52,12609.88702,41034.2214,28468.91901,9500.57305,26467.09737,4746.344,23967.38305,7518.02535,3279.86855,2322.6218,16138.76205,7804.1605,2902.9065,25517.11363,4500.33925,19199.944,4915.05985,8410.04685,4518.82625,5484.4673,17361.7661,34472.841,1972.95,21232.18226,8627.5411,4433.3877,4438.2634,24915.22085,23241.47453,9957.7216,18767.7377,8765.249,12124.9924,8798.593,42211.1382,1711.0268,16450.8947,21595.38229,9850.432,13747.87235,12950.0712,37484.4493,2250.8352,22493.65964,1704.70015,33475.81715,11394.06555,44501.3982,39727.614,14394.5579,9288.0267,25309.489,10594.50155,4462.7218,1981.5819,11554.2236,48970.2476,6548.19505,8978.1851,5757.41345,14349.8544,39871.7043,13974.45555,1909.52745,2102.2647,34672.1472,15161.5344,11884.04858,4454.40265,5855.9025,4076.497,10796.35025,11353.2276,9748.9106,10577.087,41676.0811,3591.48,1674.6323,11253.421,3471.4096,11363.2832,20420.60465,2904.088,8605.3615,41949.2441,2396.0959,10807.4863,9222.4026,36124.5737,38282.7495,8347.1643,10214.636,14358.36437,3693.428,20709.02034,19673.33573,3704.3545,9048.0273,6338.0756,9630.397,11289.10925,52590.82939,10791.96,5979.731,39722.7462,5124.1887,18963.17192,10982.5013,4670.64,17178.6824,6457.8434,4433.9159,19350.3689,8603.8234,37465.34375,5699.8375,6393.60345,6198.7518,8733.22925,2055.3249,9964.06,5116.5004,38415.474,12347.172,5373.36425,23563.01618,1702.4553,12890.05765,5415.6612,4058.1161,6593.5083,8442.667,6858.4796,6640.54485,7162.0122,10594.2257,11938.25595,60021.39897,11345.519,2699.56835,6985.50695,47269.854,49577.6624,1135.9407,5615.369,6059.173,37607.5277,18648.4217,1241.565,16232.847,30063.58055,3277.161,26926.5144,34254.05335,8615.3,3292.52985,14478.33015,4747.0529,17043.3414,10959.33,22462.04375,1720.3537,47403.88,38344.566,7147.4728,34828.654,1515.3449,9301.89355,11931.12525,1964.78,1708.92575,5261.46945,62592.87309,46718.16325,37829.7242,21259.37795,21472.4788,6875.961,6940.90985,4536.259,11272.33139,1163.4627,19496.71917,5425.02335,28101.33305,12981.3457,4239.89265,13143.33665,9377.9047,10325.206,10600.5483],\"y0\":\" \",\"yaxis\":\"y\",\"type\":\"box\"}],                        {\"template\":{\"data\":{\"barpolar\":[{\"marker\":{\"line\":{\"color\":\"white\",\"width\":0.5},\"pattern\":{\"fillmode\":\"overlay\",\"size\":10,\"solidity\":0.2}},\"type\":\"barpolar\"}],\"bar\":[{\"error_x\":{\"color\":\"#2a3f5f\"},\"error_y\":{\"color\":\"#2a3f5f\"},\"marker\":{\"line\":{\"color\":\"white\",\"width\":0.5},\"pattern\":{\"fillmode\":\"overlay\",\"size\":10,\"solidity\":0.2}},\"type\":\"bar\"}],\"carpet\":[{\"aaxis\":{\"endlinecolor\":\"#2a3f5f\",\"gridcolor\":\"#C8D4E3\",\"linecolor\":\"#C8D4E3\",\"minorgridcolor\":\"#C8D4E3\",\"startlinecolor\":\"#2a3f5f\"},\"baxis\":{\"endlinecolor\":\"#2a3f5f\",\"gridcolor\":\"#C8D4E3\",\"linecolor\":\"#C8D4E3\",\"minorgridcolor\":\"#C8D4E3\",\"startlinecolor\":\"#2a3f5f\"},\"type\":\"carpet\"}],\"choropleth\":[{\"colorbar\":{\"outlinewidth\":0,\"ticks\":\"\"},\"type\":\"choropleth\"}],\"contourcarpet\":[{\"colorbar\":{\"outlinewidth\":0,\"ticks\":\"\"},\"type\":\"contourcarpet\"}],\"contour\":[{\"colorbar\":{\"outlinewidth\":0,\"ticks\":\"\"},\"colorscale\":[[0.0,\"#0d0887\"],[0.1111111111111111,\"#46039f\"],[0.2222222222222222,\"#7201a8\"],[0.3333333333333333,\"#9c179e\"],[0.4444444444444444,\"#bd3786\"],[0.5555555555555556,\"#d8576b\"],[0.6666666666666666,\"#ed7953\"],[0.7777777777777778,\"#fb9f3a\"],[0.8888888888888888,\"#fdca26\"],[1.0,\"#f0f921\"]],\"type\":\"contour\"}],\"heatmapgl\":[{\"colorbar\":{\"outlinewidth\":0,\"ticks\":\"\"},\"colorscale\":[[0.0,\"#0d0887\"],[0.1111111111111111,\"#46039f\"],[0.2222222222222222,\"#7201a8\"],[0.3333333333333333,\"#9c179e\"],[0.4444444444444444,\"#bd3786\"],[0.5555555555555556,\"#d8576b\"],[0.6666666666666666,\"#ed7953\"],[0.7777777777777778,\"#fb9f3a\"],[0.8888888888888888,\"#fdca26\"],[1.0,\"#f0f921\"]],\"type\":\"heatmapgl\"}],\"heatmap\":[{\"colorbar\":{\"outlinewidth\":0,\"ticks\":\"\"},\"colorscale\":[[0.0,\"#0d0887\"],[0.1111111111111111,\"#46039f\"],[0.2222222222222222,\"#7201a8\"],[0.3333333333333333,\"#9c179e\"],[0.4444444444444444,\"#bd3786\"],[0.5555555555555556,\"#d8576b\"],[0.6666666666666666,\"#ed7953\"],[0.7777777777777778,\"#fb9f3a\"],[0.8888888888888888,\"#fdca26\"],[1.0,\"#f0f921\"]],\"type\":\"heatmap\"}],\"histogram2dcontour\":[{\"colorbar\":{\"outlinewidth\":0,\"ticks\":\"\"},\"colorscale\":[[0.0,\"#0d0887\"],[0.1111111111111111,\"#46039f\"],[0.2222222222222222,\"#7201a8\"],[0.3333333333333333,\"#9c179e\"],[0.4444444444444444,\"#bd3786\"],[0.5555555555555556,\"#d8576b\"],[0.6666666666666666,\"#ed7953\"],[0.7777777777777778,\"#fb9f3a\"],[0.8888888888888888,\"#fdca26\"],[1.0,\"#f0f921\"]],\"type\":\"histogram2dcontour\"}],\"histogram2d\":[{\"colorbar\":{\"outlinewidth\":0,\"ticks\":\"\"},\"colorscale\":[[0.0,\"#0d0887\"],[0.1111111111111111,\"#46039f\"],[0.2222222222222222,\"#7201a8\"],[0.3333333333333333,\"#9c179e\"],[0.4444444444444444,\"#bd3786\"],[0.5555555555555556,\"#d8576b\"],[0.6666666666666666,\"#ed7953\"],[0.7777777777777778,\"#fb9f3a\"],[0.8888888888888888,\"#fdca26\"],[1.0,\"#f0f921\"]],\"type\":\"histogram2d\"}],\"histogram\":[{\"marker\":{\"pattern\":{\"fillmode\":\"overlay\",\"size\":10,\"solidity\":0.2}},\"type\":\"histogram\"}],\"mesh3d\":[{\"colorbar\":{\"outlinewidth\":0,\"ticks\":\"\"},\"type\":\"mesh3d\"}],\"parcoords\":[{\"line\":{\"colorbar\":{\"outlinewidth\":0,\"ticks\":\"\"}},\"type\":\"parcoords\"}],\"pie\":[{\"automargin\":true,\"type\":\"pie\"}],\"scatter3d\":[{\"line\":{\"colorbar\":{\"outlinewidth\":0,\"ticks\":\"\"}},\"marker\":{\"colorbar\":{\"outlinewidth\":0,\"ticks\":\"\"}},\"type\":\"scatter3d\"}],\"scattercarpet\":[{\"marker\":{\"colorbar\":{\"outlinewidth\":0,\"ticks\":\"\"}},\"type\":\"scattercarpet\"}],\"scattergeo\":[{\"marker\":{\"colorbar\":{\"outlinewidth\":0,\"ticks\":\"\"}},\"type\":\"scattergeo\"}],\"scattergl\":[{\"marker\":{\"colorbar\":{\"outlinewidth\":0,\"ticks\":\"\"}},\"type\":\"scattergl\"}],\"scattermapbox\":[{\"marker\":{\"colorbar\":{\"outlinewidth\":0,\"ticks\":\"\"}},\"type\":\"scattermapbox\"}],\"scatterpolargl\":[{\"marker\":{\"colorbar\":{\"outlinewidth\":0,\"ticks\":\"\"}},\"type\":\"scatterpolargl\"}],\"scatterpolar\":[{\"marker\":{\"colorbar\":{\"outlinewidth\":0,\"ticks\":\"\"}},\"type\":\"scatterpolar\"}],\"scatter\":[{\"marker\":{\"colorbar\":{\"outlinewidth\":0,\"ticks\":\"\"}},\"type\":\"scatter\"}],\"scatterternary\":[{\"marker\":{\"colorbar\":{\"outlinewidth\":0,\"ticks\":\"\"}},\"type\":\"scatterternary\"}],\"surface\":[{\"colorbar\":{\"outlinewidth\":0,\"ticks\":\"\"},\"colorscale\":[[0.0,\"#0d0887\"],[0.1111111111111111,\"#46039f\"],[0.2222222222222222,\"#7201a8\"],[0.3333333333333333,\"#9c179e\"],[0.4444444444444444,\"#bd3786\"],[0.5555555555555556,\"#d8576b\"],[0.6666666666666666,\"#ed7953\"],[0.7777777777777778,\"#fb9f3a\"],[0.8888888888888888,\"#fdca26\"],[1.0,\"#f0f921\"]],\"type\":\"surface\"}],\"table\":[{\"cells\":{\"fill\":{\"color\":\"#EBF0F8\"},\"line\":{\"color\":\"white\"}},\"header\":{\"fill\":{\"color\":\"#C8D4E3\"},\"line\":{\"color\":\"white\"}},\"type\":\"table\"}]},\"layout\":{\"annotationdefaults\":{\"arrowcolor\":\"#2a3f5f\",\"arrowhead\":0,\"arrowwidth\":1},\"autotypenumbers\":\"strict\",\"coloraxis\":{\"colorbar\":{\"outlinewidth\":0,\"ticks\":\"\"}},\"colorscale\":{\"diverging\":[[0,\"#8e0152\"],[0.1,\"#c51b7d\"],[0.2,\"#de77ae\"],[0.3,\"#f1b6da\"],[0.4,\"#fde0ef\"],[0.5,\"#f7f7f7\"],[0.6,\"#e6f5d0\"],[0.7,\"#b8e186\"],[0.8,\"#7fbc41\"],[0.9,\"#4d9221\"],[1,\"#276419\"]],\"sequential\":[[0.0,\"#0d0887\"],[0.1111111111111111,\"#46039f\"],[0.2222222222222222,\"#7201a8\"],[0.3333333333333333,\"#9c179e\"],[0.4444444444444444,\"#bd3786\"],[0.5555555555555556,\"#d8576b\"],[0.6666666666666666,\"#ed7953\"],[0.7777777777777778,\"#fb9f3a\"],[0.8888888888888888,\"#fdca26\"],[1.0,\"#f0f921\"]],\"sequentialminus\":[[0.0,\"#0d0887\"],[0.1111111111111111,\"#46039f\"],[0.2222222222222222,\"#7201a8\"],[0.3333333333333333,\"#9c179e\"],[0.4444444444444444,\"#bd3786\"],[0.5555555555555556,\"#d8576b\"],[0.6666666666666666,\"#ed7953\"],[0.7777777777777778,\"#fb9f3a\"],[0.8888888888888888,\"#fdca26\"],[1.0,\"#f0f921\"]]},\"colorway\":[\"#636efa\",\"#EF553B\",\"#00cc96\",\"#ab63fa\",\"#FFA15A\",\"#19d3f3\",\"#FF6692\",\"#B6E880\",\"#FF97FF\",\"#FECB52\"],\"font\":{\"color\":\"#2a3f5f\"},\"geo\":{\"bgcolor\":\"white\",\"lakecolor\":\"white\",\"landcolor\":\"white\",\"showlakes\":true,\"showland\":true,\"subunitcolor\":\"#C8D4E3\"},\"hoverlabel\":{\"align\":\"left\"},\"hovermode\":\"closest\",\"mapbox\":{\"style\":\"light\"},\"paper_bgcolor\":\"white\",\"plot_bgcolor\":\"white\",\"polar\":{\"angularaxis\":{\"gridcolor\":\"#EBF0F8\",\"linecolor\":\"#EBF0F8\",\"ticks\":\"\"},\"bgcolor\":\"white\",\"radialaxis\":{\"gridcolor\":\"#EBF0F8\",\"linecolor\":\"#EBF0F8\",\"ticks\":\"\"}},\"scene\":{\"xaxis\":{\"backgroundcolor\":\"white\",\"gridcolor\":\"#DFE8F3\",\"gridwidth\":2,\"linecolor\":\"#EBF0F8\",\"showbackground\":true,\"ticks\":\"\",\"zerolinecolor\":\"#EBF0F8\"},\"yaxis\":{\"backgroundcolor\":\"white\",\"gridcolor\":\"#DFE8F3\",\"gridwidth\":2,\"linecolor\":\"#EBF0F8\",\"showbackground\":true,\"ticks\":\"\",\"zerolinecolor\":\"#EBF0F8\"},\"zaxis\":{\"backgroundcolor\":\"white\",\"gridcolor\":\"#DFE8F3\",\"gridwidth\":2,\"linecolor\":\"#EBF0F8\",\"showbackground\":true,\"ticks\":\"\",\"zerolinecolor\":\"#EBF0F8\"}},\"shapedefaults\":{\"line\":{\"color\":\"#2a3f5f\"}},\"ternary\":{\"aaxis\":{\"gridcolor\":\"#DFE8F3\",\"linecolor\":\"#A2B1C6\",\"ticks\":\"\"},\"baxis\":{\"gridcolor\":\"#DFE8F3\",\"linecolor\":\"#A2B1C6\",\"ticks\":\"\"},\"bgcolor\":\"white\",\"caxis\":{\"gridcolor\":\"#DFE8F3\",\"linecolor\":\"#A2B1C6\",\"ticks\":\"\"}},\"title\":{\"x\":0.05},\"xaxis\":{\"automargin\":true,\"gridcolor\":\"#EBF0F8\",\"linecolor\":\"#EBF0F8\",\"ticks\":\"\",\"title\":{\"standoff\":15},\"zerolinecolor\":\"#EBF0F8\",\"zerolinewidth\":2},\"yaxis\":{\"automargin\":true,\"gridcolor\":\"#EBF0F8\",\"linecolor\":\"#EBF0F8\",\"ticks\":\"\",\"title\":{\"standoff\":15},\"zerolinecolor\":\"#EBF0F8\",\"zerolinewidth\":2}}},\"xaxis\":{\"anchor\":\"y\",\"domain\":[0.0,1.0],\"title\":{\"text\":\"sex\"},\"categoryorder\":\"array\",\"categoryarray\":[\"female\",\"male\"]},\"yaxis\":{\"anchor\":\"x\",\"domain\":[0.0,1.0],\"title\":{\"text\":\"charges\"}},\"legend\":{\"title\":{\"text\":\"sex\"},\"tracegroupgap\":0},\"title\":{\"text\":\"Distribution of Insurance Costs by sex\"},\"boxmode\":\"overlay\",\"height\":600},                        {\"responsive\": true}                    ).then(function(){\n",
              "                            \n",
              "var gd = document.getElementById('903ad5cd-c38a-4cb7-a6ae-28302dd5ef4b');\n",
              "var x = new MutationObserver(function (mutations, observer) {{\n",
              "        var display = window.getComputedStyle(gd).display;\n",
              "        if (!display || display === 'none') {{\n",
              "            console.log([gd, 'removed!']);\n",
              "            Plotly.purge(gd);\n",
              "            observer.disconnect();\n",
              "        }}\n",
              "}});\n",
              "\n",
              "// Listen for the removal of the full notebook cells\n",
              "var notebookContainer = gd.closest('#notebook-container');\n",
              "if (notebookContainer) {{\n",
              "    x.observe(notebookContainer, {childList: true});\n",
              "}}\n",
              "\n",
              "// Listen for the clearing of the current output cell\n",
              "var outputEl = gd.closest('.output');\n",
              "if (outputEl) {{\n",
              "    x.observe(outputEl, {childList: true});\n",
              "}}\n",
              "\n",
              "                        })                };                            </script>        </div>\n",
              "</body>\n",
              "</html>"
            ]
          },
          "metadata": {}
        }
      ],
      "source": [
        "## đồ thị biểu diễn tổng charge cho từng giới tính:\n",
        "init_notebook_mode(connected=True)\n",
        "px.defaults.template = \"plotly_white\"\n",
        "plot_df=ins.copy()\n",
        "fig = px.box(plot_df, x=\"sex\", y=\"charges\", color=\"sex\", \n",
        "             notched=True, points=\"outliers\", height=600,\n",
        "             title=\"Distribution of Insurance Costs by sex\",\n",
        "             color_discrete_sequence=['#B14B51', '#D0A99C', '#5D8370', '#6C839B'])\n",
        "fig.show(renderer=\"colab\")"
      ]
    },
    {
      "cell_type": "code",
      "execution_count": null,
      "id": "f60c00e3",
      "metadata": {
        "colab": {
          "base_uri": "https://localhost:8080/",
          "height": 542
        },
        "id": "f60c00e3",
        "outputId": "601b5ae1-5ae8-4060-a3e4-6d701513af07"
      },
      "outputs": [
        {
          "output_type": "display_data",
          "data": {
            "text/html": [
              "<html>\n",
              "<head><meta charset=\"utf-8\" /></head>\n",
              "<body>\n",
              "    <div>            <script src=\"https://cdnjs.cloudflare.com/ajax/libs/mathjax/2.7.5/MathJax.js?config=TeX-AMS-MML_SVG\"></script><script type=\"text/javascript\">if (window.MathJax) {MathJax.Hub.Config({SVG: {font: \"STIX-Web\"}});}</script>                <script type=\"text/javascript\">window.PlotlyConfig = {MathJaxConfig: 'local'};</script>\n",
              "        <script src=\"https://cdn.plot.ly/plotly-2.8.3.min.js\"></script>                <div id=\"26d0f113-c78e-48de-b953-e412acfe5bca\" class=\"plotly-graph-div\" style=\"height:525px; width:100%;\"></div>            <script type=\"text/javascript\">                                    window.PLOTLYENV=window.PLOTLYENV || {};                                    if (document.getElementById(\"26d0f113-c78e-48de-b953-e412acfe5bca\")) {                    Plotly.newPlot(                        \"26d0f113-c78e-48de-b953-e412acfe5bca\",                        [{\"alignmentgroup\":\"True\",\"bingroup\":\"x\",\"histnorm\":\"probability density\",\"hovertemplate\":\"smoker=yes<br>charges=%{x}<br>probability density=%{y}<extra></extra>\",\"legendgroup\":\"yes\",\"marker\":{\"color\":\"#B14B51\",\"opacity\":0.7,\"pattern\":{\"shape\":\"\"}},\"name\":\"yes\",\"offsetgroup\":\"yes\",\"orientation\":\"v\",\"showlegend\":true,\"x\":[16884.924,27808.7251,39611.7577,36837.467,37701.8768,38711.0,35585.576,51194.55914,39774.2763,48173.361,38709.176,23568.272,37742.5757,47496.49445,34303.1672,23244.7902,14711.7438,17663.1442,16577.7795,37165.1638,39836.519,21098.55405,43578.9394,30184.9367,47291.055,22412.6485,15820.699,30942.1918,17560.37975,47055.5321,19107.7796,39556.4945,17081.08,32734.1863,18972.495,20745.9891,40720.55105,19964.7463,21223.6758,15518.18025,36950.2567,21348.706,36149.4835,48824.45,43753.33705,37133.8982,20984.0936,34779.615,19515.5416,19444.2658,17352.6803,38511.6283,29523.1656,12829.4551,47305.305,44260.7499,41097.16175,43921.1837,33750.2918,17085.2676,24869.8368,36219.40545,46151.1245,17179.522,42856.838,22331.5668,48549.17835,47896.79135,42112.2356,16297.846,21978.6769,38746.3551,24873.3849,42124.5153,34838.873,35491.64,42760.5022,47928.03,48517.56315,24393.6224,41919.097,13844.506,36085.219,18033.9679,21659.9301,38126.2465,15006.57945,42303.69215,19594.80965,14455.64405,18608.262,28950.4692,46889.2612,46599.1084,39125.33225,37079.372,26109.32905,22144.032,19521.9682,25382.297,28868.6639,35147.52848,48885.13561,17942.106,36197.699,22218.1149,32548.3405,21082.16,38245.59327,48675.5177,63770.42801,23807.2406,45863.205,39983.42595,45702.02235,58571.07448,43943.8761,15359.1045,17468.9839,25678.77845,39241.442,42969.8527,23306.547,34439.8559,40182.246,34617.84065,42983.4585,20149.3229,32787.45859,24667.419,27037.9141,42560.4304,40003.33225,45710.20785,46200.9851,46130.5265,40103.89,34806.4677,40273.6455,44400.4064,40932.4295,16657.71745,19361.9988,40419.0191,36189.1017,44585.45587,18246.4955,43254.41795,19539.243,23065.4207,36307.7983,19040.876,17748.5062,18259.216,24520.264,21195.818,18310.742,17904.52705,38792.6856,23401.30575,55135.40209,43813.8661,20773.62775,39597.4072,36021.0112,27533.9129,45008.9555,37270.1512,42111.6647,24106.91255,40974.1649,15817.9857,46113.511,46255.1125,19719.6947,27218.43725,29330.98315,44202.6536,19798.05455,48673.5588,17496.306,33732.6867,21774.32215,35069.37452,39047.285,19933.458,47462.894,38998.546,20009.63365,41999.52,41034.2214,23967.38305,16138.76205,19199.944,14571.8908,16420.49455,17361.7661,34472.841,24915.22085,18767.7377,35595.5898,42211.1382,16450.8947,21677.28345,44423.803,13747.87235,37484.4493,39725.51805,20234.85475,33475.81715,21880.82,44501.3982,39727.614,25309.489,48970.2476,39871.7043,34672.1472,19023.26,41676.0811,33907.548,44641.1974,16776.30405,41949.2441,24180.9335,36124.5737,38282.7495,34166.273,46661.4424,40904.1995,36898.73308,52590.82939,40941.2854,39722.7462,17178.6824,22478.6,23887.6627,19350.3689,18328.2381,37465.34375,21771.3423,33307.5508,18223.4512,38415.474,20296.86345,41661.602,26125.67477,60021.39897,20167.33603,47269.854,49577.6624,37607.5277,18648.4217,16232.847,26926.5144,34254.05335,17043.3414,22462.04375,24535.69855,14283.4594,47403.88,38344.566,34828.654,62592.87309,46718.16325,37829.7242,21259.37795,16115.3045,21472.4788,33900.653,36397.576,18765.87545,28101.33305,43896.3763,29141.3603],\"xaxis\":\"x\",\"yaxis\":\"y\",\"type\":\"histogram\"},{\"alignmentgroup\":\"True\",\"hovertemplate\":\"smoker=yes<br>charges=%{x}<extra></extra>\",\"legendgroup\":\"yes\",\"marker\":{\"color\":\"#B14B51\"},\"name\":\"yes\",\"notched\":true,\"offsetgroup\":\"yes\",\"showlegend\":false,\"x\":[16884.924,27808.7251,39611.7577,36837.467,37701.8768,38711.0,35585.576,51194.55914,39774.2763,48173.361,38709.176,23568.272,37742.5757,47496.49445,34303.1672,23244.7902,14711.7438,17663.1442,16577.7795,37165.1638,39836.519,21098.55405,43578.9394,30184.9367,47291.055,22412.6485,15820.699,30942.1918,17560.37975,47055.5321,19107.7796,39556.4945,17081.08,32734.1863,18972.495,20745.9891,40720.55105,19964.7463,21223.6758,15518.18025,36950.2567,21348.706,36149.4835,48824.45,43753.33705,37133.8982,20984.0936,34779.615,19515.5416,19444.2658,17352.6803,38511.6283,29523.1656,12829.4551,47305.305,44260.7499,41097.16175,43921.1837,33750.2918,17085.2676,24869.8368,36219.40545,46151.1245,17179.522,42856.838,22331.5668,48549.17835,47896.79135,42112.2356,16297.846,21978.6769,38746.3551,24873.3849,42124.5153,34838.873,35491.64,42760.5022,47928.03,48517.56315,24393.6224,41919.097,13844.506,36085.219,18033.9679,21659.9301,38126.2465,15006.57945,42303.69215,19594.80965,14455.64405,18608.262,28950.4692,46889.2612,46599.1084,39125.33225,37079.372,26109.32905,22144.032,19521.9682,25382.297,28868.6639,35147.52848,48885.13561,17942.106,36197.699,22218.1149,32548.3405,21082.16,38245.59327,48675.5177,63770.42801,23807.2406,45863.205,39983.42595,45702.02235,58571.07448,43943.8761,15359.1045,17468.9839,25678.77845,39241.442,42969.8527,23306.547,34439.8559,40182.246,34617.84065,42983.4585,20149.3229,32787.45859,24667.419,27037.9141,42560.4304,40003.33225,45710.20785,46200.9851,46130.5265,40103.89,34806.4677,40273.6455,44400.4064,40932.4295,16657.71745,19361.9988,40419.0191,36189.1017,44585.45587,18246.4955,43254.41795,19539.243,23065.4207,36307.7983,19040.876,17748.5062,18259.216,24520.264,21195.818,18310.742,17904.52705,38792.6856,23401.30575,55135.40209,43813.8661,20773.62775,39597.4072,36021.0112,27533.9129,45008.9555,37270.1512,42111.6647,24106.91255,40974.1649,15817.9857,46113.511,46255.1125,19719.6947,27218.43725,29330.98315,44202.6536,19798.05455,48673.5588,17496.306,33732.6867,21774.32215,35069.37452,39047.285,19933.458,47462.894,38998.546,20009.63365,41999.52,41034.2214,23967.38305,16138.76205,19199.944,14571.8908,16420.49455,17361.7661,34472.841,24915.22085,18767.7377,35595.5898,42211.1382,16450.8947,21677.28345,44423.803,13747.87235,37484.4493,39725.51805,20234.85475,33475.81715,21880.82,44501.3982,39727.614,25309.489,48970.2476,39871.7043,34672.1472,19023.26,41676.0811,33907.548,44641.1974,16776.30405,41949.2441,24180.9335,36124.5737,38282.7495,34166.273,46661.4424,40904.1995,36898.73308,52590.82939,40941.2854,39722.7462,17178.6824,22478.6,23887.6627,19350.3689,18328.2381,37465.34375,21771.3423,33307.5508,18223.4512,38415.474,20296.86345,41661.602,26125.67477,60021.39897,20167.33603,47269.854,49577.6624,37607.5277,18648.4217,16232.847,26926.5144,34254.05335,17043.3414,22462.04375,24535.69855,14283.4594,47403.88,38344.566,34828.654,62592.87309,46718.16325,37829.7242,21259.37795,16115.3045,21472.4788,33900.653,36397.576,18765.87545,28101.33305,43896.3763,29141.3603],\"xaxis\":\"x2\",\"yaxis\":\"y2\",\"type\":\"box\"},{\"alignmentgroup\":\"True\",\"bingroup\":\"x\",\"histnorm\":\"probability density\",\"hovertemplate\":\"smoker=no<br>charges=%{x}<br>probability density=%{y}<extra></extra>\",\"legendgroup\":\"no\",\"marker\":{\"color\":\"#B7A294\",\"opacity\":0.7,\"pattern\":{\"shape\":\"\"}},\"name\":\"no\",\"offsetgroup\":\"no\",\"orientation\":\"v\",\"showlegend\":true,\"x\":[1725.5523,4449.462,21984.47061,3866.8552,3756.6216,8240.5896,7281.5056,6406.4107,28923.13692,2721.3208,1826.843,11090.7178,1837.237,10797.3362,2395.17155,10602.385,13228.84695,4149.736,1137.011,6203.90175,14001.1338,14451.83515,12268.63225,2775.19215,2198.18985,4687.797,13770.0979,1625.43375,15612.19335,2302.3,3046.062,4949.7587,6272.4772,6313.759,6079.6715,20630.28351,3393.35635,3556.9223,12629.8967,2211.13075,3579.8287,8059.6791,13607.36875,5989.52365,8606.2174,4504.6624,30166.61817,4133.64165,1743.214,14235.072,6389.37785,5920.1041,6799.458,11741.726,11946.6259,7726.854,11356.6609,3947.4131,1532.4697,2755.02095,6571.02435,4441.21315,7935.29115,11033.6617,11073.176,8026.6666,11082.5772,2026.9741,10942.13205,5729.0053,3766.8838,12105.32,10226.2842,6186.127,3645.0894,21344.8467,5003.853,2331.519,3877.30425,2867.1196,10825.2537,11881.358,4646.759,2404.7338,11488.31695,30259.99556,11381.3254,8601.3293,6686.4313,7740.337,1705.6245,2257.47525,10115.00885,3385.39915,9634.538,6082.405,12815.44495,13616.3586,11163.568,1632.56445,2457.21115,2155.6815,1261.442,2045.68525,27322.73386,2166.732,27375.90478,3490.5491,18157.876,5138.2567,9877.6077,10959.6947,1842.519,5125.2157,7789.635,6334.34355,7077.1894,6948.7008,19749.38338,10450.552,5152.134,5028.1466,10407.08585,4830.63,6128.79745,2719.27975,4827.90495,13405.3903,8116.68,1694.7964,5246.047,2855.43755,6455.86265,10436.096,8823.279,8538.28845,11735.87905,1631.8212,4005.4225,7419.4779,7731.4271,3981.9768,5325.651,6775.961,4922.9159,12557.6053,4883.866,2137.6536,12044.342,1137.4697,1639.5631,5649.715,8516.829,9644.2525,14901.5167,2130.6759,8871.1517,13012.20865,7147.105,4337.7352,11743.299,13880.949,6610.1097,1980.07,8162.71625,3537.703,5002.7827,8520.026,7371.772,10355.641,2483.736,3392.9768,25081.76784,5012.471,10564.8845,5253.524,11987.1682,2689.4954,24227.33724,7358.17565,9225.2564,7443.64305,14001.2867,1727.785,12333.828,6710.1919,1615.7667,4463.2051,7152.6714,5354.07465,35160.13457,7196.867,24476.47851,12648.7034,1986.9334,1832.094,4040.55825,4260.744,13047.33235,5400.9805,11520.09985,11837.16,20462.99766,14590.63205,7441.053,9282.4806,1719.4363,7265.7025,9617.66245,2523.1695,9715.841,2803.69785,2150.469,12928.7911,9855.1314,4237.12655,11879.10405,9625.92,7742.1098,9432.9253,14256.1928,25992.82104,3172.018,20277.80751,2156.7518,3906.127,1704.5681,9249.4952,6746.7425,12265.5069,4349.462,12646.207,19442.3535,20177.67113,4151.0287,11944.59435,7749.1564,8444.474,1737.376,8124.4084,9722.7695,8835.26495,10435.06525,7421.19455,4667.60765,4894.7533,24671.66334,11566.30055,2866.091,6600.20595,3561.8889,9144.565,13429.0354,11658.37915,19144.57652,13822.803,12142.5786,13937.6665,8232.6388,18955.22017,13352.0998,13217.0945,13981.85035,10977.2063,6184.2994,4889.9995,8334.45755,5478.0368,1635.73365,11830.6072,8932.084,3554.203,12404.8791,14133.03775,24603.04837,8944.1151,9620.3307,1837.2819,1607.5101,10043.249,4751.07,2597.779,3180.5101,9778.3472,13430.265,8017.06115,8116.26885,3481.868,13415.0381,12029.2867,7639.41745,1391.5287,16455.70785,27000.98473,20781.48892,5846.9176,8302.53565,1261.859,11856.4115,30284.64294,3176.8159,4618.0799,10736.87075,2138.0707,8964.06055,9290.1395,9411.005,7526.70645,8522.003,16586.49771,14988.432,1631.6683,9264.797,8083.9198,14692.66935,10269.46,3260.199,11396.9002,4185.0979,8539.671,6652.5288,4074.4537,1621.3402,5080.096,2134.9015,7345.7266,9140.951,14418.2804,2727.3951,8968.33,9788.8659,6555.07035,7323.734819,3167.45585,18804.7524,23082.95533,4906.40965,5969.723,12638.195,4243.59005,13919.8229,2254.7967,5926.846,12592.5345,2897.3235,4738.2682,1149.3959,28287.89766,7345.084,12730.9996,11454.0215,5910.944,4762.329,7512.267,4032.2407,1969.614,1769.53165,4686.3887,21797.0004,11881.9696,11840.77505,10601.412,7682.67,10381.4787,15230.32405,11165.41765,1632.03625,13224.693,12643.3778,23288.9284,2201.0971,2497.0383,2203.47185,1744.465,20878.78443,2534.39375,1534.3045,1824.2854,15555.18875,9304.7019,1622.1885,9880.068,9563.029,4347.02335,12475.3513,1253.936,10461.9794,1748.774,24513.09126,2196.4732,12574.049,1967.0227,4931.647,8027.968,8211.1002,13470.86,6837.3687,5974.3847,6796.86325,2643.2685,3077.0955,3044.2133,11455.28,11763.0009,2498.4144,9361.3268,1256.299,11362.755,27724.28875,8413.46305,5240.765,3857.75925,25656.57526,3994.1778,9866.30485,5397.6167,11482.63485,24059.68019,9861.025,8342.90875,1708.0014,14043.4767,12925.886,19214.70553,13831.1152,6067.12675,5972.378,8825.086,8233.0975,27346.04207,6196.448,3056.3881,13887.204,10231.4999,3268.84665,11538.421,3213.62205,13390.559,3972.9247,12957.118,11187.6567,17878.90068,3847.674,8334.5896,3935.1799,1646.4297,9193.8385,10923.9332,2494.022,9058.7303,2801.2588,2128.43105,6373.55735,7256.7231,11552.904,3761.292,2219.4451,4753.6368,31620.00106,13224.05705,12222.8983,1664.9996,9724.53,3206.49135,12913.9924,1639.5631,6356.2707,17626.23951,1242.816,4779.6023,3861.20965,13635.6379,5976.8311,11842.442,8428.0693,2566.4707,5709.1644,8823.98575,7640.3092,5594.8455,7441.501,33471.97189,1633.0444,9174.13565,11070.535,16085.1275,9283.562,3558.62025,4435.0942,8547.6913,6571.544,2207.69745,6753.038,1880.07,11658.11505,10713.644,3659.346,9182.17,12129.61415,3736.4647,6748.5912,11326.71487,11365.952,10085.846,1977.815,3366.6697,7173.35995,9391.346,14410.9321,2709.1119,24915.04626,12949.1554,6666.243,13143.86485,4466.6214,18806.14547,10141.1362,6123.5688,8252.2843,1712.227,12430.95335,9800.8882,10579.711,8280.6227,8527.532,12244.531,3410.324,4058.71245,26392.26029,14394.39815,6435.6237,22192.43711,5148.5526,1136.3994,8703.456,6500.2359,4837.5823,3943.5954,4399.731,6185.3208,7222.78625,12485.8009,12363.547,10156.7832,2585.269,1242.26,9863.4718,4766.022,11244.3769,7729.64575,5438.7491,26236.57997,2104.1134,8068.185,2362.22905,2352.96845,3577.999,3201.24515,29186.48236,10976.24575,3500.6123,2020.5523,9541.69555,9504.3103,5385.3379,8930.93455,5375.038,10264.4421,6113.23105,5469.0066,1727.54,10107.2206,8310.83915,1984.4533,2457.502,12146.971,9566.9909,13112.6048,10848.1343,12231.6136,9875.6804,11264.541,12979.358,1263.249,10106.13425,6664.68595,2217.6012,6781.3542,10065.413,4234.927,9447.25035,14007.222,9583.8933,3484.331,8604.48365,3757.8448,8827.2099,9910.35985,11737.84884,1627.28245,8556.907,3062.50825,1906.35825,14210.53595,11833.7823,17128.42608,5031.26955,7985.815,5428.7277,3925.7582,2416.955,3070.8087,9095.06825,11842.62375,8062.764,7050.642,14319.031,6933.24225,27941.28758,11150.78,12797.20962,7261.741,10560.4917,6986.697,7448.40395,5934.3798,9869.8102,1146.7966,9386.1613,4350.5144,6414.178,12741.16745,1917.3184,5209.57885,13457.9608,5662.225,1252.407,2731.9122,7209.4918,4266.1658,4719.52405,11848.141,7046.7222,14313.8463,2103.08,1815.8759,7731.85785,28476.73499,2136.88225,1131.5066,3309.7926,9414.92,6360.9936,11013.7119,4428.88785,5584.3057,1877.9294,2842.76075,3597.596,7445.918,2680.9493,1621.8827,8219.2039,12523.6048,16069.08475,6117.4945,13393.756,5266.3656,4719.73655,11743.9341,5377.4578,7160.3303,4402.233,11657.7189,6402.29135,12622.1795,1526.312,12323.936,10072.05505,9872.701,2438.0552,2974.126,10601.63225,14119.62,11729.6795,1875.344,18218.16139,10965.446,7151.092,12269.68865,5458.04645,8782.469,6600.361,1141.4451,11576.13,13129.60345,4391.652,8457.818,3392.3652,5966.8874,6849.026,8891.1395,2690.1138,26140.3603,6653.7886,6282.235,6311.952,3443.064,2789.0574,2585.85065,4877.98105,5272.1758,1682.597,11945.1327,7243.8136,10422.91665,13555.0049,13063.883,2221.56445,1634.5734,2117.33885,8688.85885,4661.28635,8125.7845,12644.589,4564.19145,4846.92015,7633.7206,15170.069,2639.0429,14382.70905,7626.993,5257.50795,2473.3341,13041.921,5245.2269,13451.122,13462.52,5488.262,4320.41085,6250.435,25333.33284,2913.569,12032.326,13470.8044,6289.7549,2927.0647,6238.298,10096.97,7348.142,4673.3922,12233.828,32108.66282,8965.79575,2304.0022,9487.6442,1121.8739,9549.5651,2217.46915,1628.4709,12982.8747,11674.13,7160.094,6358.77645,11534.87265,4527.18295,3875.7341,12609.88702,28468.91901,2730.10785,3353.284,14474.675,9500.57305,26467.09737,4746.344,7518.02535,3279.86855,8596.8278,10702.6424,4992.3764,2527.81865,1759.338,2322.6218,7804.1605,2902.9065,9704.66805,4889.0368,25517.11363,4500.33925,16796.41194,4915.05985,7624.63,8410.04685,28340.18885,4518.82625,3378.91,7144.86265,10118.424,5484.4673,7986.47525,7418.522,13887.9685,6551.7501,5267.81815,1972.95,21232.18226,8627.5411,4433.3877,4438.2634,23241.47453,9957.7216,8269.044,36580.28216,8765.249,5383.536,12124.9924,2709.24395,3987.926,12495.29085,26018.95052,8798.593,1711.0268,8569.8618,2020.177,21595.38229,9850.432,6877.9801,4137.5227,12950.0712,12094.478,2250.8352,22493.65964,1704.70015,3161.454,11394.06555,7325.0482,3594.17085,8023.13545,14394.5579,9288.0267,3353.4703,10594.50155,8277.523,17929.30337,2480.9791,4462.7218,1981.5819,11554.2236,6548.19505,5708.867,7045.499,8978.1851,5757.41345,14349.8544,10928.849,13974.45555,1909.52745,12096.6512,13204.28565,4562.8421,8551.347,2102.2647,15161.5344,11884.04858,4454.40265,5855.9025,4076.497,15019.76005,10796.35025,11353.2276,9748.9106,10577.087,11286.5387,3591.48,11299.343,4561.1885,1674.6323,23045.56616,3227.1211,11253.421,3471.4096,11363.2832,20420.60465,10338.9316,8988.15875,10493.9458,2904.088,8605.3615,11512.405,5312.16985,2396.0959,10807.4863,9222.4026,5693.4305,8347.1643,18903.49141,14254.6082,10214.636,5836.5204,14358.36437,1728.897,8582.3023,3693.428,20709.02034,9991.03765,19673.33573,11085.5868,7623.518,3176.2877,3704.3545,9048.0273,7954.517,27117.99378,6338.0756,9630.397,11289.10925,2261.5688,10791.96,5979.731,2203.73595,12235.8392,5630.45785,11015.1747,7228.21565,14426.07385,2459.7201,3989.841,7727.2532,5124.1887,18963.17192,2200.83085,7153.5539,5227.98875,10982.5013,4529.477,4670.64,6112.35295,11093.6229,6457.8434,4433.9159,2154.361,6496.886,2899.48935,7650.77375,2850.68375,2632.992,9447.3824,8603.8234,13844.7972,13126.67745,5327.40025,13725.47184,13019.16105,8671.19125,4134.08245,18838.70366,5699.8375,6393.60345,4934.705,6198.7518,8733.22925,2055.3249,9964.06,5116.5004,36910.60803,12347.172,5373.36425,23563.01618,1702.4553,10806.839,3956.07145,12890.05765,5415.6612,4058.1161,7537.1639,4718.20355,6593.5083,8442.667,6858.4796,4795.6568,6640.54485,7162.0122,10594.2257,11938.25595,12479.70895,11345.519,8515.7587,2699.56835,14449.8544,12224.35085,6985.50695,3238.4357,4296.2712,3171.6149,1135.9407,5615.369,9101.798,6059.173,1633.9618,1241.565,15828.82173,4415.1588,6474.013,11436.73815,11305.93455,30063.58055,10197.7722,4544.2348,3277.161,6770.1925,7337.748,10370.91255,10704.47,1880.487,8615.3,3292.52985,3021.80915,14478.33015,4747.0529,10959.33,2741.948,4357.04365,4189.1131,8283.6807,1720.3537,8534.6718,3732.6251,5472.449,7147.4728,7133.9025,1515.3449,9301.89355,11931.12525,1964.78,1708.92575,4340.4409,5261.46945,2710.82855,3208.787,2464.6188,6875.961,6940.90985,4571.41305,4536.259,11272.33139,1731.677,1163.4627,19496.71917,7201.70085,5425.02335,12981.3457,4239.89265,13143.33665,7050.0213,9377.9047,22395.74424,10325.206,12629.1656,10795.93733,11411.685,10600.5483,2205.9808,1629.8335,2007.945],\"xaxis\":\"x\",\"yaxis\":\"y\",\"type\":\"histogram\"},{\"alignmentgroup\":\"True\",\"hovertemplate\":\"smoker=no<br>charges=%{x}<extra></extra>\",\"legendgroup\":\"no\",\"marker\":{\"color\":\"#B7A294\"},\"name\":\"no\",\"notched\":true,\"offsetgroup\":\"no\",\"showlegend\":false,\"x\":[1725.5523,4449.462,21984.47061,3866.8552,3756.6216,8240.5896,7281.5056,6406.4107,28923.13692,2721.3208,1826.843,11090.7178,1837.237,10797.3362,2395.17155,10602.385,13228.84695,4149.736,1137.011,6203.90175,14001.1338,14451.83515,12268.63225,2775.19215,2198.18985,4687.797,13770.0979,1625.43375,15612.19335,2302.3,3046.062,4949.7587,6272.4772,6313.759,6079.6715,20630.28351,3393.35635,3556.9223,12629.8967,2211.13075,3579.8287,8059.6791,13607.36875,5989.52365,8606.2174,4504.6624,30166.61817,4133.64165,1743.214,14235.072,6389.37785,5920.1041,6799.458,11741.726,11946.6259,7726.854,11356.6609,3947.4131,1532.4697,2755.02095,6571.02435,4441.21315,7935.29115,11033.6617,11073.176,8026.6666,11082.5772,2026.9741,10942.13205,5729.0053,3766.8838,12105.32,10226.2842,6186.127,3645.0894,21344.8467,5003.853,2331.519,3877.30425,2867.1196,10825.2537,11881.358,4646.759,2404.7338,11488.31695,30259.99556,11381.3254,8601.3293,6686.4313,7740.337,1705.6245,2257.47525,10115.00885,3385.39915,9634.538,6082.405,12815.44495,13616.3586,11163.568,1632.56445,2457.21115,2155.6815,1261.442,2045.68525,27322.73386,2166.732,27375.90478,3490.5491,18157.876,5138.2567,9877.6077,10959.6947,1842.519,5125.2157,7789.635,6334.34355,7077.1894,6948.7008,19749.38338,10450.552,5152.134,5028.1466,10407.08585,4830.63,6128.79745,2719.27975,4827.90495,13405.3903,8116.68,1694.7964,5246.047,2855.43755,6455.86265,10436.096,8823.279,8538.28845,11735.87905,1631.8212,4005.4225,7419.4779,7731.4271,3981.9768,5325.651,6775.961,4922.9159,12557.6053,4883.866,2137.6536,12044.342,1137.4697,1639.5631,5649.715,8516.829,9644.2525,14901.5167,2130.6759,8871.1517,13012.20865,7147.105,4337.7352,11743.299,13880.949,6610.1097,1980.07,8162.71625,3537.703,5002.7827,8520.026,7371.772,10355.641,2483.736,3392.9768,25081.76784,5012.471,10564.8845,5253.524,11987.1682,2689.4954,24227.33724,7358.17565,9225.2564,7443.64305,14001.2867,1727.785,12333.828,6710.1919,1615.7667,4463.2051,7152.6714,5354.07465,35160.13457,7196.867,24476.47851,12648.7034,1986.9334,1832.094,4040.55825,4260.744,13047.33235,5400.9805,11520.09985,11837.16,20462.99766,14590.63205,7441.053,9282.4806,1719.4363,7265.7025,9617.66245,2523.1695,9715.841,2803.69785,2150.469,12928.7911,9855.1314,4237.12655,11879.10405,9625.92,7742.1098,9432.9253,14256.1928,25992.82104,3172.018,20277.80751,2156.7518,3906.127,1704.5681,9249.4952,6746.7425,12265.5069,4349.462,12646.207,19442.3535,20177.67113,4151.0287,11944.59435,7749.1564,8444.474,1737.376,8124.4084,9722.7695,8835.26495,10435.06525,7421.19455,4667.60765,4894.7533,24671.66334,11566.30055,2866.091,6600.20595,3561.8889,9144.565,13429.0354,11658.37915,19144.57652,13822.803,12142.5786,13937.6665,8232.6388,18955.22017,13352.0998,13217.0945,13981.85035,10977.2063,6184.2994,4889.9995,8334.45755,5478.0368,1635.73365,11830.6072,8932.084,3554.203,12404.8791,14133.03775,24603.04837,8944.1151,9620.3307,1837.2819,1607.5101,10043.249,4751.07,2597.779,3180.5101,9778.3472,13430.265,8017.06115,8116.26885,3481.868,13415.0381,12029.2867,7639.41745,1391.5287,16455.70785,27000.98473,20781.48892,5846.9176,8302.53565,1261.859,11856.4115,30284.64294,3176.8159,4618.0799,10736.87075,2138.0707,8964.06055,9290.1395,9411.005,7526.70645,8522.003,16586.49771,14988.432,1631.6683,9264.797,8083.9198,14692.66935,10269.46,3260.199,11396.9002,4185.0979,8539.671,6652.5288,4074.4537,1621.3402,5080.096,2134.9015,7345.7266,9140.951,14418.2804,2727.3951,8968.33,9788.8659,6555.07035,7323.734819,3167.45585,18804.7524,23082.95533,4906.40965,5969.723,12638.195,4243.59005,13919.8229,2254.7967,5926.846,12592.5345,2897.3235,4738.2682,1149.3959,28287.89766,7345.084,12730.9996,11454.0215,5910.944,4762.329,7512.267,4032.2407,1969.614,1769.53165,4686.3887,21797.0004,11881.9696,11840.77505,10601.412,7682.67,10381.4787,15230.32405,11165.41765,1632.03625,13224.693,12643.3778,23288.9284,2201.0971,2497.0383,2203.47185,1744.465,20878.78443,2534.39375,1534.3045,1824.2854,15555.18875,9304.7019,1622.1885,9880.068,9563.029,4347.02335,12475.3513,1253.936,10461.9794,1748.774,24513.09126,2196.4732,12574.049,1967.0227,4931.647,8027.968,8211.1002,13470.86,6837.3687,5974.3847,6796.86325,2643.2685,3077.0955,3044.2133,11455.28,11763.0009,2498.4144,9361.3268,1256.299,11362.755,27724.28875,8413.46305,5240.765,3857.75925,25656.57526,3994.1778,9866.30485,5397.6167,11482.63485,24059.68019,9861.025,8342.90875,1708.0014,14043.4767,12925.886,19214.70553,13831.1152,6067.12675,5972.378,8825.086,8233.0975,27346.04207,6196.448,3056.3881,13887.204,10231.4999,3268.84665,11538.421,3213.62205,13390.559,3972.9247,12957.118,11187.6567,17878.90068,3847.674,8334.5896,3935.1799,1646.4297,9193.8385,10923.9332,2494.022,9058.7303,2801.2588,2128.43105,6373.55735,7256.7231,11552.904,3761.292,2219.4451,4753.6368,31620.00106,13224.05705,12222.8983,1664.9996,9724.53,3206.49135,12913.9924,1639.5631,6356.2707,17626.23951,1242.816,4779.6023,3861.20965,13635.6379,5976.8311,11842.442,8428.0693,2566.4707,5709.1644,8823.98575,7640.3092,5594.8455,7441.501,33471.97189,1633.0444,9174.13565,11070.535,16085.1275,9283.562,3558.62025,4435.0942,8547.6913,6571.544,2207.69745,6753.038,1880.07,11658.11505,10713.644,3659.346,9182.17,12129.61415,3736.4647,6748.5912,11326.71487,11365.952,10085.846,1977.815,3366.6697,7173.35995,9391.346,14410.9321,2709.1119,24915.04626,12949.1554,6666.243,13143.86485,4466.6214,18806.14547,10141.1362,6123.5688,8252.2843,1712.227,12430.95335,9800.8882,10579.711,8280.6227,8527.532,12244.531,3410.324,4058.71245,26392.26029,14394.39815,6435.6237,22192.43711,5148.5526,1136.3994,8703.456,6500.2359,4837.5823,3943.5954,4399.731,6185.3208,7222.78625,12485.8009,12363.547,10156.7832,2585.269,1242.26,9863.4718,4766.022,11244.3769,7729.64575,5438.7491,26236.57997,2104.1134,8068.185,2362.22905,2352.96845,3577.999,3201.24515,29186.48236,10976.24575,3500.6123,2020.5523,9541.69555,9504.3103,5385.3379,8930.93455,5375.038,10264.4421,6113.23105,5469.0066,1727.54,10107.2206,8310.83915,1984.4533,2457.502,12146.971,9566.9909,13112.6048,10848.1343,12231.6136,9875.6804,11264.541,12979.358,1263.249,10106.13425,6664.68595,2217.6012,6781.3542,10065.413,4234.927,9447.25035,14007.222,9583.8933,3484.331,8604.48365,3757.8448,8827.2099,9910.35985,11737.84884,1627.28245,8556.907,3062.50825,1906.35825,14210.53595,11833.7823,17128.42608,5031.26955,7985.815,5428.7277,3925.7582,2416.955,3070.8087,9095.06825,11842.62375,8062.764,7050.642,14319.031,6933.24225,27941.28758,11150.78,12797.20962,7261.741,10560.4917,6986.697,7448.40395,5934.3798,9869.8102,1146.7966,9386.1613,4350.5144,6414.178,12741.16745,1917.3184,5209.57885,13457.9608,5662.225,1252.407,2731.9122,7209.4918,4266.1658,4719.52405,11848.141,7046.7222,14313.8463,2103.08,1815.8759,7731.85785,28476.73499,2136.88225,1131.5066,3309.7926,9414.92,6360.9936,11013.7119,4428.88785,5584.3057,1877.9294,2842.76075,3597.596,7445.918,2680.9493,1621.8827,8219.2039,12523.6048,16069.08475,6117.4945,13393.756,5266.3656,4719.73655,11743.9341,5377.4578,7160.3303,4402.233,11657.7189,6402.29135,12622.1795,1526.312,12323.936,10072.05505,9872.701,2438.0552,2974.126,10601.63225,14119.62,11729.6795,1875.344,18218.16139,10965.446,7151.092,12269.68865,5458.04645,8782.469,6600.361,1141.4451,11576.13,13129.60345,4391.652,8457.818,3392.3652,5966.8874,6849.026,8891.1395,2690.1138,26140.3603,6653.7886,6282.235,6311.952,3443.064,2789.0574,2585.85065,4877.98105,5272.1758,1682.597,11945.1327,7243.8136,10422.91665,13555.0049,13063.883,2221.56445,1634.5734,2117.33885,8688.85885,4661.28635,8125.7845,12644.589,4564.19145,4846.92015,7633.7206,15170.069,2639.0429,14382.70905,7626.993,5257.50795,2473.3341,13041.921,5245.2269,13451.122,13462.52,5488.262,4320.41085,6250.435,25333.33284,2913.569,12032.326,13470.8044,6289.7549,2927.0647,6238.298,10096.97,7348.142,4673.3922,12233.828,32108.66282,8965.79575,2304.0022,9487.6442,1121.8739,9549.5651,2217.46915,1628.4709,12982.8747,11674.13,7160.094,6358.77645,11534.87265,4527.18295,3875.7341,12609.88702,28468.91901,2730.10785,3353.284,14474.675,9500.57305,26467.09737,4746.344,7518.02535,3279.86855,8596.8278,10702.6424,4992.3764,2527.81865,1759.338,2322.6218,7804.1605,2902.9065,9704.66805,4889.0368,25517.11363,4500.33925,16796.41194,4915.05985,7624.63,8410.04685,28340.18885,4518.82625,3378.91,7144.86265,10118.424,5484.4673,7986.47525,7418.522,13887.9685,6551.7501,5267.81815,1972.95,21232.18226,8627.5411,4433.3877,4438.2634,23241.47453,9957.7216,8269.044,36580.28216,8765.249,5383.536,12124.9924,2709.24395,3987.926,12495.29085,26018.95052,8798.593,1711.0268,8569.8618,2020.177,21595.38229,9850.432,6877.9801,4137.5227,12950.0712,12094.478,2250.8352,22493.65964,1704.70015,3161.454,11394.06555,7325.0482,3594.17085,8023.13545,14394.5579,9288.0267,3353.4703,10594.50155,8277.523,17929.30337,2480.9791,4462.7218,1981.5819,11554.2236,6548.19505,5708.867,7045.499,8978.1851,5757.41345,14349.8544,10928.849,13974.45555,1909.52745,12096.6512,13204.28565,4562.8421,8551.347,2102.2647,15161.5344,11884.04858,4454.40265,5855.9025,4076.497,15019.76005,10796.35025,11353.2276,9748.9106,10577.087,11286.5387,3591.48,11299.343,4561.1885,1674.6323,23045.56616,3227.1211,11253.421,3471.4096,11363.2832,20420.60465,10338.9316,8988.15875,10493.9458,2904.088,8605.3615,11512.405,5312.16985,2396.0959,10807.4863,9222.4026,5693.4305,8347.1643,18903.49141,14254.6082,10214.636,5836.5204,14358.36437,1728.897,8582.3023,3693.428,20709.02034,9991.03765,19673.33573,11085.5868,7623.518,3176.2877,3704.3545,9048.0273,7954.517,27117.99378,6338.0756,9630.397,11289.10925,2261.5688,10791.96,5979.731,2203.73595,12235.8392,5630.45785,11015.1747,7228.21565,14426.07385,2459.7201,3989.841,7727.2532,5124.1887,18963.17192,2200.83085,7153.5539,5227.98875,10982.5013,4529.477,4670.64,6112.35295,11093.6229,6457.8434,4433.9159,2154.361,6496.886,2899.48935,7650.77375,2850.68375,2632.992,9447.3824,8603.8234,13844.7972,13126.67745,5327.40025,13725.47184,13019.16105,8671.19125,4134.08245,18838.70366,5699.8375,6393.60345,4934.705,6198.7518,8733.22925,2055.3249,9964.06,5116.5004,36910.60803,12347.172,5373.36425,23563.01618,1702.4553,10806.839,3956.07145,12890.05765,5415.6612,4058.1161,7537.1639,4718.20355,6593.5083,8442.667,6858.4796,4795.6568,6640.54485,7162.0122,10594.2257,11938.25595,12479.70895,11345.519,8515.7587,2699.56835,14449.8544,12224.35085,6985.50695,3238.4357,4296.2712,3171.6149,1135.9407,5615.369,9101.798,6059.173,1633.9618,1241.565,15828.82173,4415.1588,6474.013,11436.73815,11305.93455,30063.58055,10197.7722,4544.2348,3277.161,6770.1925,7337.748,10370.91255,10704.47,1880.487,8615.3,3292.52985,3021.80915,14478.33015,4747.0529,10959.33,2741.948,4357.04365,4189.1131,8283.6807,1720.3537,8534.6718,3732.6251,5472.449,7147.4728,7133.9025,1515.3449,9301.89355,11931.12525,1964.78,1708.92575,4340.4409,5261.46945,2710.82855,3208.787,2464.6188,6875.961,6940.90985,4571.41305,4536.259,11272.33139,1731.677,1163.4627,19496.71917,7201.70085,5425.02335,12981.3457,4239.89265,13143.33665,7050.0213,9377.9047,22395.74424,10325.206,12629.1656,10795.93733,11411.685,10600.5483,2205.9808,1629.8335,2007.945],\"xaxis\":\"x2\",\"yaxis\":\"y2\",\"type\":\"box\"}],                        {\"template\":{\"data\":{\"barpolar\":[{\"marker\":{\"line\":{\"color\":\"white\",\"width\":0.5},\"pattern\":{\"fillmode\":\"overlay\",\"size\":10,\"solidity\":0.2}},\"type\":\"barpolar\"}],\"bar\":[{\"error_x\":{\"color\":\"#2a3f5f\"},\"error_y\":{\"color\":\"#2a3f5f\"},\"marker\":{\"line\":{\"color\":\"white\",\"width\":0.5},\"pattern\":{\"fillmode\":\"overlay\",\"size\":10,\"solidity\":0.2}},\"type\":\"bar\"}],\"carpet\":[{\"aaxis\":{\"endlinecolor\":\"#2a3f5f\",\"gridcolor\":\"#C8D4E3\",\"linecolor\":\"#C8D4E3\",\"minorgridcolor\":\"#C8D4E3\",\"startlinecolor\":\"#2a3f5f\"},\"baxis\":{\"endlinecolor\":\"#2a3f5f\",\"gridcolor\":\"#C8D4E3\",\"linecolor\":\"#C8D4E3\",\"minorgridcolor\":\"#C8D4E3\",\"startlinecolor\":\"#2a3f5f\"},\"type\":\"carpet\"}],\"choropleth\":[{\"colorbar\":{\"outlinewidth\":0,\"ticks\":\"\"},\"type\":\"choropleth\"}],\"contourcarpet\":[{\"colorbar\":{\"outlinewidth\":0,\"ticks\":\"\"},\"type\":\"contourcarpet\"}],\"contour\":[{\"colorbar\":{\"outlinewidth\":0,\"ticks\":\"\"},\"colorscale\":[[0.0,\"#0d0887\"],[0.1111111111111111,\"#46039f\"],[0.2222222222222222,\"#7201a8\"],[0.3333333333333333,\"#9c179e\"],[0.4444444444444444,\"#bd3786\"],[0.5555555555555556,\"#d8576b\"],[0.6666666666666666,\"#ed7953\"],[0.7777777777777778,\"#fb9f3a\"],[0.8888888888888888,\"#fdca26\"],[1.0,\"#f0f921\"]],\"type\":\"contour\"}],\"heatmapgl\":[{\"colorbar\":{\"outlinewidth\":0,\"ticks\":\"\"},\"colorscale\":[[0.0,\"#0d0887\"],[0.1111111111111111,\"#46039f\"],[0.2222222222222222,\"#7201a8\"],[0.3333333333333333,\"#9c179e\"],[0.4444444444444444,\"#bd3786\"],[0.5555555555555556,\"#d8576b\"],[0.6666666666666666,\"#ed7953\"],[0.7777777777777778,\"#fb9f3a\"],[0.8888888888888888,\"#fdca26\"],[1.0,\"#f0f921\"]],\"type\":\"heatmapgl\"}],\"heatmap\":[{\"colorbar\":{\"outlinewidth\":0,\"ticks\":\"\"},\"colorscale\":[[0.0,\"#0d0887\"],[0.1111111111111111,\"#46039f\"],[0.2222222222222222,\"#7201a8\"],[0.3333333333333333,\"#9c179e\"],[0.4444444444444444,\"#bd3786\"],[0.5555555555555556,\"#d8576b\"],[0.6666666666666666,\"#ed7953\"],[0.7777777777777778,\"#fb9f3a\"],[0.8888888888888888,\"#fdca26\"],[1.0,\"#f0f921\"]],\"type\":\"heatmap\"}],\"histogram2dcontour\":[{\"colorbar\":{\"outlinewidth\":0,\"ticks\":\"\"},\"colorscale\":[[0.0,\"#0d0887\"],[0.1111111111111111,\"#46039f\"],[0.2222222222222222,\"#7201a8\"],[0.3333333333333333,\"#9c179e\"],[0.4444444444444444,\"#bd3786\"],[0.5555555555555556,\"#d8576b\"],[0.6666666666666666,\"#ed7953\"],[0.7777777777777778,\"#fb9f3a\"],[0.8888888888888888,\"#fdca26\"],[1.0,\"#f0f921\"]],\"type\":\"histogram2dcontour\"}],\"histogram2d\":[{\"colorbar\":{\"outlinewidth\":0,\"ticks\":\"\"},\"colorscale\":[[0.0,\"#0d0887\"],[0.1111111111111111,\"#46039f\"],[0.2222222222222222,\"#7201a8\"],[0.3333333333333333,\"#9c179e\"],[0.4444444444444444,\"#bd3786\"],[0.5555555555555556,\"#d8576b\"],[0.6666666666666666,\"#ed7953\"],[0.7777777777777778,\"#fb9f3a\"],[0.8888888888888888,\"#fdca26\"],[1.0,\"#f0f921\"]],\"type\":\"histogram2d\"}],\"histogram\":[{\"marker\":{\"pattern\":{\"fillmode\":\"overlay\",\"size\":10,\"solidity\":0.2}},\"type\":\"histogram\"}],\"mesh3d\":[{\"colorbar\":{\"outlinewidth\":0,\"ticks\":\"\"},\"type\":\"mesh3d\"}],\"parcoords\":[{\"line\":{\"colorbar\":{\"outlinewidth\":0,\"ticks\":\"\"}},\"type\":\"parcoords\"}],\"pie\":[{\"automargin\":true,\"type\":\"pie\"}],\"scatter3d\":[{\"line\":{\"colorbar\":{\"outlinewidth\":0,\"ticks\":\"\"}},\"marker\":{\"colorbar\":{\"outlinewidth\":0,\"ticks\":\"\"}},\"type\":\"scatter3d\"}],\"scattercarpet\":[{\"marker\":{\"colorbar\":{\"outlinewidth\":0,\"ticks\":\"\"}},\"type\":\"scattercarpet\"}],\"scattergeo\":[{\"marker\":{\"colorbar\":{\"outlinewidth\":0,\"ticks\":\"\"}},\"type\":\"scattergeo\"}],\"scattergl\":[{\"marker\":{\"colorbar\":{\"outlinewidth\":0,\"ticks\":\"\"}},\"type\":\"scattergl\"}],\"scattermapbox\":[{\"marker\":{\"colorbar\":{\"outlinewidth\":0,\"ticks\":\"\"}},\"type\":\"scattermapbox\"}],\"scatterpolargl\":[{\"marker\":{\"colorbar\":{\"outlinewidth\":0,\"ticks\":\"\"}},\"type\":\"scatterpolargl\"}],\"scatterpolar\":[{\"marker\":{\"colorbar\":{\"outlinewidth\":0,\"ticks\":\"\"}},\"type\":\"scatterpolar\"}],\"scatter\":[{\"marker\":{\"colorbar\":{\"outlinewidth\":0,\"ticks\":\"\"}},\"type\":\"scatter\"}],\"scatterternary\":[{\"marker\":{\"colorbar\":{\"outlinewidth\":0,\"ticks\":\"\"}},\"type\":\"scatterternary\"}],\"surface\":[{\"colorbar\":{\"outlinewidth\":0,\"ticks\":\"\"},\"colorscale\":[[0.0,\"#0d0887\"],[0.1111111111111111,\"#46039f\"],[0.2222222222222222,\"#7201a8\"],[0.3333333333333333,\"#9c179e\"],[0.4444444444444444,\"#bd3786\"],[0.5555555555555556,\"#d8576b\"],[0.6666666666666666,\"#ed7953\"],[0.7777777777777778,\"#fb9f3a\"],[0.8888888888888888,\"#fdca26\"],[1.0,\"#f0f921\"]],\"type\":\"surface\"}],\"table\":[{\"cells\":{\"fill\":{\"color\":\"#EBF0F8\"},\"line\":{\"color\":\"white\"}},\"header\":{\"fill\":{\"color\":\"#C8D4E3\"},\"line\":{\"color\":\"white\"}},\"type\":\"table\"}]},\"layout\":{\"annotationdefaults\":{\"arrowcolor\":\"#2a3f5f\",\"arrowhead\":0,\"arrowwidth\":1},\"autotypenumbers\":\"strict\",\"coloraxis\":{\"colorbar\":{\"outlinewidth\":0,\"ticks\":\"\"}},\"colorscale\":{\"diverging\":[[0,\"#8e0152\"],[0.1,\"#c51b7d\"],[0.2,\"#de77ae\"],[0.3,\"#f1b6da\"],[0.4,\"#fde0ef\"],[0.5,\"#f7f7f7\"],[0.6,\"#e6f5d0\"],[0.7,\"#b8e186\"],[0.8,\"#7fbc41\"],[0.9,\"#4d9221\"],[1,\"#276419\"]],\"sequential\":[[0.0,\"#0d0887\"],[0.1111111111111111,\"#46039f\"],[0.2222222222222222,\"#7201a8\"],[0.3333333333333333,\"#9c179e\"],[0.4444444444444444,\"#bd3786\"],[0.5555555555555556,\"#d8576b\"],[0.6666666666666666,\"#ed7953\"],[0.7777777777777778,\"#fb9f3a\"],[0.8888888888888888,\"#fdca26\"],[1.0,\"#f0f921\"]],\"sequentialminus\":[[0.0,\"#0d0887\"],[0.1111111111111111,\"#46039f\"],[0.2222222222222222,\"#7201a8\"],[0.3333333333333333,\"#9c179e\"],[0.4444444444444444,\"#bd3786\"],[0.5555555555555556,\"#d8576b\"],[0.6666666666666666,\"#ed7953\"],[0.7777777777777778,\"#fb9f3a\"],[0.8888888888888888,\"#fdca26\"],[1.0,\"#f0f921\"]]},\"colorway\":[\"#636efa\",\"#EF553B\",\"#00cc96\",\"#ab63fa\",\"#FFA15A\",\"#19d3f3\",\"#FF6692\",\"#B6E880\",\"#FF97FF\",\"#FECB52\"],\"font\":{\"color\":\"#2a3f5f\"},\"geo\":{\"bgcolor\":\"white\",\"lakecolor\":\"white\",\"landcolor\":\"white\",\"showlakes\":true,\"showland\":true,\"subunitcolor\":\"#C8D4E3\"},\"hoverlabel\":{\"align\":\"left\"},\"hovermode\":\"closest\",\"mapbox\":{\"style\":\"light\"},\"paper_bgcolor\":\"white\",\"plot_bgcolor\":\"white\",\"polar\":{\"angularaxis\":{\"gridcolor\":\"#EBF0F8\",\"linecolor\":\"#EBF0F8\",\"ticks\":\"\"},\"bgcolor\":\"white\",\"radialaxis\":{\"gridcolor\":\"#EBF0F8\",\"linecolor\":\"#EBF0F8\",\"ticks\":\"\"}},\"scene\":{\"xaxis\":{\"backgroundcolor\":\"white\",\"gridcolor\":\"#DFE8F3\",\"gridwidth\":2,\"linecolor\":\"#EBF0F8\",\"showbackground\":true,\"ticks\":\"\",\"zerolinecolor\":\"#EBF0F8\"},\"yaxis\":{\"backgroundcolor\":\"white\",\"gridcolor\":\"#DFE8F3\",\"gridwidth\":2,\"linecolor\":\"#EBF0F8\",\"showbackground\":true,\"ticks\":\"\",\"zerolinecolor\":\"#EBF0F8\"},\"zaxis\":{\"backgroundcolor\":\"white\",\"gridcolor\":\"#DFE8F3\",\"gridwidth\":2,\"linecolor\":\"#EBF0F8\",\"showbackground\":true,\"ticks\":\"\",\"zerolinecolor\":\"#EBF0F8\"}},\"shapedefaults\":{\"line\":{\"color\":\"#2a3f5f\"}},\"ternary\":{\"aaxis\":{\"gridcolor\":\"#DFE8F3\",\"linecolor\":\"#A2B1C6\",\"ticks\":\"\"},\"baxis\":{\"gridcolor\":\"#DFE8F3\",\"linecolor\":\"#A2B1C6\",\"ticks\":\"\"},\"bgcolor\":\"white\",\"caxis\":{\"gridcolor\":\"#DFE8F3\",\"linecolor\":\"#A2B1C6\",\"ticks\":\"\"}},\"title\":{\"x\":0.05},\"xaxis\":{\"automargin\":true,\"gridcolor\":\"#EBF0F8\",\"linecolor\":\"#EBF0F8\",\"ticks\":\"\",\"title\":{\"standoff\":15},\"zerolinecolor\":\"#EBF0F8\",\"zerolinewidth\":2},\"yaxis\":{\"automargin\":true,\"gridcolor\":\"#EBF0F8\",\"linecolor\":\"#EBF0F8\",\"ticks\":\"\",\"title\":{\"standoff\":15},\"zerolinecolor\":\"#EBF0F8\",\"zerolinewidth\":2}}},\"xaxis\":{\"anchor\":\"y\",\"domain\":[0.0,1.0],\"title\":{\"text\":\"Claim Amount, $\"},\"showgrid\":false,\"zerolinecolor\":\"#EAEAEA\"},\"yaxis\":{\"anchor\":\"x\",\"domain\":[0.0,0.7326],\"title\":{\"text\":\"Probability Density\"},\"gridcolor\":\"#EAEAEA\",\"zerolinecolor\":\"#EAEAEA\"},\"xaxis2\":{\"anchor\":\"y2\",\"domain\":[0.0,1.0],\"matches\":\"x\",\"showticklabels\":false,\"showgrid\":false,\"zerolinecolor\":\"#EAEAEA\"},\"yaxis2\":{\"anchor\":\"x2\",\"domain\":[0.7426,1.0],\"matches\":\"y2\",\"showticklabels\":false,\"showline\":false,\"ticks\":\"\",\"showgrid\":false},\"legend\":{\"title\":{\"text\":\"\"},\"tracegroupgap\":0,\"orientation\":\"h\",\"yanchor\":\"bottom\",\"y\":1.02,\"xanchor\":\"right\",\"x\":1},\"title\":{\"text\":\"Distribution of Insurance Costs by Smoking Status\"},\"barmode\":\"overlay\",\"font\":{\"color\":\"#303030\"}},                        {\"responsive\": true}                    ).then(function(){\n",
              "                            \n",
              "var gd = document.getElementById('26d0f113-c78e-48de-b953-e412acfe5bca');\n",
              "var x = new MutationObserver(function (mutations, observer) {{\n",
              "        var display = window.getComputedStyle(gd).display;\n",
              "        if (!display || display === 'none') {{\n",
              "            console.log([gd, 'removed!']);\n",
              "            Plotly.purge(gd);\n",
              "            observer.disconnect();\n",
              "        }}\n",
              "}});\n",
              "\n",
              "// Listen for the removal of the full notebook cells\n",
              "var notebookContainer = gd.closest('#notebook-container');\n",
              "if (notebookContainer) {{\n",
              "    x.observe(notebookContainer, {childList: true});\n",
              "}}\n",
              "\n",
              "// Listen for the clearing of the current output cell\n",
              "var outputEl = gd.closest('.output');\n",
              "if (outputEl) {{\n",
              "    x.observe(outputEl, {childList: true});\n",
              "}}\n",
              "\n",
              "                        })                };                            </script>        </div>\n",
              "</body>\n",
              "</html>"
            ]
          },
          "metadata": {}
        }
      ],
      "source": [
        "## biểu đồ histogram phân cho hút thuốc hoặc không hút thuốc:\n",
        "fig=px.histogram(ins, x='charges', color='smoker', opacity=0.7, barmode='overlay',\n",
        "                 histnorm='probability density', marginal='box', \n",
        "                 title=\"Distribution of Insurance Costs by Smoking Status\",\n",
        "                 color_discrete_sequence=['#B14B51','#B7A294']) \n",
        "fig.update_layout(font_color=\"#303030\", xaxis_title='Claim Amount, $',\n",
        "                  yaxis=dict(title='Probability Density', gridcolor='#EAEAEA', zerolinecolor='#EAEAEA'),\n",
        "                  legend=dict(orientation=\"h\", yanchor=\"bottom\", y=1.02, xanchor=\"right\", x=1, title=\"\"))\n",
        "fig.update_xaxes(showgrid=False, zerolinecolor='#EAEAEA')\n",
        "fig.show(renderer=\"colab\")"
      ]
    },
    {
      "cell_type": "code",
      "execution_count": null,
      "id": "8f0e49ce",
      "metadata": {
        "colab": {
          "base_uri": "https://localhost:8080/",
          "height": 517
        },
        "id": "8f0e49ce",
        "outputId": "0082282d-b246-4590-9476-532a105499ca"
      },
      "outputs": [
        {
          "output_type": "display_data",
          "data": {
            "text/html": [
              "<html>\n",
              "<head><meta charset=\"utf-8\" /></head>\n",
              "<body>\n",
              "    <div>            <script src=\"https://cdnjs.cloudflare.com/ajax/libs/mathjax/2.7.5/MathJax.js?config=TeX-AMS-MML_SVG\"></script><script type=\"text/javascript\">if (window.MathJax) {MathJax.Hub.Config({SVG: {font: \"STIX-Web\"}});}</script>                <script type=\"text/javascript\">window.PlotlyConfig = {MathJaxConfig: 'local'};</script>\n",
              "        <script src=\"https://cdn.plot.ly/plotly-2.8.3.min.js\"></script>                <div id=\"52efaaf9-6572-4eb1-914c-f8954940b5e7\" class=\"plotly-graph-div\" style=\"height:500px; width:100%;\"></div>            <script type=\"text/javascript\">                                    window.PLOTLYENV=window.PLOTLYENV || {};                                    if (document.getElementById(\"52efaaf9-6572-4eb1-914c-f8954940b5e7\")) {                    Plotly.newPlot(                        \"52efaaf9-6572-4eb1-914c-f8954940b5e7\",                        [{\"alignmentgroup\":\"True\",\"hovertemplate\":\"smoker=no<br>Age_Group=%{x}<br>charges=%{text}<extra></extra>\",\"legendgroup\":\"no\",\"marker\":{\"color\":\"#B7A294\",\"opacity\":0.75,\"pattern\":{\"shape\":\"\"},\"line\":{\"color\":\"#303030\",\"width\":1}},\"name\":\"no\",\"offsetgroup\":\"no\",\"orientation\":\"v\",\"showlegend\":true,\"text\":[4418.568273924471,6945.331654418605,11871.666137768116,15232.709479770114],\"textposition\":\"outside\",\"x\":[\"18 to 29 years\",\"30 to 44 years\",\"45 to 59 years\",\"60 and over\"],\"xaxis\":\"x\",\"y\":[4418.568273924471,6945.331654418605,11871.666137768116,15232.709479770114],\"yaxis\":\"y\",\"type\":\"bar\",\"texttemplate\":\"$%{text:,.0f}\"},{\"alignmentgroup\":\"True\",\"hovertemplate\":\"smoker=yes<br>Age_Group=%{x}<br>charges=%{text}<extra></extra>\",\"legendgroup\":\"yes\",\"marker\":{\"color\":\"#B14B51\",\"opacity\":0.75,\"pattern\":{\"shape\":\"\"},\"line\":{\"color\":\"#303030\",\"width\":1}},\"name\":\"yes\",\"offsetgroup\":\"yes\",\"orientation\":\"v\",\"showlegend\":true,\"text\":[27518.035261860463,30833.987732307694,35889.86907914285,40630.69519037037],\"textposition\":\"outside\",\"x\":[\"18 to 29 years\",\"30 to 44 years\",\"45 to 59 years\",\"60 and over\"],\"xaxis\":\"x\",\"y\":[27518.035261860463,30833.987732307694,35889.86907914285,40630.69519037037],\"yaxis\":\"y\",\"type\":\"bar\",\"texttemplate\":\"$%{text:,.0f}\"}],                        {\"template\":{\"data\":{\"barpolar\":[{\"marker\":{\"line\":{\"color\":\"white\",\"width\":0.5},\"pattern\":{\"fillmode\":\"overlay\",\"size\":10,\"solidity\":0.2}},\"type\":\"barpolar\"}],\"bar\":[{\"error_x\":{\"color\":\"#2a3f5f\"},\"error_y\":{\"color\":\"#2a3f5f\"},\"marker\":{\"line\":{\"color\":\"white\",\"width\":0.5},\"pattern\":{\"fillmode\":\"overlay\",\"size\":10,\"solidity\":0.2}},\"type\":\"bar\"}],\"carpet\":[{\"aaxis\":{\"endlinecolor\":\"#2a3f5f\",\"gridcolor\":\"#C8D4E3\",\"linecolor\":\"#C8D4E3\",\"minorgridcolor\":\"#C8D4E3\",\"startlinecolor\":\"#2a3f5f\"},\"baxis\":{\"endlinecolor\":\"#2a3f5f\",\"gridcolor\":\"#C8D4E3\",\"linecolor\":\"#C8D4E3\",\"minorgridcolor\":\"#C8D4E3\",\"startlinecolor\":\"#2a3f5f\"},\"type\":\"carpet\"}],\"choropleth\":[{\"colorbar\":{\"outlinewidth\":0,\"ticks\":\"\"},\"type\":\"choropleth\"}],\"contourcarpet\":[{\"colorbar\":{\"outlinewidth\":0,\"ticks\":\"\"},\"type\":\"contourcarpet\"}],\"contour\":[{\"colorbar\":{\"outlinewidth\":0,\"ticks\":\"\"},\"colorscale\":[[0.0,\"#0d0887\"],[0.1111111111111111,\"#46039f\"],[0.2222222222222222,\"#7201a8\"],[0.3333333333333333,\"#9c179e\"],[0.4444444444444444,\"#bd3786\"],[0.5555555555555556,\"#d8576b\"],[0.6666666666666666,\"#ed7953\"],[0.7777777777777778,\"#fb9f3a\"],[0.8888888888888888,\"#fdca26\"],[1.0,\"#f0f921\"]],\"type\":\"contour\"}],\"heatmapgl\":[{\"colorbar\":{\"outlinewidth\":0,\"ticks\":\"\"},\"colorscale\":[[0.0,\"#0d0887\"],[0.1111111111111111,\"#46039f\"],[0.2222222222222222,\"#7201a8\"],[0.3333333333333333,\"#9c179e\"],[0.4444444444444444,\"#bd3786\"],[0.5555555555555556,\"#d8576b\"],[0.6666666666666666,\"#ed7953\"],[0.7777777777777778,\"#fb9f3a\"],[0.8888888888888888,\"#fdca26\"],[1.0,\"#f0f921\"]],\"type\":\"heatmapgl\"}],\"heatmap\":[{\"colorbar\":{\"outlinewidth\":0,\"ticks\":\"\"},\"colorscale\":[[0.0,\"#0d0887\"],[0.1111111111111111,\"#46039f\"],[0.2222222222222222,\"#7201a8\"],[0.3333333333333333,\"#9c179e\"],[0.4444444444444444,\"#bd3786\"],[0.5555555555555556,\"#d8576b\"],[0.6666666666666666,\"#ed7953\"],[0.7777777777777778,\"#fb9f3a\"],[0.8888888888888888,\"#fdca26\"],[1.0,\"#f0f921\"]],\"type\":\"heatmap\"}],\"histogram2dcontour\":[{\"colorbar\":{\"outlinewidth\":0,\"ticks\":\"\"},\"colorscale\":[[0.0,\"#0d0887\"],[0.1111111111111111,\"#46039f\"],[0.2222222222222222,\"#7201a8\"],[0.3333333333333333,\"#9c179e\"],[0.4444444444444444,\"#bd3786\"],[0.5555555555555556,\"#d8576b\"],[0.6666666666666666,\"#ed7953\"],[0.7777777777777778,\"#fb9f3a\"],[0.8888888888888888,\"#fdca26\"],[1.0,\"#f0f921\"]],\"type\":\"histogram2dcontour\"}],\"histogram2d\":[{\"colorbar\":{\"outlinewidth\":0,\"ticks\":\"\"},\"colorscale\":[[0.0,\"#0d0887\"],[0.1111111111111111,\"#46039f\"],[0.2222222222222222,\"#7201a8\"],[0.3333333333333333,\"#9c179e\"],[0.4444444444444444,\"#bd3786\"],[0.5555555555555556,\"#d8576b\"],[0.6666666666666666,\"#ed7953\"],[0.7777777777777778,\"#fb9f3a\"],[0.8888888888888888,\"#fdca26\"],[1.0,\"#f0f921\"]],\"type\":\"histogram2d\"}],\"histogram\":[{\"marker\":{\"pattern\":{\"fillmode\":\"overlay\",\"size\":10,\"solidity\":0.2}},\"type\":\"histogram\"}],\"mesh3d\":[{\"colorbar\":{\"outlinewidth\":0,\"ticks\":\"\"},\"type\":\"mesh3d\"}],\"parcoords\":[{\"line\":{\"colorbar\":{\"outlinewidth\":0,\"ticks\":\"\"}},\"type\":\"parcoords\"}],\"pie\":[{\"automargin\":true,\"type\":\"pie\"}],\"scatter3d\":[{\"line\":{\"colorbar\":{\"outlinewidth\":0,\"ticks\":\"\"}},\"marker\":{\"colorbar\":{\"outlinewidth\":0,\"ticks\":\"\"}},\"type\":\"scatter3d\"}],\"scattercarpet\":[{\"marker\":{\"colorbar\":{\"outlinewidth\":0,\"ticks\":\"\"}},\"type\":\"scattercarpet\"}],\"scattergeo\":[{\"marker\":{\"colorbar\":{\"outlinewidth\":0,\"ticks\":\"\"}},\"type\":\"scattergeo\"}],\"scattergl\":[{\"marker\":{\"colorbar\":{\"outlinewidth\":0,\"ticks\":\"\"}},\"type\":\"scattergl\"}],\"scattermapbox\":[{\"marker\":{\"colorbar\":{\"outlinewidth\":0,\"ticks\":\"\"}},\"type\":\"scattermapbox\"}],\"scatterpolargl\":[{\"marker\":{\"colorbar\":{\"outlinewidth\":0,\"ticks\":\"\"}},\"type\":\"scatterpolargl\"}],\"scatterpolar\":[{\"marker\":{\"colorbar\":{\"outlinewidth\":0,\"ticks\":\"\"}},\"type\":\"scatterpolar\"}],\"scatter\":[{\"marker\":{\"colorbar\":{\"outlinewidth\":0,\"ticks\":\"\"}},\"type\":\"scatter\"}],\"scatterternary\":[{\"marker\":{\"colorbar\":{\"outlinewidth\":0,\"ticks\":\"\"}},\"type\":\"scatterternary\"}],\"surface\":[{\"colorbar\":{\"outlinewidth\":0,\"ticks\":\"\"},\"colorscale\":[[0.0,\"#0d0887\"],[0.1111111111111111,\"#46039f\"],[0.2222222222222222,\"#7201a8\"],[0.3333333333333333,\"#9c179e\"],[0.4444444444444444,\"#bd3786\"],[0.5555555555555556,\"#d8576b\"],[0.6666666666666666,\"#ed7953\"],[0.7777777777777778,\"#fb9f3a\"],[0.8888888888888888,\"#fdca26\"],[1.0,\"#f0f921\"]],\"type\":\"surface\"}],\"table\":[{\"cells\":{\"fill\":{\"color\":\"#EBF0F8\"},\"line\":{\"color\":\"white\"}},\"header\":{\"fill\":{\"color\":\"#C8D4E3\"},\"line\":{\"color\":\"white\"}},\"type\":\"table\"}]},\"layout\":{\"annotationdefaults\":{\"arrowcolor\":\"#2a3f5f\",\"arrowhead\":0,\"arrowwidth\":1},\"autotypenumbers\":\"strict\",\"coloraxis\":{\"colorbar\":{\"outlinewidth\":0,\"ticks\":\"\"}},\"colorscale\":{\"diverging\":[[0,\"#8e0152\"],[0.1,\"#c51b7d\"],[0.2,\"#de77ae\"],[0.3,\"#f1b6da\"],[0.4,\"#fde0ef\"],[0.5,\"#f7f7f7\"],[0.6,\"#e6f5d0\"],[0.7,\"#b8e186\"],[0.8,\"#7fbc41\"],[0.9,\"#4d9221\"],[1,\"#276419\"]],\"sequential\":[[0.0,\"#0d0887\"],[0.1111111111111111,\"#46039f\"],[0.2222222222222222,\"#7201a8\"],[0.3333333333333333,\"#9c179e\"],[0.4444444444444444,\"#bd3786\"],[0.5555555555555556,\"#d8576b\"],[0.6666666666666666,\"#ed7953\"],[0.7777777777777778,\"#fb9f3a\"],[0.8888888888888888,\"#fdca26\"],[1.0,\"#f0f921\"]],\"sequentialminus\":[[0.0,\"#0d0887\"],[0.1111111111111111,\"#46039f\"],[0.2222222222222222,\"#7201a8\"],[0.3333333333333333,\"#9c179e\"],[0.4444444444444444,\"#bd3786\"],[0.5555555555555556,\"#d8576b\"],[0.6666666666666666,\"#ed7953\"],[0.7777777777777778,\"#fb9f3a\"],[0.8888888888888888,\"#fdca26\"],[1.0,\"#f0f921\"]]},\"colorway\":[\"#636efa\",\"#EF553B\",\"#00cc96\",\"#ab63fa\",\"#FFA15A\",\"#19d3f3\",\"#FF6692\",\"#B6E880\",\"#FF97FF\",\"#FECB52\"],\"font\":{\"color\":\"#2a3f5f\"},\"geo\":{\"bgcolor\":\"white\",\"lakecolor\":\"white\",\"landcolor\":\"white\",\"showlakes\":true,\"showland\":true,\"subunitcolor\":\"#C8D4E3\"},\"hoverlabel\":{\"align\":\"left\"},\"hovermode\":\"closest\",\"mapbox\":{\"style\":\"light\"},\"paper_bgcolor\":\"white\",\"plot_bgcolor\":\"white\",\"polar\":{\"angularaxis\":{\"gridcolor\":\"#EBF0F8\",\"linecolor\":\"#EBF0F8\",\"ticks\":\"\"},\"bgcolor\":\"white\",\"radialaxis\":{\"gridcolor\":\"#EBF0F8\",\"linecolor\":\"#EBF0F8\",\"ticks\":\"\"}},\"scene\":{\"xaxis\":{\"backgroundcolor\":\"white\",\"gridcolor\":\"#DFE8F3\",\"gridwidth\":2,\"linecolor\":\"#EBF0F8\",\"showbackground\":true,\"ticks\":\"\",\"zerolinecolor\":\"#EBF0F8\"},\"yaxis\":{\"backgroundcolor\":\"white\",\"gridcolor\":\"#DFE8F3\",\"gridwidth\":2,\"linecolor\":\"#EBF0F8\",\"showbackground\":true,\"ticks\":\"\",\"zerolinecolor\":\"#EBF0F8\"},\"zaxis\":{\"backgroundcolor\":\"white\",\"gridcolor\":\"#DFE8F3\",\"gridwidth\":2,\"linecolor\":\"#EBF0F8\",\"showbackground\":true,\"ticks\":\"\",\"zerolinecolor\":\"#EBF0F8\"}},\"shapedefaults\":{\"line\":{\"color\":\"#2a3f5f\"}},\"ternary\":{\"aaxis\":{\"gridcolor\":\"#DFE8F3\",\"linecolor\":\"#A2B1C6\",\"ticks\":\"\"},\"baxis\":{\"gridcolor\":\"#DFE8F3\",\"linecolor\":\"#A2B1C6\",\"ticks\":\"\"},\"bgcolor\":\"white\",\"caxis\":{\"gridcolor\":\"#DFE8F3\",\"linecolor\":\"#A2B1C6\",\"ticks\":\"\"}},\"title\":{\"x\":0.05},\"xaxis\":{\"automargin\":true,\"gridcolor\":\"#EBF0F8\",\"linecolor\":\"#EBF0F8\",\"ticks\":\"\",\"title\":{\"standoff\":15},\"zerolinecolor\":\"#EBF0F8\",\"zerolinewidth\":2},\"yaxis\":{\"automargin\":true,\"gridcolor\":\"#EBF0F8\",\"linecolor\":\"#EBF0F8\",\"ticks\":\"\",\"title\":{\"standoff\":15},\"zerolinecolor\":\"#EBF0F8\",\"zerolinewidth\":2}}},\"xaxis\":{\"anchor\":\"y\",\"domain\":[0.0,1.0],\"title\":{\"text\":\"Age\"},\"showgrid\":false},\"yaxis\":{\"anchor\":\"x\",\"domain\":[0.0,1.0],\"title\":{\"text\":\"Claim Amount, $\"},\"showgrid\":false,\"zerolinecolor\":\"#DBDBDB\",\"showline\":true,\"linecolor\":\"#DBDBDB\",\"linewidth\":2},\"legend\":{\"title\":{\"text\":\"\"},\"tracegroupgap\":0,\"orientation\":\"h\",\"yanchor\":\"bottom\",\"y\":1.02,\"xanchor\":\"right\",\"x\":1},\"title\":{\"text\":\"Average Insurance Costs by Age and Smoking Status\"},\"barmode\":\"group\",\"height\":500,\"font\":{\"color\":\"#303030\"},\"bargroupgap\":0.05,\"bargap\":0.3},                        {\"responsive\": true}                    ).then(function(){\n",
              "                            \n",
              "var gd = document.getElementById('52efaaf9-6572-4eb1-914c-f8954940b5e7');\n",
              "var x = new MutationObserver(function (mutations, observer) {{\n",
              "        var display = window.getComputedStyle(gd).display;\n",
              "        if (!display || display === 'none') {{\n",
              "            console.log([gd, 'removed!']);\n",
              "            Plotly.purge(gd);\n",
              "            observer.disconnect();\n",
              "        }}\n",
              "}});\n",
              "\n",
              "// Listen for the removal of the full notebook cells\n",
              "var notebookContainer = gd.closest('#notebook-container');\n",
              "if (notebookContainer) {{\n",
              "    x.observe(notebookContainer, {childList: true});\n",
              "}}\n",
              "\n",
              "// Listen for the clearing of the current output cell\n",
              "var outputEl = gd.closest('.output');\n",
              "if (outputEl) {{\n",
              "    x.observe(outputEl, {childList: true});\n",
              "}}\n",
              "\n",
              "                        })                };                            </script>        </div>\n",
              "</body>\n",
              "</html>"
            ]
          },
          "metadata": {}
        }
      ],
      "source": [
        "## biểu diễn charge theo nhóm độ tuổi\n",
        "## phân nhóm độ tuổi\n",
        "plot_df = ins.copy()\n",
        "plot_df[\"Age_Group\"]=['18 to 29 years' if i<30 else '30 to 44 years' if (i>=30)&(i<45) else \n",
        "                      '45 to 59 years' if (i>=45)&(i<60) else '60 and over' for i in ins['age']]\n",
        "\n",
        "## dựng đồ thị charge cho từng nhóm tuổi:\n",
        "plot_df = plot_df.groupby(['Age_Group','smoker'])['charges'].mean()\n",
        "plot_df = plot_df.rename('charges').reset_index().sort_values('smoker', ascending=True)\n",
        "fig = px.bar(plot_df, x='Age_Group', y='charges', color='smoker', height=500, text='charges', \n",
        "             opacity=0.75, barmode='group', color_discrete_sequence=['#B7A294','#B14B51'],\n",
        "             title=\"Average Insurance Costs by Age and Smoking Status\")\n",
        "\n",
        "## thay đổi các thông số cho đồ thị:\n",
        "fig.update_traces(texttemplate='$%{text:,.0f}', textposition='outside', \n",
        "                  marker_line=dict(width=1, color='#303030'))\n",
        "fig.update_layout(font_color=\"#303030\",bargroupgap=0.05, bargap=0.3, \n",
        "                  legend=dict(orientation=\"h\", yanchor=\"bottom\", y=1.02, xanchor=\"right\", x=1, title=\"\"),\n",
        "                  xaxis=dict(title='Age',showgrid=False), \n",
        "                  yaxis=dict(title='Claim Amount, $', showgrid=False,zerolinecolor='#DBDBDB',\n",
        "                             showline=True, linecolor='#DBDBDB', linewidth=2))\n",
        "fig.show(renderer=\"colab\")"
      ]
    },
    {
      "cell_type": "code",
      "execution_count": null,
      "id": "dda97a34",
      "metadata": {
        "colab": {
          "base_uri": "https://localhost:8080/",
          "height": 617
        },
        "id": "dda97a34",
        "outputId": "c4b3ce92-14be-41db-bc90-86acf6c84ca0"
      },
      "outputs": [
        {
          "output_type": "display_data",
          "data": {
            "text/html": [
              "<html>\n",
              "<head><meta charset=\"utf-8\" /></head>\n",
              "<body>\n",
              "    <div>            <script src=\"https://cdnjs.cloudflare.com/ajax/libs/mathjax/2.7.5/MathJax.js?config=TeX-AMS-MML_SVG\"></script><script type=\"text/javascript\">if (window.MathJax) {MathJax.Hub.Config({SVG: {font: \"STIX-Web\"}});}</script>                <script type=\"text/javascript\">window.PlotlyConfig = {MathJaxConfig: 'local'};</script>\n",
              "        <script src=\"https://cdn.plot.ly/plotly-2.8.3.min.js\"></script>                <div id=\"d15b12d2-85c7-40d4-8e13-58365cbd15bc\" class=\"plotly-graph-div\" style=\"height:600px; width:100%;\"></div>            <script type=\"text/javascript\">                                    window.PLOTLYENV=window.PLOTLYENV || {};                                    if (document.getElementById(\"d15b12d2-85c7-40d4-8e13-58365cbd15bc\")) {                    Plotly.newPlot(                        \"d15b12d2-85c7-40d4-8e13-58365cbd15bc\",                        [{\"hovertemplate\":\"smoker=yes<br>bmi=%{x}<br>charges=%{marker.size}<extra></extra>\",\"legendgroup\":\"yes\",\"marker\":{\"color\":\"#B14B51\",\"size\":[16884.924,27808.7251,39611.7577,36837.467,37701.8768,38711.0,35585.576,51194.55914,39774.2763,48173.361,38709.176,23568.272,37742.5757,47496.49445,34303.1672,23244.7902,14711.7438,17663.1442,16577.7795,37165.1638,39836.519,21098.55405,43578.9394,30184.9367,47291.055,22412.6485,15820.699,30942.1918,17560.37975,47055.5321,19107.7796,39556.4945,17081.08,32734.1863,18972.495,20745.9891,40720.55105,19964.7463,21223.6758,15518.18025,36950.2567,21348.706,36149.4835,48824.45,43753.33705,37133.8982,20984.0936,34779.615,19515.5416,19444.2658,17352.6803,38511.6283,29523.1656,12829.4551,47305.305,44260.7499,41097.16175,43921.1837,33750.2918,17085.2676,24869.8368,36219.40545,46151.1245,17179.522,42856.838,22331.5668,48549.17835,47896.79135,42112.2356,16297.846,21978.6769,38746.3551,24873.3849,42124.5153,34838.873,35491.64,42760.5022,47928.03,48517.56315,24393.6224,41919.097,13844.506,36085.219,18033.9679,21659.9301,38126.2465,15006.57945,42303.69215,19594.80965,14455.64405,18608.262,28950.4692,46889.2612,46599.1084,39125.33225,37079.372,26109.32905,22144.032,19521.9682,25382.297,28868.6639,35147.52848,48885.13561,17942.106,36197.699,22218.1149,32548.3405,21082.16,38245.59327,48675.5177,63770.42801,23807.2406,45863.205,39983.42595,45702.02235,58571.07448,43943.8761,15359.1045,17468.9839,25678.77845,39241.442,42969.8527,23306.547,34439.8559,40182.246,34617.84065,42983.4585,20149.3229,32787.45859,24667.419,27037.9141,42560.4304,40003.33225,45710.20785,46200.9851,46130.5265,40103.89,34806.4677,40273.6455,44400.4064,40932.4295,16657.71745,19361.9988,40419.0191,36189.1017,44585.45587,18246.4955,43254.41795,19539.243,23065.4207,36307.7983,19040.876,17748.5062,18259.216,24520.264,21195.818,18310.742,17904.52705,38792.6856,23401.30575,55135.40209,43813.8661,20773.62775,39597.4072,36021.0112,27533.9129,45008.9555,37270.1512,42111.6647,24106.91255,40974.1649,15817.9857,46113.511,46255.1125,19719.6947,27218.43725,29330.98315,44202.6536,19798.05455,48673.5588,17496.306,33732.6867,21774.32215,35069.37452,39047.285,19933.458,47462.894,38998.546,20009.63365,41999.52,41034.2214,23967.38305,16138.76205,19199.944,14571.8908,16420.49455,17361.7661,34472.841,24915.22085,18767.7377,35595.5898,42211.1382,16450.8947,21677.28345,44423.803,13747.87235,37484.4493,39725.51805,20234.85475,33475.81715,21880.82,44501.3982,39727.614,25309.489,48970.2476,39871.7043,34672.1472,19023.26,41676.0811,33907.548,44641.1974,16776.30405,41949.2441,24180.9335,36124.5737,38282.7495,34166.273,46661.4424,40904.1995,36898.73308,52590.82939,40941.2854,39722.7462,17178.6824,22478.6,23887.6627,19350.3689,18328.2381,37465.34375,21771.3423,33307.5508,18223.4512,38415.474,20296.86345,41661.602,26125.67477,60021.39897,20167.33603,47269.854,49577.6624,37607.5277,18648.4217,16232.847,26926.5144,34254.05335,17043.3414,22462.04375,24535.69855,14283.4594,47403.88,38344.566,34828.654,62592.87309,46718.16325,37829.7242,21259.37795,16115.3045,21472.4788,33900.653,36397.576,18765.87545,28101.33305,43896.3763,29141.3603],\"sizemode\":\"area\",\"sizeref\":159.426070025,\"symbol\":\"circle\"},\"mode\":\"markers\",\"name\":\"yes\",\"showlegend\":true,\"x\":[27.9,26.29,42.13,35.3,31.92,36.3,35.6,36.4,36.67,39.9,35.2,28.0,34.43,36.955,31.68,22.88,22.42,23.98,24.75,37.62,34.8,22.895,31.16,29.83,31.3,19.95,19.3,29.92,28.025,35.09,27.94,31.35,28.3,17.765,25.3,28.69,30.495,23.37,24.42,25.175,35.53,26.6,36.85,37.7,41.895,36.08,27.74,34.8,24.64,22.22,29.07,36.67,27.74,17.29,32.2,34.21,31.825,33.63,31.92,26.84,24.32,36.955,42.35,19.8,34.2,28.12,40.565,36.765,45.54,27.7,25.41,34.39,22.61,35.97,31.4,30.8,36.48,33.8,36.385,27.36,32.3,21.7,32.9,28.31,24.89,40.15,17.955,30.685,20.235,17.195,22.6,26.98,33.88,35.86,32.775,33.5,26.695,30.0,28.38,25.1,28.31,28.5,38.06,25.7,34.4,23.21,30.25,28.3,26.07,42.13,47.41,25.84,46.2,34.105,40.565,38.095,30.21,21.85,28.31,23.655,37.8,36.63,25.6,33.11,34.1,33.535,38.95,26.41,28.31,25.3,22.99,38.06,32.775,32.015,43.89,31.35,35.3,31.13,35.75,38.06,39.05,21.755,24.42,38.39,31.73,35.5,29.15,34.105,26.4,27.83,38.17,27.1,28.88,24.4,27.6,20.9,28.5,24.795,42.24,26.125,35.53,31.79,28.025,30.78,32.78,29.81,32.45,30.78,35.53,23.845,33.11,24.13,47.6,37.05,28.93,28.975,26.885,38.94,20.045,40.92,24.6,31.73,26.885,22.895,34.2,29.7,42.9,30.2,27.835,30.8,34.96,24.795,22.895,25.9,20.52,20.045,22.99,32.7,28.215,20.13,31.02,36.08,26.03,23.655,35.2,21.565,37.07,30.495,28.025,30.685,24.7,52.58,30.9,29.8,41.14,37.07,31.68,18.3,36.19,30.4,34.96,19.095,38.39,25.85,33.33,35.75,31.4,36.86,42.75,32.49,32.8,32.56,44.88,27.36,26.7,24.13,29.81,28.49,35.625,25.27,30.02,27.28,33.4,25.555,34.6,24.42,34.485,21.8,41.8,36.96,33.63,29.83,27.3,23.76,31.065,27.06,29.925,27.645,21.66,36.3,39.4,34.9,30.36,30.875,27.8,24.605,21.85,28.12,30.2,34.7,23.655,26.695,40.37,29.07],\"xaxis\":\"x\",\"y\":[16884.924,27808.7251,39611.7577,36837.467,37701.8768,38711.0,35585.576,51194.55914,39774.2763,48173.361,38709.176,23568.272,37742.5757,47496.49445,34303.1672,23244.7902,14711.7438,17663.1442,16577.7795,37165.1638,39836.519,21098.55405,43578.9394,30184.9367,47291.055,22412.6485,15820.699,30942.1918,17560.37975,47055.5321,19107.7796,39556.4945,17081.08,32734.1863,18972.495,20745.9891,40720.55105,19964.7463,21223.6758,15518.18025,36950.2567,21348.706,36149.4835,48824.45,43753.33705,37133.8982,20984.0936,34779.615,19515.5416,19444.2658,17352.6803,38511.6283,29523.1656,12829.4551,47305.305,44260.7499,41097.16175,43921.1837,33750.2918,17085.2676,24869.8368,36219.40545,46151.1245,17179.522,42856.838,22331.5668,48549.17835,47896.79135,42112.2356,16297.846,21978.6769,38746.3551,24873.3849,42124.5153,34838.873,35491.64,42760.5022,47928.03,48517.56315,24393.6224,41919.097,13844.506,36085.219,18033.9679,21659.9301,38126.2465,15006.57945,42303.69215,19594.80965,14455.64405,18608.262,28950.4692,46889.2612,46599.1084,39125.33225,37079.372,26109.32905,22144.032,19521.9682,25382.297,28868.6639,35147.52848,48885.13561,17942.106,36197.699,22218.1149,32548.3405,21082.16,38245.59327,48675.5177,63770.42801,23807.2406,45863.205,39983.42595,45702.02235,58571.07448,43943.8761,15359.1045,17468.9839,25678.77845,39241.442,42969.8527,23306.547,34439.8559,40182.246,34617.84065,42983.4585,20149.3229,32787.45859,24667.419,27037.9141,42560.4304,40003.33225,45710.20785,46200.9851,46130.5265,40103.89,34806.4677,40273.6455,44400.4064,40932.4295,16657.71745,19361.9988,40419.0191,36189.1017,44585.45587,18246.4955,43254.41795,19539.243,23065.4207,36307.7983,19040.876,17748.5062,18259.216,24520.264,21195.818,18310.742,17904.52705,38792.6856,23401.30575,55135.40209,43813.8661,20773.62775,39597.4072,36021.0112,27533.9129,45008.9555,37270.1512,42111.6647,24106.91255,40974.1649,15817.9857,46113.511,46255.1125,19719.6947,27218.43725,29330.98315,44202.6536,19798.05455,48673.5588,17496.306,33732.6867,21774.32215,35069.37452,39047.285,19933.458,47462.894,38998.546,20009.63365,41999.52,41034.2214,23967.38305,16138.76205,19199.944,14571.8908,16420.49455,17361.7661,34472.841,24915.22085,18767.7377,35595.5898,42211.1382,16450.8947,21677.28345,44423.803,13747.87235,37484.4493,39725.51805,20234.85475,33475.81715,21880.82,44501.3982,39727.614,25309.489,48970.2476,39871.7043,34672.1472,19023.26,41676.0811,33907.548,44641.1974,16776.30405,41949.2441,24180.9335,36124.5737,38282.7495,34166.273,46661.4424,40904.1995,36898.73308,52590.82939,40941.2854,39722.7462,17178.6824,22478.6,23887.6627,19350.3689,18328.2381,37465.34375,21771.3423,33307.5508,18223.4512,38415.474,20296.86345,41661.602,26125.67477,60021.39897,20167.33603,47269.854,49577.6624,37607.5277,18648.4217,16232.847,26926.5144,34254.05335,17043.3414,22462.04375,24535.69855,14283.4594,47403.88,38344.566,34828.654,62592.87309,46718.16325,37829.7242,21259.37795,16115.3045,21472.4788,33900.653,36397.576,18765.87545,28101.33305,43896.3763,29141.3603],\"yaxis\":\"y\",\"type\":\"scattergl\"},{\"hovertemplate\":\"smoker=no<br>bmi=%{x}<br>charges=%{marker.size}<extra></extra>\",\"legendgroup\":\"no\",\"marker\":{\"color\":\"#B7A294\",\"size\":[1725.5523,4449.462,21984.47061,3866.8552,3756.6216,8240.5896,7281.5056,6406.4107,28923.13692,2721.3208,1826.843,11090.7178,1837.237,10797.3362,2395.17155,10602.385,13228.84695,4149.736,1137.011,6203.90175,14001.1338,14451.83515,12268.63225,2775.19215,2198.18985,4687.797,13770.0979,1625.43375,15612.19335,2302.3,3046.062,4949.7587,6272.4772,6313.759,6079.6715,20630.28351,3393.35635,3556.9223,12629.8967,2211.13075,3579.8287,8059.6791,13607.36875,5989.52365,8606.2174,4504.6624,30166.61817,4133.64165,1743.214,14235.072,6389.37785,5920.1041,6799.458,11741.726,11946.6259,7726.854,11356.6609,3947.4131,1532.4697,2755.02095,6571.02435,4441.21315,7935.29115,11033.6617,11073.176,8026.6666,11082.5772,2026.9741,10942.13205,5729.0053,3766.8838,12105.32,10226.2842,6186.127,3645.0894,21344.8467,5003.853,2331.519,3877.30425,2867.1196,10825.2537,11881.358,4646.759,2404.7338,11488.31695,30259.99556,11381.3254,8601.3293,6686.4313,7740.337,1705.6245,2257.47525,10115.00885,3385.39915,9634.538,6082.405,12815.44495,13616.3586,11163.568,1632.56445,2457.21115,2155.6815,1261.442,2045.68525,27322.73386,2166.732,27375.90478,3490.5491,18157.876,5138.2567,9877.6077,10959.6947,1842.519,5125.2157,7789.635,6334.34355,7077.1894,6948.7008,19749.38338,10450.552,5152.134,5028.1466,10407.08585,4830.63,6128.79745,2719.27975,4827.90495,13405.3903,8116.68,1694.7964,5246.047,2855.43755,6455.86265,10436.096,8823.279,8538.28845,11735.87905,1631.8212,4005.4225,7419.4779,7731.4271,3981.9768,5325.651,6775.961,4922.9159,12557.6053,4883.866,2137.6536,12044.342,1137.4697,1639.5631,5649.715,8516.829,9644.2525,14901.5167,2130.6759,8871.1517,13012.20865,7147.105,4337.7352,11743.299,13880.949,6610.1097,1980.07,8162.71625,3537.703,5002.7827,8520.026,7371.772,10355.641,2483.736,3392.9768,25081.76784,5012.471,10564.8845,5253.524,11987.1682,2689.4954,24227.33724,7358.17565,9225.2564,7443.64305,14001.2867,1727.785,12333.828,6710.1919,1615.7667,4463.2051,7152.6714,5354.07465,35160.13457,7196.867,24476.47851,12648.7034,1986.9334,1832.094,4040.55825,4260.744,13047.33235,5400.9805,11520.09985,11837.16,20462.99766,14590.63205,7441.053,9282.4806,1719.4363,7265.7025,9617.66245,2523.1695,9715.841,2803.69785,2150.469,12928.7911,9855.1314,4237.12655,11879.10405,9625.92,7742.1098,9432.9253,14256.1928,25992.82104,3172.018,20277.80751,2156.7518,3906.127,1704.5681,9249.4952,6746.7425,12265.5069,4349.462,12646.207,19442.3535,20177.67113,4151.0287,11944.59435,7749.1564,8444.474,1737.376,8124.4084,9722.7695,8835.26495,10435.06525,7421.19455,4667.60765,4894.7533,24671.66334,11566.30055,2866.091,6600.20595,3561.8889,9144.565,13429.0354,11658.37915,19144.57652,13822.803,12142.5786,13937.6665,8232.6388,18955.22017,13352.0998,13217.0945,13981.85035,10977.2063,6184.2994,4889.9995,8334.45755,5478.0368,1635.73365,11830.6072,8932.084,3554.203,12404.8791,14133.03775,24603.04837,8944.1151,9620.3307,1837.2819,1607.5101,10043.249,4751.07,2597.779,3180.5101,9778.3472,13430.265,8017.06115,8116.26885,3481.868,13415.0381,12029.2867,7639.41745,1391.5287,16455.70785,27000.98473,20781.48892,5846.9176,8302.53565,1261.859,11856.4115,30284.64294,3176.8159,4618.0799,10736.87075,2138.0707,8964.06055,9290.1395,9411.005,7526.70645,8522.003,16586.49771,14988.432,1631.6683,9264.797,8083.9198,14692.66935,10269.46,3260.199,11396.9002,4185.0979,8539.671,6652.5288,4074.4537,1621.3402,5080.096,2134.9015,7345.7266,9140.951,14418.2804,2727.3951,8968.33,9788.8659,6555.07035,7323.734819,3167.45585,18804.7524,23082.95533,4906.40965,5969.723,12638.195,4243.59005,13919.8229,2254.7967,5926.846,12592.5345,2897.3235,4738.2682,1149.3959,28287.89766,7345.084,12730.9996,11454.0215,5910.944,4762.329,7512.267,4032.2407,1969.614,1769.53165,4686.3887,21797.0004,11881.9696,11840.77505,10601.412,7682.67,10381.4787,15230.32405,11165.41765,1632.03625,13224.693,12643.3778,23288.9284,2201.0971,2497.0383,2203.47185,1744.465,20878.78443,2534.39375,1534.3045,1824.2854,15555.18875,9304.7019,1622.1885,9880.068,9563.029,4347.02335,12475.3513,1253.936,10461.9794,1748.774,24513.09126,2196.4732,12574.049,1967.0227,4931.647,8027.968,8211.1002,13470.86,6837.3687,5974.3847,6796.86325,2643.2685,3077.0955,3044.2133,11455.28,11763.0009,2498.4144,9361.3268,1256.299,11362.755,27724.28875,8413.46305,5240.765,3857.75925,25656.57526,3994.1778,9866.30485,5397.6167,11482.63485,24059.68019,9861.025,8342.90875,1708.0014,14043.4767,12925.886,19214.70553,13831.1152,6067.12675,5972.378,8825.086,8233.0975,27346.04207,6196.448,3056.3881,13887.204,10231.4999,3268.84665,11538.421,3213.62205,13390.559,3972.9247,12957.118,11187.6567,17878.90068,3847.674,8334.5896,3935.1799,1646.4297,9193.8385,10923.9332,2494.022,9058.7303,2801.2588,2128.43105,6373.55735,7256.7231,11552.904,3761.292,2219.4451,4753.6368,31620.00106,13224.05705,12222.8983,1664.9996,9724.53,3206.49135,12913.9924,1639.5631,6356.2707,17626.23951,1242.816,4779.6023,3861.20965,13635.6379,5976.8311,11842.442,8428.0693,2566.4707,5709.1644,8823.98575,7640.3092,5594.8455,7441.501,33471.97189,1633.0444,9174.13565,11070.535,16085.1275,9283.562,3558.62025,4435.0942,8547.6913,6571.544,2207.69745,6753.038,1880.07,11658.11505,10713.644,3659.346,9182.17,12129.61415,3736.4647,6748.5912,11326.71487,11365.952,10085.846,1977.815,3366.6697,7173.35995,9391.346,14410.9321,2709.1119,24915.04626,12949.1554,6666.243,13143.86485,4466.6214,18806.14547,10141.1362,6123.5688,8252.2843,1712.227,12430.95335,9800.8882,10579.711,8280.6227,8527.532,12244.531,3410.324,4058.71245,26392.26029,14394.39815,6435.6237,22192.43711,5148.5526,1136.3994,8703.456,6500.2359,4837.5823,3943.5954,4399.731,6185.3208,7222.78625,12485.8009,12363.547,10156.7832,2585.269,1242.26,9863.4718,4766.022,11244.3769,7729.64575,5438.7491,26236.57997,2104.1134,8068.185,2362.22905,2352.96845,3577.999,3201.24515,29186.48236,10976.24575,3500.6123,2020.5523,9541.69555,9504.3103,5385.3379,8930.93455,5375.038,10264.4421,6113.23105,5469.0066,1727.54,10107.2206,8310.83915,1984.4533,2457.502,12146.971,9566.9909,13112.6048,10848.1343,12231.6136,9875.6804,11264.541,12979.358,1263.249,10106.13425,6664.68595,2217.6012,6781.3542,10065.413,4234.927,9447.25035,14007.222,9583.8933,3484.331,8604.48365,3757.8448,8827.2099,9910.35985,11737.84884,1627.28245,8556.907,3062.50825,1906.35825,14210.53595,11833.7823,17128.42608,5031.26955,7985.815,5428.7277,3925.7582,2416.955,3070.8087,9095.06825,11842.62375,8062.764,7050.642,14319.031,6933.24225,27941.28758,11150.78,12797.20962,7261.741,10560.4917,6986.697,7448.40395,5934.3798,9869.8102,1146.7966,9386.1613,4350.5144,6414.178,12741.16745,1917.3184,5209.57885,13457.9608,5662.225,1252.407,2731.9122,7209.4918,4266.1658,4719.52405,11848.141,7046.7222,14313.8463,2103.08,1815.8759,7731.85785,28476.73499,2136.88225,1131.5066,3309.7926,9414.92,6360.9936,11013.7119,4428.88785,5584.3057,1877.9294,2842.76075,3597.596,7445.918,2680.9493,1621.8827,8219.2039,12523.6048,16069.08475,6117.4945,13393.756,5266.3656,4719.73655,11743.9341,5377.4578,7160.3303,4402.233,11657.7189,6402.29135,12622.1795,1526.312,12323.936,10072.05505,9872.701,2438.0552,2974.126,10601.63225,14119.62,11729.6795,1875.344,18218.16139,10965.446,7151.092,12269.68865,5458.04645,8782.469,6600.361,1141.4451,11576.13,13129.60345,4391.652,8457.818,3392.3652,5966.8874,6849.026,8891.1395,2690.1138,26140.3603,6653.7886,6282.235,6311.952,3443.064,2789.0574,2585.85065,4877.98105,5272.1758,1682.597,11945.1327,7243.8136,10422.91665,13555.0049,13063.883,2221.56445,1634.5734,2117.33885,8688.85885,4661.28635,8125.7845,12644.589,4564.19145,4846.92015,7633.7206,15170.069,2639.0429,14382.70905,7626.993,5257.50795,2473.3341,13041.921,5245.2269,13451.122,13462.52,5488.262,4320.41085,6250.435,25333.33284,2913.569,12032.326,13470.8044,6289.7549,2927.0647,6238.298,10096.97,7348.142,4673.3922,12233.828,32108.66282,8965.79575,2304.0022,9487.6442,1121.8739,9549.5651,2217.46915,1628.4709,12982.8747,11674.13,7160.094,6358.77645,11534.87265,4527.18295,3875.7341,12609.88702,28468.91901,2730.10785,3353.284,14474.675,9500.57305,26467.09737,4746.344,7518.02535,3279.86855,8596.8278,10702.6424,4992.3764,2527.81865,1759.338,2322.6218,7804.1605,2902.9065,9704.66805,4889.0368,25517.11363,4500.33925,16796.41194,4915.05985,7624.63,8410.04685,28340.18885,4518.82625,3378.91,7144.86265,10118.424,5484.4673,7986.47525,7418.522,13887.9685,6551.7501,5267.81815,1972.95,21232.18226,8627.5411,4433.3877,4438.2634,23241.47453,9957.7216,8269.044,36580.28216,8765.249,5383.536,12124.9924,2709.24395,3987.926,12495.29085,26018.95052,8798.593,1711.0268,8569.8618,2020.177,21595.38229,9850.432,6877.9801,4137.5227,12950.0712,12094.478,2250.8352,22493.65964,1704.70015,3161.454,11394.06555,7325.0482,3594.17085,8023.13545,14394.5579,9288.0267,3353.4703,10594.50155,8277.523,17929.30337,2480.9791,4462.7218,1981.5819,11554.2236,6548.19505,5708.867,7045.499,8978.1851,5757.41345,14349.8544,10928.849,13974.45555,1909.52745,12096.6512,13204.28565,4562.8421,8551.347,2102.2647,15161.5344,11884.04858,4454.40265,5855.9025,4076.497,15019.76005,10796.35025,11353.2276,9748.9106,10577.087,11286.5387,3591.48,11299.343,4561.1885,1674.6323,23045.56616,3227.1211,11253.421,3471.4096,11363.2832,20420.60465,10338.9316,8988.15875,10493.9458,2904.088,8605.3615,11512.405,5312.16985,2396.0959,10807.4863,9222.4026,5693.4305,8347.1643,18903.49141,14254.6082,10214.636,5836.5204,14358.36437,1728.897,8582.3023,3693.428,20709.02034,9991.03765,19673.33573,11085.5868,7623.518,3176.2877,3704.3545,9048.0273,7954.517,27117.99378,6338.0756,9630.397,11289.10925,2261.5688,10791.96,5979.731,2203.73595,12235.8392,5630.45785,11015.1747,7228.21565,14426.07385,2459.7201,3989.841,7727.2532,5124.1887,18963.17192,2200.83085,7153.5539,5227.98875,10982.5013,4529.477,4670.64,6112.35295,11093.6229,6457.8434,4433.9159,2154.361,6496.886,2899.48935,7650.77375,2850.68375,2632.992,9447.3824,8603.8234,13844.7972,13126.67745,5327.40025,13725.47184,13019.16105,8671.19125,4134.08245,18838.70366,5699.8375,6393.60345,4934.705,6198.7518,8733.22925,2055.3249,9964.06,5116.5004,36910.60803,12347.172,5373.36425,23563.01618,1702.4553,10806.839,3956.07145,12890.05765,5415.6612,4058.1161,7537.1639,4718.20355,6593.5083,8442.667,6858.4796,4795.6568,6640.54485,7162.0122,10594.2257,11938.25595,12479.70895,11345.519,8515.7587,2699.56835,14449.8544,12224.35085,6985.50695,3238.4357,4296.2712,3171.6149,1135.9407,5615.369,9101.798,6059.173,1633.9618,1241.565,15828.82173,4415.1588,6474.013,11436.73815,11305.93455,30063.58055,10197.7722,4544.2348,3277.161,6770.1925,7337.748,10370.91255,10704.47,1880.487,8615.3,3292.52985,3021.80915,14478.33015,4747.0529,10959.33,2741.948,4357.04365,4189.1131,8283.6807,1720.3537,8534.6718,3732.6251,5472.449,7147.4728,7133.9025,1515.3449,9301.89355,11931.12525,1964.78,1708.92575,4340.4409,5261.46945,2710.82855,3208.787,2464.6188,6875.961,6940.90985,4571.41305,4536.259,11272.33139,1731.677,1163.4627,19496.71917,7201.70085,5425.02335,12981.3457,4239.89265,13143.33665,7050.0213,9377.9047,22395.74424,10325.206,12629.1656,10795.93733,11411.685,10600.5483,2205.9808,1629.8335,2007.945],\"sizemode\":\"area\",\"sizeref\":159.426070025,\"symbol\":\"circle\"},\"mode\":\"markers\",\"name\":\"no\",\"showlegend\":true,\"x\":[33.77,33.0,22.705,28.88,25.74,33.44,27.74,29.83,25.84,26.22,34.4,39.82,24.6,30.78,23.845,40.3,36.005,32.4,34.1,28.025,27.72,23.085,32.775,17.385,26.315,28.6,28.31,20.425,32.965,20.8,26.6,36.63,21.78,30.8,37.05,37.3,38.665,34.77,24.53,35.625,33.63,28.69,31.825,37.335,27.36,33.66,24.7,25.935,28.9,39.1,26.315,36.19,28.5,28.1,32.01,27.4,34.01,29.59,35.53,39.805,32.965,26.885,38.285,41.23,27.2,27.74,26.98,39.49,24.795,34.77,37.62,30.8,38.28,31.6,25.46,30.115,27.5,28.4,30.875,27.94,33.63,29.7,30.8,35.72,32.205,28.595,49.06,27.17,23.37,37.1,23.75,28.975,33.915,28.785,37.4,34.7,26.505,22.04,35.9,25.555,28.785,28.05,34.1,25.175,31.9,36.0,22.42,32.49,29.735,38.83,37.73,37.43,28.4,24.13,29.7,37.145,25.46,39.52,27.83,39.6,29.8,29.64,28.215,37.0,33.155,31.825,18.905,41.47,30.3,15.96,34.8,33.345,27.835,29.2,28.9,33.155,28.595,38.28,19.95,26.41,30.69,29.92,30.9,32.2,32.11,31.57,26.2,25.74,26.6,34.43,30.59,32.8,28.6,18.05,39.33,32.11,32.23,24.035,22.3,28.88,26.4,31.8,41.23,33.0,30.875,28.5,26.73,30.9,37.1,26.6,23.1,29.92,23.21,33.7,33.25,30.8,33.88,38.06,41.91,31.635,25.46,36.195,27.83,17.8,27.5,24.51,26.73,38.39,38.06,22.135,26.8,35.3,30.02,38.06,35.86,20.9,28.975,30.3,25.365,40.15,24.415,25.2,38.06,32.395,30.2,25.84,29.37,37.05,27.455,27.55,26.6,20.615,24.3,31.79,21.56,27.645,32.395,31.2,26.62,48.07,26.22,26.4,33.4,29.64,28.82,26.8,22.99,28.88,27.55,37.51,33.0,38.0,33.345,27.5,33.33,34.865,33.06,26.6,24.7,35.86,33.25,32.205,32.775,27.645,37.335,25.27,29.64,40.945,27.2,34.105,23.21,36.7,31.16,28.785,35.72,34.5,25.74,27.55,27.72,27.6,30.02,27.55,36.765,41.47,29.26,35.75,33.345,29.92,27.835,23.18,25.6,27.7,35.245,38.28,27.6,43.89,29.83,41.91,20.79,32.3,30.5,26.4,21.89,30.78,32.3,24.985,32.015,30.4,21.09,22.23,33.155,33.33,30.115,31.46,33.0,43.34,22.135,34.4,39.05,25.365,22.61,30.21,35.625,37.43,31.445,31.35,32.3,19.855,34.4,31.02,25.6,38.17,20.6,47.52,32.965,32.3,20.4,38.38,24.31,23.6,21.12,30.03,17.48,23.9,35.15,35.64,34.1,39.16,30.59,30.2,24.31,27.265,29.165,16.815,30.4,33.1,20.235,26.9,30.5,28.595,33.11,31.73,28.9,46.75,29.45,32.68,43.01,36.52,33.1,29.64,25.65,29.6,38.6,29.6,24.13,23.4,29.735,46.53,37.4,30.14,30.495,39.6,33.0,36.63,38.095,25.935,25.175,28.7,33.82,24.32,24.09,32.67,30.115,29.8,33.345,35.625,36.85,32.56,41.325,37.51,31.35,39.5,34.3,31.065,21.47,28.7,31.16,32.9,25.08,25.08,43.4,27.93,23.6,28.7,23.98,39.2,26.03,28.93,30.875,31.35,23.75,25.27,28.7,32.11,33.66,22.42,30.4,35.7,35.31,30.495,31.0,30.875,27.36,44.22,33.915,37.73,33.88,30.59,25.8,39.425,25.46,31.73,29.7,36.19,40.48,28.025,38.9,30.2,28.05,31.35,38.0,31.79,36.3,30.21,35.435,46.7,28.595,30.8,28.93,21.4,31.73,41.325,23.8,33.44,34.21,35.53,19.95,32.68,30.5,44.77,32.12,30.495,40.565,30.59,31.9,29.1,37.29,43.12,36.86,34.295,27.17,26.84,30.2,23.465,25.46,30.59,45.43,23.65,20.7,28.27,20.235,35.91,30.69,29.0,19.57,31.13,40.26,33.725,29.48,33.25,32.6,37.525,39.16,31.635,25.3,39.05,34.1,25.175,26.98,29.37,34.8,33.155,19.0,33.0,28.595,37.1,31.4,21.3,28.785,26.03,28.88,42.46,38.0,36.1,29.3,35.53,22.705,39.7,38.19,24.51,38.095,33.66,42.4,33.915,34.96,35.31,30.78,26.22,23.37,28.5,32.965,42.68,39.6,31.13,36.3,35.2,42.4,33.155,35.91,28.785,46.53,23.98,31.54,33.66,28.7,29.81,31.57,31.16,29.7,31.02,21.375,40.81,36.1,23.18,17.4,20.3,24.32,18.5,26.41,26.125,41.69,24.1,27.36,36.2,32.395,23.655,34.8,40.185,32.3,33.725,39.27,34.87,44.745,41.47,26.41,29.545,32.9,28.69,30.495,27.74,35.2,23.54,30.685,40.47,22.6,28.9,22.61,24.32,36.67,33.44,40.66,36.6,37.4,35.4,27.075,28.405,40.28,36.08,21.4,30.1,27.265,32.1,34.77,23.7,24.035,26.62,26.41,30.115,27.0,21.755,36.0,30.875,28.975,37.905,22.77,33.63,27.645,22.8,37.43,34.58,35.2,26.03,25.175,31.825,32.3,29.0,39.7,19.475,36.1,26.7,36.48,34.2,33.33,32.3,39.805,34.32,28.88,41.14,35.97,29.26,27.7,36.955,36.86,22.515,29.92,41.8,27.6,23.18,31.92,44.22,22.895,33.1,26.18,35.97,22.3,26.51,35.815,41.42,36.575,30.14,25.84,30.8,42.94,21.01,22.515,34.43,31.46,24.225,37.1,33.7,17.67,31.13,29.81,24.32,31.825,21.85,33.1,25.84,23.845,34.39,33.82,35.97,31.5,28.31,23.465,31.35,31.1,24.7,30.495,34.2,50.38,24.1,32.775,32.3,23.75,29.6,32.23,28.1,28.0,33.535,19.855,25.4,29.9,37.29,43.7,23.655,24.3,36.2,29.48,24.86,30.1,21.85,28.12,27.1,33.44,28.8,29.5,34.8,27.36,22.135,26.695,30.02,39.5,33.63,29.04,24.035,32.11,44.0,25.555,40.26,22.515,22.515,27.265,36.85,35.1,29.355,32.585,32.34,39.8,28.31,26.695,27.5,24.605,33.99,28.2,34.21,25.0,33.2,31.0,35.815,23.2,32.11,23.4,20.1,39.16,34.21,46.53,32.5,25.8,35.3,37.18,27.5,29.735,24.225,26.18,29.48,23.21,46.09,40.185,22.61,39.93,35.8,35.8,31.255,18.335,28.405,39.49,26.79,36.67,39.615,25.9,35.2,24.795,36.765,27.1,25.365,25.745,34.32,28.16,23.56,20.235,40.5,35.42,40.15,29.15,39.995,29.92,25.46,21.375,30.59,30.115,25.8,30.115,27.645,34.675,19.8,27.835,31.6,28.27,23.275,34.1,36.85,36.29,26.885,25.8,29.6,19.19,31.73,29.26,24.985,27.74,22.8,33.33,32.3,27.6,25.46,24.605,34.2,35.815,32.68,37.0,23.32,45.32,34.6,18.715,31.6,17.29,27.93,38.38,23.0,28.88,27.265,23.085,25.8,35.245,25.08,22.515,36.955,26.41,29.83,21.47,27.645,28.9,31.79,39.49,33.82,32.01,27.94,28.595,25.6,25.3,37.29,42.655,21.66,31.9,31.445,31.255,28.88,18.335,29.59,32.0,26.03,33.66,21.78,27.835,19.95,31.5,30.495,28.975,31.54,47.74,22.1,29.83,32.7,33.7,31.35,33.77,30.875,33.99,28.6,38.94,36.08,29.8,31.24,29.925,26.22,30.0,20.35,32.3,26.315,24.51,32.67,29.64,19.95,38.17,32.395,25.08,29.9,35.86,32.8,18.6,23.87,45.9,40.28,18.335,33.82,28.12,25.0,22.23,30.25,37.07,32.6,24.86,32.34,32.3,32.775,31.92,21.5,34.1,30.305,36.48,35.815,27.93,22.135,23.18,30.59,41.1,34.58,42.13,38.83,28.215,28.31,26.125,40.37,24.6,35.2,34.105,41.91,29.26,32.11,27.1,27.4,34.865,41.325,29.925,30.3,27.36,23.56,32.68,28.0,32.775,21.755,32.395,36.575,21.755,27.93,33.55,29.355,25.8,24.32,40.375,32.11,32.3,17.86,34.8,37.1,30.875,34.1,21.47,33.3,31.255,39.14,25.08,37.29,30.21,21.945,24.97,25.3,23.94,39.82,16.815,37.18,34.43,30.305,24.605,23.3,27.83,31.065,21.66,28.215,22.705,42.13,21.28,33.11,33.33,24.3,25.7,29.4,39.82,19.8,29.3,27.72,37.9,36.385,27.645,37.715,23.18,20.52,37.1,28.05,29.9,33.345,30.5,33.3,27.5,33.915,34.485,25.52,27.61,23.7,30.4,29.735,26.79,33.33,30.03,24.32,17.29,25.9,34.32,19.95,23.21,25.745,25.175,22.0,26.125,26.51,27.455,25.745,20.8,27.72,32.2,26.315,26.695,42.9,28.31,20.6,53.13,39.71,26.315,31.065,38.83,25.935,33.535,32.87,30.03,24.225,38.6,25.74,33.4,44.7,30.97,31.92,36.85,25.8],\"xaxis\":\"x\",\"y\":[1725.5523,4449.462,21984.47061,3866.8552,3756.6216,8240.5896,7281.5056,6406.4107,28923.13692,2721.3208,1826.843,11090.7178,1837.237,10797.3362,2395.17155,10602.385,13228.84695,4149.736,1137.011,6203.90175,14001.1338,14451.83515,12268.63225,2775.19215,2198.18985,4687.797,13770.0979,1625.43375,15612.19335,2302.3,3046.062,4949.7587,6272.4772,6313.759,6079.6715,20630.28351,3393.35635,3556.9223,12629.8967,2211.13075,3579.8287,8059.6791,13607.36875,5989.52365,8606.2174,4504.6624,30166.61817,4133.64165,1743.214,14235.072,6389.37785,5920.1041,6799.458,11741.726,11946.6259,7726.854,11356.6609,3947.4131,1532.4697,2755.02095,6571.02435,4441.21315,7935.29115,11033.6617,11073.176,8026.6666,11082.5772,2026.9741,10942.13205,5729.0053,3766.8838,12105.32,10226.2842,6186.127,3645.0894,21344.8467,5003.853,2331.519,3877.30425,2867.1196,10825.2537,11881.358,4646.759,2404.7338,11488.31695,30259.99556,11381.3254,8601.3293,6686.4313,7740.337,1705.6245,2257.47525,10115.00885,3385.39915,9634.538,6082.405,12815.44495,13616.3586,11163.568,1632.56445,2457.21115,2155.6815,1261.442,2045.68525,27322.73386,2166.732,27375.90478,3490.5491,18157.876,5138.2567,9877.6077,10959.6947,1842.519,5125.2157,7789.635,6334.34355,7077.1894,6948.7008,19749.38338,10450.552,5152.134,5028.1466,10407.08585,4830.63,6128.79745,2719.27975,4827.90495,13405.3903,8116.68,1694.7964,5246.047,2855.43755,6455.86265,10436.096,8823.279,8538.28845,11735.87905,1631.8212,4005.4225,7419.4779,7731.4271,3981.9768,5325.651,6775.961,4922.9159,12557.6053,4883.866,2137.6536,12044.342,1137.4697,1639.5631,5649.715,8516.829,9644.2525,14901.5167,2130.6759,8871.1517,13012.20865,7147.105,4337.7352,11743.299,13880.949,6610.1097,1980.07,8162.71625,3537.703,5002.7827,8520.026,7371.772,10355.641,2483.736,3392.9768,25081.76784,5012.471,10564.8845,5253.524,11987.1682,2689.4954,24227.33724,7358.17565,9225.2564,7443.64305,14001.2867,1727.785,12333.828,6710.1919,1615.7667,4463.2051,7152.6714,5354.07465,35160.13457,7196.867,24476.47851,12648.7034,1986.9334,1832.094,4040.55825,4260.744,13047.33235,5400.9805,11520.09985,11837.16,20462.99766,14590.63205,7441.053,9282.4806,1719.4363,7265.7025,9617.66245,2523.1695,9715.841,2803.69785,2150.469,12928.7911,9855.1314,4237.12655,11879.10405,9625.92,7742.1098,9432.9253,14256.1928,25992.82104,3172.018,20277.80751,2156.7518,3906.127,1704.5681,9249.4952,6746.7425,12265.5069,4349.462,12646.207,19442.3535,20177.67113,4151.0287,11944.59435,7749.1564,8444.474,1737.376,8124.4084,9722.7695,8835.26495,10435.06525,7421.19455,4667.60765,4894.7533,24671.66334,11566.30055,2866.091,6600.20595,3561.8889,9144.565,13429.0354,11658.37915,19144.57652,13822.803,12142.5786,13937.6665,8232.6388,18955.22017,13352.0998,13217.0945,13981.85035,10977.2063,6184.2994,4889.9995,8334.45755,5478.0368,1635.73365,11830.6072,8932.084,3554.203,12404.8791,14133.03775,24603.04837,8944.1151,9620.3307,1837.2819,1607.5101,10043.249,4751.07,2597.779,3180.5101,9778.3472,13430.265,8017.06115,8116.26885,3481.868,13415.0381,12029.2867,7639.41745,1391.5287,16455.70785,27000.98473,20781.48892,5846.9176,8302.53565,1261.859,11856.4115,30284.64294,3176.8159,4618.0799,10736.87075,2138.0707,8964.06055,9290.1395,9411.005,7526.70645,8522.003,16586.49771,14988.432,1631.6683,9264.797,8083.9198,14692.66935,10269.46,3260.199,11396.9002,4185.0979,8539.671,6652.5288,4074.4537,1621.3402,5080.096,2134.9015,7345.7266,9140.951,14418.2804,2727.3951,8968.33,9788.8659,6555.07035,7323.734819,3167.45585,18804.7524,23082.95533,4906.40965,5969.723,12638.195,4243.59005,13919.8229,2254.7967,5926.846,12592.5345,2897.3235,4738.2682,1149.3959,28287.89766,7345.084,12730.9996,11454.0215,5910.944,4762.329,7512.267,4032.2407,1969.614,1769.53165,4686.3887,21797.0004,11881.9696,11840.77505,10601.412,7682.67,10381.4787,15230.32405,11165.41765,1632.03625,13224.693,12643.3778,23288.9284,2201.0971,2497.0383,2203.47185,1744.465,20878.78443,2534.39375,1534.3045,1824.2854,15555.18875,9304.7019,1622.1885,9880.068,9563.029,4347.02335,12475.3513,1253.936,10461.9794,1748.774,24513.09126,2196.4732,12574.049,1967.0227,4931.647,8027.968,8211.1002,13470.86,6837.3687,5974.3847,6796.86325,2643.2685,3077.0955,3044.2133,11455.28,11763.0009,2498.4144,9361.3268,1256.299,11362.755,27724.28875,8413.46305,5240.765,3857.75925,25656.57526,3994.1778,9866.30485,5397.6167,11482.63485,24059.68019,9861.025,8342.90875,1708.0014,14043.4767,12925.886,19214.70553,13831.1152,6067.12675,5972.378,8825.086,8233.0975,27346.04207,6196.448,3056.3881,13887.204,10231.4999,3268.84665,11538.421,3213.62205,13390.559,3972.9247,12957.118,11187.6567,17878.90068,3847.674,8334.5896,3935.1799,1646.4297,9193.8385,10923.9332,2494.022,9058.7303,2801.2588,2128.43105,6373.55735,7256.7231,11552.904,3761.292,2219.4451,4753.6368,31620.00106,13224.05705,12222.8983,1664.9996,9724.53,3206.49135,12913.9924,1639.5631,6356.2707,17626.23951,1242.816,4779.6023,3861.20965,13635.6379,5976.8311,11842.442,8428.0693,2566.4707,5709.1644,8823.98575,7640.3092,5594.8455,7441.501,33471.97189,1633.0444,9174.13565,11070.535,16085.1275,9283.562,3558.62025,4435.0942,8547.6913,6571.544,2207.69745,6753.038,1880.07,11658.11505,10713.644,3659.346,9182.17,12129.61415,3736.4647,6748.5912,11326.71487,11365.952,10085.846,1977.815,3366.6697,7173.35995,9391.346,14410.9321,2709.1119,24915.04626,12949.1554,6666.243,13143.86485,4466.6214,18806.14547,10141.1362,6123.5688,8252.2843,1712.227,12430.95335,9800.8882,10579.711,8280.6227,8527.532,12244.531,3410.324,4058.71245,26392.26029,14394.39815,6435.6237,22192.43711,5148.5526,1136.3994,8703.456,6500.2359,4837.5823,3943.5954,4399.731,6185.3208,7222.78625,12485.8009,12363.547,10156.7832,2585.269,1242.26,9863.4718,4766.022,11244.3769,7729.64575,5438.7491,26236.57997,2104.1134,8068.185,2362.22905,2352.96845,3577.999,3201.24515,29186.48236,10976.24575,3500.6123,2020.5523,9541.69555,9504.3103,5385.3379,8930.93455,5375.038,10264.4421,6113.23105,5469.0066,1727.54,10107.2206,8310.83915,1984.4533,2457.502,12146.971,9566.9909,13112.6048,10848.1343,12231.6136,9875.6804,11264.541,12979.358,1263.249,10106.13425,6664.68595,2217.6012,6781.3542,10065.413,4234.927,9447.25035,14007.222,9583.8933,3484.331,8604.48365,3757.8448,8827.2099,9910.35985,11737.84884,1627.28245,8556.907,3062.50825,1906.35825,14210.53595,11833.7823,17128.42608,5031.26955,7985.815,5428.7277,3925.7582,2416.955,3070.8087,9095.06825,11842.62375,8062.764,7050.642,14319.031,6933.24225,27941.28758,11150.78,12797.20962,7261.741,10560.4917,6986.697,7448.40395,5934.3798,9869.8102,1146.7966,9386.1613,4350.5144,6414.178,12741.16745,1917.3184,5209.57885,13457.9608,5662.225,1252.407,2731.9122,7209.4918,4266.1658,4719.52405,11848.141,7046.7222,14313.8463,2103.08,1815.8759,7731.85785,28476.73499,2136.88225,1131.5066,3309.7926,9414.92,6360.9936,11013.7119,4428.88785,5584.3057,1877.9294,2842.76075,3597.596,7445.918,2680.9493,1621.8827,8219.2039,12523.6048,16069.08475,6117.4945,13393.756,5266.3656,4719.73655,11743.9341,5377.4578,7160.3303,4402.233,11657.7189,6402.29135,12622.1795,1526.312,12323.936,10072.05505,9872.701,2438.0552,2974.126,10601.63225,14119.62,11729.6795,1875.344,18218.16139,10965.446,7151.092,12269.68865,5458.04645,8782.469,6600.361,1141.4451,11576.13,13129.60345,4391.652,8457.818,3392.3652,5966.8874,6849.026,8891.1395,2690.1138,26140.3603,6653.7886,6282.235,6311.952,3443.064,2789.0574,2585.85065,4877.98105,5272.1758,1682.597,11945.1327,7243.8136,10422.91665,13555.0049,13063.883,2221.56445,1634.5734,2117.33885,8688.85885,4661.28635,8125.7845,12644.589,4564.19145,4846.92015,7633.7206,15170.069,2639.0429,14382.70905,7626.993,5257.50795,2473.3341,13041.921,5245.2269,13451.122,13462.52,5488.262,4320.41085,6250.435,25333.33284,2913.569,12032.326,13470.8044,6289.7549,2927.0647,6238.298,10096.97,7348.142,4673.3922,12233.828,32108.66282,8965.79575,2304.0022,9487.6442,1121.8739,9549.5651,2217.46915,1628.4709,12982.8747,11674.13,7160.094,6358.77645,11534.87265,4527.18295,3875.7341,12609.88702,28468.91901,2730.10785,3353.284,14474.675,9500.57305,26467.09737,4746.344,7518.02535,3279.86855,8596.8278,10702.6424,4992.3764,2527.81865,1759.338,2322.6218,7804.1605,2902.9065,9704.66805,4889.0368,25517.11363,4500.33925,16796.41194,4915.05985,7624.63,8410.04685,28340.18885,4518.82625,3378.91,7144.86265,10118.424,5484.4673,7986.47525,7418.522,13887.9685,6551.7501,5267.81815,1972.95,21232.18226,8627.5411,4433.3877,4438.2634,23241.47453,9957.7216,8269.044,36580.28216,8765.249,5383.536,12124.9924,2709.24395,3987.926,12495.29085,26018.95052,8798.593,1711.0268,8569.8618,2020.177,21595.38229,9850.432,6877.9801,4137.5227,12950.0712,12094.478,2250.8352,22493.65964,1704.70015,3161.454,11394.06555,7325.0482,3594.17085,8023.13545,14394.5579,9288.0267,3353.4703,10594.50155,8277.523,17929.30337,2480.9791,4462.7218,1981.5819,11554.2236,6548.19505,5708.867,7045.499,8978.1851,5757.41345,14349.8544,10928.849,13974.45555,1909.52745,12096.6512,13204.28565,4562.8421,8551.347,2102.2647,15161.5344,11884.04858,4454.40265,5855.9025,4076.497,15019.76005,10796.35025,11353.2276,9748.9106,10577.087,11286.5387,3591.48,11299.343,4561.1885,1674.6323,23045.56616,3227.1211,11253.421,3471.4096,11363.2832,20420.60465,10338.9316,8988.15875,10493.9458,2904.088,8605.3615,11512.405,5312.16985,2396.0959,10807.4863,9222.4026,5693.4305,8347.1643,18903.49141,14254.6082,10214.636,5836.5204,14358.36437,1728.897,8582.3023,3693.428,20709.02034,9991.03765,19673.33573,11085.5868,7623.518,3176.2877,3704.3545,9048.0273,7954.517,27117.99378,6338.0756,9630.397,11289.10925,2261.5688,10791.96,5979.731,2203.73595,12235.8392,5630.45785,11015.1747,7228.21565,14426.07385,2459.7201,3989.841,7727.2532,5124.1887,18963.17192,2200.83085,7153.5539,5227.98875,10982.5013,4529.477,4670.64,6112.35295,11093.6229,6457.8434,4433.9159,2154.361,6496.886,2899.48935,7650.77375,2850.68375,2632.992,9447.3824,8603.8234,13844.7972,13126.67745,5327.40025,13725.47184,13019.16105,8671.19125,4134.08245,18838.70366,5699.8375,6393.60345,4934.705,6198.7518,8733.22925,2055.3249,9964.06,5116.5004,36910.60803,12347.172,5373.36425,23563.01618,1702.4553,10806.839,3956.07145,12890.05765,5415.6612,4058.1161,7537.1639,4718.20355,6593.5083,8442.667,6858.4796,4795.6568,6640.54485,7162.0122,10594.2257,11938.25595,12479.70895,11345.519,8515.7587,2699.56835,14449.8544,12224.35085,6985.50695,3238.4357,4296.2712,3171.6149,1135.9407,5615.369,9101.798,6059.173,1633.9618,1241.565,15828.82173,4415.1588,6474.013,11436.73815,11305.93455,30063.58055,10197.7722,4544.2348,3277.161,6770.1925,7337.748,10370.91255,10704.47,1880.487,8615.3,3292.52985,3021.80915,14478.33015,4747.0529,10959.33,2741.948,4357.04365,4189.1131,8283.6807,1720.3537,8534.6718,3732.6251,5472.449,7147.4728,7133.9025,1515.3449,9301.89355,11931.12525,1964.78,1708.92575,4340.4409,5261.46945,2710.82855,3208.787,2464.6188,6875.961,6940.90985,4571.41305,4536.259,11272.33139,1731.677,1163.4627,19496.71917,7201.70085,5425.02335,12981.3457,4239.89265,13143.33665,7050.0213,9377.9047,22395.74424,10325.206,12629.1656,10795.93733,11411.685,10600.5483,2205.9808,1629.8335,2007.945],\"yaxis\":\"y\",\"type\":\"scattergl\"}],                        {\"template\":{\"data\":{\"barpolar\":[{\"marker\":{\"line\":{\"color\":\"white\",\"width\":0.5},\"pattern\":{\"fillmode\":\"overlay\",\"size\":10,\"solidity\":0.2}},\"type\":\"barpolar\"}],\"bar\":[{\"error_x\":{\"color\":\"#2a3f5f\"},\"error_y\":{\"color\":\"#2a3f5f\"},\"marker\":{\"line\":{\"color\":\"white\",\"width\":0.5},\"pattern\":{\"fillmode\":\"overlay\",\"size\":10,\"solidity\":0.2}},\"type\":\"bar\"}],\"carpet\":[{\"aaxis\":{\"endlinecolor\":\"#2a3f5f\",\"gridcolor\":\"#C8D4E3\",\"linecolor\":\"#C8D4E3\",\"minorgridcolor\":\"#C8D4E3\",\"startlinecolor\":\"#2a3f5f\"},\"baxis\":{\"endlinecolor\":\"#2a3f5f\",\"gridcolor\":\"#C8D4E3\",\"linecolor\":\"#C8D4E3\",\"minorgridcolor\":\"#C8D4E3\",\"startlinecolor\":\"#2a3f5f\"},\"type\":\"carpet\"}],\"choropleth\":[{\"colorbar\":{\"outlinewidth\":0,\"ticks\":\"\"},\"type\":\"choropleth\"}],\"contourcarpet\":[{\"colorbar\":{\"outlinewidth\":0,\"ticks\":\"\"},\"type\":\"contourcarpet\"}],\"contour\":[{\"colorbar\":{\"outlinewidth\":0,\"ticks\":\"\"},\"colorscale\":[[0.0,\"#0d0887\"],[0.1111111111111111,\"#46039f\"],[0.2222222222222222,\"#7201a8\"],[0.3333333333333333,\"#9c179e\"],[0.4444444444444444,\"#bd3786\"],[0.5555555555555556,\"#d8576b\"],[0.6666666666666666,\"#ed7953\"],[0.7777777777777778,\"#fb9f3a\"],[0.8888888888888888,\"#fdca26\"],[1.0,\"#f0f921\"]],\"type\":\"contour\"}],\"heatmapgl\":[{\"colorbar\":{\"outlinewidth\":0,\"ticks\":\"\"},\"colorscale\":[[0.0,\"#0d0887\"],[0.1111111111111111,\"#46039f\"],[0.2222222222222222,\"#7201a8\"],[0.3333333333333333,\"#9c179e\"],[0.4444444444444444,\"#bd3786\"],[0.5555555555555556,\"#d8576b\"],[0.6666666666666666,\"#ed7953\"],[0.7777777777777778,\"#fb9f3a\"],[0.8888888888888888,\"#fdca26\"],[1.0,\"#f0f921\"]],\"type\":\"heatmapgl\"}],\"heatmap\":[{\"colorbar\":{\"outlinewidth\":0,\"ticks\":\"\"},\"colorscale\":[[0.0,\"#0d0887\"],[0.1111111111111111,\"#46039f\"],[0.2222222222222222,\"#7201a8\"],[0.3333333333333333,\"#9c179e\"],[0.4444444444444444,\"#bd3786\"],[0.5555555555555556,\"#d8576b\"],[0.6666666666666666,\"#ed7953\"],[0.7777777777777778,\"#fb9f3a\"],[0.8888888888888888,\"#fdca26\"],[1.0,\"#f0f921\"]],\"type\":\"heatmap\"}],\"histogram2dcontour\":[{\"colorbar\":{\"outlinewidth\":0,\"ticks\":\"\"},\"colorscale\":[[0.0,\"#0d0887\"],[0.1111111111111111,\"#46039f\"],[0.2222222222222222,\"#7201a8\"],[0.3333333333333333,\"#9c179e\"],[0.4444444444444444,\"#bd3786\"],[0.5555555555555556,\"#d8576b\"],[0.6666666666666666,\"#ed7953\"],[0.7777777777777778,\"#fb9f3a\"],[0.8888888888888888,\"#fdca26\"],[1.0,\"#f0f921\"]],\"type\":\"histogram2dcontour\"}],\"histogram2d\":[{\"colorbar\":{\"outlinewidth\":0,\"ticks\":\"\"},\"colorscale\":[[0.0,\"#0d0887\"],[0.1111111111111111,\"#46039f\"],[0.2222222222222222,\"#7201a8\"],[0.3333333333333333,\"#9c179e\"],[0.4444444444444444,\"#bd3786\"],[0.5555555555555556,\"#d8576b\"],[0.6666666666666666,\"#ed7953\"],[0.7777777777777778,\"#fb9f3a\"],[0.8888888888888888,\"#fdca26\"],[1.0,\"#f0f921\"]],\"type\":\"histogram2d\"}],\"histogram\":[{\"marker\":{\"pattern\":{\"fillmode\":\"overlay\",\"size\":10,\"solidity\":0.2}},\"type\":\"histogram\"}],\"mesh3d\":[{\"colorbar\":{\"outlinewidth\":0,\"ticks\":\"\"},\"type\":\"mesh3d\"}],\"parcoords\":[{\"line\":{\"colorbar\":{\"outlinewidth\":0,\"ticks\":\"\"}},\"type\":\"parcoords\"}],\"pie\":[{\"automargin\":true,\"type\":\"pie\"}],\"scatter3d\":[{\"line\":{\"colorbar\":{\"outlinewidth\":0,\"ticks\":\"\"}},\"marker\":{\"colorbar\":{\"outlinewidth\":0,\"ticks\":\"\"}},\"type\":\"scatter3d\"}],\"scattercarpet\":[{\"marker\":{\"colorbar\":{\"outlinewidth\":0,\"ticks\":\"\"}},\"type\":\"scattercarpet\"}],\"scattergeo\":[{\"marker\":{\"colorbar\":{\"outlinewidth\":0,\"ticks\":\"\"}},\"type\":\"scattergeo\"}],\"scattergl\":[{\"marker\":{\"colorbar\":{\"outlinewidth\":0,\"ticks\":\"\"}},\"type\":\"scattergl\"}],\"scattermapbox\":[{\"marker\":{\"colorbar\":{\"outlinewidth\":0,\"ticks\":\"\"}},\"type\":\"scattermapbox\"}],\"scatterpolargl\":[{\"marker\":{\"colorbar\":{\"outlinewidth\":0,\"ticks\":\"\"}},\"type\":\"scatterpolargl\"}],\"scatterpolar\":[{\"marker\":{\"colorbar\":{\"outlinewidth\":0,\"ticks\":\"\"}},\"type\":\"scatterpolar\"}],\"scatter\":[{\"marker\":{\"colorbar\":{\"outlinewidth\":0,\"ticks\":\"\"}},\"type\":\"scatter\"}],\"scatterternary\":[{\"marker\":{\"colorbar\":{\"outlinewidth\":0,\"ticks\":\"\"}},\"type\":\"scatterternary\"}],\"surface\":[{\"colorbar\":{\"outlinewidth\":0,\"ticks\":\"\"},\"colorscale\":[[0.0,\"#0d0887\"],[0.1111111111111111,\"#46039f\"],[0.2222222222222222,\"#7201a8\"],[0.3333333333333333,\"#9c179e\"],[0.4444444444444444,\"#bd3786\"],[0.5555555555555556,\"#d8576b\"],[0.6666666666666666,\"#ed7953\"],[0.7777777777777778,\"#fb9f3a\"],[0.8888888888888888,\"#fdca26\"],[1.0,\"#f0f921\"]],\"type\":\"surface\"}],\"table\":[{\"cells\":{\"fill\":{\"color\":\"#EBF0F8\"},\"line\":{\"color\":\"white\"}},\"header\":{\"fill\":{\"color\":\"#C8D4E3\"},\"line\":{\"color\":\"white\"}},\"type\":\"table\"}]},\"layout\":{\"annotationdefaults\":{\"arrowcolor\":\"#2a3f5f\",\"arrowhead\":0,\"arrowwidth\":1},\"autotypenumbers\":\"strict\",\"coloraxis\":{\"colorbar\":{\"outlinewidth\":0,\"ticks\":\"\"}},\"colorscale\":{\"diverging\":[[0,\"#8e0152\"],[0.1,\"#c51b7d\"],[0.2,\"#de77ae\"],[0.3,\"#f1b6da\"],[0.4,\"#fde0ef\"],[0.5,\"#f7f7f7\"],[0.6,\"#e6f5d0\"],[0.7,\"#b8e186\"],[0.8,\"#7fbc41\"],[0.9,\"#4d9221\"],[1,\"#276419\"]],\"sequential\":[[0.0,\"#0d0887\"],[0.1111111111111111,\"#46039f\"],[0.2222222222222222,\"#7201a8\"],[0.3333333333333333,\"#9c179e\"],[0.4444444444444444,\"#bd3786\"],[0.5555555555555556,\"#d8576b\"],[0.6666666666666666,\"#ed7953\"],[0.7777777777777778,\"#fb9f3a\"],[0.8888888888888888,\"#fdca26\"],[1.0,\"#f0f921\"]],\"sequentialminus\":[[0.0,\"#0d0887\"],[0.1111111111111111,\"#46039f\"],[0.2222222222222222,\"#7201a8\"],[0.3333333333333333,\"#9c179e\"],[0.4444444444444444,\"#bd3786\"],[0.5555555555555556,\"#d8576b\"],[0.6666666666666666,\"#ed7953\"],[0.7777777777777778,\"#fb9f3a\"],[0.8888888888888888,\"#fdca26\"],[1.0,\"#f0f921\"]]},\"colorway\":[\"#636efa\",\"#EF553B\",\"#00cc96\",\"#ab63fa\",\"#FFA15A\",\"#19d3f3\",\"#FF6692\",\"#B6E880\",\"#FF97FF\",\"#FECB52\"],\"font\":{\"color\":\"#2a3f5f\"},\"geo\":{\"bgcolor\":\"white\",\"lakecolor\":\"white\",\"landcolor\":\"white\",\"showlakes\":true,\"showland\":true,\"subunitcolor\":\"#C8D4E3\"},\"hoverlabel\":{\"align\":\"left\"},\"hovermode\":\"closest\",\"mapbox\":{\"style\":\"light\"},\"paper_bgcolor\":\"white\",\"plot_bgcolor\":\"white\",\"polar\":{\"angularaxis\":{\"gridcolor\":\"#EBF0F8\",\"linecolor\":\"#EBF0F8\",\"ticks\":\"\"},\"bgcolor\":\"white\",\"radialaxis\":{\"gridcolor\":\"#EBF0F8\",\"linecolor\":\"#EBF0F8\",\"ticks\":\"\"}},\"scene\":{\"xaxis\":{\"backgroundcolor\":\"white\",\"gridcolor\":\"#DFE8F3\",\"gridwidth\":2,\"linecolor\":\"#EBF0F8\",\"showbackground\":true,\"ticks\":\"\",\"zerolinecolor\":\"#EBF0F8\"},\"yaxis\":{\"backgroundcolor\":\"white\",\"gridcolor\":\"#DFE8F3\",\"gridwidth\":2,\"linecolor\":\"#EBF0F8\",\"showbackground\":true,\"ticks\":\"\",\"zerolinecolor\":\"#EBF0F8\"},\"zaxis\":{\"backgroundcolor\":\"white\",\"gridcolor\":\"#DFE8F3\",\"gridwidth\":2,\"linecolor\":\"#EBF0F8\",\"showbackground\":true,\"ticks\":\"\",\"zerolinecolor\":\"#EBF0F8\"}},\"shapedefaults\":{\"line\":{\"color\":\"#2a3f5f\"}},\"ternary\":{\"aaxis\":{\"gridcolor\":\"#DFE8F3\",\"linecolor\":\"#A2B1C6\",\"ticks\":\"\"},\"baxis\":{\"gridcolor\":\"#DFE8F3\",\"linecolor\":\"#A2B1C6\",\"ticks\":\"\"},\"bgcolor\":\"white\",\"caxis\":{\"gridcolor\":\"#DFE8F3\",\"linecolor\":\"#A2B1C6\",\"ticks\":\"\"}},\"title\":{\"x\":0.05},\"xaxis\":{\"automargin\":true,\"gridcolor\":\"#EBF0F8\",\"linecolor\":\"#EBF0F8\",\"ticks\":\"\",\"title\":{\"standoff\":15},\"zerolinecolor\":\"#EBF0F8\",\"zerolinewidth\":2},\"yaxis\":{\"automargin\":true,\"gridcolor\":\"#EBF0F8\",\"linecolor\":\"#EBF0F8\",\"ticks\":\"\",\"title\":{\"standoff\":15},\"zerolinecolor\":\"#EBF0F8\",\"zerolinewidth\":2}}},\"xaxis\":{\"anchor\":\"y\",\"domain\":[0.0,1.0],\"title\":{\"text\":\"Body Mass Index (BMI)\"},\"showgrid\":false},\"yaxis\":{\"anchor\":\"x\",\"domain\":[0.0,1.0],\"title\":{\"text\":\"Claim Amount, $\"},\"showgrid\":false,\"zerolinecolor\":\"#E5E5EA\",\"showline\":true,\"linecolor\":\"#E5E5EA\",\"linewidth\":2},\"legend\":{\"title\":{\"text\":\"\"},\"tracegroupgap\":0,\"itemsizing\":\"constant\",\"orientation\":\"h\",\"yanchor\":\"bottom\",\"y\":1.02,\"xanchor\":\"right\",\"x\":1},\"title\":{\"text\":\"Insurance costs increase with Body Mass Index among Smokers\"},\"height\":600,\"font\":{\"color\":\"#303030\"}},                        {\"responsive\": true}                    ).then(function(){\n",
              "                            \n",
              "var gd = document.getElementById('d15b12d2-85c7-40d4-8e13-58365cbd15bc');\n",
              "var x = new MutationObserver(function (mutations, observer) {{\n",
              "        var display = window.getComputedStyle(gd).display;\n",
              "        if (!display || display === 'none') {{\n",
              "            console.log([gd, 'removed!']);\n",
              "            Plotly.purge(gd);\n",
              "            observer.disconnect();\n",
              "        }}\n",
              "}});\n",
              "\n",
              "// Listen for the removal of the full notebook cells\n",
              "var notebookContainer = gd.closest('#notebook-container');\n",
              "if (notebookContainer) {{\n",
              "    x.observe(notebookContainer, {childList: true});\n",
              "}}\n",
              "\n",
              "// Listen for the clearing of the current output cell\n",
              "var outputEl = gd.closest('.output');\n",
              "if (outputEl) {{\n",
              "    x.observe(outputEl, {childList: true});\n",
              "}}\n",
              "\n",
              "                        })                };                            </script>        </div>\n",
              "</body>\n",
              "</html>"
            ]
          },
          "metadata": {}
        }
      ],
      "source": [
        "## BIỂU ĐỒ HIỂN THỊ CHARGE THEO BMI PHÂN THEO HAI NHÓM HÚT THUỐC VÀ KHÔNG HÚT THUỐC:\n",
        "## dựng biểu đồ:\n",
        "fig = px.scatter(ins, x='bmi', y='charges', color='smoker', size='charges',\n",
        "                 title=\"Insurance costs increase with Body Mass Index among Smokers\",\n",
        "                 color_discrete_sequence=['#B14B51','#B7A294'],height=600)\n",
        "\n",
        "## thay đổi các tham số cho đồ thị:\n",
        "fig.update_layout(legend=dict(title='',orientation=\"h\", yanchor=\"bottom\", y=1.02, xanchor=\"right\", x=1),\n",
        "                  font_color=\"#303030\", xaxis=dict(title='Body Mass Index (BMI)',showgrid=False), \n",
        "                  yaxis=dict(title='Claim Amount, $',showgrid=False, zerolinecolor='#E5E5EA',\n",
        "                             showline=True, linecolor='#E5E5EA', linewidth=2))\n",
        "fig.show(renderer=\"colab\")"
      ]
    },
    {
      "cell_type": "code",
      "execution_count": null,
      "id": "20296ba8",
      "metadata": {
        "colab": {
          "base_uri": "https://localhost:8080/",
          "height": 817
        },
        "id": "20296ba8",
        "outputId": "9d8bfb84-6971-458d-fc4e-2820827c6877"
      },
      "outputs": [
        {
          "output_type": "display_data",
          "data": {
            "text/html": [
              "<html>\n",
              "<head><meta charset=\"utf-8\" /></head>\n",
              "<body>\n",
              "    <div>            <script src=\"https://cdnjs.cloudflare.com/ajax/libs/mathjax/2.7.5/MathJax.js?config=TeX-AMS-MML_SVG\"></script><script type=\"text/javascript\">if (window.MathJax) {MathJax.Hub.Config({SVG: {font: \"STIX-Web\"}});}</script>                <script type=\"text/javascript\">window.PlotlyConfig = {MathJaxConfig: 'local'};</script>\n",
              "        <script src=\"https://cdn.plot.ly/plotly-2.8.3.min.js\"></script>                <div id=\"41b4a378-6490-4043-a81c-2bd96f58f5a7\" class=\"plotly-graph-div\" style=\"height:800px; width:100%;\"></div>            <script type=\"text/javascript\">                                    window.PLOTLYENV=window.PLOTLYENV || {};                                    if (document.getElementById(\"41b4a378-6490-4043-a81c-2bd96f58f5a7\")) {                    Plotly.newPlot(                        \"41b4a378-6490-4043-a81c-2bd96f58f5a7\",                        [{\"alignmentgroup\":\"True\",\"hovertemplate\":\"sex=female<br>smoker=no<br>region=%{x}<br>charges=%{text}<extra></extra>\",\"legendgroup\":\"female\",\"marker\":{\"color\":\"#00cc96\",\"opacity\":0.85,\"pattern\":{\"shape\":\"\"},\"line\":{\"color\":\"#303030\",\"width\":1}},\"name\":\"female\",\"offsetgroup\":\"female\",\"orientation\":\"v\",\"showlegend\":true,\"text\":[9640.42698355303,8786.998678666667,8440.205551942447,8234.091260141844],\"textposition\":\"outside\",\"x\":[\"northeast\",\"northwest\",\"southeast\",\"southwest\"],\"xaxis\":\"x2\",\"y\":[9640.42698355303,8786.998678666667,8440.205551942447,8234.091260141844],\"yaxis\":\"y2\",\"type\":\"bar\",\"texttemplate\":\"$%{text:,.0f}\"},{\"alignmentgroup\":\"True\",\"hovertemplate\":\"sex=female<br>smoker=yes<br>region=%{x}<br>charges=%{text}<extra></extra>\",\"legendgroup\":\"female\",\"marker\":{\"color\":\"#00cc96\",\"opacity\":0.85,\"pattern\":{\"shape\":\"\"},\"line\":{\"color\":\"#303030\",\"width\":1}},\"name\":\"female\",\"offsetgroup\":\"female\",\"orientation\":\"v\",\"showlegend\":false,\"text\":[28032.046397586208,29670.82494551724,33034.82071638889,31687.988429999998],\"textposition\":\"outside\",\"x\":[\"northeast\",\"northwest\",\"southeast\",\"southwest\"],\"xaxis\":\"x\",\"y\":[28032.046397586208,29670.82494551724,33034.82071638889,31687.988429999998],\"yaxis\":\"y\",\"type\":\"bar\",\"texttemplate\":\"$%{text:,.0f}\"},{\"alignmentgroup\":\"True\",\"hovertemplate\":\"sex=male<br>smoker=no<br>region=%{x}<br>charges=%{text}<extra></extra>\",\"legendgroup\":\"male\",\"marker\":{\"color\":\"#ab63fa\",\"opacity\":0.85,\"pattern\":{\"shape\":\"\"},\"line\":{\"color\":\"#303030\",\"width\":1}},\"name\":\"male\",\"offsetgroup\":\"male\",\"orientation\":\"v\",\"showlegend\":true,\"text\":[8664.0422224,8320.689320757576,7609.003586716418,7778.905534206349],\"textposition\":\"outside\",\"x\":[\"northeast\",\"northwest\",\"southeast\",\"southwest\"],\"xaxis\":\"x2\",\"y\":[8664.0422224,8320.689320757576,7609.003586716418,7778.905534206349],\"yaxis\":\"y2\",\"type\":\"bar\",\"texttemplate\":\"$%{text:,.0f}\"},{\"alignmentgroup\":\"True\",\"hovertemplate\":\"sex=male<br>smoker=yes<br>region=%{x}<br>charges=%{text}<extra></extra>\",\"legendgroup\":\"male\",\"marker\":{\"color\":\"#ab63fa\",\"opacity\":0.85,\"pattern\":{\"shape\":\"\"},\"line\":{\"color\":\"#303030\",\"width\":1}},\"name\":\"male\",\"offsetgroup\":\"male\",\"orientation\":\"v\",\"showlegend\":false,\"text\":[30926.252582894736,30713.181419310346,36029.83936654546,32598.862854054052],\"textposition\":\"outside\",\"x\":[\"northeast\",\"northwest\",\"southeast\",\"southwest\"],\"xaxis\":\"x\",\"y\":[30926.252582894736,30713.181419310346,36029.83936654546,32598.862854054052],\"yaxis\":\"y\",\"type\":\"bar\",\"texttemplate\":\"$%{text:,.0f}\"}],                        {\"template\":{\"data\":{\"barpolar\":[{\"marker\":{\"line\":{\"color\":\"white\",\"width\":0.5},\"pattern\":{\"fillmode\":\"overlay\",\"size\":10,\"solidity\":0.2}},\"type\":\"barpolar\"}],\"bar\":[{\"error_x\":{\"color\":\"#2a3f5f\"},\"error_y\":{\"color\":\"#2a3f5f\"},\"marker\":{\"line\":{\"color\":\"white\",\"width\":0.5},\"pattern\":{\"fillmode\":\"overlay\",\"size\":10,\"solidity\":0.2}},\"type\":\"bar\"}],\"carpet\":[{\"aaxis\":{\"endlinecolor\":\"#2a3f5f\",\"gridcolor\":\"#C8D4E3\",\"linecolor\":\"#C8D4E3\",\"minorgridcolor\":\"#C8D4E3\",\"startlinecolor\":\"#2a3f5f\"},\"baxis\":{\"endlinecolor\":\"#2a3f5f\",\"gridcolor\":\"#C8D4E3\",\"linecolor\":\"#C8D4E3\",\"minorgridcolor\":\"#C8D4E3\",\"startlinecolor\":\"#2a3f5f\"},\"type\":\"carpet\"}],\"choropleth\":[{\"colorbar\":{\"outlinewidth\":0,\"ticks\":\"\"},\"type\":\"choropleth\"}],\"contourcarpet\":[{\"colorbar\":{\"outlinewidth\":0,\"ticks\":\"\"},\"type\":\"contourcarpet\"}],\"contour\":[{\"colorbar\":{\"outlinewidth\":0,\"ticks\":\"\"},\"colorscale\":[[0.0,\"#0d0887\"],[0.1111111111111111,\"#46039f\"],[0.2222222222222222,\"#7201a8\"],[0.3333333333333333,\"#9c179e\"],[0.4444444444444444,\"#bd3786\"],[0.5555555555555556,\"#d8576b\"],[0.6666666666666666,\"#ed7953\"],[0.7777777777777778,\"#fb9f3a\"],[0.8888888888888888,\"#fdca26\"],[1.0,\"#f0f921\"]],\"type\":\"contour\"}],\"heatmapgl\":[{\"colorbar\":{\"outlinewidth\":0,\"ticks\":\"\"},\"colorscale\":[[0.0,\"#0d0887\"],[0.1111111111111111,\"#46039f\"],[0.2222222222222222,\"#7201a8\"],[0.3333333333333333,\"#9c179e\"],[0.4444444444444444,\"#bd3786\"],[0.5555555555555556,\"#d8576b\"],[0.6666666666666666,\"#ed7953\"],[0.7777777777777778,\"#fb9f3a\"],[0.8888888888888888,\"#fdca26\"],[1.0,\"#f0f921\"]],\"type\":\"heatmapgl\"}],\"heatmap\":[{\"colorbar\":{\"outlinewidth\":0,\"ticks\":\"\"},\"colorscale\":[[0.0,\"#0d0887\"],[0.1111111111111111,\"#46039f\"],[0.2222222222222222,\"#7201a8\"],[0.3333333333333333,\"#9c179e\"],[0.4444444444444444,\"#bd3786\"],[0.5555555555555556,\"#d8576b\"],[0.6666666666666666,\"#ed7953\"],[0.7777777777777778,\"#fb9f3a\"],[0.8888888888888888,\"#fdca26\"],[1.0,\"#f0f921\"]],\"type\":\"heatmap\"}],\"histogram2dcontour\":[{\"colorbar\":{\"outlinewidth\":0,\"ticks\":\"\"},\"colorscale\":[[0.0,\"#0d0887\"],[0.1111111111111111,\"#46039f\"],[0.2222222222222222,\"#7201a8\"],[0.3333333333333333,\"#9c179e\"],[0.4444444444444444,\"#bd3786\"],[0.5555555555555556,\"#d8576b\"],[0.6666666666666666,\"#ed7953\"],[0.7777777777777778,\"#fb9f3a\"],[0.8888888888888888,\"#fdca26\"],[1.0,\"#f0f921\"]],\"type\":\"histogram2dcontour\"}],\"histogram2d\":[{\"colorbar\":{\"outlinewidth\":0,\"ticks\":\"\"},\"colorscale\":[[0.0,\"#0d0887\"],[0.1111111111111111,\"#46039f\"],[0.2222222222222222,\"#7201a8\"],[0.3333333333333333,\"#9c179e\"],[0.4444444444444444,\"#bd3786\"],[0.5555555555555556,\"#d8576b\"],[0.6666666666666666,\"#ed7953\"],[0.7777777777777778,\"#fb9f3a\"],[0.8888888888888888,\"#fdca26\"],[1.0,\"#f0f921\"]],\"type\":\"histogram2d\"}],\"histogram\":[{\"marker\":{\"pattern\":{\"fillmode\":\"overlay\",\"size\":10,\"solidity\":0.2}},\"type\":\"histogram\"}],\"mesh3d\":[{\"colorbar\":{\"outlinewidth\":0,\"ticks\":\"\"},\"type\":\"mesh3d\"}],\"parcoords\":[{\"line\":{\"colorbar\":{\"outlinewidth\":0,\"ticks\":\"\"}},\"type\":\"parcoords\"}],\"pie\":[{\"automargin\":true,\"type\":\"pie\"}],\"scatter3d\":[{\"line\":{\"colorbar\":{\"outlinewidth\":0,\"ticks\":\"\"}},\"marker\":{\"colorbar\":{\"outlinewidth\":0,\"ticks\":\"\"}},\"type\":\"scatter3d\"}],\"scattercarpet\":[{\"marker\":{\"colorbar\":{\"outlinewidth\":0,\"ticks\":\"\"}},\"type\":\"scattercarpet\"}],\"scattergeo\":[{\"marker\":{\"colorbar\":{\"outlinewidth\":0,\"ticks\":\"\"}},\"type\":\"scattergeo\"}],\"scattergl\":[{\"marker\":{\"colorbar\":{\"outlinewidth\":0,\"ticks\":\"\"}},\"type\":\"scattergl\"}],\"scattermapbox\":[{\"marker\":{\"colorbar\":{\"outlinewidth\":0,\"ticks\":\"\"}},\"type\":\"scattermapbox\"}],\"scatterpolargl\":[{\"marker\":{\"colorbar\":{\"outlinewidth\":0,\"ticks\":\"\"}},\"type\":\"scatterpolargl\"}],\"scatterpolar\":[{\"marker\":{\"colorbar\":{\"outlinewidth\":0,\"ticks\":\"\"}},\"type\":\"scatterpolar\"}],\"scatter\":[{\"marker\":{\"colorbar\":{\"outlinewidth\":0,\"ticks\":\"\"}},\"type\":\"scatter\"}],\"scatterternary\":[{\"marker\":{\"colorbar\":{\"outlinewidth\":0,\"ticks\":\"\"}},\"type\":\"scatterternary\"}],\"surface\":[{\"colorbar\":{\"outlinewidth\":0,\"ticks\":\"\"},\"colorscale\":[[0.0,\"#0d0887\"],[0.1111111111111111,\"#46039f\"],[0.2222222222222222,\"#7201a8\"],[0.3333333333333333,\"#9c179e\"],[0.4444444444444444,\"#bd3786\"],[0.5555555555555556,\"#d8576b\"],[0.6666666666666666,\"#ed7953\"],[0.7777777777777778,\"#fb9f3a\"],[0.8888888888888888,\"#fdca26\"],[1.0,\"#f0f921\"]],\"type\":\"surface\"}],\"table\":[{\"cells\":{\"fill\":{\"color\":\"#EBF0F8\"},\"line\":{\"color\":\"white\"}},\"header\":{\"fill\":{\"color\":\"#C8D4E3\"},\"line\":{\"color\":\"white\"}},\"type\":\"table\"}]},\"layout\":{\"annotationdefaults\":{\"arrowcolor\":\"#2a3f5f\",\"arrowhead\":0,\"arrowwidth\":1},\"autotypenumbers\":\"strict\",\"coloraxis\":{\"colorbar\":{\"outlinewidth\":0,\"ticks\":\"\"}},\"colorscale\":{\"diverging\":[[0,\"#8e0152\"],[0.1,\"#c51b7d\"],[0.2,\"#de77ae\"],[0.3,\"#f1b6da\"],[0.4,\"#fde0ef\"],[0.5,\"#f7f7f7\"],[0.6,\"#e6f5d0\"],[0.7,\"#b8e186\"],[0.8,\"#7fbc41\"],[0.9,\"#4d9221\"],[1,\"#276419\"]],\"sequential\":[[0.0,\"#0d0887\"],[0.1111111111111111,\"#46039f\"],[0.2222222222222222,\"#7201a8\"],[0.3333333333333333,\"#9c179e\"],[0.4444444444444444,\"#bd3786\"],[0.5555555555555556,\"#d8576b\"],[0.6666666666666666,\"#ed7953\"],[0.7777777777777778,\"#fb9f3a\"],[0.8888888888888888,\"#fdca26\"],[1.0,\"#f0f921\"]],\"sequentialminus\":[[0.0,\"#0d0887\"],[0.1111111111111111,\"#46039f\"],[0.2222222222222222,\"#7201a8\"],[0.3333333333333333,\"#9c179e\"],[0.4444444444444444,\"#bd3786\"],[0.5555555555555556,\"#d8576b\"],[0.6666666666666666,\"#ed7953\"],[0.7777777777777778,\"#fb9f3a\"],[0.8888888888888888,\"#fdca26\"],[1.0,\"#f0f921\"]]},\"colorway\":[\"#636efa\",\"#EF553B\",\"#00cc96\",\"#ab63fa\",\"#FFA15A\",\"#19d3f3\",\"#FF6692\",\"#B6E880\",\"#FF97FF\",\"#FECB52\"],\"font\":{\"color\":\"#2a3f5f\"},\"geo\":{\"bgcolor\":\"white\",\"lakecolor\":\"white\",\"landcolor\":\"white\",\"showlakes\":true,\"showland\":true,\"subunitcolor\":\"#C8D4E3\"},\"hoverlabel\":{\"align\":\"left\"},\"hovermode\":\"closest\",\"mapbox\":{\"style\":\"light\"},\"paper_bgcolor\":\"white\",\"plot_bgcolor\":\"white\",\"polar\":{\"angularaxis\":{\"gridcolor\":\"#EBF0F8\",\"linecolor\":\"#EBF0F8\",\"ticks\":\"\"},\"bgcolor\":\"white\",\"radialaxis\":{\"gridcolor\":\"#EBF0F8\",\"linecolor\":\"#EBF0F8\",\"ticks\":\"\"}},\"scene\":{\"xaxis\":{\"backgroundcolor\":\"white\",\"gridcolor\":\"#DFE8F3\",\"gridwidth\":2,\"linecolor\":\"#EBF0F8\",\"showbackground\":true,\"ticks\":\"\",\"zerolinecolor\":\"#EBF0F8\"},\"yaxis\":{\"backgroundcolor\":\"white\",\"gridcolor\":\"#DFE8F3\",\"gridwidth\":2,\"linecolor\":\"#EBF0F8\",\"showbackground\":true,\"ticks\":\"\",\"zerolinecolor\":\"#EBF0F8\"},\"zaxis\":{\"backgroundcolor\":\"white\",\"gridcolor\":\"#DFE8F3\",\"gridwidth\":2,\"linecolor\":\"#EBF0F8\",\"showbackground\":true,\"ticks\":\"\",\"zerolinecolor\":\"#EBF0F8\"}},\"shapedefaults\":{\"line\":{\"color\":\"#2a3f5f\"}},\"ternary\":{\"aaxis\":{\"gridcolor\":\"#DFE8F3\",\"linecolor\":\"#A2B1C6\",\"ticks\":\"\"},\"baxis\":{\"gridcolor\":\"#DFE8F3\",\"linecolor\":\"#A2B1C6\",\"ticks\":\"\"},\"bgcolor\":\"white\",\"caxis\":{\"gridcolor\":\"#DFE8F3\",\"linecolor\":\"#A2B1C6\",\"ticks\":\"\"}},\"title\":{\"x\":0.05},\"xaxis\":{\"automargin\":true,\"gridcolor\":\"#EBF0F8\",\"linecolor\":\"#EBF0F8\",\"ticks\":\"\",\"title\":{\"standoff\":15},\"zerolinecolor\":\"#EBF0F8\",\"zerolinewidth\":2},\"yaxis\":{\"automargin\":true,\"gridcolor\":\"#EBF0F8\",\"linecolor\":\"#EBF0F8\",\"ticks\":\"\",\"title\":{\"standoff\":15},\"zerolinecolor\":\"#EBF0F8\",\"zerolinewidth\":2}}},\"xaxis\":{\"anchor\":\"y\",\"domain\":[0.0,0.98],\"title\":{\"text\":\"Region\"}},\"yaxis\":{\"anchor\":\"x\",\"domain\":[0.0,0.485],\"title\":{\"text\":\"Claim Amount, $\"},\"gridcolor\":\"#E3E3E3\",\"zeroline\":true,\"zerolinewidth\":2,\"showgrid\":false,\"zerolinecolor\":\"#E5E5EA\",\"showline\":true,\"linecolor\":\"#E5E5EA\",\"linewidth\":2},\"xaxis2\":{\"anchor\":\"y2\",\"domain\":[0.0,0.98],\"matches\":\"x\",\"showticklabels\":false},\"yaxis2\":{\"anchor\":\"x2\",\"domain\":[0.515,1.0],\"title\":{\"text\":\"Claim Amount, $\"},\"gridcolor\":\"#E3E3E3\",\"zeroline\":true,\"zerolinewidth\":2,\"showgrid\":false,\"zerolinecolor\":\"#E5E5EA\",\"showline\":true,\"linecolor\":\"#E5E5EA\",\"linewidth\":2},\"annotations\":[{\"font\":{},\"showarrow\":false,\"text\":\"yes\",\"textangle\":90,\"x\":0.98,\"xanchor\":\"left\",\"xref\":\"paper\",\"y\":0.2425,\"yanchor\":\"middle\",\"yref\":\"paper\"},{\"font\":{},\"showarrow\":false,\"text\":\"no\",\"textangle\":90,\"x\":0.98,\"xanchor\":\"left\",\"xref\":\"paper\",\"y\":0.7575000000000001,\"yanchor\":\"middle\",\"yref\":\"paper\"}],\"legend\":{\"title\":{\"text\":\"\"},\"tracegroupgap\":0,\"orientation\":\"h\",\"yanchor\":\"bottom\",\"y\":1.02,\"xanchor\":\"right\",\"x\":1},\"title\":{\"text\":\"Average Insurance Costs by Region and Smoking Status\"},\"barmode\":\"group\",\"height\":800,\"font\":{\"color\":\"#303030\"},\"paper_bgcolor\":\"white\",\"plot_bgcolor\":\"white\",\"bargroupgap\":0.05,\"bargap\":0.2},                        {\"responsive\": true}                    ).then(function(){\n",
              "                            \n",
              "var gd = document.getElementById('41b4a378-6490-4043-a81c-2bd96f58f5a7');\n",
              "var x = new MutationObserver(function (mutations, observer) {{\n",
              "        var display = window.getComputedStyle(gd).display;\n",
              "        if (!display || display === 'none') {{\n",
              "            console.log([gd, 'removed!']);\n",
              "            Plotly.purge(gd);\n",
              "            observer.disconnect();\n",
              "        }}\n",
              "}});\n",
              "\n",
              "// Listen for the removal of the full notebook cells\n",
              "var notebookContainer = gd.closest('#notebook-container');\n",
              "if (notebookContainer) {{\n",
              "    x.observe(notebookContainer, {childList: true});\n",
              "}}\n",
              "\n",
              "// Listen for the clearing of the current output cell\n",
              "var outputEl = gd.closest('.output');\n",
              "if (outputEl) {{\n",
              "    x.observe(outputEl, {childList: true});\n",
              "}}\n",
              "\n",
              "                        })                };                            </script>        </div>\n",
              "</body>\n",
              "</html>"
            ]
          },
          "metadata": {}
        }
      ],
      "source": [
        "## biểu đồ số tổng số phí charge cho từng khu vực phân theo giới tính:\n",
        "plot_df = ins.groupby(['region','sex','smoker'])['charges'].mean()\n",
        "plot_df = plot_df.rename('charges').reset_index()\n",
        "fig = px.bar(plot_df, x='region', y='charges', color='sex', height=800,\n",
        "             title=\"Average Insurance Costs by Region and Smoking Status\",\n",
        "             color_discrete_map={'Female': '#BFC5DA','Male': '#5D6A92'}, \n",
        "             facet_row='smoker', text='charges', opacity=0.85, barmode='group')\n",
        "## thay đổi tham số đồ thị:\n",
        "fig.update_traces(texttemplate='$%{text:,.0f}', textposition='outside', \n",
        "                  marker_line=dict(width=1, color='#303030'))\n",
        "fig.layout.yaxis2.update(matches=None)\n",
        "fig.for_each_annotation(lambda a: a.update(text=a.text.split(\"=\")[-1]))\n",
        "fig.update_xaxes(title=\"Region\", row=1)\n",
        "fig.update_yaxes(title=\"Claim Amount, $\",  gridcolor='#E3E3E3', zeroline=True, zerolinewidth=2, \n",
        "                 showgrid=False, zerolinecolor='#E5E5EA',\n",
        "                 showline=True, linecolor='#E5E5EA', linewidth=2)\n",
        "fig.update_layout(font_color=\"#303030\", paper_bgcolor=\"white\", plot_bgcolor=\"white\",\n",
        "                  bargroupgap=0.05, bargap=0.2,\n",
        "                  legend=dict(orientation=\"h\", yanchor=\"bottom\", y=1.02, xanchor=\"right\", x=1, title=\"\"))\n",
        "fig.show(renderer=\"colab\")"
      ]
    },
    {
      "cell_type": "code",
      "execution_count": null,
      "id": "bcdfbc28",
      "metadata": {
        "id": "bcdfbc28"
      },
      "outputs": [],
      "source": [
        "ins['female'] = ins['sex'].apply(lambda x: 1 if x=='male' else 0)\n"
      ]
    },
    {
      "cell_type": "code",
      "execution_count": null,
      "id": "5f03e1ed",
      "metadata": {
        "colab": {
          "base_uri": "https://localhost:8080/",
          "height": 206
        },
        "id": "5f03e1ed",
        "outputId": "af158e07-3245-4b73-db8c-376bfa614edc"
      },
      "outputs": [
        {
          "output_type": "execute_result",
          "data": {
            "text/plain": [
              "   age     bmi  children     region      charges  female  smoker_yes\n",
              "0   19  27.900         0  southwest  16884.92400       0           0\n",
              "1   18  33.770         1  southeast   1725.55230       1           1\n",
              "2   28  33.000         3  southeast   4449.46200       1           1\n",
              "3   33  22.705         0  northwest  21984.47061       1           1\n",
              "4   32  28.880         0  northwest   3866.85520       1           1"
            ],
            "text/html": [
              "\n",
              "  <div id=\"df-7b90145e-280e-4458-97b9-4098c46ce645\">\n",
              "    <div class=\"colab-df-container\">\n",
              "      <div>\n",
              "<style scoped>\n",
              "    .dataframe tbody tr th:only-of-type {\n",
              "        vertical-align: middle;\n",
              "    }\n",
              "\n",
              "    .dataframe tbody tr th {\n",
              "        vertical-align: top;\n",
              "    }\n",
              "\n",
              "    .dataframe thead th {\n",
              "        text-align: right;\n",
              "    }\n",
              "</style>\n",
              "<table border=\"1\" class=\"dataframe\">\n",
              "  <thead>\n",
              "    <tr style=\"text-align: right;\">\n",
              "      <th></th>\n",
              "      <th>age</th>\n",
              "      <th>bmi</th>\n",
              "      <th>children</th>\n",
              "      <th>region</th>\n",
              "      <th>charges</th>\n",
              "      <th>female</th>\n",
              "      <th>smoker_yes</th>\n",
              "    </tr>\n",
              "  </thead>\n",
              "  <tbody>\n",
              "    <tr>\n",
              "      <th>0</th>\n",
              "      <td>19</td>\n",
              "      <td>27.900</td>\n",
              "      <td>0</td>\n",
              "      <td>southwest</td>\n",
              "      <td>16884.92400</td>\n",
              "      <td>0</td>\n",
              "      <td>0</td>\n",
              "    </tr>\n",
              "    <tr>\n",
              "      <th>1</th>\n",
              "      <td>18</td>\n",
              "      <td>33.770</td>\n",
              "      <td>1</td>\n",
              "      <td>southeast</td>\n",
              "      <td>1725.55230</td>\n",
              "      <td>1</td>\n",
              "      <td>1</td>\n",
              "    </tr>\n",
              "    <tr>\n",
              "      <th>2</th>\n",
              "      <td>28</td>\n",
              "      <td>33.000</td>\n",
              "      <td>3</td>\n",
              "      <td>southeast</td>\n",
              "      <td>4449.46200</td>\n",
              "      <td>1</td>\n",
              "      <td>1</td>\n",
              "    </tr>\n",
              "    <tr>\n",
              "      <th>3</th>\n",
              "      <td>33</td>\n",
              "      <td>22.705</td>\n",
              "      <td>0</td>\n",
              "      <td>northwest</td>\n",
              "      <td>21984.47061</td>\n",
              "      <td>1</td>\n",
              "      <td>1</td>\n",
              "    </tr>\n",
              "    <tr>\n",
              "      <th>4</th>\n",
              "      <td>32</td>\n",
              "      <td>28.880</td>\n",
              "      <td>0</td>\n",
              "      <td>northwest</td>\n",
              "      <td>3866.85520</td>\n",
              "      <td>1</td>\n",
              "      <td>1</td>\n",
              "    </tr>\n",
              "  </tbody>\n",
              "</table>\n",
              "</div>\n",
              "      <button class=\"colab-df-convert\" onclick=\"convertToInteractive('df-7b90145e-280e-4458-97b9-4098c46ce645')\"\n",
              "              title=\"Convert this dataframe to an interactive table.\"\n",
              "              style=\"display:none;\">\n",
              "        \n",
              "  <svg xmlns=\"http://www.w3.org/2000/svg\" height=\"24px\"viewBox=\"0 0 24 24\"\n",
              "       width=\"24px\">\n",
              "    <path d=\"M0 0h24v24H0V0z\" fill=\"none\"/>\n",
              "    <path d=\"M18.56 5.44l.94 2.06.94-2.06 2.06-.94-2.06-.94-.94-2.06-.94 2.06-2.06.94zm-11 1L8.5 8.5l.94-2.06 2.06-.94-2.06-.94L8.5 2.5l-.94 2.06-2.06.94zm10 10l.94 2.06.94-2.06 2.06-.94-2.06-.94-.94-2.06-.94 2.06-2.06.94z\"/><path d=\"M17.41 7.96l-1.37-1.37c-.4-.4-.92-.59-1.43-.59-.52 0-1.04.2-1.43.59L10.3 9.45l-7.72 7.72c-.78.78-.78 2.05 0 2.83L4 21.41c.39.39.9.59 1.41.59.51 0 1.02-.2 1.41-.59l7.78-7.78 2.81-2.81c.8-.78.8-2.07 0-2.86zM5.41 20L4 18.59l7.72-7.72 1.47 1.35L5.41 20z\"/>\n",
              "  </svg>\n",
              "      </button>\n",
              "      \n",
              "  <style>\n",
              "    .colab-df-container {\n",
              "      display:flex;\n",
              "      flex-wrap:wrap;\n",
              "      gap: 12px;\n",
              "    }\n",
              "\n",
              "    .colab-df-convert {\n",
              "      background-color: #E8F0FE;\n",
              "      border: none;\n",
              "      border-radius: 50%;\n",
              "      cursor: pointer;\n",
              "      display: none;\n",
              "      fill: #1967D2;\n",
              "      height: 32px;\n",
              "      padding: 0 0 0 0;\n",
              "      width: 32px;\n",
              "    }\n",
              "\n",
              "    .colab-df-convert:hover {\n",
              "      background-color: #E2EBFA;\n",
              "      box-shadow: 0px 1px 2px rgba(60, 64, 67, 0.3), 0px 1px 3px 1px rgba(60, 64, 67, 0.15);\n",
              "      fill: #174EA6;\n",
              "    }\n",
              "\n",
              "    [theme=dark] .colab-df-convert {\n",
              "      background-color: #3B4455;\n",
              "      fill: #D2E3FC;\n",
              "    }\n",
              "\n",
              "    [theme=dark] .colab-df-convert:hover {\n",
              "      background-color: #434B5C;\n",
              "      box-shadow: 0px 1px 3px 1px rgba(0, 0, 0, 0.15);\n",
              "      filter: drop-shadow(0px 1px 2px rgba(0, 0, 0, 0.3));\n",
              "      fill: #FFFFFF;\n",
              "    }\n",
              "  </style>\n",
              "\n",
              "      <script>\n",
              "        const buttonEl =\n",
              "          document.querySelector('#df-7b90145e-280e-4458-97b9-4098c46ce645 button.colab-df-convert');\n",
              "        buttonEl.style.display =\n",
              "          google.colab.kernel.accessAllowed ? 'block' : 'none';\n",
              "\n",
              "        async function convertToInteractive(key) {\n",
              "          const element = document.querySelector('#df-7b90145e-280e-4458-97b9-4098c46ce645');\n",
              "          const dataTable =\n",
              "            await google.colab.kernel.invokeFunction('convertToInteractive',\n",
              "                                                     [key], {});\n",
              "          if (!dataTable) return;\n",
              "\n",
              "          const docLinkHtml = 'Like what you see? Visit the ' +\n",
              "            '<a target=\"_blank\" href=https://colab.research.google.com/notebooks/data_table.ipynb>data table notebook</a>'\n",
              "            + ' to learn more about interactive tables.';\n",
              "          element.innerHTML = '';\n",
              "          dataTable['output_type'] = 'display_data';\n",
              "          await google.colab.output.renderOutput(dataTable, element);\n",
              "          const docLink = document.createElement('div');\n",
              "          docLink.innerHTML = docLinkHtml;\n",
              "          element.appendChild(docLink);\n",
              "        }\n",
              "      </script>\n",
              "    </div>\n",
              "  </div>\n",
              "  "
            ]
          },
          "metadata": {},
          "execution_count": 19
        }
      ],
      "source": [
        "ins['smoker_yes'] = ins['smoker'].apply(lambda x: 1 if x=='no' else 0)\n",
        "ins.drop(['sex', 'smoker'], axis=1, inplace=True)\n",
        "ins.head()"
      ]
    },
    {
      "cell_type": "code",
      "execution_count": null,
      "id": "340b570b",
      "metadata": {
        "colab": {
          "base_uri": "https://localhost:8080/",
          "height": 471
        },
        "id": "340b570b",
        "outputId": "af732f8d-28c8-4ad2-9fec-80480c8faae9"
      },
      "outputs": [
        {
          "output_type": "display_data",
          "data": {
            "text/plain": [
              "<Figure size 648x432 with 2 Axes>"
            ],
            "image/png": "[encoded data removed]"
          },
          "metadata": {
            "needs_background": "light"
          }
        }
      ],
      "source": [
        "## DỰNG BIỂU ĐỒ TƯƠNG QUAN:\n",
        "sns.set_context(\"notebook\")\n",
        "fig, ax = plt.subplots(figsize=(9,6))   \n",
        "corr=ins.corr()\n",
        "mask=np.triu(np.ones_like(corr, dtype=bool))[1:, :-1]\n",
        "corr=corr.iloc[1:,:-1].copy()\n",
        "ax=sns.heatmap(corr, mask=mask, vmin=-.1, vmax=.9, center=0, annot=True, fmt='.2f', \n",
        "               cmap='ocean', linewidths=4, annot_kws={\"fontsize\":12})\n",
        "ax.set_title('\\nCorrelations of Health Insurance Costs\\n', fontsize=18)\n",
        "ax.set_xticklabels(ax.get_xticklabels(), rotation=45, horizontalalignment='right',fontsize=12)\n",
        "ax.set_yticklabels(ax.get_yticklabels(), fontsize=12)\n",
        "fig.show()"
      ]
    },
    {
      "cell_type": "code",
      "execution_count": null,
      "id": "84144aeb",
      "metadata": {
        "colab": {
          "base_uri": "https://localhost:8080/"
        },
        "id": "84144aeb",
        "outputId": "2570c45c-9d70-4437-e444-81504e729ecc"
      },
      "outputs": [
        {
          "output_type": "stream",
          "name": "stdout",
          "text": [
            "\n",
            "Region: southwest\n",
            "\n",
            "Number of Principal Components = 5\n",
            "Train Shape:(260, 5) (260,)  Test Shape:(65, 5) (65,)\n",
            "Test Error (RMSE) = 5,661.48\n",
            "R-Squared = 76.64%, Adjusted R-Squared = 74.66%\n",
            "__________________________\n",
            "\n",
            "Region: southeast\n",
            "\n",
            "Number of Principal Components = 6\n",
            "Train Shape:(291, 6) (291,)  Test Shape:(73, 6) (73,)\n",
            "Test Error (RMSE) = 4,607.97\n",
            "R-Squared = 90.69%, Adjusted R-Squared = 89.84%\n",
            "__________________________\n",
            "\n",
            "Region: northwest\n",
            "\n",
            "Number of Principal Components = 5\n",
            "Train Shape:(260, 5) (260,)  Test Shape:(65, 5) (65,)\n",
            "Test Error (RMSE) = 5,697.99\n",
            "R-Squared = 79.12%, Adjusted R-Squared = 77.35%\n",
            "__________________________\n",
            "\n",
            "Region: northeast\n",
            "\n",
            "Number of Principal Components = 5\n",
            "Train Shape:(259, 5) (259,)  Test Shape:(65, 5) (65,)\n",
            "Test Error (RMSE) = 6,296.14\n",
            "R-Squared = 62.51%, Adjusted R-Squared = 59.33%\n",
            "__________________________\n"
          ]
        }
      ],
      "source": [
        "## HỒI QUY TUYẾN TÍNH VỚI PCA (HỒI QUY GIẢM CHIỀU DỮ LIỆU)\n",
        "## đặt biển model:\n",
        "models=[\"Linear Regression\", \"KNN\", \"SVM\", \"Gradient Boosting\"]\n",
        "mod_res=pd.DataFrame(columns=[\"Average RMSE\", \"Avg. Adjusted R2\"], index=models)\n",
        "regions = ins.region.unique()\n",
        "s = StandardScaler()\n",
        "actuals=[]\n",
        "preds=[]\n",
        "rmses=[]\n",
        "r2_scores=[]\n",
        "adj_r2_scores=[]\n",
        "\n",
        "for i in regions:\n",
        "    ## tách X và y từ tệp data:\n",
        "    # Filter data by region\n",
        "    print(\"\\nRegion: {}\\n\".format(i))\n",
        "    ins_df = ins[ins.region==i]\n",
        "    X=ins_df.drop(['charges', 'region'], axis=1)\n",
        "    y=ins_df.charges\n",
        "      # Add polynomial features\n",
        "    ## thêm các tùy chọn và tranform X:\n",
        "    pf = PolynomialFeatures(degree=2, include_bias=False)\n",
        "    X_pf = pd.DataFrame(data=pf.fit_transform(X), columns=pf.get_feature_names(X.columns))\n",
        "        # Create training and test sets\n",
        "        ## tách x_train, y_train, x_test, y_test:\n",
        "    X_train, X_test, y_train, y_test = train_test_split(X_pf, y, test_size=0.2, random_state=1)\n",
        "        # Scale features\n",
        "        ## scale X:\n",
        "    X_train_scaled = s.fit_transform(X_train)\n",
        "    X_test_scaled = s.transform(X_test)\n",
        "        # PCA\n",
        "        ## GIẢM CHIỀU DỮ LIỆU:\n",
        "    pca = PCA(.95)\n",
        "    X_train_pca=pca.fit_transform(X_train_scaled)\n",
        "    X_test_pca=pca.transform(X_test_scaled)\n",
        "    print(\"Number of Principal Components = {}\".format(pca.n_components_))\n",
        "    print(\"Train Shape:{} {}  Test Shape:{} {}\".format(X_train_pca.shape, y_train.shape, X_test_pca.shape, y_test.shape))\n",
        "       # Linear Regression\n",
        "       ##  \n",
        "    lr = LinearRegression().fit(X_train_pca, y_train)\n",
        "    y_pred=lr.predict(X_test_pca)\n",
        "    rmse=np.sqrt(mean_squared_error(y_test, y_pred)).round(2)\n",
        "    r2=r2_score(y_test, y_pred)\n",
        "    adj_r2 = 1 - (1-r2)*(len(y_test)-1)/(len(y_test)-X_test_pca.shape[1]-1)\n",
        "    \n",
        "    actuals.append(pd.Series(y_test, name='actuals').reset_index())\n",
        "    preds.append(pd.Series(y_pred, name='preds').reset_index(drop=True))\n",
        "    rmses.append(rmse)\n",
        "    r2_scores.append(r2)\n",
        "    adj_r2_scores.append(adj_r2)\n",
        "      \n",
        "    print(\"Test Error (RMSE) = {:,}\".format(rmse))\n",
        "    print(\"R-Squared = {:.2f}%, Adjusted R-Squared = {:.2f}%\".format(r2*100, adj_r2*100))\n",
        "    if i != 'Northeast':\n",
        "        print(\"__________________________\")\n",
        "\n",
        "\n"
      ]
    },
    {
      "cell_type": "code",
      "execution_count": null,
      "id": "77a6f4eb",
      "metadata": {
        "colab": {
          "base_uri": "https://localhost:8080/",
          "height": 717
        },
        "id": "77a6f4eb",
        "outputId": "65fabbfe-ab91-4501-c5dd-76fb43ba0093"
      },
      "outputs": [
        {
          "output_type": "display_data",
          "data": {
            "text/html": [
              "<html>\n",
              "<head><meta charset=\"utf-8\" /></head>\n",
              "<body>\n",
              "    <div>            <script src=\"https://cdnjs.cloudflare.com/ajax/libs/mathjax/2.7.5/MathJax.js?config=TeX-AMS-MML_SVG\"></script><script type=\"text/javascript\">if (window.MathJax) {MathJax.Hub.Config({SVG: {font: \"STIX-Web\"}});}</script>                <script type=\"text/javascript\">window.PlotlyConfig = {MathJaxConfig: 'local'};</script>\n",
              "        <script src=\"https://cdn.plot.ly/plotly-2.8.3.min.js\"></script>                <div id=\"2397f2ab-81f0-42a0-bdcd-12e930bd8090\" class=\"plotly-graph-div\" style=\"height:700px; width:100%;\"></div>            <script type=\"text/javascript\">                                    window.PLOTLYENV=window.PLOTLYENV || {};                                    if (document.getElementById(\"2397f2ab-81f0-42a0-bdcd-12e930bd8090\")) {                    Plotly.newPlot(                        \"2397f2ab-81f0-42a0-bdcd-12e930bd8090\",                        [{\"hovertemplate\":\"Actual Cost: %{x:$,.2f}<br>Predicted Cost: %{y:$,.2f}\",\"legendgroup\":\"southwest\",\"marker\":{\"color\":\"#B14B51\",\"opacity\":0.7,\"symbol\":\"circle\",\"line\":{\"color\":\"#F7F7F7\",\"width\":1},\"size\":10},\"mode\":\"markers\",\"name\":\"southwest\",\"orientation\":\"v\",\"showlegend\":false,\"x\":[3761.292,11674.13,6311.952,14319.031,11552.904,5080.096,8269.044,3693.428,36837.467,13224.693,23306.547,35160.13457,12347.172,10065.413,5488.262,38711.0,7196.867,6571.544,5979.731,34828.654,6600.361,39836.519,1256.299,1242.26,4762.329,9264.797,13470.86,1759.338,1241.565,48173.361,16232.847,25309.489,10791.96,4751.07,8556.907,42856.838,8277.523,11576.13,7623.518,12146.971,20630.28351,4646.759,26140.3603,2007.945,8444.474,17081.08,13822.803,8825.086,37079.372,10096.97,11411.685,14988.432,11362.755,6875.961,10795.93733,18259.216,1261.859,17942.106,11150.78,38415.474,8522.003,8703.456,3987.926,1964.78,1743.214],\"xaxis\":\"x3\",\"y\":[5491.390817777431,13419.148685654607,6818.142391474253,16807.855795730047,11124.198611483316,2422.161215937731,7939.194874219741,7782.111262380955,32055.726684975263,12586.321632303818,35992.03246748675,10699.069081556398,14685.269849719705,8529.12544869186,6786.319257482241,34530.97726711827,8850.357859123069,8287.299946995483,8418.067905331265,28722.16055759727,7235.836671136772,33831.460325786,2288.386459470741,797.7501732424407,7872.783697241507,8183.7123130228865,16015.665724486156,5270.792085398844,736.4944641823677,44671.54851715497,26214.57848390899,38196.49010370454,9100.169642620018,5907.520827890817,10898.248656655385,40278.08719445114,9265.938926721605,16223.65085250424,7507.245946003336,12127.030466322858,13067.71065681049,6347.655172206795,9197.418102143462,3103.397799508226,8696.541512204441,25030.37526205634,15053.503991847374,9269.818933163166,30563.02464870073,8732.012324709623,15502.063374546344,13241.337633490175,13512.301101900584,8083.042807601754,4693.014496076905,30229.269098246186,3012.1624809670884,28804.054359278955,10306.251204421238,34939.09910405911,9639.309497228238,9198.209396570626,5235.552525701892,1079.076701193404,3215.197681214766],\"yaxis\":\"y3\",\"type\":\"scatter\"},{\"hovertemplate\":\"<b>OLS trendline</b><br>preds = 0.823986 * actuals + 2677.64<br>R<sup>2</sup>=0.770671<br><br>index=southwest<br>actuals=%{x}<br>preds=%{y} <b>(trend)</b><extra></extra>\",\"legendgroup\":\"southwest\",\"marker\":{\"color\":\"#B14B51\",\"symbol\":\"circle\"},\"mode\":\"lines\",\"name\":\"southwest\",\"showlegend\":false,\"x\":[1241.565,1242.26,1256.299,1261.859,1743.214,1759.338,1964.78,2007.945,3693.428,3761.292,3987.926,4646.759,4751.07,4762.329,5080.096,5488.262,5979.731,6311.952,6571.544,6600.361,6875.961,7196.867,7623.518,8269.044,8277.523,8444.474,8522.003,8556.907,8703.456,8825.086,9264.797,10065.413,10096.97,10791.96,10795.93733,11150.78,11362.755,11411.685,11552.904,11576.13,11674.13,12146.971,12347.172,13224.693,13470.86,13822.803,14319.031,14988.432,16232.847,17081.08,17942.106,18259.216,20630.28351,23306.547,25309.489,26140.3603,34828.654,35160.13457,36837.467,37079.372,38415.474,38711.0,39836.519,42856.838,48173.361],\"xaxis\":\"x3\",\"y\":[3700.6735084312572,3701.2461788076057,3712.8141204098474,3717.395483420636,4114.025338107368,4127.311290838656,4296.592654087301,4332.16001638239,5720.974669532261,5776.89366582078,5963.636943624217,6506.506212776554,6592.457032384177,6601.734292481025,6863.569900367592,7199.893032500975,7604.856683139346,7878.602186881659,8092.502400316313,8116.247209287878,8343.337793060069,8607.759893480965,8959.314409652914,9491.21889506702,9498.205473658472,9635.770785891244,9699.653608348697,9728.41402103369,9849.168367772556,9949.389803564323,10311.705578894711,10971.40207678062,10997.404607811457,11570.066744298523,11573.344009144514,11865.729455725004,12040.393920511324,12080.711562978571,12197.074063521843,12216.211965911873,12296.96260890779,12686.577045487715,12851.539897308385,13574.605050292263,13777.44324962263,14067.439408274793,14476.324409015386,15027.901563832835,16053.282292442673,16752.214538976918,17461.68804036674,17722.982289350773,19676.709085465343,21881.91314305715,23532.309616358463,24216.936062499823,31375.96976466693,31649.105164341963,33031.20386067261,33230.53023101881,34331.45977804056,34574.969109897815,35502.38118085824,37991.082214560134,42371.82354877015],\"yaxis\":\"y3\",\"type\":\"scatter\"},{\"hovertemplate\":\"Actual Cost: %{x:$,.2f}<br>Predicted Cost: %{y:$,.2f}\",\"legendgroup\":\"southeast\",\"marker\":{\"color\":\"#D0A99C\",\"opacity\":0.7,\"symbol\":\"circle\",\"line\":{\"color\":\"#F7F7F7\",\"width\":1},\"size\":10},\"mode\":\"markers\",\"name\":\"southeast\",\"orientation\":\"v\",\"showlegend\":false,\"x\":[44202.6536,6781.3542,5478.0368,32548.3405,1815.8759,11093.6229,11090.7178,13470.8044,47269.854,10107.2206,38282.7495,19350.3689,1615.7667,40974.1649,1824.2854,7243.8136,36950.2567,41999.52,6184.2994,20462.99766,7152.6714,2219.4451,8232.6388,4266.1658,19521.9682,27808.7251,16586.49771,5966.8874,4504.6624,3500.6123,4340.4409,5974.3847,3227.1211,11363.2832,12592.5345,6313.759,5920.1041,12142.5786,3561.8889,4673.3922,46599.1084,2566.4707,41676.0811,8978.1851,48970.2476,24667.419,8596.8278,38709.176,1136.3994,18806.14547,1981.5819,1131.5066,6500.2359,1146.7966,8547.6913,39611.7577,11881.9696,48675.5177,44400.4064,18223.4512,28287.89766,9855.1314,10702.6424,5245.2269,1664.9996,2464.6188,9377.9047,10226.2842,36124.5737,4779.6023,6338.0756,42112.2356,1633.9618],\"xaxis\":\"x4\",\"y\":[41796.605417559105,9602.42405744465,6888.691923967733,26241.322338112965,1482.5575313010322,14809.507765125176,14138.636463397368,15730.450780370556,45328.92416813577,9209.09823639125,33728.90763375964,29597.43455589518,2653.339424572843,34698.62292173068,2589.712218865405,8625.414988019664,31513.524547301684,39140.12663539778,7430.832269435607,15284.461955144836,9551.289300864559,4688.845179348185,8680.216593293024,7874.265679267146,28465.92557153925,36527.39651052541,1888.4942279193074,5207.818330621663,4724.3792360412135,6668.94866155323,4927.463711776665,7109.078266402839,5424.206186249732,12652.710533906615,20659.39608106149,7872.5954399644925,8831.639100519325,10122.969843028322,3766.9503649292565,6424.465467491386,42972.18965530992,2010.730609322285,37694.30531426388,11136.854882885204,46354.0641127072,35561.2993917608,11928.014547356372,34532.708356047224,1773.9589663818751,8997.907473021492,2692.088525271396,1150.1754487972012,7770.360193100403,3273.633084062585,9343.942249863103,33229.22649724534,12394.822889500541,46022.586078167355,37966.1743703121,27218.066413212226,14750.997229392871,8369.771088814377,11241.886731750485,7664.92036239462,1348.4956346593644,3777.394401782347,9221.223569900627,12421.301941411755,31246.497939034147,5883.251908031989,7005.539378481767,36512.6745712183,4862.737781831433],\"yaxis\":\"y4\",\"type\":\"scatter\"},{\"hovertemplate\":\"<b>OLS trendline</b><br>preds = 0.862549 * actuals + 2193.54<br>R<sup>2</sup>=0.909299<br><br>index=southeast<br>actuals=%{x}<br>preds=%{y} <b>(trend)</b><extra></extra>\",\"legendgroup\":\"southeast\",\"marker\":{\"color\":\"#D0A99C\",\"symbol\":\"circle\"},\"mode\":\"lines\",\"name\":\"southeast\",\"showlegend\":false,\"x\":[1131.5066,1136.3994,1146.7966,1615.7667,1633.9618,1664.9996,1815.8759,1824.2854,1981.5819,2219.4451,2464.6188,2566.4707,3227.1211,3500.6123,3561.8889,4266.1658,4340.4409,4504.6624,4673.3922,4779.6023,5245.2269,5478.0368,5920.1041,5966.8874,5974.3847,6184.2994,6313.759,6338.0756,6500.2359,6781.3542,7152.6714,7243.8136,8232.6388,8547.6913,8596.8278,8978.1851,9377.9047,9855.1314,10107.2206,10226.2842,10702.6424,11090.7178,11093.6229,11363.2832,11881.9696,12142.5786,12592.5345,13470.8044,16586.49771,18223.4512,18806.14547,19350.3689,19521.9682,20462.99766,24667.419,27808.7251,28287.89766,32548.3405,36124.5737,36950.2567,38282.7495,38709.176,39611.7577,40974.1649,41676.0811,41999.52,42112.2356,44202.6536,44400.4064,46599.1084,47269.854,48675.5177,48970.2476],\"xaxis\":\"x4\",\"y\":[3169.522105723987,3173.742385266504,3182.710479294352,3587.2201504605646,3602.9143150092987,3629.6859370630773,3759.8241324400847,3767.0777379037854,3902.753670102013,4107.922325448149,4319.396644952962,4407.248895185234,4977.0922094174775,5212.991759045168,5265.845826535149,5873.3191328908415,5937.38504301355,6079.03412674708,6224.571839948712,6316.1832510504655,6717.8072646771325,6918.6172013729665,7299.9218904274185,7340.274777102007,7346.741565406068,7527.803271194889,7639.468514299534,7660.442772295684,7800.313970116641,8042.792266903163,8363.071530912444,8441.686140567443,9294.596286636166,9566.344492278899,9608.727129161844,9937.666470966013,10282.444195504719,10694.07558839893,10911.51486522394,11014.213049359485,11425.095318483527,11759.829350443553,11762.335141421925,11994.930352245774,12442.322766180878,12667.110787619677,13055.21978038552,13812.770567619464,16500.20858612612,17912.16111349254,18414.763449010596,18884.18280156687,19032.195599003957,19843.87957933089,23470.398825840646,26179.929129677537,26593.238922087483,30268.079455057163,33352.75567587741,34064.947687303145,35214.28796370743,35582.101697016995,36360.622602012096,37535.76551297055,38141.2026000007,38420.1844862262,38517.40720957531,40320.49507760768,40491.06654922218,42387.55466864065,42966.10558711538,44178.559347082766,44432.77831526827],\"yaxis\":\"y4\",\"type\":\"scatter\"},{\"hovertemplate\":\"Actual Cost: %{x:$,.2f}<br>Predicted Cost: %{y:$,.2f}\",\"legendgroup\":\"northwest\",\"marker\":{\"color\":\"#5D8370\",\"opacity\":0.7,\"symbol\":\"circle\",\"line\":{\"color\":\"#F7F7F7\",\"width\":1},\"size\":10},\"mode\":\"markers\",\"name\":\"northwest\",\"orientation\":\"v\",\"showlegend\":false,\"x\":[9174.13565,4433.3877,21774.32215,7731.85785,33471.97189,4618.0799,3594.17085,12235.8392,6203.90175,11840.77505,4466.6214,8162.71625,6393.60345,1906.35825,23967.38305,2775.19215,3537.703,32787.45859,6112.35295,9301.89355,11945.1327,6389.37785,23807.2406,10264.4421,4243.59005,16455.70785,8413.46305,26018.95052,60021.39897,3579.8287,12479.70895,5855.9025,7153.5539,1635.73365,6986.697,43921.1837,15019.76005,29330.98315,5630.45785,8827.2099,8059.6791,5729.0053,14382.70905,29141.3603,38746.3551,3877.30425,42760.5022,6373.55735,28950.4692,16420.49455,10600.5483,18033.9679,39983.42595,6940.90985,4239.89265,6360.9936,8116.26885,6796.86325,2136.88225,33307.5508,13415.0381,10976.24575,3353.4703,5261.46945,5989.52365],\"xaxis\":\"x\",\"y\":[11049.518391877526,6889.684571391266,27478.46119924181,11241.241930230763,14604.754638815875,5929.6613512544955,4307.965331111904,14915.25519822456,8050.141222110449,12910.6878998885,6739.2893566049715,11601.620305182587,8328.58410135859,3331.2245916959964,33469.95063427783,2345.15140002314,5002.139328509068,33799.97731299771,9146.77052406451,10854.539013744326,14287.702966108724,7619.247842382397,33259.0061138961,12529.490126424944,5958.419019440886,16655.987078500686,10831.629327672716,5489.963515537665,40062.58324100253,5683.3203355235355,12065.201693441419,5815.414253111698,8725.509225765183,2749.4105659110664,9917.379563888082,35575.14691170268,15401.854568869781,33627.292491342974,9083.407874152053,9431.755460036022,9405.764568707935,9195.94568048291,14078.592611199554,33636.668382314485,32795.596496212216,5966.009099423287,36589.54814288976,11072.727369314038,33352.78191890808,24012.514626673303,13493.981276471071,23032.254231949675,31508.450817782494,8118.021473682731,5413.292578949638,11384.380605996757,10961.617785269511,9673.179916110717,5612.748368321733,22691.81561544215,11498.832079589612,13066.105242680298,4498.844381905355,6914.2797856769985,9589.52199281891],\"yaxis\":\"y\",\"type\":\"scatter\"},{\"hovertemplate\":\"<b>OLS trendline</b><br>preds = 0.733482 * actuals + 4303.88<br>R<sup>2</sup>=0.799333<br><br>index=northwest<br>actuals=%{x}<br>preds=%{y} <b>(trend)</b><extra></extra>\",\"legendgroup\":\"northwest\",\"marker\":{\"color\":\"#5D8370\",\"symbol\":\"circle\"},\"mode\":\"lines\",\"name\":\"northwest\",\"showlegend\":false,\"x\":[1635.73365,1906.35825,2136.88225,2775.19215,3353.4703,3537.703,3579.8287,3594.17085,3877.30425,4239.89265,4243.59005,4433.3877,4466.6214,4618.0799,5261.46945,5630.45785,5729.0053,5855.9025,5989.52365,6112.35295,6203.90175,6360.9936,6373.55735,6389.37785,6393.60345,6796.86325,6940.90985,6986.697,7153.5539,7731.85785,8059.6791,8116.26885,8162.71625,8413.46305,8827.2099,9174.13565,9301.89355,10264.4421,10600.5483,10976.24575,11840.77505,11945.1327,12235.8392,12479.70895,13415.0381,14382.70905,15019.76005,16420.49455,16455.70785,18033.9679,21774.32215,23807.2406,23967.38305,26018.95052,28950.4692,29141.3603,29330.98315,32787.45859,33307.5508,33471.97189,38746.3551,39983.42595,42760.5022,43921.1837,60021.39897],\"xaxis\":\"x\",\"y\":[5503.662602559864,5702.1609411963855,5871.246201796661,6339.435179019145,6763.591933596523,6898.723347638412,6929.621800565088,6940.14151291746,7147.814834236031,7413.766987177316,7416.478964422824,7555.692170473258,7580.068499294601,7691.160619605835,8163.075429904302,8433.721869201203,8506.004673875523,8599.08151677017,8697.09025759307,8787.183368071153,8854.332787245045,8969.556869750248,8978.772157281554,8990.37621310796,8993.475615674255,9289.259518316128,9394.91514158999,9428.499203075535,9550.885776358378,9975.061454777628,10215.512520551943,10257.020097316421,10291.08844045295,10475.006765758277,10778.482733357281,11032.946610644229,11126.65476170548,11832.667031218276,12079.194960702269,12354.762369042004,12988.879259201269,13065.42374240424,13278.651798097766,13457.525929343425,14143.573252289341,14853.342711244011,15320.6083076707,16348.022190668988,16373.8505209387,17531.476242552304,20274.959667699357,21766.069252373225,21883.53089580912,23388.319205503547,25538.536102496382,25678.551334705495,25817.63632805984,28352.89968688952,28734.37808768086,28854.978037581226,32723.644465235477,33631.01396712359,35667.95008413564,36519.28935423949,48328.51136430564],\"yaxis\":\"y\",\"type\":\"scatter\"},{\"hovertemplate\":\"Actual Cost: %{x:$,.2f}<br>Predicted Cost: %{y:$,.2f}\",\"legendgroup\":\"northeast\",\"marker\":{\"color\":\"#6C839B\",\"opacity\":0.7,\"symbol\":\"circle\",\"line\":{\"color\":\"#F7F7F7\",\"width\":1},\"size\":10},\"mode\":\"markers\",\"name\":\"northeast\",\"orientation\":\"v\",\"showlegend\":false,\"x\":[58571.07448,41034.2214,13129.60345,17128.42608,13224.05705,42303.69215,8627.5411,11512.405,13228.84695,12730.9996,3558.62025,14590.63205,13019.16105,6113.23105,4846.92015,14451.83515,9282.4806,5594.8455,2203.73595,6640.54485,12323.936,7935.29115,3857.75925,1712.227,2727.3951,7639.41745,3044.2133,25517.11363,11938.25595,3393.35635,14449.8544,33475.81715,20709.02034,8334.45755,2217.6012,11879.10405,11394.06555,10072.05505,2396.0959,7729.64575,2211.13075,3385.39915,24106.91255,2205.9808,9722.7695,13616.3586,11658.37915,6067.12675,19594.80965,2217.46915,22395.74424,12029.2867,9866.30485,16115.3045,7050.0213,5428.7277,13430.265,2196.4732,7985.815,13725.47184,3481.868,13143.86485,23241.47453,7133.9025,8606.2174],\"xaxis\":\"x2\",\"y\":[31111.110103815896,34758.6242095139,10387.162688289276,8346.856502949679,16405.679636540677,34681.52219745032,5960.256850347547,13818.542192896064,16307.263118758005,12779.935753573802,4999.733572392874,16969.3448177544,14891.52986049114,8997.487172496902,7934.495681526727,11306.92792666972,9038.126662762676,9593.084226986275,5212.514041645225,3735.636379917569,10328.590668962985,13599.8456234361,6425.024874222757,3130.4608567257837,5122.37949720385,11309.855872900283,4562.042030736769,10120.52311577323,12553.561815186084,9005.210121856308,10735.372322510699,24581.870106958086,17186.575517170928,11580.624862063121,8737.268891902579,14115.957417355723,14944.229814594411,11339.976073023643,2693.2069826312236,8139.516427485689,7009.025507946301,6002.050129192493,31120.2986664633,5737.742845776207,12334.340837570442,10430.744447224124,12032.72503364464,7351.238165413194,25255.656768541587,8700.540465049195,4664.44626358811,9618.693075404524,13071.022098607133,21336.269326133097,10581.796746435197,10859.411994714028,16068.296795103743,3633.542062413626,7720.53277987675,6697.439672760356,5015.9445354091495,15097.619851196523,3957.3197647135257,5965.356253325121,9641.733702344252],\"yaxis\":\"y2\",\"type\":\"scatter\"},{\"hovertemplate\":\"<b>OLS trendline</b><br>preds = 0.559551 * actuals + 4978.64<br>R<sup>2</sup>=0.634704<br><br>index=northeast<br>actuals=%{x}<br>preds=%{y} <b>(trend)</b><extra></extra>\",\"legendgroup\":\"northeast\",\"marker\":{\"color\":\"#6C839B\",\"symbol\":\"circle\"},\"mode\":\"lines\",\"name\":\"northeast\",\"showlegend\":false,\"x\":[1712.227,2196.4732,2203.73595,2205.9808,2211.13075,2217.46915,2217.6012,2396.0959,2727.3951,3044.2133,3385.39915,3393.35635,3481.868,3558.62025,3857.75925,4846.92015,5428.7277,5594.8455,6067.12675,6113.23105,6640.54485,7050.0213,7133.9025,7639.41745,7729.64575,7935.29115,7985.815,8334.45755,8606.2174,8627.5411,9282.4806,9722.7695,9866.30485,10072.05505,11394.06555,11512.405,11658.37915,11879.10405,11938.25595,12029.2867,12323.936,12730.9996,13019.16105,13129.60345,13143.86485,13224.05705,13228.84695,13430.265,13616.3586,13725.47184,14449.8544,14451.83515,14590.63205,16115.3045,17128.42608,19594.80965,20709.02034,22395.74424,23241.47453,24106.91255,25517.11363,33475.81715,41034.2214,42303.69215,58571.07448],\"xaxis\":\"x2\",\"y\":[5936.721866692099,6207.682468896138,6211.7463502723,6213.002459061296,6215.884120400757,6219.430780510862,6219.504669263156,6319.38161492061,6504.7605208195455,6682.036564000058,6872.947557993397,6877.400019786299,6926.926830706185,6969.873653790217,7137.25727720887,7690.743568150728,8016.294752888691,8109.246187767911,8373.511786361512,8399.30950845452,8694.368643246904,8923.491732866136,8970.42756935922,9253.289128779086,9303.776493478792,9418.84564926048,9447.116336406123,9642.199736754854,9794.263320549377,9806.195025110443,10172.667289275265,10419.031526078268,10499.346921167724,10614.474717928135,11354.207443141182,11420.424439033963,11502.104467891644,11625.611377858982,11658.70990180303,11709.646278462435,11874.517684303097,12102.29066051095,12263.531781296182,12325.32997240818,12333.309957655918,12378.181609315892,12380.861804201257,12493.565540694724,12597.694460905803,12658.7489187804,13064.07813908962,13065.186470374028,13142.850459493726,13995.982947091783,14562.876468244263,15942.944659576166,16566.402726040244,17510.21131699242,17983.440820250464,18467.697809917026,19256.77769090646,23710.080780414657,27939.395883520403,28649.72992207437,37752.16523787063],\"yaxis\":\"y2\",\"type\":\"scatter\"}],                        {\"template\":{\"data\":{\"barpolar\":[{\"marker\":{\"line\":{\"color\":\"white\",\"width\":0.5},\"pattern\":{\"fillmode\":\"overlay\",\"size\":10,\"solidity\":0.2}},\"type\":\"barpolar\"}],\"bar\":[{\"error_x\":{\"color\":\"#2a3f5f\"},\"error_y\":{\"color\":\"#2a3f5f\"},\"marker\":{\"line\":{\"color\":\"white\",\"width\":0.5},\"pattern\":{\"fillmode\":\"overlay\",\"size\":10,\"solidity\":0.2}},\"type\":\"bar\"}],\"carpet\":[{\"aaxis\":{\"endlinecolor\":\"#2a3f5f\",\"gridcolor\":\"#C8D4E3\",\"linecolor\":\"#C8D4E3\",\"minorgridcolor\":\"#C8D4E3\",\"startlinecolor\":\"#2a3f5f\"},\"baxis\":{\"endlinecolor\":\"#2a3f5f\",\"gridcolor\":\"#C8D4E3\",\"linecolor\":\"#C8D4E3\",\"minorgridcolor\":\"#C8D4E3\",\"startlinecolor\":\"#2a3f5f\"},\"type\":\"carpet\"}],\"choropleth\":[{\"colorbar\":{\"outlinewidth\":0,\"ticks\":\"\"},\"type\":\"choropleth\"}],\"contourcarpet\":[{\"colorbar\":{\"outlinewidth\":0,\"ticks\":\"\"},\"type\":\"contourcarpet\"}],\"contour\":[{\"colorbar\":{\"outlinewidth\":0,\"ticks\":\"\"},\"colorscale\":[[0.0,\"#0d0887\"],[0.1111111111111111,\"#46039f\"],[0.2222222222222222,\"#7201a8\"],[0.3333333333333333,\"#9c179e\"],[0.4444444444444444,\"#bd3786\"],[0.5555555555555556,\"#d8576b\"],[0.6666666666666666,\"#ed7953\"],[0.7777777777777778,\"#fb9f3a\"],[0.8888888888888888,\"#fdca26\"],[1.0,\"#f0f921\"]],\"type\":\"contour\"}],\"heatmapgl\":[{\"colorbar\":{\"outlinewidth\":0,\"ticks\":\"\"},\"colorscale\":[[0.0,\"#0d0887\"],[0.1111111111111111,\"#46039f\"],[0.2222222222222222,\"#7201a8\"],[0.3333333333333333,\"#9c179e\"],[0.4444444444444444,\"#bd3786\"],[0.5555555555555556,\"#d8576b\"],[0.6666666666666666,\"#ed7953\"],[0.7777777777777778,\"#fb9f3a\"],[0.8888888888888888,\"#fdca26\"],[1.0,\"#f0f921\"]],\"type\":\"heatmapgl\"}],\"heatmap\":[{\"colorbar\":{\"outlinewidth\":0,\"ticks\":\"\"},\"colorscale\":[[0.0,\"#0d0887\"],[0.1111111111111111,\"#46039f\"],[0.2222222222222222,\"#7201a8\"],[0.3333333333333333,\"#9c179e\"],[0.4444444444444444,\"#bd3786\"],[0.5555555555555556,\"#d8576b\"],[0.6666666666666666,\"#ed7953\"],[0.7777777777777778,\"#fb9f3a\"],[0.8888888888888888,\"#fdca26\"],[1.0,\"#f0f921\"]],\"type\":\"heatmap\"}],\"histogram2dcontour\":[{\"colorbar\":{\"outlinewidth\":0,\"ticks\":\"\"},\"colorscale\":[[0.0,\"#0d0887\"],[0.1111111111111111,\"#46039f\"],[0.2222222222222222,\"#7201a8\"],[0.3333333333333333,\"#9c179e\"],[0.4444444444444444,\"#bd3786\"],[0.5555555555555556,\"#d8576b\"],[0.6666666666666666,\"#ed7953\"],[0.7777777777777778,\"#fb9f3a\"],[0.8888888888888888,\"#fdca26\"],[1.0,\"#f0f921\"]],\"type\":\"histogram2dcontour\"}],\"histogram2d\":[{\"colorbar\":{\"outlinewidth\":0,\"ticks\":\"\"},\"colorscale\":[[0.0,\"#0d0887\"],[0.1111111111111111,\"#46039f\"],[0.2222222222222222,\"#7201a8\"],[0.3333333333333333,\"#9c179e\"],[0.4444444444444444,\"#bd3786\"],[0.5555555555555556,\"#d8576b\"],[0.6666666666666666,\"#ed7953\"],[0.7777777777777778,\"#fb9f3a\"],[0.8888888888888888,\"#fdca26\"],[1.0,\"#f0f921\"]],\"type\":\"histogram2d\"}],\"histogram\":[{\"marker\":{\"pattern\":{\"fillmode\":\"overlay\",\"size\":10,\"solidity\":0.2}},\"type\":\"histogram\"}],\"mesh3d\":[{\"colorbar\":{\"outlinewidth\":0,\"ticks\":\"\"},\"type\":\"mesh3d\"}],\"parcoords\":[{\"line\":{\"colorbar\":{\"outlinewidth\":0,\"ticks\":\"\"}},\"type\":\"parcoords\"}],\"pie\":[{\"automargin\":true,\"type\":\"pie\"}],\"scatter3d\":[{\"line\":{\"colorbar\":{\"outlinewidth\":0,\"ticks\":\"\"}},\"marker\":{\"colorbar\":{\"outlinewidth\":0,\"ticks\":\"\"}},\"type\":\"scatter3d\"}],\"scattercarpet\":[{\"marker\":{\"colorbar\":{\"outlinewidth\":0,\"ticks\":\"\"}},\"type\":\"scattercarpet\"}],\"scattergeo\":[{\"marker\":{\"colorbar\":{\"outlinewidth\":0,\"ticks\":\"\"}},\"type\":\"scattergeo\"}],\"scattergl\":[{\"marker\":{\"colorbar\":{\"outlinewidth\":0,\"ticks\":\"\"}},\"type\":\"scattergl\"}],\"scattermapbox\":[{\"marker\":{\"colorbar\":{\"outlinewidth\":0,\"ticks\":\"\"}},\"type\":\"scattermapbox\"}],\"scatterpolargl\":[{\"marker\":{\"colorbar\":{\"outlinewidth\":0,\"ticks\":\"\"}},\"type\":\"scatterpolargl\"}],\"scatterpolar\":[{\"marker\":{\"colorbar\":{\"outlinewidth\":0,\"ticks\":\"\"}},\"type\":\"scatterpolar\"}],\"scatter\":[{\"marker\":{\"colorbar\":{\"outlinewidth\":0,\"ticks\":\"\"}},\"type\":\"scatter\"}],\"scatterternary\":[{\"marker\":{\"colorbar\":{\"outlinewidth\":0,\"ticks\":\"\"}},\"type\":\"scatterternary\"}],\"surface\":[{\"colorbar\":{\"outlinewidth\":0,\"ticks\":\"\"},\"colorscale\":[[0.0,\"#0d0887\"],[0.1111111111111111,\"#46039f\"],[0.2222222222222222,\"#7201a8\"],[0.3333333333333333,\"#9c179e\"],[0.4444444444444444,\"#bd3786\"],[0.5555555555555556,\"#d8576b\"],[0.6666666666666666,\"#ed7953\"],[0.7777777777777778,\"#fb9f3a\"],[0.8888888888888888,\"#fdca26\"],[1.0,\"#f0f921\"]],\"type\":\"surface\"}],\"table\":[{\"cells\":{\"fill\":{\"color\":\"#EBF0F8\"},\"line\":{\"color\":\"white\"}},\"header\":{\"fill\":{\"color\":\"#C8D4E3\"},\"line\":{\"color\":\"white\"}},\"type\":\"table\"}]},\"layout\":{\"annotationdefaults\":{\"arrowcolor\":\"#2a3f5f\",\"arrowhead\":0,\"arrowwidth\":1},\"autotypenumbers\":\"strict\",\"coloraxis\":{\"colorbar\":{\"outlinewidth\":0,\"ticks\":\"\"}},\"colorscale\":{\"diverging\":[[0,\"#8e0152\"],[0.1,\"#c51b7d\"],[0.2,\"#de77ae\"],[0.3,\"#f1b6da\"],[0.4,\"#fde0ef\"],[0.5,\"#f7f7f7\"],[0.6,\"#e6f5d0\"],[0.7,\"#b8e186\"],[0.8,\"#7fbc41\"],[0.9,\"#4d9221\"],[1,\"#276419\"]],\"sequential\":[[0.0,\"#0d0887\"],[0.1111111111111111,\"#46039f\"],[0.2222222222222222,\"#7201a8\"],[0.3333333333333333,\"#9c179e\"],[0.4444444444444444,\"#bd3786\"],[0.5555555555555556,\"#d8576b\"],[0.6666666666666666,\"#ed7953\"],[0.7777777777777778,\"#fb9f3a\"],[0.8888888888888888,\"#fdca26\"],[1.0,\"#f0f921\"]],\"sequentialminus\":[[0.0,\"#0d0887\"],[0.1111111111111111,\"#46039f\"],[0.2222222222222222,\"#7201a8\"],[0.3333333333333333,\"#9c179e\"],[0.4444444444444444,\"#bd3786\"],[0.5555555555555556,\"#d8576b\"],[0.6666666666666666,\"#ed7953\"],[0.7777777777777778,\"#fb9f3a\"],[0.8888888888888888,\"#fdca26\"],[1.0,\"#f0f921\"]]},\"colorway\":[\"#636efa\",\"#EF553B\",\"#00cc96\",\"#ab63fa\",\"#FFA15A\",\"#19d3f3\",\"#FF6692\",\"#B6E880\",\"#FF97FF\",\"#FECB52\"],\"font\":{\"color\":\"#2a3f5f\"},\"geo\":{\"bgcolor\":\"white\",\"lakecolor\":\"white\",\"landcolor\":\"white\",\"showlakes\":true,\"showland\":true,\"subunitcolor\":\"#C8D4E3\"},\"hoverlabel\":{\"align\":\"left\"},\"hovermode\":\"closest\",\"mapbox\":{\"style\":\"light\"},\"paper_bgcolor\":\"white\",\"plot_bgcolor\":\"white\",\"polar\":{\"angularaxis\":{\"gridcolor\":\"#EBF0F8\",\"linecolor\":\"#EBF0F8\",\"ticks\":\"\"},\"bgcolor\":\"white\",\"radialaxis\":{\"gridcolor\":\"#EBF0F8\",\"linecolor\":\"#EBF0F8\",\"ticks\":\"\"}},\"scene\":{\"xaxis\":{\"backgroundcolor\":\"white\",\"gridcolor\":\"#DFE8F3\",\"gridwidth\":2,\"linecolor\":\"#EBF0F8\",\"showbackground\":true,\"ticks\":\"\",\"zerolinecolor\":\"#EBF0F8\"},\"yaxis\":{\"backgroundcolor\":\"white\",\"gridcolor\":\"#DFE8F3\",\"gridwidth\":2,\"linecolor\":\"#EBF0F8\",\"showbackground\":true,\"ticks\":\"\",\"zerolinecolor\":\"#EBF0F8\"},\"zaxis\":{\"backgroundcolor\":\"white\",\"gridcolor\":\"#DFE8F3\",\"gridwidth\":2,\"linecolor\":\"#EBF0F8\",\"showbackground\":true,\"ticks\":\"\",\"zerolinecolor\":\"#EBF0F8\"}},\"shapedefaults\":{\"line\":{\"color\":\"#2a3f5f\"}},\"ternary\":{\"aaxis\":{\"gridcolor\":\"#DFE8F3\",\"linecolor\":\"#A2B1C6\",\"ticks\":\"\"},\"baxis\":{\"gridcolor\":\"#DFE8F3\",\"linecolor\":\"#A2B1C6\",\"ticks\":\"\"},\"bgcolor\":\"white\",\"caxis\":{\"gridcolor\":\"#DFE8F3\",\"linecolor\":\"#A2B1C6\",\"ticks\":\"\"}},\"title\":{\"x\":0.05},\"xaxis\":{\"automargin\":true,\"gridcolor\":\"#EBF0F8\",\"linecolor\":\"#EBF0F8\",\"ticks\":\"\",\"title\":{\"standoff\":15},\"zerolinecolor\":\"#EBF0F8\",\"zerolinewidth\":2},\"yaxis\":{\"automargin\":true,\"gridcolor\":\"#EBF0F8\",\"linecolor\":\"#EBF0F8\",\"ticks\":\"\",\"title\":{\"standoff\":15},\"zerolinecolor\":\"#EBF0F8\",\"zerolinewidth\":2}}},\"xaxis\":{\"anchor\":\"y\",\"domain\":[0.0,0.49],\"title\":{\"text\":\"Actual Cost, $\"},\"showgrid\":true,\"gridwidth\":1,\"gridcolor\":\"#EAEAEA\",\"zeroline\":true,\"zerolinewidth\":2,\"zerolinecolor\":\"#5E5E5E\"},\"yaxis\":{\"anchor\":\"x\",\"domain\":[0.0,0.46499999999999997],\"title\":{\"text\":\"Predicted Cost, $\"},\"showgrid\":true,\"gridwidth\":1,\"gridcolor\":\"#E3E3E3\",\"zeroline\":true,\"zerolinewidth\":2,\"zerolinecolor\":\"#5E5E5E\"},\"xaxis2\":{\"anchor\":\"y2\",\"domain\":[0.51,1.0],\"matches\":\"x\",\"title\":{\"text\":\"Actual Cost, $\"},\"showgrid\":true,\"gridwidth\":1,\"gridcolor\":\"#EAEAEA\",\"zeroline\":true,\"zerolinewidth\":2,\"zerolinecolor\":\"#5E5E5E\"},\"yaxis2\":{\"anchor\":\"x2\",\"domain\":[0.0,0.46499999999999997],\"matches\":\"y\",\"showticklabels\":false,\"showgrid\":true,\"gridwidth\":1,\"gridcolor\":\"#E3E3E3\",\"zeroline\":true,\"zerolinewidth\":2,\"zerolinecolor\":\"#5E5E5E\"},\"xaxis3\":{\"anchor\":\"y3\",\"domain\":[0.0,0.49],\"matches\":\"x\",\"showticklabels\":false,\"showgrid\":true,\"gridwidth\":1,\"gridcolor\":\"#EAEAEA\",\"zeroline\":true,\"zerolinewidth\":2,\"zerolinecolor\":\"#5E5E5E\"},\"yaxis3\":{\"anchor\":\"x3\",\"domain\":[0.5349999999999999,0.9999999999999999],\"matches\":\"y\",\"title\":{\"text\":\"Predicted Cost, $\"},\"showgrid\":true,\"gridwidth\":1,\"gridcolor\":\"#E3E3E3\",\"zeroline\":true,\"zerolinewidth\":2,\"zerolinecolor\":\"#5E5E5E\"},\"xaxis4\":{\"anchor\":\"y4\",\"domain\":[0.51,1.0],\"matches\":\"x\",\"showticklabels\":false,\"showgrid\":true,\"gridwidth\":1,\"gridcolor\":\"#EAEAEA\",\"zeroline\":true,\"zerolinewidth\":2,\"zerolinecolor\":\"#5E5E5E\"},\"yaxis4\":{\"anchor\":\"x4\",\"domain\":[0.5349999999999999,0.9999999999999999],\"matches\":\"y\",\"showticklabels\":false,\"showgrid\":true,\"gridwidth\":1,\"gridcolor\":\"#E3E3E3\",\"zeroline\":true,\"zerolinewidth\":2,\"zerolinecolor\":\"#5E5E5E\"},\"annotations\":[{\"showarrow\":false,\"text\":\"northwest\",\"x\":0.245,\"xanchor\":\"center\",\"xref\":\"paper\",\"y\":0.46499999999999997,\"yanchor\":\"bottom\",\"yref\":\"paper\"},{\"showarrow\":false,\"text\":\"northeast\",\"x\":0.755,\"xanchor\":\"center\",\"xref\":\"paper\",\"y\":0.46499999999999997,\"yanchor\":\"bottom\",\"yref\":\"paper\"},{\"showarrow\":false,\"text\":\"southwest\",\"x\":0.245,\"xanchor\":\"center\",\"xref\":\"paper\",\"y\":0.9999999999999999,\"yanchor\":\"bottom\",\"yref\":\"paper\"},{\"showarrow\":false,\"text\":\"southeast\",\"x\":0.755,\"xanchor\":\"center\",\"xref\":\"paper\",\"y\":0.9999999999999999,\"yanchor\":\"bottom\",\"yref\":\"paper\"},{\"showarrow\":false,\"text\":\"Adj. R-Squared = 74.7%<br>RMSE = 5,661\",\"x\":51000.0,\"xref\":\"x3\",\"y\":15000.0,\"yref\":\"y3\"},{\"showarrow\":false,\"text\":\"Adj. R-Squared = 89.8%<br>RMSE = 4,608\",\"x\":51000.0,\"xref\":\"x4\",\"y\":15000.0,\"yref\":\"y4\"},{\"showarrow\":false,\"text\":\"Adj. R-Squared = 59.3%<br>RMSE = 6,296\",\"x\":51000.0,\"xref\":\"x2\",\"y\":15000.0,\"yref\":\"y2\"}],\"legend\":{\"title\":{\"text\":\"index\"},\"tracegroupgap\":0},\"title\":{\"text\":\"Actual vs Predicted Insurance Costs by Region,<br>Linear Regression with Principal Component Analysis\"},\"height\":700,\"font\":{\"color\":\"#303030\"},\"paper_bgcolor\":\"white\",\"plot_bgcolor\":\"white\"},                        {\"responsive\": true}                    ).then(function(){\n",
              "                            \n",
              "var gd = document.getElementById('2397f2ab-81f0-42a0-bdcd-12e930bd8090');\n",
              "var x = new MutationObserver(function (mutations, observer) {{\n",
              "        var display = window.getComputedStyle(gd).display;\n",
              "        if (!display || display === 'none') {{\n",
              "            console.log([gd, 'removed!']);\n",
              "            Plotly.purge(gd);\n",
              "            observer.disconnect();\n",
              "        }}\n",
              "}});\n",
              "\n",
              "// Listen for the removal of the full notebook cells\n",
              "var notebookContainer = gd.closest('#notebook-container');\n",
              "if (notebookContainer) {{\n",
              "    x.observe(notebookContainer, {childList: true});\n",
              "}}\n",
              "\n",
              "// Listen for the clearing of the current output cell\n",
              "var outputEl = gd.closest('.output');\n",
              "if (outputEl) {{\n",
              "    x.observe(outputEl, {childList: true});\n",
              "}}\n",
              "\n",
              "                        })                };                            </script>        </div>\n",
              "</body>\n",
              "</html>"
            ]
          },
          "metadata": {}
        }
      ],
      "source": [
        "# Plot results\n",
        "## HIỂN THỊ KẾT QUẢ DỰ ĐOÁN GIỮA X_TRAIN VÀ Y_PREDS:\n",
        "for i in range(0,4):\n",
        "    actuals[i].loc[:,'index']=regions[i]\n",
        "actual = pd.concat([actuals[i] for i in range(4)], axis = 0)\n",
        "pred = pd.concat([preds[i] for i in range(4)], axis = 0)\n",
        "df = pd.concat([actual, pred], axis=1).reset_index(drop=True)\n",
        "col = [\"#B14B51\", '#D0A99C', '#5D8370','#6C839B']\n",
        "fig = px.scatter(df, x=\"actuals\", y=\"preds\", color=\"index\", trendline=\"ols\", height=700,\n",
        "                 title=\"Actual vs Predicted Insurance Costs by Region,<br>Linear Regression with Principal Component Analysis\",\n",
        "                 color_discrete_sequence=col, opacity=0.7, facet_col='index', facet_col_wrap=2)\n",
        "fig.for_each_annotation(lambda a: a.update(text=a.text.split(\"=\")[-1]))\n",
        "fig.add_annotation(text=\"Adj. R-Squared = {:.1f}%<br>RMSE = {:,.0f}\".format(adj_r2_scores[0]*100,rmses[0]),\n",
        "                   x=51e3,y=15e3, row=2,col=1, showarrow=False)\n",
        "fig.add_annotation(text=\"Adj. R-Squared = {:.1f}%<br>RMSE = {:,.0f}\".format(adj_r2_scores[1]*100,rmses[1]),\n",
        "                   x=51e3,y=15e3, row=2,col=2, showarrow=False)\n",
        "fig.add_annotation(text=\"Adj. R-Squared = {:.1f}%<br>RMSE = {:,.0f}\".format(adj_r2_scores[3]*100,rmses[3]),\n",
        "                   x=51e3,y=15e3, row=1,col=2, showarrow=False)\n",
        "\n",
        "fig.update_traces(hovertemplate=\"Actual Cost: %{x:$,.2f}<br>Predicted Cost: %{y:$,.2f}\",\n",
        "                  marker=dict(size=10, line=dict(width=1,color=\"#F7F7F7\")),\n",
        "                  selector=dict(mode=\"markers\"), showlegend=False)\n",
        "fig.update_xaxes(title=\"Actual Cost, $\", row=1)\n",
        "fig.update_xaxes(showgrid=True, gridwidth=1, gridcolor='#EAEAEA',\n",
        "                 zeroline=True, zerolinewidth=2, zerolinecolor='#5E5E5E')\n",
        "fig.update_yaxes(title=\"Predicted Cost, $\", col=1)\n",
        "fig.update_yaxes(showgrid=True, gridwidth=1, gridcolor='#E3E3E3',\n",
        "                 zeroline=True, zerolinewidth=2, zerolinecolor='#5E5E5E')\n",
        "fig.update_layout(font_color=\"#303030\", paper_bgcolor=\"white\", plot_bgcolor=\"white\")\n",
        "fig.show(renderer=\"colab\")"
      ]
    },
    {
      "cell_type": "code",
      "execution_count": null,
      "id": "75a832fe",
      "metadata": {
        "colab": {
          "base_uri": "https://localhost:8080/",
          "height": 81
        },
        "id": "75a832fe",
        "outputId": "3cb2064d-2956-4ffb-bb2d-c487a8da17e7"
      },
      "outputs": [
        {
          "output_type": "display_data",
          "data": {
            "text/plain": [
              "                  Average RMSE Avg. Adjusted R2\n",
              "Linear Regression     5565.895         0.752981"
            ],
            "text/html": [
              "\n",
              "  <div id=\"df-319fae8b-65ab-41cc-a005-1910bde9896b\">\n",
              "    <div class=\"colab-df-container\">\n",
              "      <div>\n",
              "<style scoped>\n",
              "    .dataframe tbody tr th:only-of-type {\n",
              "        vertical-align: middle;\n",
              "    }\n",
              "\n",
              "    .dataframe tbody tr th {\n",
              "        vertical-align: top;\n",
              "    }\n",
              "\n",
              "    .dataframe thead th {\n",
              "        text-align: right;\n",
              "    }\n",
              "</style>\n",
              "<table border=\"1\" class=\"dataframe\">\n",
              "  <thead>\n",
              "    <tr style=\"text-align: right;\">\n",
              "      <th></th>\n",
              "      <th>Average RMSE</th>\n",
              "      <th>Avg. Adjusted R2</th>\n",
              "    </tr>\n",
              "  </thead>\n",
              "  <tbody>\n",
              "    <tr>\n",
              "      <th>Linear Regression</th>\n",
              "      <td>5565.895</td>\n",
              "      <td>0.752981</td>\n",
              "    </tr>\n",
              "  </tbody>\n",
              "</table>\n",
              "</div>\n",
              "      <button class=\"colab-df-convert\" onclick=\"convertToInteractive('df-319fae8b-65ab-41cc-a005-1910bde9896b')\"\n",
              "              title=\"Convert this dataframe to an interactive table.\"\n",
              "              style=\"display:none;\">\n",
              "        \n",
              "  <svg xmlns=\"http://www.w3.org/2000/svg\" height=\"24px\"viewBox=\"0 0 24 24\"\n",
              "       width=\"24px\">\n",
              "    <path d=\"M0 0h24v24H0V0z\" fill=\"none\"/>\n",
              "    <path d=\"M18.56 5.44l.94 2.06.94-2.06 2.06-.94-2.06-.94-.94-2.06-.94 2.06-2.06.94zm-11 1L8.5 8.5l.94-2.06 2.06-.94-2.06-.94L8.5 2.5l-.94 2.06-2.06.94zm10 10l.94 2.06.94-2.06 2.06-.94-2.06-.94-.94-2.06-.94 2.06-2.06.94z\"/><path d=\"M17.41 7.96l-1.37-1.37c-.4-.4-.92-.59-1.43-.59-.52 0-1.04.2-1.43.59L10.3 9.45l-7.72 7.72c-.78.78-.78 2.05 0 2.83L4 21.41c.39.39.9.59 1.41.59.51 0 1.02-.2 1.41-.59l7.78-7.78 2.81-2.81c.8-.78.8-2.07 0-2.86zM5.41 20L4 18.59l7.72-7.72 1.47 1.35L5.41 20z\"/>\n",
              "  </svg>\n",
              "      </button>\n",
              "      \n",
              "  <style>\n",
              "    .colab-df-container {\n",
              "      display:flex;\n",
              "      flex-wrap:wrap;\n",
              "      gap: 12px;\n",
              "    }\n",
              "\n",
              "    .colab-df-convert {\n",
              "      background-color: #E8F0FE;\n",
              "      border: none;\n",
              "      border-radius: 50%;\n",
              "      cursor: pointer;\n",
              "      display: none;\n",
              "      fill: #1967D2;\n",
              "      height: 32px;\n",
              "      padding: 0 0 0 0;\n",
              "      width: 32px;\n",
              "    }\n",
              "\n",
              "    .colab-df-convert:hover {\n",
              "      background-color: #E2EBFA;\n",
              "      box-shadow: 0px 1px 2px rgba(60, 64, 67, 0.3), 0px 1px 3px 1px rgba(60, 64, 67, 0.15);\n",
              "      fill: #174EA6;\n",
              "    }\n",
              "\n",
              "    [theme=dark] .colab-df-convert {\n",
              "      background-color: #3B4455;\n",
              "      fill: #D2E3FC;\n",
              "    }\n",
              "\n",
              "    [theme=dark] .colab-df-convert:hover {\n",
              "      background-color: #434B5C;\n",
              "      box-shadow: 0px 1px 3px 1px rgba(0, 0, 0, 0.15);\n",
              "      filter: drop-shadow(0px 1px 2px rgba(0, 0, 0, 0.3));\n",
              "      fill: #FFFFFF;\n",
              "    }\n",
              "  </style>\n",
              "\n",
              "      <script>\n",
              "        const buttonEl =\n",
              "          document.querySelector('#df-319fae8b-65ab-41cc-a005-1910bde9896b button.colab-df-convert');\n",
              "        buttonEl.style.display =\n",
              "          google.colab.kernel.accessAllowed ? 'block' : 'none';\n",
              "\n",
              "        async function convertToInteractive(key) {\n",
              "          const element = document.querySelector('#df-319fae8b-65ab-41cc-a005-1910bde9896b');\n",
              "          const dataTable =\n",
              "            await google.colab.kernel.invokeFunction('convertToInteractive',\n",
              "                                                     [key], {});\n",
              "          if (!dataTable) return;\n",
              "\n",
              "          const docLinkHtml = 'Like what you see? Visit the ' +\n",
              "            '<a target=\"_blank\" href=https://colab.research.google.com/notebooks/data_table.ipynb>data table notebook</a>'\n",
              "            + ' to learn more about interactive tables.';\n",
              "          element.innerHTML = '';\n",
              "          dataTable['output_type'] = 'display_data';\n",
              "          await google.colab.output.renderOutput(dataTable, element);\n",
              "          const docLink = document.createElement('div');\n",
              "          docLink.innerHTML = docLinkHtml;\n",
              "          element.appendChild(docLink);\n",
              "        }\n",
              "      </script>\n",
              "    </div>\n",
              "  </div>\n",
              "  "
            ]
          },
          "metadata": {}
        }
      ],
      "source": [
        "## HIỂN THỊ KẾT QUẢ:\n",
        "mod_res.iloc[0,0]=pd.Series(rmses).mean()\n",
        "mod_res.iloc[0,1]=pd.Series(adj_r2_scores).mean()\n",
        "display(mod_res.iloc[:1,].sort_values(\"Average RMSE\"))"
      ]
    },
    {
      "cell_type": "code",
      "execution_count": null,
      "id": "1140cf73",
      "metadata": {
        "colab": {
          "base_uri": "https://localhost:8080/"
        },
        "id": "1140cf73",
        "outputId": "defe61b3-736d-4221-db6e-1587bc2ad6f4"
      },
      "outputs": [
        {
          "output_type": "stream",
          "name": "stdout",
          "text": [
            "\n",
            "Region: southwest\n",
            "\n",
            "Train Shape:(260, 20) (260,)  Test Shape:(65, 20) (65,)\n",
            "\n",
            "Region: southeast\n",
            "\n",
            "Train Shape:(291, 20) (291,)  Test Shape:(73, 20) (73,)\n",
            "\n",
            "Region: northwest\n",
            "\n",
            "Train Shape:(260, 20) (260,)  Test Shape:(65, 20) (65,)\n",
            "\n",
            "Region: northeast\n",
            "\n",
            "Train Shape:(259, 20) (259,)  Test Shape:(65, 20) (65,)\n"
          ]
        }
      ],
      "source": [
        "## K-NEAREST NEIGHTBORS REGRESSION\n",
        "actuals=[]\n",
        "preds=[]\n",
        "rmses=[]\n",
        "r2_scores=[]\n",
        "adj_r2_scores=[]\n",
        "for i in regions:\n",
        "    \n",
        "    # Filter data by region\n",
        "    ## tách dữ liệu và đặt biến X, y theo vùng:\n",
        "    ins_df = ins[ins.region==i]\n",
        "    X=ins_df.drop(['charges', 'region'], axis=1)\n",
        "    y=ins_df.charges\n",
        "    \n",
        "    # Add polynomial features\n",
        "    ## Thêm các biến mới\n",
        "    pf = PolynomialFeatures(degree=2, include_bias=False)\n",
        "    X_pf = pd.DataFrame(data=pf.fit_transform(X), columns=pf.get_feature_names(X.columns)) \n",
        "    \n",
        "      # Create training and test sets\n",
        "    ## tách train và test:\n",
        "    X_train, X_test, y_train, y_test = train_test_split(X_pf, y, test_size=0.2, random_state=1)\n",
        "    X_train = pd.DataFrame(X_train, columns = X_pf.columns)\n",
        "    X_test = pd.DataFrame(X_test, columns = X_pf.columns)\n",
        "    actuals.append(pd.Series(y_test, name='actuals').reset_index())\n",
        "    print(\"\\nRegion: {}\\n\".format(i))\n",
        "    print(\"Train Shape:{} {}  Test Shape:{} {}\".format(X_train.shape, y_train.shape, X_test.shape, y_test.shape))\n",
        "    ## Scale dữ liệu: \n",
        "     # Scale features\n",
        "    X_train = pd.DataFrame(data=s.fit_transform(X_train), columns=X_pf.columns)\n",
        "    X_test = pd.DataFrame(data=s.transform(X_test), columns=X_pf.columns)\n",
        "    "
      ]
    },
    {
      "cell_type": "code",
      "execution_count": null,
      "id": "11fab517",
      "metadata": {
        "id": "11fab517"
      },
      "outputs": [],
      "source": [
        " # KNN\n",
        " ## SET THÔNG SỐ CHO KNN\n",
        "grid = {'n_neighbors': range(2, 20),\n",
        "            'weights': ['uniform', 'distance'],\n",
        "            'algorithm': ['auto', 'ball_tree', 'kd_tree', 'brute'],\n",
        "            'leaf_size': [int(x) for x in np.linspace(10, 50, num = 5)],\n",
        "            'p': [1, 2]}"
      ]
    },
    {
      "cell_type": "code",
      "execution_count": null,
      "id": "a4b1122b",
      "metadata": {
        "colab": {
          "base_uri": "https://localhost:8080/",
          "height": 1000
        },
        "id": "a4b1122b",
        "outputId": "9ec6e3e9-a040-4d67-ff66-641d61e8b572"
      },
      "outputs": [
        {
          "output_type": "stream",
          "name": "stdout",
          "text": [
            "\n",
            "Region: southwest\n",
            "\n",
            "Train Shape:(260, 20) (260,)  Test Shape:(65, 20) (65,)\n",
            "Test Error (RMSE) = 4,634.25\n",
            "R-Squared = 84.35%, Adjusted R-Squared = 77.24%\n",
            "__________________________\n",
            "\n",
            "Region: southeast\n",
            "\n",
            "Train Shape:(291, 20) (291,)  Test Shape:(73, 20) (73,)\n",
            "Test Error (RMSE) = 4,277.54\n",
            "R-Squared = 91.98%, Adjusted R-Squared = 88.89%\n",
            "__________________________\n",
            "\n",
            "Region: northwest\n",
            "\n",
            "Train Shape:(260, 20) (260,)  Test Shape:(65, 20) (65,)\n",
            "Test Error (RMSE) = 5,853.5\n",
            "R-Squared = 77.97%, Adjusted R-Squared = 67.95%\n",
            "__________________________\n",
            "\n",
            "Region: northeast\n",
            "\n",
            "Train Shape:(259, 20) (259,)  Test Shape:(65, 20) (65,)\n",
            "Test Error (RMSE) = 5,555.43\n",
            "R-Squared = 70.81%, Adjusted R-Squared = 57.54%\n",
            "__________________________\n"
          ]
        },
        {
          "output_type": "display_data",
          "data": {
            "text/html": [
              "<html>\n",
              "<head><meta charset=\"utf-8\" /></head>\n",
              "<body>\n",
              "    <div>            <script src=\"https://cdnjs.cloudflare.com/ajax/libs/mathjax/2.7.5/MathJax.js?config=TeX-AMS-MML_SVG\"></script><script type=\"text/javascript\">if (window.MathJax) {MathJax.Hub.Config({SVG: {font: \"STIX-Web\"}});}</script>                <script type=\"text/javascript\">window.PlotlyConfig = {MathJaxConfig: 'local'};</script>\n",
              "        <script src=\"https://cdn.plot.ly/plotly-2.8.3.min.js\"></script>                <div id=\"23c62dc9-ddf4-49b7-8639-7de450d88f36\" class=\"plotly-graph-div\" style=\"height:700px; width:100%;\"></div>            <script type=\"text/javascript\">                                    window.PLOTLYENV=window.PLOTLYENV || {};                                    if (document.getElementById(\"23c62dc9-ddf4-49b7-8639-7de450d88f36\")) {                    Plotly.newPlot(                        \"23c62dc9-ddf4-49b7-8639-7de450d88f36\",                        [{\"hovertemplate\":\"Actual Cost: %{x:$,.2f}<br>Predicted Cost: %{y:$,.2f}\",\"legendgroup\":\"southwest\",\"marker\":{\"color\":\"#B14B51\",\"opacity\":0.7,\"symbol\":\"circle\",\"line\":{\"color\":\"#F7F7F7\",\"width\":1},\"size\":10},\"mode\":\"markers\",\"name\":\"southwest\",\"orientation\":\"v\",\"showlegend\":false,\"x\":[3761.292,11674.13,6311.952,14319.031,11552.904,5080.096,8269.044,3693.428,36837.467,13224.693,23306.547,35160.13457,12347.172,10065.413,5488.262,38711.0,7196.867,6571.544,5979.731,34828.654,6600.361,39836.519,1256.299,1242.26,4762.329,9264.797,13470.86,1759.338,1241.565,48173.361,16232.847,25309.489,10791.96,4751.07,8556.907,42856.838,8277.523,11576.13,7623.518,12146.971,20630.28351,4646.759,26140.3603,2007.945,8444.474,17081.08,13822.803,8825.086,37079.372,10096.97,11411.685,14988.432,11362.755,6875.961,10795.93733,18259.216,1261.859,17942.106,11150.78,38415.474,8522.003,8703.456,3987.926,1964.78,1743.214],\"xaxis\":\"x3\",\"y\":[3648.0331981085487,9782.56242250015,6601.5003445483535,12464.80637793811,11464.381626790166,5730.911755241204,9912.982905112578,4074.3262285063834,35741.873832524565,11686.41985048511,28849.410622280175,12476.184148691324,9706.69911857378,11307.005785777103,8007.86295948368,41150.28480268409,8138.972584023652,6626.2395542243785,10161.6816022799,34848.80374991303,7987.073766130736,32193.694008242066,1492.9460692165583,1503.046626540502,6860.638583875347,10190.6048884712,11564.457807319728,2842.9722118110712,1692.2492361657391,43265.91874971286,19879.751828678865,30383.240697646062,11325.993605175214,6878.462658159824,8994.396590800206,38157.51676840893,7805.630334805891,10642.387268492377,10917.347738838387,11183.313856246546,12538.151862066341,10357.497432444456,11864.806696971138,4921.676816845642,14765.853911382112,21024.901880240897,14824.343305936185,9123.047702228681,31770.223926617356,7256.258847992489,11335.49841364894,10604.35929323582,14665.40419982767,7213.893839312042,2129.353724097578,22712.656708394818,4298.640614442724,26699.92133175932,10020.90575683699,40203.902283423566,7815.9523308215175,8677.174876986139,4718.5489647559725,1985.7031322640914,3705.231299102469],\"yaxis\":\"y3\",\"type\":\"scatter\"},{\"hovertemplate\":\"<b>LOWESS trendline</b><br><br>index=southwest<br>actuals=%{x}<br>preds=%{y} <b>(trend)</b><extra></extra>\",\"legendgroup\":\"southwest\",\"marker\":{\"color\":\"#B14B51\",\"symbol\":\"circle\"},\"mode\":\"lines\",\"name\":\"southwest\",\"showlegend\":false,\"x\":[1241.565,1242.26,1256.299,1261.859,1743.214,1759.338,1964.78,2007.945,3693.428,3761.292,3987.926,4646.759,4751.07,4762.329,5080.096,5488.262,5979.731,6311.952,6571.544,6600.361,6875.961,7196.867,7623.518,8269.044,8277.523,8444.474,8522.003,8556.907,8703.456,8825.086,9264.797,10065.413,10096.97,10791.96,10795.93733,11150.78,11362.755,11411.685,11552.904,11576.13,11674.13,12146.971,12347.172,13224.693,13470.86,13822.803,14319.031,14988.432,16232.847,17081.08,17942.106,18259.216,20630.28351,23306.547,25309.489,26140.3603,34828.654,35160.13457,36837.467,37079.372,38415.474,38711.0,39836.519,42856.838,48173.361],\"xaxis\":\"x3\",\"y\":[2576.3470828076756,2577.0286236774195,2590.79442469471,2596.245529876723,3066.674051850177,3082.3806771799864,3282.2106976529244,3324.126768907301,4940.927404312956,5005.187271191837,5219.337027556448,5839.018214073164,5936.966659618943,5947.5400139419235,6246.210963621383,6631.630049631996,7102.2669035947665,7425.532484495805,7674.106643170206,7700.849159380296,7933.581289213099,8160.894112925644,8452.40059627214,8900.304939588154,8905.806599585445,9014.936082711725,9065.416707998105,9088.144946225479,9183.4971746897,9262.467315184493,9551.15647948671,10107.545929670774,10129.020883867965,10594.341064691156,10597.003756385106,10909.262414951982,11128.708947543266,11182.403308702682,11343.001543962271,11370.13634395221,11486.554104047871,12077.250623899236,12301.977088524505,13452.267899934464,13771.989895164732,14225.30421097016,14893.970534155489,15843.387143154325,17712.39939086159,18987.39312550474,20268.705791832646,20739.163931275103,24415.902894780273,25810.87381767599,26250.330327330445,26718.066871533756,33285.08039044576,33542.33160304813,34839.50874555154,35025.78158966235,36050.255710876714,36275.83116289121,37131.31307232908,39396.853898614456,43291.38226973654],\"yaxis\":\"y3\",\"type\":\"scatter\"},{\"hovertemplate\":\"Actual Cost: %{x:$,.2f}<br>Predicted Cost: %{y:$,.2f}\",\"legendgroup\":\"southeast\",\"marker\":{\"color\":\"#D0A99C\",\"opacity\":0.7,\"symbol\":\"circle\",\"line\":{\"color\":\"#F7F7F7\",\"width\":1},\"size\":10},\"mode\":\"markers\",\"name\":\"southeast\",\"orientation\":\"v\",\"showlegend\":false,\"x\":[44202.6536,6781.3542,5478.0368,32548.3405,1815.8759,11093.6229,11090.7178,13470.8044,47269.854,10107.2206,38282.7495,19350.3689,1615.7667,40974.1649,1824.2854,7243.8136,36950.2567,41999.52,6184.2994,20462.99766,7152.6714,2219.4451,8232.6388,4266.1658,19521.9682,27808.7251,16586.49771,5966.8874,4504.6624,3500.6123,4340.4409,5974.3847,3227.1211,11363.2832,12592.5345,6313.759,5920.1041,12142.5786,3561.8889,4673.3922,46599.1084,2566.4707,41676.0811,8978.1851,48970.2476,24667.419,8596.8278,38709.176,1136.3994,18806.14547,1981.5819,1131.5066,6500.2359,1146.7966,8547.6913,39611.7577,11881.9696,48675.5177,44400.4064,18223.4512,28287.89766,9855.1314,10702.6424,5245.2269,1664.9996,2464.6188,9377.9047,10226.2842,36124.5737,4779.6023,6338.0756,42112.2356,1633.9618],\"xaxis\":\"x4\",\"y\":[43595.540387757996,7495.31697996618,5135.492479018222,26536.34719490031,2051.588771631894,17583.139274057525,14552.25881291547,14404.522927410315,46245.222616269966,10154.739598605154,36733.50057904849,27743.907303966345,4911.529008050874,38567.4214500681,1670.500691484978,13025.7759475642,32572.625132401543,35723.38471159602,8563.168604671424,13613.398956912051,8935.333946680412,6813.676935445041,7929.004971079538,5470.452148946993,19842.562587930108,30164.214133860267,1576.1807695725704,5348.088272124482,7059.026087086467,4259.2017488837555,3682.6640791772866,6016.361760193694,7788.630342877321,12729.867179850573,17420.283438972812,6934.546202756081,7137.518784559625,12797.625781784109,7360.865457220706,6190.449149292347,46418.12491860094,3848.0660106637956,45823.396354198885,9199.617289423482,46655.70756366889,27845.877862885358,14890.324202801705,37342.23674800787,1211.9416853534278,9307.320129044565,1872.464902697845,1510.299429293376,6474.463915904474,1579.9774084203011,7751.280649937876,37892.9241005125,9689.346401058154,46612.36559569953,43274.8533549064,29128.970167691492,12246.290890391347,13580.890305319808,18630.58042612044,5316.158990555435,2020.2142802898238,4205.411753080006,9529.791969668022,9812.363491060318,32750.511691361906,4446.214533776585,11163.081652089546,39765.1042881613,2932.7649916474993],\"yaxis\":\"y4\",\"type\":\"scatter\"},{\"hovertemplate\":\"<b>LOWESS trendline</b><br><br>index=southeast<br>actuals=%{x}<br>preds=%{y} <b>(trend)</b><extra></extra>\",\"legendgroup\":\"southeast\",\"marker\":{\"color\":\"#D0A99C\",\"symbol\":\"circle\"},\"mode\":\"lines\",\"name\":\"southeast\",\"showlegend\":false,\"x\":[1131.5066,1136.3994,1146.7966,1615.7667,1633.9618,1664.9996,1815.8759,1824.2854,1981.5819,2219.4451,2464.6188,2566.4707,3227.1211,3500.6123,3561.8889,4266.1658,4340.4409,4504.6624,4673.3922,4779.6023,5245.2269,5478.0368,5920.1041,5966.8874,5974.3847,6184.2994,6313.759,6338.0756,6500.2359,6781.3542,7152.6714,7243.8136,8232.6388,8547.6913,8596.8278,8978.1851,9377.9047,9855.1314,10107.2206,10226.2842,10702.6424,11090.7178,11093.6229,11363.2832,11881.9696,12142.5786,12592.5345,13470.8044,16586.49771,18223.4512,18806.14547,19350.3689,19521.9682,20462.99766,24667.419,27808.7251,28287.89766,32548.3405,36124.5737,36950.2567,38282.7495,38709.176,39611.7577,40974.1649,41676.0811,41999.52,42112.2356,44202.6536,44400.4064,46599.1084,47269.854,48675.5177,48970.2476],\"xaxis\":\"x4\",\"y\":[2211.05571991075,2215.9916779582504,2226.480308966471,2699.2605605454423,2717.594571500267,2748.868382401875,2900.877128591216,2909.3491459756265,3067.8094478137564,3307.455299660135,3554.5871996960473,3657.307968779368,4324.738627187069,4601.778354622569,4663.916714605542,5379.674773468195,5455.294729847392,5622.544399218355,5794.438824808451,5902.649493787988,6376.747313060693,6613.317972009725,7060.7397146791045,7107.902246999225,7115.456264875037,7326.466287120294,7456.078135133826,7480.373637005869,7641.944489679981,7919.873615570256,8282.81849306817,8371.803872456638,9448.74087495566,9789.859656810362,9842.917056715403,10253.79643882151,10683.509970777663,11196.424913424513,11471.432239797487,11603.2551466755,12121.0050641241,12538.360208658194,12541.655246840857,12825.916708025225,13342.951787731357,13595.776395970499,14028.838468912272,14877.957789902031,18207.25176008346,19967.108708996337,20525.218231135816,21016.248268688436,21163.47272891457,21957.904114549205,24703.361719387,27469.409204358668,27905.46705939974,31779.6196717058,35001.29111505087,35744.45957143139,36944.51128329491,37328.920443531824,38143.418155889296,39375.642539369,40012.06334140493,40305.72920026114,40408.13225760641,42313.88739315421,42494.877860173365,44516.25678774707,45136.3117112981,46440.90094900594,46715.30115571799],\"yaxis\":\"y4\",\"type\":\"scatter\"},{\"hovertemplate\":\"Actual Cost: %{x:$,.2f}<br>Predicted Cost: %{y:$,.2f}\",\"legendgroup\":\"northwest\",\"marker\":{\"color\":\"#5D8370\",\"opacity\":0.7,\"symbol\":\"circle\",\"line\":{\"color\":\"#F7F7F7\",\"width\":1},\"size\":10},\"mode\":\"markers\",\"name\":\"northwest\",\"orientation\":\"v\",\"showlegend\":false,\"x\":[9174.13565,4433.3877,21774.32215,7731.85785,33471.97189,4618.0799,3594.17085,12235.8392,6203.90175,11840.77505,4466.6214,8162.71625,6393.60345,1906.35825,23967.38305,2775.19215,3537.703,32787.45859,6112.35295,9301.89355,11945.1327,6389.37785,23807.2406,10264.4421,4243.59005,16455.70785,8413.46305,26018.95052,60021.39897,3579.8287,12479.70895,5855.9025,7153.5539,1635.73365,6986.697,43921.1837,15019.76005,29330.98315,5630.45785,8827.2099,8059.6791,5729.0053,14382.70905,29141.3603,38746.3551,3877.30425,42760.5022,6373.55735,28950.4692,16420.49455,10600.5483,18033.9679,39983.42595,6940.90985,4239.89265,6360.9936,8116.26885,6796.86325,2136.88225,33307.5508,13415.0381,10976.24575,3353.4703,5261.46945,5989.52365],\"xaxis\":\"x\",\"y\":[11736.940984163039,7911.156112586616,23645.71629278031,8429.604108470248,11440.58055240872,12986.319687187826,3298.871200599802,12488.747117937966,7171.686678697802,12537.122805408251,9999.613710027776,8164.334871852525,6015.52257330639,1941.7826278946661,24735.59598558566,5618.5418749564205,12841.50416200076,30618.35417207167,7054.1730328715,10979.730228045266,12829.810820765677,6070.841026708201,24779.528110507203,10435.560198417612,5217.313477419173,12915.525235415578,9410.377963257313,9738.133547354848,40329.120750265334,8714.842310175987,10575.058678123181,5746.7440294989565,13026.912314357805,1839.8476268816426,7948.666344286321,28705.36542860553,12158.756554427431,29369.760690769966,6606.574536475759,12163.9921946914,8660.625387570042,8473.874650490778,11819.15142574526,31995.894947102348,30337.851190779824,11666.2318900349,38806.67253298816,16522.614918038587,29428.836774357176,26397.18116850485,10704.809688648102,23713.60438553647,34024.257011029236,6271.212774281584,5455.162874094506,9964.750250840721,7844.607915798393,7790.047820792999,2427.73536111663,25529.186934692996,14473.889070938498,11772.531702423898,3169.0765199919333,7963.404002591019,6896.564528202736],\"yaxis\":\"y\",\"type\":\"scatter\"},{\"hovertemplate\":\"<b>LOWESS trendline</b><br><br>index=northwest<br>actuals=%{x}<br>preds=%{y} <b>(trend)</b><extra></extra>\",\"legendgroup\":\"northwest\",\"marker\":{\"color\":\"#5D8370\",\"symbol\":\"circle\"},\"mode\":\"lines\",\"name\":\"northwest\",\"showlegend\":false,\"x\":[1635.73365,1906.35825,2136.88225,2775.19215,3353.4703,3537.703,3579.8287,3594.17085,3877.30425,4239.89265,4243.59005,4433.3877,4466.6214,4618.0799,5261.46945,5630.45785,5729.0053,5855.9025,5989.52365,6112.35295,6203.90175,6360.9936,6373.55735,6389.37785,6393.60345,6796.86325,6940.90985,6986.697,7153.5539,7731.85785,8059.6791,8116.26885,8162.71625,8413.46305,8827.2099,9174.13565,9301.89355,10264.4421,10600.5483,10976.24575,11840.77505,11945.1327,12235.8392,12479.70895,13415.0381,14382.70905,15019.76005,16420.49455,16455.70785,18033.9679,21774.32215,23807.2406,23967.38305,26018.95052,28950.4692,29141.3603,29330.98315,32787.45859,33307.5508,33471.97189,38746.3551,39983.42595,42760.5022,43921.1837,60021.39897],\"xaxis\":\"x\",\"y\":[3763.6433875960124,4017.038813318927,4230.788554583206,4814.331318618534,5336.573129395561,5502.50339881396,5540.450919084193,5553.372135264925,5808.725934809747,6136.986368835257,6140.342711108421,6312.905959081151,6343.17957586845,6481.366705274857,7070.507617801764,7405.929215801974,7494.379551078292,7607.126463172001,7724.016442720591,7829.321082772213,7906.155728449518,8033.964253645846,8043.936111197035,8056.435751931409,8059.763440143398,8353.800001160562,8448.566087811572,8481.946483569225,8596.072272360774,9020.921034192914,9259.828810284704,9301.560463277585,9335.884627644813,9515.819431753434,9822.40944625395,10085.709182366283,10180.994058630356,10819.44777376182,11012.326844021058,11224.053943208102,11837.324052609787,11924.492173665092,12175.357820145411,12391.693457393247,13251.099588475598,14290.280944463673,15095.460380776662,16738.910134323123,16778.02371243332,18476.651044246075,22012.543915501108,23585.95144806999,23693.47115297263,25013.73491586067,26796.685882150443,26916.72404383212,27036.405062554208,29248.266923829153,29580.10984367492,29684.282661251742,32302.946893411416,32840.05339811173,34071.73818678591,34595.29222877542,41779.05858364575],\"yaxis\":\"y\",\"type\":\"scatter\"},{\"hovertemplate\":\"Actual Cost: %{x:$,.2f}<br>Predicted Cost: %{y:$,.2f}\",\"legendgroup\":\"northeast\",\"marker\":{\"color\":\"#6C839B\",\"opacity\":0.7,\"symbol\":\"circle\",\"line\":{\"color\":\"#F7F7F7\",\"width\":1},\"size\":10},\"mode\":\"markers\",\"name\":\"northeast\",\"orientation\":\"v\",\"showlegend\":false,\"x\":[58571.07448,41034.2214,13129.60345,17128.42608,13224.05705,42303.69215,8627.5411,11512.405,13228.84695,12730.9996,3558.62025,14590.63205,13019.16105,6113.23105,4846.92015,14451.83515,9282.4806,5594.8455,2203.73595,6640.54485,12323.936,7935.29115,3857.75925,1712.227,2727.3951,7639.41745,3044.2133,25517.11363,11938.25595,3393.35635,14449.8544,33475.81715,20709.02034,8334.45755,2217.6012,11879.10405,11394.06555,10072.05505,2396.0959,7729.64575,2211.13075,3385.39915,24106.91255,2205.9808,9722.7695,13616.3586,11658.37915,6067.12675,19594.80965,2217.46915,22395.74424,12029.2867,9866.30485,16115.3045,7050.0213,5428.7277,13430.265,2196.4732,7985.815,13725.47184,3481.868,13143.86485,23241.47453,7133.9025,8606.2174],\"xaxis\":\"x2\",\"y\":[34405.555931632334,37323.08125178283,13142.605654256375,8673.57549492591,15309.544185804174,35077.406771601185,8735.56781974214,11523.805112541402,14126.884431638697,17537.836669307562,3362.8823077490847,14382.193642529302,14929.41407544568,8434.577048701016,5982.890403487628,13086.209883252195,9506.311330753257,8855.715695796342,9299.094676076313,10023.921765652098,12810.627150948056,13824.744659508586,3908.2891640372377,2092.497131076372,2585.191195375546,9981.522939150358,3152.158704967894,10187.959616544475,15411.513799931354,10566.799568847073,13077.515065195477,27812.661616639216,12090.21448275724,8466.714658752742,7177.132967218549,13381.319618285052,9920.268436437422,13403.331004688438,2178.5163240655943,11726.082763712579,4509.043183668854,3431.0929614578918,24926.52544700567,5222.792901924045,12775.634352322972,13616.899571368038,12465.969069622392,7656.901608081414,19484.806486690235,7133.947675046822,8308.277775261917,12465.381015027453,13797.879005579605,18089.506932800894,13562.092441904184,10480.216482054053,13825.186220638436,4027.3414095913067,8001.244812034005,7935.16210713342,4832.975326500802,13584.507069775815,6238.268845141213,6613.540170561643,10026.460783642859],\"yaxis\":\"y2\",\"type\":\"scatter\"},{\"hovertemplate\":\"<b>LOWESS trendline</b><br><br>index=northeast<br>actuals=%{x}<br>preds=%{y} <b>(trend)</b><extra></extra>\",\"legendgroup\":\"northeast\",\"marker\":{\"color\":\"#6C839B\",\"symbol\":\"circle\"},\"mode\":\"lines\",\"name\":\"northeast\",\"showlegend\":false,\"x\":[1712.227,2196.4732,2203.73595,2205.9808,2211.13075,2217.46915,2217.6012,2396.0959,2727.3951,3044.2133,3385.39915,3393.35635,3481.868,3558.62025,3857.75925,4846.92015,5428.7277,5594.8455,6067.12675,6113.23105,6640.54485,7050.0213,7133.9025,7639.41745,7729.64575,7935.29115,7985.815,8334.45755,8606.2174,8627.5411,9282.4806,9722.7695,9866.30485,10072.05505,11394.06555,11512.405,11658.37915,11879.10405,11938.25595,12029.2867,12323.936,12730.9996,13019.16105,13129.60345,13143.86485,13224.05705,13228.84695,13430.265,13616.3586,13725.47184,14449.8544,14451.83515,14590.63205,16115.3045,17128.42608,19594.80965,20709.02034,22395.74424,23241.47453,24106.91255,25517.11363,33475.81715,41034.2214,42303.69215,58571.07448],\"xaxis\":\"x2\",\"y\":[3894.5088384951664,4381.453176737666,4388.759883942136,4391.018345550923,4396.199566284639,4402.576536561538,4402.7093910740605,4582.309708100461,4915.5102088685835,5233.543984082194,5574.94265808228,5582.888416830164,5671.216886221641,5747.723166034376,6045.063805445885,7018.16510701005,7584.2731719488365,7745.4801444207,8204.051696698232,8248.912684089637,8765.979991937256,9181.070857633977,9269.464592917104,9816.619128121201,9898.112768615898,10062.321636225337,10106.473955658459,10398.784251447989,10640.670700121287,10659.940960482343,11151.841818467843,11434.544735525507,11524.83380905565,11653.50279783093,12450.094253910294,12514.237295875015,12595.290347853395,12710.628374665308,12741.296851987785,12788.41273030774,12949.325080831519,13148.516735986948,13274.217437076899,13318.981629658436,13326.089548087115,13365.642360758766,13367.98186943856,13463.782472055304,13547.077530454659,13582.230594264933,13775.26138053979,13775.509003615267,13790.186427071878,13843.641948296181,13940.53892609688,14205.008293076859,14575.222037994423,16445.55973871168,17325.316328937304,18037.329493083274,19423.089307216575,27390.751427676296,31427.934225397865,32096.249555162776,41542.6197630862],\"yaxis\":\"y2\",\"type\":\"scatter\"}],                        {\"template\":{\"data\":{\"barpolar\":[{\"marker\":{\"line\":{\"color\":\"white\",\"width\":0.5},\"pattern\":{\"fillmode\":\"overlay\",\"size\":10,\"solidity\":0.2}},\"type\":\"barpolar\"}],\"bar\":[{\"error_x\":{\"color\":\"#2a3f5f\"},\"error_y\":{\"color\":\"#2a3f5f\"},\"marker\":{\"line\":{\"color\":\"white\",\"width\":0.5},\"pattern\":{\"fillmode\":\"overlay\",\"size\":10,\"solidity\":0.2}},\"type\":\"bar\"}],\"carpet\":[{\"aaxis\":{\"endlinecolor\":\"#2a3f5f\",\"gridcolor\":\"#C8D4E3\",\"linecolor\":\"#C8D4E3\",\"minorgridcolor\":\"#C8D4E3\",\"startlinecolor\":\"#2a3f5f\"},\"baxis\":{\"endlinecolor\":\"#2a3f5f\",\"gridcolor\":\"#C8D4E3\",\"linecolor\":\"#C8D4E3\",\"minorgridcolor\":\"#C8D4E3\",\"startlinecolor\":\"#2a3f5f\"},\"type\":\"carpet\"}],\"choropleth\":[{\"colorbar\":{\"outlinewidth\":0,\"ticks\":\"\"},\"type\":\"choropleth\"}],\"contourcarpet\":[{\"colorbar\":{\"outlinewidth\":0,\"ticks\":\"\"},\"type\":\"contourcarpet\"}],\"contour\":[{\"colorbar\":{\"outlinewidth\":0,\"ticks\":\"\"},\"colorscale\":[[0.0,\"#0d0887\"],[0.1111111111111111,\"#46039f\"],[0.2222222222222222,\"#7201a8\"],[0.3333333333333333,\"#9c179e\"],[0.4444444444444444,\"#bd3786\"],[0.5555555555555556,\"#d8576b\"],[0.6666666666666666,\"#ed7953\"],[0.7777777777777778,\"#fb9f3a\"],[0.8888888888888888,\"#fdca26\"],[1.0,\"#f0f921\"]],\"type\":\"contour\"}],\"heatmapgl\":[{\"colorbar\":{\"outlinewidth\":0,\"ticks\":\"\"},\"colorscale\":[[0.0,\"#0d0887\"],[0.1111111111111111,\"#46039f\"],[0.2222222222222222,\"#7201a8\"],[0.3333333333333333,\"#9c179e\"],[0.4444444444444444,\"#bd3786\"],[0.5555555555555556,\"#d8576b\"],[0.6666666666666666,\"#ed7953\"],[0.7777777777777778,\"#fb9f3a\"],[0.8888888888888888,\"#fdca26\"],[1.0,\"#f0f921\"]],\"type\":\"heatmapgl\"}],\"heatmap\":[{\"colorbar\":{\"outlinewidth\":0,\"ticks\":\"\"},\"colorscale\":[[0.0,\"#0d0887\"],[0.1111111111111111,\"#46039f\"],[0.2222222222222222,\"#7201a8\"],[0.3333333333333333,\"#9c179e\"],[0.4444444444444444,\"#bd3786\"],[0.5555555555555556,\"#d8576b\"],[0.6666666666666666,\"#ed7953\"],[0.7777777777777778,\"#fb9f3a\"],[0.8888888888888888,\"#fdca26\"],[1.0,\"#f0f921\"]],\"type\":\"heatmap\"}],\"histogram2dcontour\":[{\"colorbar\":{\"outlinewidth\":0,\"ticks\":\"\"},\"colorscale\":[[0.0,\"#0d0887\"],[0.1111111111111111,\"#46039f\"],[0.2222222222222222,\"#7201a8\"],[0.3333333333333333,\"#9c179e\"],[0.4444444444444444,\"#bd3786\"],[0.5555555555555556,\"#d8576b\"],[0.6666666666666666,\"#ed7953\"],[0.7777777777777778,\"#fb9f3a\"],[0.8888888888888888,\"#fdca26\"],[1.0,\"#f0f921\"]],\"type\":\"histogram2dcontour\"}],\"histogram2d\":[{\"colorbar\":{\"outlinewidth\":0,\"ticks\":\"\"},\"colorscale\":[[0.0,\"#0d0887\"],[0.1111111111111111,\"#46039f\"],[0.2222222222222222,\"#7201a8\"],[0.3333333333333333,\"#9c179e\"],[0.4444444444444444,\"#bd3786\"],[0.5555555555555556,\"#d8576b\"],[0.6666666666666666,\"#ed7953\"],[0.7777777777777778,\"#fb9f3a\"],[0.8888888888888888,\"#fdca26\"],[1.0,\"#f0f921\"]],\"type\":\"histogram2d\"}],\"histogram\":[{\"marker\":{\"pattern\":{\"fillmode\":\"overlay\",\"size\":10,\"solidity\":0.2}},\"type\":\"histogram\"}],\"mesh3d\":[{\"colorbar\":{\"outlinewidth\":0,\"ticks\":\"\"},\"type\":\"mesh3d\"}],\"parcoords\":[{\"line\":{\"colorbar\":{\"outlinewidth\":0,\"ticks\":\"\"}},\"type\":\"parcoords\"}],\"pie\":[{\"automargin\":true,\"type\":\"pie\"}],\"scatter3d\":[{\"line\":{\"colorbar\":{\"outlinewidth\":0,\"ticks\":\"\"}},\"marker\":{\"colorbar\":{\"outlinewidth\":0,\"ticks\":\"\"}},\"type\":\"scatter3d\"}],\"scattercarpet\":[{\"marker\":{\"colorbar\":{\"outlinewidth\":0,\"ticks\":\"\"}},\"type\":\"scattercarpet\"}],\"scattergeo\":[{\"marker\":{\"colorbar\":{\"outlinewidth\":0,\"ticks\":\"\"}},\"type\":\"scattergeo\"}],\"scattergl\":[{\"marker\":{\"colorbar\":{\"outlinewidth\":0,\"ticks\":\"\"}},\"type\":\"scattergl\"}],\"scattermapbox\":[{\"marker\":{\"colorbar\":{\"outlinewidth\":0,\"ticks\":\"\"}},\"type\":\"scattermapbox\"}],\"scatterpolargl\":[{\"marker\":{\"colorbar\":{\"outlinewidth\":0,\"ticks\":\"\"}},\"type\":\"scatterpolargl\"}],\"scatterpolar\":[{\"marker\":{\"colorbar\":{\"outlinewidth\":0,\"ticks\":\"\"}},\"type\":\"scatterpolar\"}],\"scatter\":[{\"marker\":{\"colorbar\":{\"outlinewidth\":0,\"ticks\":\"\"}},\"type\":\"scatter\"}],\"scatterternary\":[{\"marker\":{\"colorbar\":{\"outlinewidth\":0,\"ticks\":\"\"}},\"type\":\"scatterternary\"}],\"surface\":[{\"colorbar\":{\"outlinewidth\":0,\"ticks\":\"\"},\"colorscale\":[[0.0,\"#0d0887\"],[0.1111111111111111,\"#46039f\"],[0.2222222222222222,\"#7201a8\"],[0.3333333333333333,\"#9c179e\"],[0.4444444444444444,\"#bd3786\"],[0.5555555555555556,\"#d8576b\"],[0.6666666666666666,\"#ed7953\"],[0.7777777777777778,\"#fb9f3a\"],[0.8888888888888888,\"#fdca26\"],[1.0,\"#f0f921\"]],\"type\":\"surface\"}],\"table\":[{\"cells\":{\"fill\":{\"color\":\"#EBF0F8\"},\"line\":{\"color\":\"white\"}},\"header\":{\"fill\":{\"color\":\"#C8D4E3\"},\"line\":{\"color\":\"white\"}},\"type\":\"table\"}]},\"layout\":{\"annotationdefaults\":{\"arrowcolor\":\"#2a3f5f\",\"arrowhead\":0,\"arrowwidth\":1},\"autotypenumbers\":\"strict\",\"coloraxis\":{\"colorbar\":{\"outlinewidth\":0,\"ticks\":\"\"}},\"colorscale\":{\"diverging\":[[0,\"#8e0152\"],[0.1,\"#c51b7d\"],[0.2,\"#de77ae\"],[0.3,\"#f1b6da\"],[0.4,\"#fde0ef\"],[0.5,\"#f7f7f7\"],[0.6,\"#e6f5d0\"],[0.7,\"#b8e186\"],[0.8,\"#7fbc41\"],[0.9,\"#4d9221\"],[1,\"#276419\"]],\"sequential\":[[0.0,\"#0d0887\"],[0.1111111111111111,\"#46039f\"],[0.2222222222222222,\"#7201a8\"],[0.3333333333333333,\"#9c179e\"],[0.4444444444444444,\"#bd3786\"],[0.5555555555555556,\"#d8576b\"],[0.6666666666666666,\"#ed7953\"],[0.7777777777777778,\"#fb9f3a\"],[0.8888888888888888,\"#fdca26\"],[1.0,\"#f0f921\"]],\"sequentialminus\":[[0.0,\"#0d0887\"],[0.1111111111111111,\"#46039f\"],[0.2222222222222222,\"#7201a8\"],[0.3333333333333333,\"#9c179e\"],[0.4444444444444444,\"#bd3786\"],[0.5555555555555556,\"#d8576b\"],[0.6666666666666666,\"#ed7953\"],[0.7777777777777778,\"#fb9f3a\"],[0.8888888888888888,\"#fdca26\"],[1.0,\"#f0f921\"]]},\"colorway\":[\"#636efa\",\"#EF553B\",\"#00cc96\",\"#ab63fa\",\"#FFA15A\",\"#19d3f3\",\"#FF6692\",\"#B6E880\",\"#FF97FF\",\"#FECB52\"],\"font\":{\"color\":\"#2a3f5f\"},\"geo\":{\"bgcolor\":\"white\",\"lakecolor\":\"white\",\"landcolor\":\"white\",\"showlakes\":true,\"showland\":true,\"subunitcolor\":\"#C8D4E3\"},\"hoverlabel\":{\"align\":\"left\"},\"hovermode\":\"closest\",\"mapbox\":{\"style\":\"light\"},\"paper_bgcolor\":\"white\",\"plot_bgcolor\":\"white\",\"polar\":{\"angularaxis\":{\"gridcolor\":\"#EBF0F8\",\"linecolor\":\"#EBF0F8\",\"ticks\":\"\"},\"bgcolor\":\"white\",\"radialaxis\":{\"gridcolor\":\"#EBF0F8\",\"linecolor\":\"#EBF0F8\",\"ticks\":\"\"}},\"scene\":{\"xaxis\":{\"backgroundcolor\":\"white\",\"gridcolor\":\"#DFE8F3\",\"gridwidth\":2,\"linecolor\":\"#EBF0F8\",\"showbackground\":true,\"ticks\":\"\",\"zerolinecolor\":\"#EBF0F8\"},\"yaxis\":{\"backgroundcolor\":\"white\",\"gridcolor\":\"#DFE8F3\",\"gridwidth\":2,\"linecolor\":\"#EBF0F8\",\"showbackground\":true,\"ticks\":\"\",\"zerolinecolor\":\"#EBF0F8\"},\"zaxis\":{\"backgroundcolor\":\"white\",\"gridcolor\":\"#DFE8F3\",\"gridwidth\":2,\"linecolor\":\"#EBF0F8\",\"showbackground\":true,\"ticks\":\"\",\"zerolinecolor\":\"#EBF0F8\"}},\"shapedefaults\":{\"line\":{\"color\":\"#2a3f5f\"}},\"ternary\":{\"aaxis\":{\"gridcolor\":\"#DFE8F3\",\"linecolor\":\"#A2B1C6\",\"ticks\":\"\"},\"baxis\":{\"gridcolor\":\"#DFE8F3\",\"linecolor\":\"#A2B1C6\",\"ticks\":\"\"},\"bgcolor\":\"white\",\"caxis\":{\"gridcolor\":\"#DFE8F3\",\"linecolor\":\"#A2B1C6\",\"ticks\":\"\"}},\"title\":{\"x\":0.05},\"xaxis\":{\"automargin\":true,\"gridcolor\":\"#EBF0F8\",\"linecolor\":\"#EBF0F8\",\"ticks\":\"\",\"title\":{\"standoff\":15},\"zerolinecolor\":\"#EBF0F8\",\"zerolinewidth\":2},\"yaxis\":{\"automargin\":true,\"gridcolor\":\"#EBF0F8\",\"linecolor\":\"#EBF0F8\",\"ticks\":\"\",\"title\":{\"standoff\":15},\"zerolinecolor\":\"#EBF0F8\",\"zerolinewidth\":2}}},\"xaxis\":{\"anchor\":\"y\",\"domain\":[0.0,0.49],\"title\":{\"text\":\"Actual Cost, $\"},\"showgrid\":true,\"gridwidth\":1,\"gridcolor\":\"#EAEAEA\",\"zeroline\":true,\"zerolinewidth\":2,\"zerolinecolor\":\"#5E5E5E\"},\"yaxis\":{\"anchor\":\"x\",\"domain\":[0.0,0.46499999999999997],\"title\":{\"text\":\"Predicted Cost, $\"},\"showgrid\":true,\"gridwidth\":1,\"gridcolor\":\"#E3E3E3\",\"zeroline\":true,\"zerolinewidth\":2,\"zerolinecolor\":\"#5E5E5E\"},\"xaxis2\":{\"anchor\":\"y2\",\"domain\":[0.51,1.0],\"matches\":\"x\",\"title\":{\"text\":\"Actual Cost, $\"},\"showgrid\":true,\"gridwidth\":1,\"gridcolor\":\"#EAEAEA\",\"zeroline\":true,\"zerolinewidth\":2,\"zerolinecolor\":\"#5E5E5E\"},\"yaxis2\":{\"anchor\":\"x2\",\"domain\":[0.0,0.46499999999999997],\"matches\":\"y\",\"showticklabels\":false,\"showgrid\":true,\"gridwidth\":1,\"gridcolor\":\"#E3E3E3\",\"zeroline\":true,\"zerolinewidth\":2,\"zerolinecolor\":\"#5E5E5E\"},\"xaxis3\":{\"anchor\":\"y3\",\"domain\":[0.0,0.49],\"matches\":\"x\",\"showticklabels\":false,\"showgrid\":true,\"gridwidth\":1,\"gridcolor\":\"#EAEAEA\",\"zeroline\":true,\"zerolinewidth\":2,\"zerolinecolor\":\"#5E5E5E\"},\"yaxis3\":{\"anchor\":\"x3\",\"domain\":[0.5349999999999999,0.9999999999999999],\"matches\":\"y\",\"title\":{\"text\":\"Predicted Cost, $\"},\"showgrid\":true,\"gridwidth\":1,\"gridcolor\":\"#E3E3E3\",\"zeroline\":true,\"zerolinewidth\":2,\"zerolinecolor\":\"#5E5E5E\"},\"xaxis4\":{\"anchor\":\"y4\",\"domain\":[0.51,1.0],\"matches\":\"x\",\"showticklabels\":false,\"showgrid\":true,\"gridwidth\":1,\"gridcolor\":\"#EAEAEA\",\"zeroline\":true,\"zerolinewidth\":2,\"zerolinecolor\":\"#5E5E5E\"},\"yaxis4\":{\"anchor\":\"x4\",\"domain\":[0.5349999999999999,0.9999999999999999],\"matches\":\"y\",\"showticklabels\":false,\"showgrid\":true,\"gridwidth\":1,\"gridcolor\":\"#E3E3E3\",\"zeroline\":true,\"zerolinewidth\":2,\"zerolinecolor\":\"#5E5E5E\"},\"annotations\":[{\"showarrow\":false,\"text\":\"northwest\",\"x\":0.245,\"xanchor\":\"center\",\"xref\":\"paper\",\"y\":0.46499999999999997,\"yanchor\":\"bottom\",\"yref\":\"paper\"},{\"showarrow\":false,\"text\":\"northeast\",\"x\":0.755,\"xanchor\":\"center\",\"xref\":\"paper\",\"y\":0.46499999999999997,\"yanchor\":\"bottom\",\"yref\":\"paper\"},{\"showarrow\":false,\"text\":\"southwest\",\"x\":0.245,\"xanchor\":\"center\",\"xref\":\"paper\",\"y\":0.9999999999999999,\"yanchor\":\"bottom\",\"yref\":\"paper\"},{\"showarrow\":false,\"text\":\"southeast\",\"x\":0.755,\"xanchor\":\"center\",\"xref\":\"paper\",\"y\":0.9999999999999999,\"yanchor\":\"bottom\",\"yref\":\"paper\"},{\"showarrow\":false,\"text\":\"Adj. R-Squared = 77.2%<br>RMSE = 4,634\",\"x\":51000.0,\"xref\":\"x3\",\"y\":15000.0,\"yref\":\"y3\"},{\"showarrow\":false,\"text\":\"Adj. R-Squared = 88.9%<br>RMSE = 4,278\",\"x\":51000.0,\"xref\":\"x4\",\"y\":15000.0,\"yref\":\"y4\"},{\"showarrow\":false,\"text\":\"Adj. R-Squared = 68.0%<br>RMSE = 5,854\",\"x\":51000.0,\"xref\":\"x\",\"y\":15000.0,\"yref\":\"y\"},{\"showarrow\":false,\"text\":\"Adj. R-Squared = 57.5%<br>RMSE = 5,555\",\"x\":51000.0,\"xref\":\"x2\",\"y\":15000.0,\"yref\":\"y2\"}],\"legend\":{\"title\":{\"text\":\"index\"},\"tracegroupgap\":0},\"title\":{\"text\":\"Actual vs Predicted Insurance Costs by Region,<br>K-Nearest Neighbors\"},\"height\":700,\"font\":{\"color\":\"#303030\"},\"paper_bgcolor\":\"white\",\"plot_bgcolor\":\"white\"},                        {\"responsive\": true}                    ).then(function(){\n",
              "                            \n",
              "var gd = document.getElementById('23c62dc9-ddf4-49b7-8639-7de450d88f36');\n",
              "var x = new MutationObserver(function (mutations, observer) {{\n",
              "        var display = window.getComputedStyle(gd).display;\n",
              "        if (!display || display === 'none') {{\n",
              "            console.log([gd, 'removed!']);\n",
              "            Plotly.purge(gd);\n",
              "            observer.disconnect();\n",
              "        }}\n",
              "}});\n",
              "\n",
              "// Listen for the removal of the full notebook cells\n",
              "var notebookContainer = gd.closest('#notebook-container');\n",
              "if (notebookContainer) {{\n",
              "    x.observe(notebookContainer, {childList: true});\n",
              "}}\n",
              "\n",
              "// Listen for the clearing of the current output cell\n",
              "var outputEl = gd.closest('.output');\n",
              "if (outputEl) {{\n",
              "    x.observe(outputEl, {childList: true});\n",
              "}}\n",
              "\n",
              "                        })                };                            </script>        </div>\n",
              "</body>\n",
              "</html>"
            ]
          },
          "metadata": {}
        }
      ],
      "source": [
        "actuals=[]\n",
        "preds=[]\n",
        "rmses=[]\n",
        "r2_scores=[]\n",
        "adj_r2_scores=[]\n",
        "\n",
        "for i in regions:\n",
        "    \n",
        "    # Filter data by region\n",
        "    ins_df = ins[ins.region==i]\n",
        "    X=ins_df.drop(['charges', 'region'], axis=1)\n",
        "    y=ins_df.charges\n",
        "    \n",
        "    # Add polynomial features\n",
        "    pf = PolynomialFeatures(degree=2, include_bias=False)\n",
        "    X_pf = pd.DataFrame(data=pf.fit_transform(X), columns=pf.get_feature_names(X.columns))\n",
        "    \n",
        "    # Create training and test sets\n",
        "    X_train, X_test, y_train, y_test = train_test_split(X_pf, y, test_size=0.2, random_state=1)\n",
        "    X_train = pd.DataFrame(X_train, columns = X_pf.columns)\n",
        "    X_test = pd.DataFrame(X_test, columns = X_pf.columns)\n",
        "    actuals.append(pd.Series(y_test, name='actuals').reset_index())\n",
        "    print(\"\\nRegion: {}\\n\".format(i))\n",
        "    print(\"Train Shape:{} {}  Test Shape:{} {}\".format(X_train.shape, y_train.shape, X_test.shape, y_test.shape))\n",
        "    \n",
        "    # Scale features\n",
        "    X_train = pd.DataFrame(data=s.fit_transform(X_train), columns=X_pf.columns)\n",
        "    X_test = pd.DataFrame(data=s.transform(X_test), columns=X_pf.columns)\n",
        "    \n",
        "    # KNN\n",
        "    grid = {'n_neighbors': range(2, 20),\n",
        "            'weights': ['uniform', 'distance'],\n",
        "            'algorithm': ['auto', 'ball_tree', 'kd_tree', 'brute'],\n",
        "            'leaf_size': [int(x) for x in np.linspace(10, 50, num = 5)],\n",
        "            'p': [1, 2]}\n",
        "    knn=KNeighborsRegressor()\n",
        "    knn_cv=RandomizedSearchCV(estimator=knn, param_distributions=grid, scoring='neg_mean_squared_error', \n",
        "                              n_iter=100, cv=3, random_state=21, n_jobs=-1)\n",
        "    knn_cv.fit(X_train, y_train)\n",
        "    y_pred=knn_cv.predict(X_test)\n",
        "    preds.append(pd.Series(y_pred, name='preds').reset_index(drop=True))\n",
        "    rmse=np.sqrt(mean_squared_error(y_test, y_pred)).round(2)\n",
        "    r2=r2_score(y_test, y_pred)\n",
        "    adj_r2 = 1 - (1-r2)*(len(y_test)-1)/(len(y_test)-X_test.shape[1]-1)\n",
        "    rmses.append(rmse)\n",
        "    r2_scores.append(r2)\n",
        "    adj_r2_scores.append(adj_r2)\n",
        "    \n",
        "    print(\"Test Error (RMSE) = {:,}\".format(rmse))\n",
        "    print(\"R-Squared = {:.2f}%, Adjusted R-Squared = {:.2f}%\".format(r2*100, adj_r2*100))\n",
        "    if i != 'Northeast':\n",
        "        print(\"__________________________\")\n",
        "\n",
        "## DỰNG ĐỒ THỊ KẾT QUẢ:\n",
        "# Plot results\n",
        "for i in range(0,4):\n",
        "    actuals[i].loc[:,'index']=regions[i]\n",
        "actual = pd.concat([actuals[i] for i in range(4)], axis = 0)\n",
        "pred = pd.concat([preds[i] for i in range(4)], axis = 0)\n",
        "df = pd.concat([actual, pred], axis=1).reset_index(drop=True)\n",
        "\n",
        "fig = px.scatter(df, x=\"actuals\", y=\"preds\", color=\"index\", trendline=\"lowess\", height=700,\n",
        "                 title=\"Actual vs Predicted Insurance Costs by Region,<br>K-Nearest Neighbors\",\n",
        "                 color_discrete_sequence=col, opacity=0.7, facet_col='index', facet_col_wrap=2)\n",
        "\n",
        "fig.for_each_annotation(lambda a: a.update(text=a.text.split(\"=\")[-1]))\n",
        "fig.add_annotation(text=\"Adj. R-Squared = {:.1f}%<br>RMSE = {:,.0f}\".format(adj_r2_scores[0]*100,rmses[0]),\n",
        "                   x=51e3,y=15e3, row=2,col=1, showarrow=False)\n",
        "fig.add_annotation(text=\"Adj. R-Squared = {:.1f}%<br>RMSE = {:,.0f}\".format(adj_r2_scores[1]*100,rmses[1]),\n",
        "                   x=51e3,y=15e3, row=2,col=2, showarrow=False)\n",
        "fig.add_annotation(text=\"Adj. R-Squared = {:.1f}%<br>RMSE = {:,.0f}\".format(adj_r2_scores[2]*100,rmses[2]),\n",
        "                   x=51e3,y=15e3, row=1,col=1, showarrow=False)\n",
        "fig.add_annotation(text=\"Adj. R-Squared = {:.1f}%<br>RMSE = {:,.0f}\".format(adj_r2_scores[3]*100,rmses[3]),\n",
        "                   x=51e3,y=15e3, row=1,col=2, showarrow=False)\n",
        "\n",
        "fig.update_traces(hovertemplate=\"Actual Cost: %{x:$,.2f}<br>Predicted Cost: %{y:$,.2f}\",\n",
        "                  marker=dict(size=10,line=dict(width=1,color=\"#F7F7F7\")),\n",
        "                  selector=dict(mode=\"markers\"), showlegend=False)\n",
        "fig.update_xaxes(title=\"Actual Cost, $\", row=1)\n",
        "fig.update_xaxes(showgrid=True, gridwidth=1, gridcolor='#EAEAEA',\n",
        "                 zeroline=True, zerolinewidth=2, zerolinecolor='#5E5E5E')\n",
        "fig.update_yaxes(title=\"Predicted Cost, $\", col=1)\n",
        "fig.update_yaxes(showgrid=True, gridwidth=1, gridcolor='#E3E3E3',\n",
        "                 zeroline=True, zerolinewidth=2, zerolinecolor='#5E5E5E')\n",
        "fig.update_layout(font_color=\"#303030\", paper_bgcolor=\"white\", plot_bgcolor=\"white\")\n",
        "fig.show(renderer=\"colab\")"
      ]
    },
    {
      "cell_type": "code",
      "execution_count": null,
      "id": "c619e1f0",
      "metadata": {
        "colab": {
          "base_uri": "https://localhost:8080/",
          "height": 112
        },
        "id": "c619e1f0",
        "outputId": "ed7c1bd3-7d8a-4f50-a49b-cb1ed0045ef5"
      },
      "outputs": [
        {
          "output_type": "display_data",
          "data": {
            "text/plain": [
              "                  Average RMSE Avg. Adjusted R2\n",
              "KNN                    5080.18         0.729063\n",
              "Linear Regression     5565.895         0.752981"
            ],
            "text/html": [
              "\n",
              "  <div id=\"df-df840983-7d7c-45ef-9e25-1d42a42d19d7\">\n",
              "    <div class=\"colab-df-container\">\n",
              "      <div>\n",
              "<style scoped>\n",
              "    .dataframe tbody tr th:only-of-type {\n",
              "        vertical-align: middle;\n",
              "    }\n",
              "\n",
              "    .dataframe tbody tr th {\n",
              "        vertical-align: top;\n",
              "    }\n",
              "\n",
              "    .dataframe thead th {\n",
              "        text-align: right;\n",
              "    }\n",
              "</style>\n",
              "<table border=\"1\" class=\"dataframe\">\n",
              "  <thead>\n",
              "    <tr style=\"text-align: right;\">\n",
              "      <th></th>\n",
              "      <th>Average RMSE</th>\n",
              "      <th>Avg. Adjusted R2</th>\n",
              "    </tr>\n",
              "  </thead>\n",
              "  <tbody>\n",
              "    <tr>\n",
              "      <th>KNN</th>\n",
              "      <td>5080.18</td>\n",
              "      <td>0.729063</td>\n",
              "    </tr>\n",
              "    <tr>\n",
              "      <th>Linear Regression</th>\n",
              "      <td>5565.895</td>\n",
              "      <td>0.752981</td>\n",
              "    </tr>\n",
              "  </tbody>\n",
              "</table>\n",
              "</div>\n",
              "      <button class=\"colab-df-convert\" onclick=\"convertToInteractive('df-df840983-7d7c-45ef-9e25-1d42a42d19d7')\"\n",
              "              title=\"Convert this dataframe to an interactive table.\"\n",
              "              style=\"display:none;\">\n",
              "        \n",
              "  <svg xmlns=\"http://www.w3.org/2000/svg\" height=\"24px\"viewBox=\"0 0 24 24\"\n",
              "       width=\"24px\">\n",
              "    <path d=\"M0 0h24v24H0V0z\" fill=\"none\"/>\n",
              "    <path d=\"M18.56 5.44l.94 2.06.94-2.06 2.06-.94-2.06-.94-.94-2.06-.94 2.06-2.06.94zm-11 1L8.5 8.5l.94-2.06 2.06-.94-2.06-.94L8.5 2.5l-.94 2.06-2.06.94zm10 10l.94 2.06.94-2.06 2.06-.94-2.06-.94-.94-2.06-.94 2.06-2.06.94z\"/><path d=\"M17.41 7.96l-1.37-1.37c-.4-.4-.92-.59-1.43-.59-.52 0-1.04.2-1.43.59L10.3 9.45l-7.72 7.72c-.78.78-.78 2.05 0 2.83L4 21.41c.39.39.9.59 1.41.59.51 0 1.02-.2 1.41-.59l7.78-7.78 2.81-2.81c.8-.78.8-2.07 0-2.86zM5.41 20L4 18.59l7.72-7.72 1.47 1.35L5.41 20z\"/>\n",
              "  </svg>\n",
              "      </button>\n",
              "      \n",
              "  <style>\n",
              "    .colab-df-container {\n",
              "      display:flex;\n",
              "      flex-wrap:wrap;\n",
              "      gap: 12px;\n",
              "    }\n",
              "\n",
              "    .colab-df-convert {\n",
              "      background-color: #E8F0FE;\n",
              "      border: none;\n",
              "      border-radius: 50%;\n",
              "      cursor: pointer;\n",
              "      display: none;\n",
              "      fill: #1967D2;\n",
              "      height: 32px;\n",
              "      padding: 0 0 0 0;\n",
              "      width: 32px;\n",
              "    }\n",
              "\n",
              "    .colab-df-convert:hover {\n",
              "      background-color: #E2EBFA;\n",
              "      box-shadow: 0px 1px 2px rgba(60, 64, 67, 0.3), 0px 1px 3px 1px rgba(60, 64, 67, 0.15);\n",
              "      fill: #174EA6;\n",
              "    }\n",
              "\n",
              "    [theme=dark] .colab-df-convert {\n",
              "      background-color: #3B4455;\n",
              "      fill: #D2E3FC;\n",
              "    }\n",
              "\n",
              "    [theme=dark] .colab-df-convert:hover {\n",
              "      background-color: #434B5C;\n",
              "      box-shadow: 0px 1px 3px 1px rgba(0, 0, 0, 0.15);\n",
              "      filter: drop-shadow(0px 1px 2px rgba(0, 0, 0, 0.3));\n",
              "      fill: #FFFFFF;\n",
              "    }\n",
              "  </style>\n",
              "\n",
              "      <script>\n",
              "        const buttonEl =\n",
              "          document.querySelector('#df-df840983-7d7c-45ef-9e25-1d42a42d19d7 button.colab-df-convert');\n",
              "        buttonEl.style.display =\n",
              "          google.colab.kernel.accessAllowed ? 'block' : 'none';\n",
              "\n",
              "        async function convertToInteractive(key) {\n",
              "          const element = document.querySelector('#df-df840983-7d7c-45ef-9e25-1d42a42d19d7');\n",
              "          const dataTable =\n",
              "            await google.colab.kernel.invokeFunction('convertToInteractive',\n",
              "                                                     [key], {});\n",
              "          if (!dataTable) return;\n",
              "\n",
              "          const docLinkHtml = 'Like what you see? Visit the ' +\n",
              "            '<a target=\"_blank\" href=https://colab.research.google.com/notebooks/data_table.ipynb>data table notebook</a>'\n",
              "            + ' to learn more about interactive tables.';\n",
              "          element.innerHTML = '';\n",
              "          dataTable['output_type'] = 'display_data';\n",
              "          await google.colab.output.renderOutput(dataTable, element);\n",
              "          const docLink = document.createElement('div');\n",
              "          docLink.innerHTML = docLinkHtml;\n",
              "          element.appendChild(docLink);\n",
              "        }\n",
              "      </script>\n",
              "    </div>\n",
              "  </div>\n",
              "  "
            ]
          },
          "metadata": {}
        }
      ],
      "source": [
        "## SO SÁNH HAI PHƯƠNG PHÁP:\n",
        "mod_res.iloc[1,0]=pd.Series(rmses).mean()\n",
        "mod_res.iloc[1,1]=pd.Series(adj_r2_scores).mean()\n",
        "display(mod_res.iloc[:2,].sort_values(\"Average RMSE\"))"
      ]
    },
    {
      "cell_type": "code",
      "execution_count": null,
      "id": "d2fa760a",
      "metadata": {
        "colab": {
          "base_uri": "https://localhost:8080/",
          "height": 1000
        },
        "id": "d2fa760a",
        "outputId": "e1f0fa31-2b60-4620-ac4f-376430e9408b"
      },
      "outputs": [
        {
          "output_type": "stream",
          "name": "stdout",
          "text": [
            "\n",
            "Region: southwest\n",
            "\n",
            "Best SVM Parameters:\n",
            " {'kernel': 'poly', 'gamma': 10.0, 'C': 0.021544346900318832}\n",
            "\n",
            "Test Error (RMSE) = 4,830.09\n",
            "R-Squared = 83.00%, Adjusted R-Squared = 75.27%\n",
            "__________________________\n",
            "\n",
            "Region: southeast\n",
            "\n",
            "Best SVM Parameters:\n",
            " {'kernel': 'poly', 'gamma': 10.0, 'C': 0.021544346900318832}\n",
            "\n",
            "Test Error (RMSE) = 4,166.61\n",
            "R-Squared = 92.39%, Adjusted R-Squared = 89.46%\n",
            "__________________________\n",
            "\n",
            "Region: northwest\n",
            "\n",
            "Best SVM Parameters:\n",
            " {'kernel': 'poly', 'gamma': 10.0, 'C': 0.021544346900318832}\n",
            "\n",
            "Test Error (RMSE) = 5,820.75\n",
            "R-Squared = 78.21%, Adjusted R-Squared = 68.31%\n",
            "__________________________\n",
            "\n",
            "Region: northeast\n",
            "\n",
            "Best SVM Parameters:\n",
            " {'kernel': 'poly', 'gamma': 10.0, 'C': 0.021544346900318832}\n",
            "\n",
            "Test Error (RMSE) = 4,708.6\n",
            "R-Squared = 79.03%, Adjusted R-Squared = 69.50%\n",
            "__________________________\n"
          ]
        },
        {
          "output_type": "display_data",
          "data": {
            "application/vnd.plotly.v1+json": {
              "data": [
                {
                  "hovertemplate": "Actual Cost: %{x:$,.2f}<br>Predicted Cost: %{y:$,.2f}",
                  "legendgroup": "southwest",
                  "marker": {
                    "color": "#B14B51",
                    "opacity": 0.7,
                    "symbol": "circle",
                    "line": {
                      "color": "#F7F7F7",
                      "width": 1
                    },
                    "size": 10
                  },
                  "mode": "markers",
                  "name": "southwest",
                  "orientation": "v",
                  "showlegend": false,
                  "x": [
                    3761.292,
                    11674.13,
                    6311.952,
                    14319.031,
                    11552.904,
                    5080.096,
                    8269.044,
                    3693.428,
                    36837.467,
                    13224.693,
                    23306.547,
                    35160.13457,
                    12347.172,
                    10065.413,
                    5488.262,
                    38711,
                    7196.867,
                    6571.544,
                    5979.731,
                    34828.654,
                    6600.361,
                    39836.519,
                    1256.299,
                    1242.26,
                    4762.329,
                    9264.797,
                    13470.86,
                    1759.338,
                    1241.565,
                    48173.361,
                    16232.847,
                    25309.489,
                    10791.96,
                    4751.07,
                    8556.907,
                    42856.838,
                    8277.523,
                    11576.13,
                    7623.518,
                    12146.971,
                    20630.28351,
                    4646.759,
                    26140.3603,
                    2007.945,
                    8444.474,
                    17081.08,
                    13822.803,
                    8825.086,
                    37079.372,
                    10096.97,
                    11411.685,
                    14988.432,
                    11362.755,
                    6875.961,
                    10795.93733,
                    18259.216,
                    1261.859,
                    17942.106,
                    11150.78,
                    38415.474,
                    8522.003,
                    8703.456,
                    3987.926,
                    1964.78,
                    1743.214
                  ],
                  "xaxis": "x3",
                  "y": [
                    3762.54990425251,
                    11673.471265362059,
                    6311.092188588063,
                    14312.45320374851,
                    12189.021053382305,
                    5050.131593225203,
                    8271.367725793225,
                    3646.4458955053105,
                    40314.7070179183,
                    13235.733192824071,
                    16256.630732534766,
                    11290.424151346608,
                    12353.148018957058,
                    10039.44375457572,
                    5488.3970560188,
                    39786.570886583766,
                    7199.788827219343,
                    6576.138468380612,
                    5979.929669677182,
                    35052.55046141902,
                    6598.606909223766,
                    37989.23630078367,
                    1255.6623847543124,
                    1242.911345860286,
                    4763.905317748289,
                    9275.213938040146,
                    13466.03421906269,
                    1755.6748667571783,
                    1243.0507984608957,
                    56221.639494804345,
                    16062.51597096472,
                    36511.96545938596,
                    10764.147414552528,
                    4751.176075429339,
                    8555.510159218478,
                    40184.23779846072,
                    8277.86226116922,
                    11572.553607336704,
                    7623.4161442041295,
                    12146.10070367046,
                    10224.101366701594,
                    4646.92476141557,
                    9190.466854594384,
                    2007.053615389058,
                    8446.293599050958,
                    25897.59058945306,
                    13824.658005630277,
                    8824.192569075563,
                    38840.34540600481,
                    10126.454280804583,
                    11154.991660635205,
                    15022.222764991973,
                    11361.101139918983,
                    6874.156136543626,
                    2315.6646656643397,
                    15894.305365315668,
                    1262.0236979330457,
                    7061.948514542586,
                    11157.752907344708,
                    35247.38850511099,
                    8510.72759040418,
                    8702.596636484424,
                    3989.3088522835387,
                    1964.520978239536,
                    1742.7817132265527
                  ],
                  "yaxis": "y3",
                  "type": "scatter"
                },
                {
                  "hovertemplate": "<b>LOWESS trendline</b><br><br>index=southwest<br>actuals=%{x}<br>preds=%{y} <b>(trend)</b><extra></extra>",
                  "legendgroup": "southwest",
                  "marker": {
                    "color": "#B14B51",
                    "symbol": "circle"
                  },
                  "mode": "lines",
                  "name": "southwest",
                  "showlegend": false,
                  "x": [
                    1241.565,
                    1242.26,
                    1256.299,
                    1261.859,
                    1743.214,
                    1759.338,
                    1964.78,
                    2007.945,
                    3693.428,
                    3761.292,
                    3987.926,
                    4646.759,
                    4751.07,
                    4762.329,
                    5080.096,
                    5488.262,
                    5979.731,
                    6311.952,
                    6571.544,
                    6600.361,
                    6875.961,
                    7196.867,
                    7623.518,
                    8269.044,
                    8277.523,
                    8444.474,
                    8522.003,
                    8556.907,
                    8703.456,
                    8825.086,
                    9264.797,
                    10065.413,
                    10096.97,
                    10791.96,
                    10795.93733,
                    11150.78,
                    11362.755,
                    11411.685,
                    11552.904,
                    11576.13,
                    11674.13,
                    12146.971,
                    12347.172,
                    13224.693,
                    13470.86,
                    13822.803,
                    14319.031,
                    14988.432,
                    16232.847,
                    17081.08,
                    17942.106,
                    18259.216,
                    20630.28351,
                    23306.547,
                    25309.489,
                    26140.3603,
                    34828.654,
                    35160.13457,
                    36837.467,
                    37079.372,
                    38415.474,
                    38711,
                    39836.519,
                    42856.838,
                    48173.361
                  ],
                  "xaxis": "x3",
                  "y": [
                    1241.4079751962665,
                    1242.1030175300898,
                    1256.142871667921,
                    1261.703209406634,
                    1743.0860900191815,
                    1759.2109699636198,
                    1964.6638313174128,
                    2007.8310307912068,
                    3693.3813592730235,
                    3761.247563155243,
                    3987.8888687356834,
                    4646.743768337491,
                    4751.0585128669545,
                    4762.317924694583,
                    5080.097323479913,
                    5488.282519332321,
                    5979.784258714173,
                    6312.0363247348,
                    6571.649745308669,
                    6600.467932600154,
                    6876.050740313576,
                    7196.917050772543,
                    7623.555440815589,
                    8269.094962821366,
                    8277.574666688202,
                    8444.535570034166,
                    8522.067400708818,
                    8556.972194638318,
                    8703.521473989937,
                    8825.14837581684,
                    9264.833985598925,
                    10065.371142570226,
                    10096.926092349997,
                    10791.873753864258,
                    10795.85084426738,
                    11150.645004197435,
                    11362.588696015488,
                    11411.51157434811,
                    11552.710255933222,
                    11575.932948833199,
                    11673.919108319677,
                    12146.696393646525,
                    12346.874763182872,
                    13224.292752499827,
                    13470.432664898985,
                    13822.331212169489,
                    14318.485380040727,
                    14987.773908459321,
                    16231.912749304045,
                    17079.92574198089,
                    17940.703062949036,
                    18257.715734904705,
                    20627.383722821585,
                    23298.9921494017,
                    24494.361785904337,
                    25246.525830867475,
                    33327.78448128761,
                    33636.476165961154,
                    35198.471133226965,
                    35423.7384544653,
                    36667.927929408004,
                    36943.11996946177,
                    37991.18253100812,
                    40803.55258053129,
                    45753.80370450979
                  ],
                  "yaxis": "y3",
                  "type": "scatter"
                },
                {
                  "hovertemplate": "Actual Cost: %{x:$,.2f}<br>Predicted Cost: %{y:$,.2f}",
                  "legendgroup": "southeast",
                  "marker": {
                    "color": "#D0A99C",
                    "opacity": 0.7,
                    "symbol": "circle",
                    "line": {
                      "color": "#F7F7F7",
                      "width": 1
                    },
                    "size": 10
                  },
                  "mode": "markers",
                  "name": "southeast",
                  "orientation": "v",
                  "showlegend": false,
                  "x": [
                    44202.6536,
                    6781.3542,
                    5478.0368,
                    32548.3405,
                    1815.8759,
                    11093.6229,
                    11090.7178,
                    13470.8044,
                    47269.854,
                    10107.2206,
                    38282.7495,
                    19350.3689,
                    1615.7667,
                    40974.1649,
                    1824.2854,
                    7243.8136,
                    36950.2567,
                    41999.52,
                    6184.2994,
                    20462.99766,
                    7152.6714,
                    2219.4451,
                    8232.6388,
                    4266.1658,
                    19521.9682,
                    27808.7251,
                    16586.49771,
                    5966.8874,
                    4504.6624,
                    3500.6123,
                    4340.4409,
                    5974.3847,
                    3227.1211,
                    11363.2832,
                    12592.5345,
                    6313.759,
                    5920.1041,
                    12142.5786,
                    3561.8889,
                    4673.3922,
                    46599.1084,
                    2566.4707,
                    41676.0811,
                    8978.1851,
                    48970.2476,
                    24667.419,
                    8596.8278,
                    38709.176,
                    1136.3994,
                    18806.14547,
                    1981.5819,
                    1131.5066,
                    6500.2359,
                    1146.7966,
                    8547.6913,
                    39611.7577,
                    11881.9696,
                    48675.5177,
                    44400.4064,
                    18223.4512,
                    28287.89766,
                    9855.1314,
                    10702.6424,
                    5245.2269,
                    1664.9996,
                    2464.6188,
                    9377.9047,
                    10226.2842,
                    36124.5737,
                    4779.6023,
                    6338.0756,
                    42112.2356,
                    1633.9618
                  ],
                  "xaxis": "x4",
                  "y": [
                    45338.459442715255,
                    6777.399680945707,
                    5477.249559304859,
                    23344.50376970888,
                    1802.9397728449785,
                    11389.20311709236,
                    11241.887420205521,
                    13624.651106346975,
                    47595.38551756897,
                    10158.767789215848,
                    36873.33536203611,
                    25968.869905185886,
                    1604.0375171429132,
                    36897.857185086614,
                    1821.6230763725762,
                    4794.383275242995,
                    35301.52272812064,
                    38481.72362938469,
                    5358.930946457964,
                    12501.318250494784,
                    7168.1659006029295,
                    2260.8751072896666,
                    8304.583090917722,
                    4229.607341126865,
                    23331.873196358058,
                    32367.64871360312,
                    1519.170985881894,
                    5974.37207446395,
                    4753.081939429663,
                    3681.431956667082,
                    4264.868257243892,
                    5984.534853324782,
                    3237.1000688913628,
                    11370.607257334748,
                    4084.147099874048,
                    6329.771759476775,
                    5916.059934233513,
                    12141.38070085062,
                    3661.6534707184564,
                    4661.332199453438,
                    47297.07212185443,
                    2478.296233218287,
                    42574.78016327924,
                    8981.74203897996,
                    48764.794160538724,
                    28704.188998566704,
                    2966.6995160568695,
                    37055.83822432481,
                    1135.8095798565246,
                    7449.439448223927,
                    1978.1389431646003,
                    1122.6999218640804,
                    6507.743126023026,
                    1136.5833391329725,
                    8592.838013490136,
                    40826.65412367972,
                    11786.373684300612,
                    48376.776721265676,
                    48634.342451246535,
                    32457.692074075043,
                    12803.11283330994,
                    10292.833955192023,
                    11983.13593650738,
                    5241.107217971068,
                    1651.2737549343055,
                    2461.59387652396,
                    9348.064133504777,
                    10228.915634121531,
                    31876.56280186213,
                    4787.240355973015,
                    6330.742031385851,
                    48100.12570080391,
                    1629.9436452858326
                  ],
                  "yaxis": "y4",
                  "type": "scatter"
                },
                {
                  "hovertemplate": "<b>LOWESS trendline</b><br><br>index=southeast<br>actuals=%{x}<br>preds=%{y} <b>(trend)</b><extra></extra>",
                  "legendgroup": "southeast",
                  "marker": {
                    "color": "#D0A99C",
                    "symbol": "circle"
                  },
                  "mode": "lines",
                  "name": "southeast",
                  "showlegend": false,
                  "x": [
                    1131.5066,
                    1136.3994,
                    1146.7966,
                    1615.7667,
                    1633.9618,
                    1664.9996,
                    1815.8759,
                    1824.2854,
                    1981.5819,
                    2219.4451,
                    2464.6188,
                    2566.4707,
                    3227.1211,
                    3500.6123,
                    3561.8889,
                    4266.1658,
                    4340.4409,
                    4504.6624,
                    4673.3922,
                    4779.6023,
                    5245.2269,
                    5478.0368,
                    5920.1041,
                    5966.8874,
                    5974.3847,
                    6184.2994,
                    6313.759,
                    6338.0756,
                    6500.2359,
                    6781.3542,
                    7152.6714,
                    7243.8136,
                    8232.6388,
                    8547.6913,
                    8596.8278,
                    8978.1851,
                    9377.9047,
                    9855.1314,
                    10107.2206,
                    10226.2842,
                    10702.6424,
                    11090.7178,
                    11093.6229,
                    11363.2832,
                    11881.9696,
                    12142.5786,
                    12592.5345,
                    13470.8044,
                    16586.49771,
                    18223.4512,
                    18806.14547,
                    19350.3689,
                    19521.9682,
                    20462.99766,
                    24667.419,
                    27808.7251,
                    28287.89766,
                    32548.3405,
                    36124.5737,
                    36950.2567,
                    38282.7495,
                    38709.176,
                    39611.7577,
                    40974.1649,
                    41676.0811,
                    41999.52,
                    42112.2356,
                    44202.6536,
                    44400.4064,
                    46599.1084,
                    47269.854,
                    48675.5177,
                    48970.2476
                  ],
                  "xaxis": "x4",
                  "y": [
                    1128.0243733950083,
                    1132.9404166318461,
                    1143.38700738846,
                    1614.5846194244423,
                    1632.8661885968259,
                    1664.0515098154922,
                    1815.6453765191904,
                    1824.0949000625676,
                    1982.1407756216522,
                    2221.1409513080116,
                    2467.493468815356,
                    2569.837645248861,
                    3233.7365122152382,
                    3508.613652267865,
                    3570.2051664513006,
                    4278.227914032069,
                    4352.9116313677405,
                    4518.045710033979,
                    4687.726408326987,
                    4794.541707489344,
                    5262.872851072328,
                    5497.061496153211,
                    5941.765578955399,
                    5988.827433260065,
                    5996.3693347997305,
                    6207.5265413615325,
                    6337.743586242103,
                    6362.20142429158,
                    6525.293029532055,
                    6807.967915180151,
                    7181.190050370969,
                    7272.776403732927,
                    8268.376717916653,
                    8585.945619076312,
                    8635.487662539554,
                    9020.083548894785,
                    9423.34352755345,
                    9904.942253456966,
                    10159.489962409645,
                    10279.810116598095,
                    10761.043857286393,
                    11153.21592002474,
                    11156.159637718325,
                    11428.814762195005,
                    11953.00912713046,
                    12216.358797893356,
                    12671.000450918393,
                    13558.389802779244,
                    16709.156735089582,
                    18365.64064646475,
                    18954.938655287795,
                    19505.941166601722,
                    19679.509255345376,
                    20634.39124810604,
                    24899.52752040486,
                    27993.40368585334,
                    28351.685714825224,
                    32486.821112497335,
                    36034.60592760496,
                    36854.217702717084,
                    38177.057768481405,
                    38600.421237266506,
                    39496.548045478354,
                    40849.26125408732,
                    41546.19699299245,
                    41867.34276345091,
                    41979.2594191158,
                    44054.86355473129,
                    44251.21406448616,
                    46434.29042970644,
                    47100.251142243374,
                    48495.83598679182,
                    48788.43828362563
                  ],
                  "yaxis": "y4",
                  "type": "scatter"
                },
                {
                  "hovertemplate": "Actual Cost: %{x:$,.2f}<br>Predicted Cost: %{y:$,.2f}",
                  "legendgroup": "northwest",
                  "marker": {
                    "color": "#5D8370",
                    "opacity": 0.7,
                    "symbol": "circle",
                    "line": {
                      "color": "#F7F7F7",
                      "width": 1
                    },
                    "size": 10
                  },
                  "mode": "markers",
                  "name": "northwest",
                  "orientation": "v",
                  "showlegend": false,
                  "x": [
                    9174.13565,
                    4433.3877,
                    21774.32215,
                    7731.85785,
                    33471.97189,
                    4618.0799,
                    3594.17085,
                    12235.8392,
                    6203.90175,
                    11840.77505,
                    4466.6214,
                    8162.71625,
                    6393.60345,
                    1906.35825,
                    23967.38305,
                    2775.19215,
                    3537.703,
                    32787.45859,
                    6112.35295,
                    9301.89355,
                    11945.1327,
                    6389.37785,
                    23807.2406,
                    10264.4421,
                    4243.59005,
                    16455.70785,
                    8413.46305,
                    26018.95052,
                    60021.39897,
                    3579.8287,
                    12479.70895,
                    5855.9025,
                    7153.5539,
                    1635.73365,
                    6986.697,
                    43921.1837,
                    15019.76005,
                    29330.98315,
                    5630.45785,
                    8827.2099,
                    8059.6791,
                    5729.0053,
                    14382.70905,
                    29141.3603,
                    38746.3551,
                    3877.30425,
                    42760.5022,
                    6373.55735,
                    28950.4692,
                    16420.49455,
                    10600.5483,
                    18033.9679,
                    39983.42595,
                    6940.90985,
                    4239.89265,
                    6360.9936,
                    8116.26885,
                    6796.86325,
                    2136.88225,
                    33307.5508,
                    13415.0381,
                    10976.24575,
                    3353.4703,
                    5261.46945,
                    5989.52365
                  ],
                  "xaxis": "x",
                  "y": [
                    9171.089714618096,
                    4441.791371365998,
                    22267.865038308973,
                    7738.063414896333,
                    11201.94176773716,
                    6169.425666612527,
                    3567.616643696509,
                    12219.35246663904,
                    6200.3482314717485,
                    11840.60293701835,
                    6607.640061290368,
                    7339.88595456251,
                    6395.385841029787,
                    1908.432060926235,
                    22548.8023287584,
                    2692.658472573471,
                    3658.154048676419,
                    26734.003314521644,
                    6095.053227383847,
                    9448.091747706083,
                    11938.171137528825,
                    6387.865914561238,
                    23172.108619137685,
                    10289.964738478115,
                    4244.572045199382,
                    16223.533929489757,
                    8463.214391391417,
                    4440.746391532335,
                    59031.70895828461,
                    4457.292942605675,
                    12471.709292304862,
                    5859.695015136148,
                    7164.827390176416,
                    1634.6512060678642,
                    7001.54672384282,
                    21497.025080348267,
                    14839.341990609559,
                    41812.140179747,
                    5602.098750648836,
                    8832.35550017656,
                    7999.660999310231,
                    5666.307886768009,
                    14286.430847560769,
                    43909.566789579396,
                    40673.13491474234,
                    3945.734829466838,
                    39327.09017761881,
                    6327.095363878915,
                    40545.61487871798,
                    25464.73797712668,
                    10594.98836763668,
                    24149.23652947954,
                    34315.875824619674,
                    6939.702600099379,
                    4238.233467284951,
                    6046.364054407589,
                    8168.366105560308,
                    6721.000335017362,
                    2136.2695335187336,
                    29603.066770349717,
                    13410.633409998783,
                    10981.201072056982,
                    3357.323081410743,
                    5256.689097595252,
                    5948.346842858852
                  ],
                  "yaxis": "y",
                  "type": "scatter"
                },
                {
                  "hovertemplate": "<b>LOWESS trendline</b><br><br>index=northwest<br>actuals=%{x}<br>preds=%{y} <b>(trend)</b><extra></extra>",
                  "legendgroup": "northwest",
                  "marker": {
                    "color": "#5D8370",
                    "symbol": "circle"
                  },
                  "mode": "lines",
                  "name": "northwest",
                  "showlegend": false,
                  "x": [
                    1635.73365,
                    1906.35825,
                    2136.88225,
                    2775.19215,
                    3353.4703,
                    3537.703,
                    3579.8287,
                    3594.17085,
                    3877.30425,
                    4239.89265,
                    4243.59005,
                    4433.3877,
                    4466.6214,
                    4618.0799,
                    5261.46945,
                    5630.45785,
                    5729.0053,
                    5855.9025,
                    5989.52365,
                    6112.35295,
                    6203.90175,
                    6360.9936,
                    6373.55735,
                    6389.37785,
                    6393.60345,
                    6796.86325,
                    6940.90985,
                    6986.697,
                    7153.5539,
                    7731.85785,
                    8059.6791,
                    8116.26885,
                    8162.71625,
                    8413.46305,
                    8827.2099,
                    9174.13565,
                    9301.89355,
                    10264.4421,
                    10600.5483,
                    10976.24575,
                    11840.77505,
                    11945.1327,
                    12235.8392,
                    12479.70895,
                    13415.0381,
                    14382.70905,
                    15019.76005,
                    16420.49455,
                    16455.70785,
                    18033.9679,
                    21774.32215,
                    23807.2406,
                    23967.38305,
                    26018.95052,
                    28950.4692,
                    29141.3603,
                    29330.98315,
                    32787.45859,
                    33307.5508,
                    33471.97189,
                    38746.3551,
                    39983.42595,
                    42760.5022,
                    43921.1837,
                    60021.39897
                  ],
                  "xaxis": "x",
                  "y": [
                    1632.5538998284708,
                    1902.9239603655333,
                    2133.246053905059,
                    2771.0833673771986,
                    3349.0787615993327,
                    3533.2638010893475,
                    3575.382124635597,
                    3589.7220749303337,
                    3872.84567224305,
                    4235.519955277039,
                    4239.218809260144,
                    4429.106679469683,
                    4462.3592999978955,
                    4613.915587311401,
                    5257.914641279832,
                    5627.3656669233405,
                    5726.04552406436,
                    5853.116645027514,
                    5986.924012681457,
                    6109.926488886335,
                    6201.6055461440665,
                    6358.924422289305,
                    6371.506612425663,
                    6387.350412383861,
                    6391.582251715712,
                    6795.50463964052,
                    6939.863649509012,
                    6985.852451704909,
                    7153.248657480868,
                    7732.829358133747,
                    8060.813750094284,
                    8117.396515348651,
                    8163.837197168634,
                    8414.94090088277,
                    8828.990242018797,
                    9176.68829326477,
                    9304.15773577902,
                    10259.041979957825,
                    10589.764519430833,
                    10958.490876518612,
                    11806.084128112714,
                    11908.440454621072,
                    12193.63766169654,
                    12432.950001663537,
                    13350.246189383928,
                    14296.084057156182,
                    14918.870519409744,
                    16282.142093032206,
                    16316.418289896865,
                    17824.111492669155,
                    20775.64971902426,
                    22170.883343937698,
                    22292.456419502883,
                    23887.61409210902,
                    26257.545609499233,
                    26412.703575620937,
                    26566.871644291437,
                    29379.27806787227,
                    29801.269490561033,
                    29934.979730586594,
                    34222.741003823765,
                    35228.7158295783,
                    37487.834151190946,
                    38432.36018456532,
                    51546.6315837764
                  ],
                  "yaxis": "y",
                  "type": "scatter"
                },
                {
                  "hovertemplate": "Actual Cost: %{x:$,.2f}<br>Predicted Cost: %{y:$,.2f}",
                  "legendgroup": "northeast",
                  "marker": {
                    "color": "#6C839B",
                    "opacity": 0.7,
                    "symbol": "circle",
                    "line": {
                      "color": "#F7F7F7",
                      "width": 1
                    },
                    "size": 10
                  },
                  "mode": "markers",
                  "name": "northeast",
                  "orientation": "v",
                  "showlegend": false,
                  "x": [
                    58571.07448,
                    41034.2214,
                    13129.60345,
                    17128.42608,
                    13224.05705,
                    42303.69215,
                    8627.5411,
                    11512.405,
                    13228.84695,
                    12730.9996,
                    3558.62025,
                    14590.63205,
                    13019.16105,
                    6113.23105,
                    4846.92015,
                    14451.83515,
                    9282.4806,
                    5594.8455,
                    2203.73595,
                    6640.54485,
                    12323.936,
                    7935.29115,
                    3857.75925,
                    1712.227,
                    2727.3951,
                    7639.41745,
                    3044.2133,
                    25517.11363,
                    11938.25595,
                    3393.35635,
                    14449.8544,
                    33475.81715,
                    20709.02034,
                    8334.45755,
                    2217.6012,
                    11879.10405,
                    11394.06555,
                    10072.05505,
                    2396.0959,
                    7729.64575,
                    2211.13075,
                    3385.39915,
                    24106.91255,
                    2205.9808,
                    9722.7695,
                    13616.3586,
                    11658.37915,
                    6067.12675,
                    19594.80965,
                    2217.46915,
                    22395.74424,
                    12029.2867,
                    9866.30485,
                    16115.3045,
                    7050.0213,
                    5428.7277,
                    13430.265,
                    2196.4732,
                    7985.815,
                    13725.47184,
                    3481.868,
                    13143.86485,
                    23241.47453,
                    7133.9025,
                    8606.2174
                  ],
                  "xaxis": "x2",
                  "y": [
                    42437.66360406201,
                    44963.00371194491,
                    13128.294515276972,
                    10454.07220911518,
                    13222.884679162875,
                    38141.37681882939,
                    8578.705386541791,
                    11557.598519102601,
                    13229.931449062813,
                    12731.36400154492,
                    3553.7842830559784,
                    13218.575969514244,
                    13126.133827285006,
                    5882.24937729046,
                    6891.570066682103,
                    14434.092300743487,
                    9251.57668345156,
                    5758.746782882601,
                    2204.806069407565,
                    6960.101035096373,
                    12324.098488475573,
                    7951.628286793795,
                    3856.86557817584,
                    1712.3425895950968,
                    2726.6639082124375,
                    7684.369459885991,
                    3038.8565857348112,
                    11007.368227933639,
                    11938.1906461229,
                    3146.9142764085673,
                    14427.032626732074,
                    28731.791548418343,
                    11567.225133710936,
                    8333.668992651666,
                    2195.298201476555,
                    11937.522999867351,
                    11414.240422614366,
                    10071.38759396278,
                    2396.873887682691,
                    7725.8094554549425,
                    2200.5932832053913,
                    3385.323085706372,
                    23931.32791662925,
                    2204.315678596595,
                    9723.161059318194,
                    13600.14740906638,
                    11658.424380875429,
                    5991.525463372733,
                    18610.640131652402,
                    2195.4560778737177,
                    4014.0269778178645,
                    12022.663182078137,
                    9867.08719628469,
                    16286.051375930034,
                    7056.3653730275655,
                    10657.822551246656,
                    12442.275983128358,
                    2193.3724148076253,
                    8064.017625715776,
                    7320.116363433096,
                    4382.479469668568,
                    13143.49159631853,
                    3968.237576621974,
                    7051.318797499301,
                    8745.804212138446
                  ],
                  "yaxis": "y2",
                  "type": "scatter"
                },
                {
                  "hovertemplate": "<b>LOWESS trendline</b><br><br>index=northeast<br>actuals=%{x}<br>preds=%{y} <b>(trend)</b><extra></extra>",
                  "legendgroup": "northeast",
                  "marker": {
                    "color": "#6C839B",
                    "symbol": "circle"
                  },
                  "mode": "lines",
                  "name": "northeast",
                  "showlegend": false,
                  "x": [
                    1712.227,
                    2196.4732,
                    2203.73595,
                    2205.9808,
                    2211.13075,
                    2217.46915,
                    2217.6012,
                    2396.0959,
                    2727.3951,
                    3044.2133,
                    3385.39915,
                    3393.35635,
                    3481.868,
                    3558.62025,
                    3857.75925,
                    4846.92015,
                    5428.7277,
                    5594.8455,
                    6067.12675,
                    6113.23105,
                    6640.54485,
                    7050.0213,
                    7133.9025,
                    7639.41745,
                    7729.64575,
                    7935.29115,
                    7985.815,
                    8334.45755,
                    8606.2174,
                    8627.5411,
                    9282.4806,
                    9722.7695,
                    9866.30485,
                    10072.05505,
                    11394.06555,
                    11512.405,
                    11658.37915,
                    11879.10405,
                    11938.25595,
                    12029.2867,
                    12323.936,
                    12730.9996,
                    13019.16105,
                    13129.60345,
                    13143.86485,
                    13224.05705,
                    13228.84695,
                    13430.265,
                    13616.3586,
                    13725.47184,
                    14449.8544,
                    14451.83515,
                    14590.63205,
                    16115.3045,
                    17128.42608,
                    19594.80965,
                    20709.02034,
                    22395.74424,
                    23241.47453,
                    24106.91255,
                    25517.11363,
                    33475.81715,
                    41034.2214,
                    42303.69215,
                    58571.07448
                  ],
                  "xaxis": "x2",
                  "y": [
                    1692.1588090084624,
                    2178.8416992344823,
                    2186.141225554818,
                    2188.397444023282,
                    2193.573476829677,
                    2199.9439829230055,
                    2200.076701848626,
                    2379.477225543878,
                    2712.463090103833,
                    3030.893163135296,
                    3373.8015413112716,
                    3381.7986336722843,
                    3470.752950437998,
                    3547.8874414574766,
                    3848.5015081171446,
                    4842.364875983346,
                    5426.819267938937,
                    5593.680995839234,
                    6068.058314616271,
                    6114.365399946122,
                    6644.0168776415485,
                    7055.598090290545,
                    7140.010830200229,
                    7649.602374315877,
                    7740.255261571067,
                    7946.320155439643,
                    7997.027452966624,
                    8346.615956768812,
                    8619.433735996117,
                    8640.839937814977,
                    9296.25069589447,
                    9736.100045135157,
                    9879.432818297591,
                    10084.848148390307,
                    11404.28628785713,
                    11522.381069571731,
                    11668.043876962438,
                    11887.465794495027,
                    11945.934727336778,
                    12035.561668019125,
                    12326.01347515624,
                    12716.378010587961,
                    12987.991487968278,
                    13091.489692179086,
                    13105.312963726868,
                    13182.948476659018,
                    13187.580457408332,
                    13381.76074220424,
                    13559.957396080497,
                    13659.990733390725,
                    14323.84311666335,
                    14325.624455455027,
                    14450.486434335327,
                    15810.03536617414,
                    16716.44911219561,
                    18910.414711245474,
                    19747.765757084555,
                    20649.57549164464,
                    21208.13348382777,
                    21808.271692937375,
                    22840.962825359682,
                    28908.218688134042,
                    34666.216293400976,
                    35632.39412654149,
                    48009.19072610841
                  ],
                  "yaxis": "y2",
                  "type": "scatter"
                }
              ],
              "layout": {
                "template": {
                  "data": {
                    "barpolar": [
                      {
                        "marker": {
                          "line": {
                            "color": "white",
                            "width": 0.5
                          },
                          "pattern": {
                            "fillmode": "overlay",
                            "size": 10,
                            "solidity": 0.2
                          }
                        },
                        "type": "barpolar"
                      }
                    ],
                    "bar": [
                      {
                        "error_x": {
                          "color": "#2a3f5f"
                        },
                        "error_y": {
                          "color": "#2a3f5f"
                        },
                        "marker": {
                          "line": {
                            "color": "white",
                            "width": 0.5
                          },
                          "pattern": {
                            "fillmode": "overlay",
                            "size": 10,
                            "solidity": 0.2
                          }
                        },
                        "type": "bar"
                      }
                    ],
                    "carpet": [
                      {
                        "aaxis": {
                          "endlinecolor": "#2a3f5f",
                          "gridcolor": "#C8D4E3",
                          "linecolor": "#C8D4E3",
                          "minorgridcolor": "#C8D4E3",
                          "startlinecolor": "#2a3f5f"
                        },
                        "baxis": {
                          "endlinecolor": "#2a3f5f",
                          "gridcolor": "#C8D4E3",
                          "linecolor": "#C8D4E3",
                          "minorgridcolor": "#C8D4E3",
                          "startlinecolor": "#2a3f5f"
                        },
                        "type": "carpet"
                      }
                    ],
                    "choropleth": [
                      {
                        "colorbar": {
                          "outlinewidth": 0,
                          "ticks": ""
                        },
                        "type": "choropleth"
                      }
                    ],
                    "contourcarpet": [
                      {
                        "colorbar": {
                          "outlinewidth": 0,
                          "ticks": ""
                        },
                        "type": "contourcarpet"
                      }
                    ],
                    "contour": [
                      {
                        "colorbar": {
                          "outlinewidth": 0,
                          "ticks": ""
                        },
                        "colorscale": [
                          [
                            0,
                            "#0d0887"
                          ],
                          [
                            0.1111111111111111,
                            "#46039f"
                          ],
                          [
                            0.2222222222222222,
                            "#7201a8"
                          ],
                          [
                            0.3333333333333333,
                            "#9c179e"
                          ],
                          [
                            0.4444444444444444,
                            "#bd3786"
                          ],
                          [
                            0.5555555555555556,
                            "#d8576b"
                          ],
                          [
                            0.6666666666666666,
                            "#ed7953"
                          ],
                          [
                            0.7777777777777778,
                            "#fb9f3a"
                          ],
                          [
                            0.8888888888888888,
                            "#fdca26"
                          ],
                          [
                            1,
                            "#f0f921"
                          ]
                        ],
                        "type": "contour"
                      }
                    ],
                    "heatmapgl": [
                      {
                        "colorbar": {
                          "outlinewidth": 0,
                          "ticks": ""
                        },
                        "colorscale": [
                          [
                            0,
                            "#0d0887"
                          ],
                          [
                            0.1111111111111111,
                            "#46039f"
                          ],
                          [
                            0.2222222222222222,
                            "#7201a8"
                          ],
                          [
                            0.3333333333333333,
                            "#9c179e"
                          ],
                          [
                            0.4444444444444444,
                            "#bd3786"
                          ],
                          [
                            0.5555555555555556,
                            "#d8576b"
                          ],
                          [
                            0.6666666666666666,
                            "#ed7953"
                          ],
                          [
                            0.7777777777777778,
                            "#fb9f3a"
                          ],
                          [
                            0.8888888888888888,
                            "#fdca26"
                          ],
                          [
                            1,
                            "#f0f921"
                          ]
                        ],
                        "type": "heatmapgl"
                      }
                    ],
                    "heatmap": [
                      {
                        "colorbar": {
                          "outlinewidth": 0,
                          "ticks": ""
                        },
                        "colorscale": [
                          [
                            0,
                            "#0d0887"
                          ],
                          [
                            0.1111111111111111,
                            "#46039f"
                          ],
                          [
                            0.2222222222222222,
                            "#7201a8"
                          ],
                          [
                            0.3333333333333333,
                            "#9c179e"
                          ],
                          [
                            0.4444444444444444,
                            "#bd3786"
                          ],
                          [
                            0.5555555555555556,
                            "#d8576b"
                          ],
                          [
                            0.6666666666666666,
                            "#ed7953"
                          ],
                          [
                            0.7777777777777778,
                            "#fb9f3a"
                          ],
                          [
                            0.8888888888888888,
                            "#fdca26"
                          ],
                          [
                            1,
                            "#f0f921"
                          ]
                        ],
                        "type": "heatmap"
                      }
                    ],
                    "histogram2dcontour": [
                      {
                        "colorbar": {
                          "outlinewidth": 0,
                          "ticks": ""
                        },
                        "colorscale": [
                          [
                            0,
                            "#0d0887"
                          ],
                          [
                            0.1111111111111111,
                            "#46039f"
                          ],
                          [
                            0.2222222222222222,
                            "#7201a8"
                          ],
                          [
                            0.3333333333333333,
                            "#9c179e"
                          ],
                          [
                            0.4444444444444444,
                            "#bd3786"
                          ],
                          [
                            0.5555555555555556,
                            "#d8576b"
                          ],
                          [
                            0.6666666666666666,
                            "#ed7953"
                          ],
                          [
                            0.7777777777777778,
                            "#fb9f3a"
                          ],
                          [
                            0.8888888888888888,
                            "#fdca26"
                          ],
                          [
                            1,
                            "#f0f921"
                          ]
                        ],
                        "type": "histogram2dcontour"
                      }
                    ],
                    "histogram2d": [
                      {
                        "colorbar": {
                          "outlinewidth": 0,
                          "ticks": ""
                        },
                        "colorscale": [
                          [
                            0,
                            "#0d0887"
                          ],
                          [
                            0.1111111111111111,
                            "#46039f"
                          ],
                          [
                            0.2222222222222222,
                            "#7201a8"
                          ],
                          [
                            0.3333333333333333,
                            "#9c179e"
                          ],
                          [
                            0.4444444444444444,
                            "#bd3786"
                          ],
                          [
                            0.5555555555555556,
                            "#d8576b"
                          ],
                          [
                            0.6666666666666666,
                            "#ed7953"
                          ],
                          [
                            0.7777777777777778,
                            "#fb9f3a"
                          ],
                          [
                            0.8888888888888888,
                            "#fdca26"
                          ],
                          [
                            1,
                            "#f0f921"
                          ]
                        ],
                        "type": "histogram2d"
                      }
                    ],
                    "histogram": [
                      {
                        "marker": {
                          "pattern": {
                            "fillmode": "overlay",
                            "size": 10,
                            "solidity": 0.2
                          }
                        },
                        "type": "histogram"
                      }
                    ],
                    "mesh3d": [
                      {
                        "colorbar": {
                          "outlinewidth": 0,
                          "ticks": ""
                        },
                        "type": "mesh3d"
                      }
                    ],
                    "parcoords": [
                      {
                        "line": {
                          "colorbar": {
                            "outlinewidth": 0,
                            "ticks": ""
                          }
                        },
                        "type": "parcoords"
                      }
                    ],
                    "pie": [
                      {
                        "automargin": true,
                        "type": "pie"
                      }
                    ],
                    "scatter3d": [
                      {
                        "line": {
                          "colorbar": {
                            "outlinewidth": 0,
                            "ticks": ""
                          }
                        },
                        "marker": {
                          "colorbar": {
                            "outlinewidth": 0,
                            "ticks": ""
                          }
                        },
                        "type": "scatter3d"
                      }
                    ],
                    "scattercarpet": [
                      {
                        "marker": {
                          "colorbar": {
                            "outlinewidth": 0,
                            "ticks": ""
                          }
                        },
                        "type": "scattercarpet"
                      }
                    ],
                    "scattergeo": [
                      {
                        "marker": {
                          "colorbar": {
                            "outlinewidth": 0,
                            "ticks": ""
                          }
                        },
                        "type": "scattergeo"
                      }
                    ],
                    "scattergl": [
                      {
                        "marker": {
                          "colorbar": {
                            "outlinewidth": 0,
                            "ticks": ""
                          }
                        },
                        "type": "scattergl"
                      }
                    ],
                    "scattermapbox": [
                      {
                        "marker": {
                          "colorbar": {
                            "outlinewidth": 0,
                            "ticks": ""
                          }
                        },
                        "type": "scattermapbox"
                      }
                    ],
                    "scatterpolargl": [
                      {
                        "marker": {
                          "colorbar": {
                            "outlinewidth": 0,
                            "ticks": ""
                          }
                        },
                        "type": "scatterpolargl"
                      }
                    ],
                    "scatterpolar": [
                      {
                        "marker": {
                          "colorbar": {
                            "outlinewidth": 0,
                            "ticks": ""
                          }
                        },
                        "type": "scatterpolar"
                      }
                    ],
                    "scatter": [
                      {
                        "marker": {
                          "colorbar": {
                            "outlinewidth": 0,
                            "ticks": ""
                          }
                        },
                        "type": "scatter"
                      }
                    ],
                    "scatterternary": [
                      {
                        "marker": {
                          "colorbar": {
                            "outlinewidth": 0,
                            "ticks": ""
                          }
                        },
                        "type": "scatterternary"
                      }
                    ],
                    "surface": [
                      {
                        "colorbar": {
                          "outlinewidth": 0,
                          "ticks": ""
                        },
                        "colorscale": [
                          [
                            0,
                            "#0d0887"
                          ],
                          [
                            0.1111111111111111,
                            "#46039f"
                          ],
                          [
                            0.2222222222222222,
                            "#7201a8"
                          ],
                          [
                            0.3333333333333333,
                            "#9c179e"
                          ],
                          [
                            0.4444444444444444,
                            "#bd3786"
                          ],
                          [
                            0.5555555555555556,
                            "#d8576b"
                          ],
                          [
                            0.6666666666666666,
                            "#ed7953"
                          ],
                          [
                            0.7777777777777778,
                            "#fb9f3a"
                          ],
                          [
                            0.8888888888888888,
                            "#fdca26"
                          ],
                          [
                            1,
                            "#f0f921"
                          ]
                        ],
                        "type": "surface"
                      }
                    ],
                    "table": [
                      {
                        "cells": {
                          "fill": {
                            "color": "#EBF0F8"
                          },
                          "line": {
                            "color": "white"
                          }
                        },
                        "header": {
                          "fill": {
                            "color": "#C8D4E3"
                          },
                          "line": {
                            "color": "white"
                          }
                        },
                        "type": "table"
                      }
                    ]
                  },
                  "layout": {
                    "annotationdefaults": {
                      "arrowcolor": "#2a3f5f",
                      "arrowhead": 0,
                      "arrowwidth": 1
                    },
                    "autotypenumbers": "strict",
                    "coloraxis": {
                      "colorbar": {
                        "outlinewidth": 0,
                        "ticks": ""
                      }
                    },
                    "colorscale": {
                      "diverging": [
                        [
                          0,
                          "#8e0152"
                        ],
                        [
                          0.1,
                          "#c51b7d"
                        ],
                        [
                          0.2,
                          "#de77ae"
                        ],
                        [
                          0.3,
                          "#f1b6da"
                        ],
                        [
                          0.4,
                          "#fde0ef"
                        ],
                        [
                          0.5,
                          "#f7f7f7"
                        ],
                        [
                          0.6,
                          "#e6f5d0"
                        ],
                        [
                          0.7,
                          "#b8e186"
                        ],
                        [
                          0.8,
                          "#7fbc41"
                        ],
                        [
                          0.9,
                          "#4d9221"
                        ],
                        [
                          1,
                          "#276419"
                        ]
                      ],
                      "sequential": [
                        [
                          0,
                          "#0d0887"
                        ],
                        [
                          0.1111111111111111,
                          "#46039f"
                        ],
                        [
                          0.2222222222222222,
                          "#7201a8"
                        ],
                        [
                          0.3333333333333333,
                          "#9c179e"
                        ],
                        [
                          0.4444444444444444,
                          "#bd3786"
                        ],
                        [
                          0.5555555555555556,
                          "#d8576b"
                        ],
                        [
                          0.6666666666666666,
                          "#ed7953"
                        ],
                        [
                          0.7777777777777778,
                          "#fb9f3a"
                        ],
                        [
                          0.8888888888888888,
                          "#fdca26"
                        ],
                        [
                          1,
                          "#f0f921"
                        ]
                      ],
                      "sequentialminus": [
                        [
                          0,
                          "#0d0887"
                        ],
                        [
                          0.1111111111111111,
                          "#46039f"
                        ],
                        [
                          0.2222222222222222,
                          "#7201a8"
                        ],
                        [
                          0.3333333333333333,
                          "#9c179e"
                        ],
                        [
                          0.4444444444444444,
                          "#bd3786"
                        ],
                        [
                          0.5555555555555556,
                          "#d8576b"
                        ],
                        [
                          0.6666666666666666,
                          "#ed7953"
                        ],
                        [
                          0.7777777777777778,
                          "#fb9f3a"
                        ],
                        [
                          0.8888888888888888,
                          "#fdca26"
                        ],
                        [
                          1,
                          "#f0f921"
                        ]
                      ]
                    },
                    "colorway": [
                      "#636efa",
                      "#EF553B",
                      "#00cc96",
                      "#ab63fa",
                      "#FFA15A",
                      "#19d3f3",
                      "#FF6692",
                      "#B6E880",
                      "#FF97FF",
                      "#FECB52"
                    ],
                    "font": {
                      "color": "#2a3f5f"
                    },
                    "geo": {
                      "bgcolor": "white",
                      "lakecolor": "white",
                      "landcolor": "white",
                      "showlakes": true,
                      "showland": true,
                      "subunitcolor": "#C8D4E3"
                    },
                    "hoverlabel": {
                      "align": "left"
                    },
                    "hovermode": "closest",
                    "mapbox": {
                      "style": "light"
                    },
                    "paper_bgcolor": "white",
                    "plot_bgcolor": "white",
                    "polar": {
                      "angularaxis": {
                        "gridcolor": "#EBF0F8",
                        "linecolor": "#EBF0F8",
                        "ticks": ""
                      },
                      "bgcolor": "white",
                      "radialaxis": {
                        "gridcolor": "#EBF0F8",
                        "linecolor": "#EBF0F8",
                        "ticks": ""
                      }
                    },
                    "scene": {
                      "xaxis": {
                        "backgroundcolor": "white",
                        "gridcolor": "#DFE8F3",
                        "gridwidth": 2,
                        "linecolor": "#EBF0F8",
                        "showbackground": true,
                        "ticks": "",
                        "zerolinecolor": "#EBF0F8"
                      },
                      "yaxis": {
                        "backgroundcolor": "white",
                        "gridcolor": "#DFE8F3",
                        "gridwidth": 2,
                        "linecolor": "#EBF0F8",
                        "showbackground": true,
                        "ticks": "",
                        "zerolinecolor": "#EBF0F8"
                      },
                      "zaxis": {
                        "backgroundcolor": "white",
                        "gridcolor": "#DFE8F3",
                        "gridwidth": 2,
                        "linecolor": "#EBF0F8",
                        "showbackground": true,
                        "ticks": "",
                        "zerolinecolor": "#EBF0F8"
                      }
                    },
                    "shapedefaults": {
                      "line": {
                        "color": "#2a3f5f"
                      }
                    },
                    "ternary": {
                      "aaxis": {
                        "gridcolor": "#DFE8F3",
                        "linecolor": "#A2B1C6",
                        "ticks": ""
                      },
                      "baxis": {
                        "gridcolor": "#DFE8F3",
                        "linecolor": "#A2B1C6",
                        "ticks": ""
                      },
                      "bgcolor": "white",
                      "caxis": {
                        "gridcolor": "#DFE8F3",
                        "linecolor": "#A2B1C6",
                        "ticks": ""
                      }
                    },
                    "title": {
                      "x": 0.05
                    },
                    "xaxis": {
                      "automargin": true,
                      "gridcolor": "#EBF0F8",
                      "linecolor": "#EBF0F8",
                      "ticks": "",
                      "title": {
                        "standoff": 15
                      },
                      "zerolinecolor": "#EBF0F8",
                      "zerolinewidth": 2
                    },
                    "yaxis": {
                      "automargin": true,
                      "gridcolor": "#EBF0F8",
                      "linecolor": "#EBF0F8",
                      "ticks": "",
                      "title": {
                        "standoff": 15
                      },
                      "zerolinecolor": "#EBF0F8",
                      "zerolinewidth": 2
                    }
                  }
                },
                "xaxis": {
                  "anchor": "y",
                  "domain": [
                    0,
                    0.49
                  ],
                  "title": {
                    "text": "Actual Cost, $"
                  },
                  "showgrid": true,
                  "gridwidth": 1,
                  "gridcolor": "#EAEAEA",
                  "zeroline": true,
                  "zerolinewidth": 2,
                  "zerolinecolor": "#5E5E5E"
                },
                "yaxis": {
                  "anchor": "x",
                  "domain": [
                    0,
                    0.46499999999999997
                  ],
                  "title": {
                    "text": "Predicted Cost, $"
                  },
                  "showgrid": true,
                  "gridwidth": 1,
                  "gridcolor": "#E3E3E3",
                  "zeroline": true,
                  "zerolinewidth": 2,
                  "zerolinecolor": "#5E5E5E"
                },
                "xaxis2": {
                  "anchor": "y2",
                  "domain": [
                    0.51,
                    1
                  ],
                  "matches": "x",
                  "title": {
                    "text": "Actual Cost, $"
                  },
                  "showgrid": true,
                  "gridwidth": 1,
                  "gridcolor": "#EAEAEA",
                  "zeroline": true,
                  "zerolinewidth": 2,
                  "zerolinecolor": "#5E5E5E"
                },
                "yaxis2": {
                  "anchor": "x2",
                  "domain": [
                    0,
                    0.46499999999999997
                  ],
                  "matches": "y",
                  "showticklabels": false,
                  "showgrid": true,
                  "gridwidth": 1,
                  "gridcolor": "#E3E3E3",
                  "zeroline": true,
                  "zerolinewidth": 2,
                  "zerolinecolor": "#5E5E5E"
                },
                "xaxis3": {
                  "anchor": "y3",
                  "domain": [
                    0,
                    0.49
                  ],
                  "matches": "x",
                  "showticklabels": false,
                  "showgrid": true,
                  "gridwidth": 1,
                  "gridcolor": "#EAEAEA",
                  "zeroline": true,
                  "zerolinewidth": 2,
                  "zerolinecolor": "#5E5E5E"
                },
                "yaxis3": {
                  "anchor": "x3",
                  "domain": [
                    0.5349999999999999,
                    0.9999999999999999
                  ],
                  "matches": "y",
                  "title": {
                    "text": "Predicted Cost, $"
                  },
                  "showgrid": true,
                  "gridwidth": 1,
                  "gridcolor": "#E3E3E3",
                  "zeroline": true,
                  "zerolinewidth": 2,
                  "zerolinecolor": "#5E5E5E"
                },
                "xaxis4": {
                  "anchor": "y4",
                  "domain": [
                    0.51,
                    1
                  ],
                  "matches": "x",
                  "showticklabels": false,
                  "showgrid": true,
                  "gridwidth": 1,
                  "gridcolor": "#EAEAEA",
                  "zeroline": true,
                  "zerolinewidth": 2,
                  "zerolinecolor": "#5E5E5E"
                },
                "yaxis4": {
                  "anchor": "x4",
                  "domain": [
                    0.5349999999999999,
                    0.9999999999999999
                  ],
                  "matches": "y",
                  "showticklabels": false,
                  "showgrid": true,
                  "gridwidth": 1,
                  "gridcolor": "#E3E3E3",
                  "zeroline": true,
                  "zerolinewidth": 2,
                  "zerolinecolor": "#5E5E5E"
                },
                "annotations": [
                  {
                    "showarrow": false,
                    "text": "northwest",
                    "x": 0.245,
                    "xanchor": "center",
                    "xref": "paper",
                    "y": 0.46499999999999997,
                    "yanchor": "bottom",
                    "yref": "paper"
                  },
                  {
                    "showarrow": false,
                    "text": "northeast",
                    "x": 0.755,
                    "xanchor": "center",
                    "xref": "paper",
                    "y": 0.46499999999999997,
                    "yanchor": "bottom",
                    "yref": "paper"
                  },
                  {
                    "showarrow": false,
                    "text": "southwest",
                    "x": 0.245,
                    "xanchor": "center",
                    "xref": "paper",
                    "y": 0.9999999999999999,
                    "yanchor": "bottom",
                    "yref": "paper"
                  },
                  {
                    "showarrow": false,
                    "text": "southeast",
                    "x": 0.755,
                    "xanchor": "center",
                    "xref": "paper",
                    "y": 0.9999999999999999,
                    "yanchor": "bottom",
                    "yref": "paper"
                  },
                  {
                    "showarrow": false,
                    "text": "Adj. R-Squared = 75.3%<br>RMSE = 4,830",
                    "x": 51000,
                    "xref": "x3",
                    "y": 15000,
                    "yref": "y3"
                  },
                  {
                    "showarrow": false,
                    "text": "Adj. R-Squared = 89.5%<br>RMSE = 4,167",
                    "x": 51000,
                    "xref": "x4",
                    "y": 15000,
                    "yref": "y4"
                  },
                  {
                    "showarrow": false,
                    "text": "Adj. R-Squared = 68.3%<br>RMSE = 5,821",
                    "x": 51000,
                    "xref": "x",
                    "y": 15000,
                    "yref": "y"
                  },
                  {
                    "showarrow": false,
                    "text": "Adj. R-Squared = 69.5%<br>RMSE = 4,709",
                    "x": 51000,
                    "xref": "x2",
                    "y": 15000,
                    "yref": "y2"
                  }
                ],
                "legend": {
                  "title": {
                    "text": "index"
                  },
                  "tracegroupgap": 0
                },
                "title": {
                  "text": "Actual vs Predicted Insurance Costs by Region,<br>Support Vector Regression"
                },
                "height": 700,
                "font": {
                  "color": "#303030"
                },
                "paper_bgcolor": "white",
                "plot_bgcolor": "white"
              },
              "config": {
                "plotlyServerURL": "https://plot.ly"
              }
            },
            "text/html": [
              "<div>                            <div id=\"050e47f1-a81b-42ee-9d23-afc49a5fe41e\" class=\"plotly-graph-div\" style=\"height:700px; width:100%;\"></div>            <script type=\"text/javascript\">                require([\"plotly\"], function(Plotly) {                    window.PLOTLYENV=window.PLOTLYENV || {};                                    if (document.getElementById(\"050e47f1-a81b-42ee-9d23-afc49a5fe41e\")) {                    Plotly.newPlot(                        \"050e47f1-a81b-42ee-9d23-afc49a5fe41e\",                        [{\"hovertemplate\":\"Actual Cost: %{x:$,.2f}<br>Predicted Cost: %{y:$,.2f}\",\"legendgroup\":\"southwest\",\"marker\":{\"color\":\"#B14B51\",\"opacity\":0.7,\"symbol\":\"circle\",\"line\":{\"color\":\"#F7F7F7\",\"width\":1},\"size\":10},\"mode\":\"markers\",\"name\":\"southwest\",\"orientation\":\"v\",\"showlegend\":false,\"x\":[3761.292,11674.13,6311.952,14319.031,11552.904,5080.096,8269.044,3693.428,36837.467,13224.693,23306.547,35160.13457,12347.172,10065.413,5488.262,38711.0,7196.867,6571.544,5979.731,34828.654,6600.361,39836.519,1256.299,1242.26,4762.329,9264.797,13470.86,1759.338,1241.565,48173.361,16232.847,25309.489,10791.96,4751.07,8556.907,42856.838,8277.523,11576.13,7623.518,12146.971,20630.28351,4646.759,26140.3603,2007.945,8444.474,17081.08,13822.803,8825.086,37079.372,10096.97,11411.685,14988.432,11362.755,6875.961,10795.93733,18259.216,1261.859,17942.106,11150.78,38415.474,8522.003,8703.456,3987.926,1964.78,1743.214],\"xaxis\":\"x3\",\"y\":[3762.54990425251,11673.471265362059,6311.092188588063,14312.45320374851,12189.021053382305,5050.131593225203,8271.367725793225,3646.4458955053105,40314.7070179183,13235.733192824071,16256.630732534766,11290.424151346608,12353.148018957058,10039.44375457572,5488.3970560188,39786.570886583766,7199.788827219343,6576.138468380612,5979.929669677182,35052.55046141902,6598.606909223766,37989.23630078367,1255.6623847543124,1242.911345860286,4763.905317748289,9275.213938040146,13466.03421906269,1755.6748667571783,1243.0507984608957,56221.639494804345,16062.51597096472,36511.96545938596,10764.147414552528,4751.176075429339,8555.510159218478,40184.23779846072,8277.86226116922,11572.553607336704,7623.4161442041295,12146.10070367046,10224.101366701594,4646.92476141557,9190.466854594384,2007.053615389058,8446.293599050958,25897.59058945306,13824.658005630277,8824.192569075563,38840.34540600481,10126.454280804583,11154.991660635205,15022.222764991973,11361.101139918983,6874.156136543626,2315.6646656643397,15894.305365315668,1262.0236979330457,7061.948514542586,11157.752907344708,35247.38850511099,8510.72759040418,8702.596636484424,3989.3088522835387,1964.520978239536,1742.7817132265527],\"yaxis\":\"y3\",\"type\":\"scatter\"},{\"hovertemplate\":\"<b>LOWESS trendline</b><br><br>index=southwest<br>actuals=%{x}<br>preds=%{y} <b>(trend)</b><extra></extra>\",\"legendgroup\":\"southwest\",\"marker\":{\"color\":\"#B14B51\",\"symbol\":\"circle\"},\"mode\":\"lines\",\"name\":\"southwest\",\"showlegend\":false,\"x\":[1241.565,1242.26,1256.299,1261.859,1743.214,1759.338,1964.78,2007.945,3693.428,3761.292,3987.926,4646.759,4751.07,4762.329,5080.096,5488.262,5979.731,6311.952,6571.544,6600.361,6875.961,7196.867,7623.518,8269.044,8277.523,8444.474,8522.003,8556.907,8703.456,8825.086,9264.797,10065.413,10096.97,10791.96,10795.93733,11150.78,11362.755,11411.685,11552.904,11576.13,11674.13,12146.971,12347.172,13224.693,13470.86,13822.803,14319.031,14988.432,16232.847,17081.08,17942.106,18259.216,20630.28351,23306.547,25309.489,26140.3603,34828.654,35160.13457,36837.467,37079.372,38415.474,38711.0,39836.519,42856.838,48173.361],\"xaxis\":\"x3\",\"y\":[1241.4079751962665,1242.1030175300898,1256.142871667921,1261.703209406634,1743.0860900191815,1759.2109699636198,1964.6638313174128,2007.8310307912068,3693.3813592730235,3761.247563155243,3987.8888687356834,4646.743768337491,4751.0585128669545,4762.317924694583,5080.097323479913,5488.282519332321,5979.784258714173,6312.0363247348,6571.649745308669,6600.467932600154,6876.050740313576,7196.917050772543,7623.555440815589,8269.094962821366,8277.574666688202,8444.535570034166,8522.067400708818,8556.972194638318,8703.521473989937,8825.14837581684,9264.833985598925,10065.371142570226,10096.926092349997,10791.873753864258,10795.85084426738,11150.645004197435,11362.588696015488,11411.51157434811,11552.710255933222,11575.932948833199,11673.919108319677,12146.696393646525,12346.874763182872,13224.292752499827,13470.432664898985,13822.331212169489,14318.485380040727,14987.773908459321,16231.912749304045,17079.92574198089,17940.703062949036,18257.715734904705,20627.383722821585,23298.9921494017,24494.361785904337,25246.525830867475,33327.78448128761,33636.476165961154,35198.471133226965,35423.7384544653,36667.927929408004,36943.11996946177,37991.18253100812,40803.55258053129,45753.80370450979],\"yaxis\":\"y3\",\"type\":\"scatter\"},{\"hovertemplate\":\"Actual Cost: %{x:$,.2f}<br>Predicted Cost: %{y:$,.2f}\",\"legendgroup\":\"southeast\",\"marker\":{\"color\":\"#D0A99C\",\"opacity\":0.7,\"symbol\":\"circle\",\"line\":{\"color\":\"#F7F7F7\",\"width\":1},\"size\":10},\"mode\":\"markers\",\"name\":\"southeast\",\"orientation\":\"v\",\"showlegend\":false,\"x\":[44202.6536,6781.3542,5478.0368,32548.3405,1815.8759,11093.6229,11090.7178,13470.8044,47269.854,10107.2206,38282.7495,19350.3689,1615.7667,40974.1649,1824.2854,7243.8136,36950.2567,41999.52,6184.2994,20462.99766,7152.6714,2219.4451,8232.6388,4266.1658,19521.9682,27808.7251,16586.49771,5966.8874,4504.6624,3500.6123,4340.4409,5974.3847,3227.1211,11363.2832,12592.5345,6313.759,5920.1041,12142.5786,3561.8889,4673.3922,46599.1084,2566.4707,41676.0811,8978.1851,48970.2476,24667.419,8596.8278,38709.176,1136.3994,18806.14547,1981.5819,1131.5066,6500.2359,1146.7966,8547.6913,39611.7577,11881.9696,48675.5177,44400.4064,18223.4512,28287.89766,9855.1314,10702.6424,5245.2269,1664.9996,2464.6188,9377.9047,10226.2842,36124.5737,4779.6023,6338.0756,42112.2356,1633.9618],\"xaxis\":\"x4\",\"y\":[45338.459442715255,6777.399680945707,5477.249559304859,23344.50376970888,1802.9397728449785,11389.20311709236,11241.887420205521,13624.651106346975,47595.38551756897,10158.767789215848,36873.33536203611,25968.869905185886,1604.0375171429132,36897.857185086614,1821.6230763725762,4794.383275242995,35301.52272812064,38481.72362938469,5358.930946457964,12501.318250494784,7168.1659006029295,2260.8751072896666,8304.583090917722,4229.607341126865,23331.873196358058,32367.64871360312,1519.170985881894,5974.37207446395,4753.081939429663,3681.431956667082,4264.868257243892,5984.534853324782,3237.1000688913628,11370.607257334748,4084.147099874048,6329.771759476775,5916.059934233513,12141.38070085062,3661.6534707184564,4661.332199453438,47297.07212185443,2478.296233218287,42574.78016327924,8981.74203897996,48764.794160538724,28704.188998566704,2966.6995160568695,37055.83822432481,1135.8095798565246,7449.439448223927,1978.1389431646003,1122.6999218640804,6507.743126023026,1136.5833391329725,8592.838013490136,40826.65412367972,11786.373684300612,48376.776721265676,48634.342451246535,32457.692074075043,12803.11283330994,10292.833955192023,11983.13593650738,5241.107217971068,1651.2737549343055,2461.59387652396,9348.064133504777,10228.915634121531,31876.56280186213,4787.240355973015,6330.742031385851,48100.12570080391,1629.9436452858326],\"yaxis\":\"y4\",\"type\":\"scatter\"},{\"hovertemplate\":\"<b>LOWESS trendline</b><br><br>index=southeast<br>actuals=%{x}<br>preds=%{y} <b>(trend)</b><extra></extra>\",\"legendgroup\":\"southeast\",\"marker\":{\"color\":\"#D0A99C\",\"symbol\":\"circle\"},\"mode\":\"lines\",\"name\":\"southeast\",\"showlegend\":false,\"x\":[1131.5066,1136.3994,1146.7966,1615.7667,1633.9618,1664.9996,1815.8759,1824.2854,1981.5819,2219.4451,2464.6188,2566.4707,3227.1211,3500.6123,3561.8889,4266.1658,4340.4409,4504.6624,4673.3922,4779.6023,5245.2269,5478.0368,5920.1041,5966.8874,5974.3847,6184.2994,6313.759,6338.0756,6500.2359,6781.3542,7152.6714,7243.8136,8232.6388,8547.6913,8596.8278,8978.1851,9377.9047,9855.1314,10107.2206,10226.2842,10702.6424,11090.7178,11093.6229,11363.2832,11881.9696,12142.5786,12592.5345,13470.8044,16586.49771,18223.4512,18806.14547,19350.3689,19521.9682,20462.99766,24667.419,27808.7251,28287.89766,32548.3405,36124.5737,36950.2567,38282.7495,38709.176,39611.7577,40974.1649,41676.0811,41999.52,42112.2356,44202.6536,44400.4064,46599.1084,47269.854,48675.5177,48970.2476],\"xaxis\":\"x4\",\"y\":[1128.0243733950083,1132.9404166318461,1143.38700738846,1614.5846194244423,1632.8661885968259,1664.0515098154922,1815.6453765191904,1824.0949000625676,1982.1407756216522,2221.1409513080116,2467.493468815356,2569.837645248861,3233.7365122152382,3508.613652267865,3570.2051664513006,4278.227914032069,4352.9116313677405,4518.045710033979,4687.726408326987,4794.541707489344,5262.872851072328,5497.061496153211,5941.765578955399,5988.827433260065,5996.3693347997305,6207.5265413615325,6337.743586242103,6362.20142429158,6525.293029532055,6807.967915180151,7181.190050370969,7272.776403732927,8268.376717916653,8585.945619076312,8635.487662539554,9020.083548894785,9423.34352755345,9904.942253456966,10159.489962409645,10279.810116598095,10761.043857286393,11153.21592002474,11156.159637718325,11428.814762195005,11953.00912713046,12216.358797893356,12671.000450918393,13558.389802779244,16709.156735089582,18365.64064646475,18954.938655287795,19505.941166601722,19679.509255345376,20634.39124810604,24899.52752040486,27993.40368585334,28351.685714825224,32486.821112497335,36034.60592760496,36854.217702717084,38177.057768481405,38600.421237266506,39496.548045478354,40849.26125408732,41546.19699299245,41867.34276345091,41979.2594191158,44054.86355473129,44251.21406448616,46434.29042970644,47100.251142243374,48495.83598679182,48788.43828362563],\"yaxis\":\"y4\",\"type\":\"scatter\"},{\"hovertemplate\":\"Actual Cost: %{x:$,.2f}<br>Predicted Cost: %{y:$,.2f}\",\"legendgroup\":\"northwest\",\"marker\":{\"color\":\"#5D8370\",\"opacity\":0.7,\"symbol\":\"circle\",\"line\":{\"color\":\"#F7F7F7\",\"width\":1},\"size\":10},\"mode\":\"markers\",\"name\":\"northwest\",\"orientation\":\"v\",\"showlegend\":false,\"x\":[9174.13565,4433.3877,21774.32215,7731.85785,33471.97189,4618.0799,3594.17085,12235.8392,6203.90175,11840.77505,4466.6214,8162.71625,6393.60345,1906.35825,23967.38305,2775.19215,3537.703,32787.45859,6112.35295,9301.89355,11945.1327,6389.37785,23807.2406,10264.4421,4243.59005,16455.70785,8413.46305,26018.95052,60021.39897,3579.8287,12479.70895,5855.9025,7153.5539,1635.73365,6986.697,43921.1837,15019.76005,29330.98315,5630.45785,8827.2099,8059.6791,5729.0053,14382.70905,29141.3603,38746.3551,3877.30425,42760.5022,6373.55735,28950.4692,16420.49455,10600.5483,18033.9679,39983.42595,6940.90985,4239.89265,6360.9936,8116.26885,6796.86325,2136.88225,33307.5508,13415.0381,10976.24575,3353.4703,5261.46945,5989.52365],\"xaxis\":\"x\",\"y\":[9171.089714618096,4441.791371365998,22267.865038308973,7738.063414896333,11201.94176773716,6169.425666612527,3567.616643696509,12219.35246663904,6200.3482314717485,11840.60293701835,6607.640061290368,7339.88595456251,6395.385841029787,1908.432060926235,22548.8023287584,2692.658472573471,3658.154048676419,26734.003314521644,6095.053227383847,9448.091747706083,11938.171137528825,6387.865914561238,23172.108619137685,10289.964738478115,4244.572045199382,16223.533929489757,8463.214391391417,4440.746391532335,59031.70895828461,4457.292942605675,12471.709292304862,5859.695015136148,7164.827390176416,1634.6512060678642,7001.54672384282,21497.025080348267,14839.341990609559,41812.140179747,5602.098750648836,8832.35550017656,7999.660999310231,5666.307886768009,14286.430847560769,43909.566789579396,40673.13491474234,3945.734829466838,39327.09017761881,6327.095363878915,40545.61487871798,25464.73797712668,10594.98836763668,24149.23652947954,34315.875824619674,6939.702600099379,4238.233467284951,6046.364054407589,8168.366105560308,6721.000335017362,2136.2695335187336,29603.066770349717,13410.633409998783,10981.201072056982,3357.323081410743,5256.689097595252,5948.346842858852],\"yaxis\":\"y\",\"type\":\"scatter\"},{\"hovertemplate\":\"<b>LOWESS trendline</b><br><br>index=northwest<br>actuals=%{x}<br>preds=%{y} <b>(trend)</b><extra></extra>\",\"legendgroup\":\"northwest\",\"marker\":{\"color\":\"#5D8370\",\"symbol\":\"circle\"},\"mode\":\"lines\",\"name\":\"northwest\",\"showlegend\":false,\"x\":[1635.73365,1906.35825,2136.88225,2775.19215,3353.4703,3537.703,3579.8287,3594.17085,3877.30425,4239.89265,4243.59005,4433.3877,4466.6214,4618.0799,5261.46945,5630.45785,5729.0053,5855.9025,5989.52365,6112.35295,6203.90175,6360.9936,6373.55735,6389.37785,6393.60345,6796.86325,6940.90985,6986.697,7153.5539,7731.85785,8059.6791,8116.26885,8162.71625,8413.46305,8827.2099,9174.13565,9301.89355,10264.4421,10600.5483,10976.24575,11840.77505,11945.1327,12235.8392,12479.70895,13415.0381,14382.70905,15019.76005,16420.49455,16455.70785,18033.9679,21774.32215,23807.2406,23967.38305,26018.95052,28950.4692,29141.3603,29330.98315,32787.45859,33307.5508,33471.97189,38746.3551,39983.42595,42760.5022,43921.1837,60021.39897],\"xaxis\":\"x\",\"y\":[1632.5538998284708,1902.9239603655333,2133.246053905059,2771.0833673771986,3349.0787615993327,3533.2638010893475,3575.382124635597,3589.7220749303337,3872.84567224305,4235.519955277039,4239.218809260144,4429.106679469683,4462.3592999978955,4613.915587311401,5257.914641279832,5627.3656669233405,5726.04552406436,5853.116645027514,5986.924012681457,6109.926488886335,6201.6055461440665,6358.924422289305,6371.506612425663,6387.350412383861,6391.582251715712,6795.50463964052,6939.863649509012,6985.852451704909,7153.248657480868,7732.829358133747,8060.813750094284,8117.396515348651,8163.837197168634,8414.94090088277,8828.990242018797,9176.68829326477,9304.15773577902,10259.041979957825,10589.764519430833,10958.490876518612,11806.084128112714,11908.440454621072,12193.63766169654,12432.950001663537,13350.246189383928,14296.084057156182,14918.870519409744,16282.142093032206,16316.418289896865,17824.111492669155,20775.64971902426,22170.883343937698,22292.456419502883,23887.61409210902,26257.545609499233,26412.703575620937,26566.871644291437,29379.27806787227,29801.269490561033,29934.979730586594,34222.741003823765,35228.7158295783,37487.834151190946,38432.36018456532,51546.6315837764],\"yaxis\":\"y\",\"type\":\"scatter\"},{\"hovertemplate\":\"Actual Cost: %{x:$,.2f}<br>Predicted Cost: %{y:$,.2f}\",\"legendgroup\":\"northeast\",\"marker\":{\"color\":\"#6C839B\",\"opacity\":0.7,\"symbol\":\"circle\",\"line\":{\"color\":\"#F7F7F7\",\"width\":1},\"size\":10},\"mode\":\"markers\",\"name\":\"northeast\",\"orientation\":\"v\",\"showlegend\":false,\"x\":[58571.07448,41034.2214,13129.60345,17128.42608,13224.05705,42303.69215,8627.5411,11512.405,13228.84695,12730.9996,3558.62025,14590.63205,13019.16105,6113.23105,4846.92015,14451.83515,9282.4806,5594.8455,2203.73595,6640.54485,12323.936,7935.29115,3857.75925,1712.227,2727.3951,7639.41745,3044.2133,25517.11363,11938.25595,3393.35635,14449.8544,33475.81715,20709.02034,8334.45755,2217.6012,11879.10405,11394.06555,10072.05505,2396.0959,7729.64575,2211.13075,3385.39915,24106.91255,2205.9808,9722.7695,13616.3586,11658.37915,6067.12675,19594.80965,2217.46915,22395.74424,12029.2867,9866.30485,16115.3045,7050.0213,5428.7277,13430.265,2196.4732,7985.815,13725.47184,3481.868,13143.86485,23241.47453,7133.9025,8606.2174],\"xaxis\":\"x2\",\"y\":[42437.66360406201,44963.00371194491,13128.294515276972,10454.07220911518,13222.884679162875,38141.37681882939,8578.705386541791,11557.598519102601,13229.931449062813,12731.36400154492,3553.7842830559784,13218.575969514244,13126.133827285006,5882.24937729046,6891.570066682103,14434.092300743487,9251.57668345156,5758.746782882601,2204.806069407565,6960.101035096373,12324.098488475573,7951.628286793795,3856.86557817584,1712.3425895950968,2726.6639082124375,7684.369459885991,3038.8565857348112,11007.368227933639,11938.1906461229,3146.9142764085673,14427.032626732074,28731.791548418343,11567.225133710936,8333.668992651666,2195.298201476555,11937.522999867351,11414.240422614366,10071.38759396278,2396.873887682691,7725.8094554549425,2200.5932832053913,3385.323085706372,23931.32791662925,2204.315678596595,9723.161059318194,13600.14740906638,11658.424380875429,5991.525463372733,18610.640131652402,2195.4560778737177,4014.0269778178645,12022.663182078137,9867.08719628469,16286.051375930034,7056.3653730275655,10657.822551246656,12442.275983128358,2193.3724148076253,8064.017625715776,7320.116363433096,4382.479469668568,13143.49159631853,3968.237576621974,7051.318797499301,8745.804212138446],\"yaxis\":\"y2\",\"type\":\"scatter\"},{\"hovertemplate\":\"<b>LOWESS trendline</b><br><br>index=northeast<br>actuals=%{x}<br>preds=%{y} <b>(trend)</b><extra></extra>\",\"legendgroup\":\"northeast\",\"marker\":{\"color\":\"#6C839B\",\"symbol\":\"circle\"},\"mode\":\"lines\",\"name\":\"northeast\",\"showlegend\":false,\"x\":[1712.227,2196.4732,2203.73595,2205.9808,2211.13075,2217.46915,2217.6012,2396.0959,2727.3951,3044.2133,3385.39915,3393.35635,3481.868,3558.62025,3857.75925,4846.92015,5428.7277,5594.8455,6067.12675,6113.23105,6640.54485,7050.0213,7133.9025,7639.41745,7729.64575,7935.29115,7985.815,8334.45755,8606.2174,8627.5411,9282.4806,9722.7695,9866.30485,10072.05505,11394.06555,11512.405,11658.37915,11879.10405,11938.25595,12029.2867,12323.936,12730.9996,13019.16105,13129.60345,13143.86485,13224.05705,13228.84695,13430.265,13616.3586,13725.47184,14449.8544,14451.83515,14590.63205,16115.3045,17128.42608,19594.80965,20709.02034,22395.74424,23241.47453,24106.91255,25517.11363,33475.81715,41034.2214,42303.69215,58571.07448],\"xaxis\":\"x2\",\"y\":[1692.1588090084624,2178.8416992344823,2186.141225554818,2188.397444023282,2193.573476829677,2199.9439829230055,2200.076701848626,2379.477225543878,2712.463090103833,3030.893163135296,3373.8015413112716,3381.7986336722843,3470.752950437998,3547.8874414574766,3848.5015081171446,4842.364875983346,5426.819267938937,5593.680995839234,6068.058314616271,6114.365399946122,6644.0168776415485,7055.598090290545,7140.010830200229,7649.602374315877,7740.255261571067,7946.320155439643,7997.027452966624,8346.615956768812,8619.433735996117,8640.839937814977,9296.25069589447,9736.100045135157,9879.432818297591,10084.848148390307,11404.28628785713,11522.381069571731,11668.043876962438,11887.465794495027,11945.934727336778,12035.561668019125,12326.01347515624,12716.378010587961,12987.991487968278,13091.489692179086,13105.312963726868,13182.948476659018,13187.580457408332,13381.76074220424,13559.957396080497,13659.990733390725,14323.84311666335,14325.624455455027,14450.486434335327,15810.03536617414,16716.44911219561,18910.414711245474,19747.765757084555,20649.57549164464,21208.13348382777,21808.271692937375,22840.962825359682,28908.218688134042,34666.216293400976,35632.39412654149,48009.19072610841],\"yaxis\":\"y2\",\"type\":\"scatter\"}],                        {\"template\":{\"data\":{\"barpolar\":[{\"marker\":{\"line\":{\"color\":\"white\",\"width\":0.5},\"pattern\":{\"fillmode\":\"overlay\",\"size\":10,\"solidity\":0.2}},\"type\":\"barpolar\"}],\"bar\":[{\"error_x\":{\"color\":\"#2a3f5f\"},\"error_y\":{\"color\":\"#2a3f5f\"},\"marker\":{\"line\":{\"color\":\"white\",\"width\":0.5},\"pattern\":{\"fillmode\":\"overlay\",\"size\":10,\"solidity\":0.2}},\"type\":\"bar\"}],\"carpet\":[{\"aaxis\":{\"endlinecolor\":\"#2a3f5f\",\"gridcolor\":\"#C8D4E3\",\"linecolor\":\"#C8D4E3\",\"minorgridcolor\":\"#C8D4E3\",\"startlinecolor\":\"#2a3f5f\"},\"baxis\":{\"endlinecolor\":\"#2a3f5f\",\"gridcolor\":\"#C8D4E3\",\"linecolor\":\"#C8D4E3\",\"minorgridcolor\":\"#C8D4E3\",\"startlinecolor\":\"#2a3f5f\"},\"type\":\"carpet\"}],\"choropleth\":[{\"colorbar\":{\"outlinewidth\":0,\"ticks\":\"\"},\"type\":\"choropleth\"}],\"contourcarpet\":[{\"colorbar\":{\"outlinewidth\":0,\"ticks\":\"\"},\"type\":\"contourcarpet\"}],\"contour\":[{\"colorbar\":{\"outlinewidth\":0,\"ticks\":\"\"},\"colorscale\":[[0.0,\"#0d0887\"],[0.1111111111111111,\"#46039f\"],[0.2222222222222222,\"#7201a8\"],[0.3333333333333333,\"#9c179e\"],[0.4444444444444444,\"#bd3786\"],[0.5555555555555556,\"#d8576b\"],[0.6666666666666666,\"#ed7953\"],[0.7777777777777778,\"#fb9f3a\"],[0.8888888888888888,\"#fdca26\"],[1.0,\"#f0f921\"]],\"type\":\"contour\"}],\"heatmapgl\":[{\"colorbar\":{\"outlinewidth\":0,\"ticks\":\"\"},\"colorscale\":[[0.0,\"#0d0887\"],[0.1111111111111111,\"#46039f\"],[0.2222222222222222,\"#7201a8\"],[0.3333333333333333,\"#9c179e\"],[0.4444444444444444,\"#bd3786\"],[0.5555555555555556,\"#d8576b\"],[0.6666666666666666,\"#ed7953\"],[0.7777777777777778,\"#fb9f3a\"],[0.8888888888888888,\"#fdca26\"],[1.0,\"#f0f921\"]],\"type\":\"heatmapgl\"}],\"heatmap\":[{\"colorbar\":{\"outlinewidth\":0,\"ticks\":\"\"},\"colorscale\":[[0.0,\"#0d0887\"],[0.1111111111111111,\"#46039f\"],[0.2222222222222222,\"#7201a8\"],[0.3333333333333333,\"#9c179e\"],[0.4444444444444444,\"#bd3786\"],[0.5555555555555556,\"#d8576b\"],[0.6666666666666666,\"#ed7953\"],[0.7777777777777778,\"#fb9f3a\"],[0.8888888888888888,\"#fdca26\"],[1.0,\"#f0f921\"]],\"type\":\"heatmap\"}],\"histogram2dcontour\":[{\"colorbar\":{\"outlinewidth\":0,\"ticks\":\"\"},\"colorscale\":[[0.0,\"#0d0887\"],[0.1111111111111111,\"#46039f\"],[0.2222222222222222,\"#7201a8\"],[0.3333333333333333,\"#9c179e\"],[0.4444444444444444,\"#bd3786\"],[0.5555555555555556,\"#d8576b\"],[0.6666666666666666,\"#ed7953\"],[0.7777777777777778,\"#fb9f3a\"],[0.8888888888888888,\"#fdca26\"],[1.0,\"#f0f921\"]],\"type\":\"histogram2dcontour\"}],\"histogram2d\":[{\"colorbar\":{\"outlinewidth\":0,\"ticks\":\"\"},\"colorscale\":[[0.0,\"#0d0887\"],[0.1111111111111111,\"#46039f\"],[0.2222222222222222,\"#7201a8\"],[0.3333333333333333,\"#9c179e\"],[0.4444444444444444,\"#bd3786\"],[0.5555555555555556,\"#d8576b\"],[0.6666666666666666,\"#ed7953\"],[0.7777777777777778,\"#fb9f3a\"],[0.8888888888888888,\"#fdca26\"],[1.0,\"#f0f921\"]],\"type\":\"histogram2d\"}],\"histogram\":[{\"marker\":{\"pattern\":{\"fillmode\":\"overlay\",\"size\":10,\"solidity\":0.2}},\"type\":\"histogram\"}],\"mesh3d\":[{\"colorbar\":{\"outlinewidth\":0,\"ticks\":\"\"},\"type\":\"mesh3d\"}],\"parcoords\":[{\"line\":{\"colorbar\":{\"outlinewidth\":0,\"ticks\":\"\"}},\"type\":\"parcoords\"}],\"pie\":[{\"automargin\":true,\"type\":\"pie\"}],\"scatter3d\":[{\"line\":{\"colorbar\":{\"outlinewidth\":0,\"ticks\":\"\"}},\"marker\":{\"colorbar\":{\"outlinewidth\":0,\"ticks\":\"\"}},\"type\":\"scatter3d\"}],\"scattercarpet\":[{\"marker\":{\"colorbar\":{\"outlinewidth\":0,\"ticks\":\"\"}},\"type\":\"scattercarpet\"}],\"scattergeo\":[{\"marker\":{\"colorbar\":{\"outlinewidth\":0,\"ticks\":\"\"}},\"type\":\"scattergeo\"}],\"scattergl\":[{\"marker\":{\"colorbar\":{\"outlinewidth\":0,\"ticks\":\"\"}},\"type\":\"scattergl\"}],\"scattermapbox\":[{\"marker\":{\"colorbar\":{\"outlinewidth\":0,\"ticks\":\"\"}},\"type\":\"scattermapbox\"}],\"scatterpolargl\":[{\"marker\":{\"colorbar\":{\"outlinewidth\":0,\"ticks\":\"\"}},\"type\":\"scatterpolargl\"}],\"scatterpolar\":[{\"marker\":{\"colorbar\":{\"outlinewidth\":0,\"ticks\":\"\"}},\"type\":\"scatterpolar\"}],\"scatter\":[{\"marker\":{\"colorbar\":{\"outlinewidth\":0,\"ticks\":\"\"}},\"type\":\"scatter\"}],\"scatterternary\":[{\"marker\":{\"colorbar\":{\"outlinewidth\":0,\"ticks\":\"\"}},\"type\":\"scatterternary\"}],\"surface\":[{\"colorbar\":{\"outlinewidth\":0,\"ticks\":\"\"},\"colorscale\":[[0.0,\"#0d0887\"],[0.1111111111111111,\"#46039f\"],[0.2222222222222222,\"#7201a8\"],[0.3333333333333333,\"#9c179e\"],[0.4444444444444444,\"#bd3786\"],[0.5555555555555556,\"#d8576b\"],[0.6666666666666666,\"#ed7953\"],[0.7777777777777778,\"#fb9f3a\"],[0.8888888888888888,\"#fdca26\"],[1.0,\"#f0f921\"]],\"type\":\"surface\"}],\"table\":[{\"cells\":{\"fill\":{\"color\":\"#EBF0F8\"},\"line\":{\"color\":\"white\"}},\"header\":{\"fill\":{\"color\":\"#C8D4E3\"},\"line\":{\"color\":\"white\"}},\"type\":\"table\"}]},\"layout\":{\"annotationdefaults\":{\"arrowcolor\":\"#2a3f5f\",\"arrowhead\":0,\"arrowwidth\":1},\"autotypenumbers\":\"strict\",\"coloraxis\":{\"colorbar\":{\"outlinewidth\":0,\"ticks\":\"\"}},\"colorscale\":{\"diverging\":[[0,\"#8e0152\"],[0.1,\"#c51b7d\"],[0.2,\"#de77ae\"],[0.3,\"#f1b6da\"],[0.4,\"#fde0ef\"],[0.5,\"#f7f7f7\"],[0.6,\"#e6f5d0\"],[0.7,\"#b8e186\"],[0.8,\"#7fbc41\"],[0.9,\"#4d9221\"],[1,\"#276419\"]],\"sequential\":[[0.0,\"#0d0887\"],[0.1111111111111111,\"#46039f\"],[0.2222222222222222,\"#7201a8\"],[0.3333333333333333,\"#9c179e\"],[0.4444444444444444,\"#bd3786\"],[0.5555555555555556,\"#d8576b\"],[0.6666666666666666,\"#ed7953\"],[0.7777777777777778,\"#fb9f3a\"],[0.8888888888888888,\"#fdca26\"],[1.0,\"#f0f921\"]],\"sequentialminus\":[[0.0,\"#0d0887\"],[0.1111111111111111,\"#46039f\"],[0.2222222222222222,\"#7201a8\"],[0.3333333333333333,\"#9c179e\"],[0.4444444444444444,\"#bd3786\"],[0.5555555555555556,\"#d8576b\"],[0.6666666666666666,\"#ed7953\"],[0.7777777777777778,\"#fb9f3a\"],[0.8888888888888888,\"#fdca26\"],[1.0,\"#f0f921\"]]},\"colorway\":[\"#636efa\",\"#EF553B\",\"#00cc96\",\"#ab63fa\",\"#FFA15A\",\"#19d3f3\",\"#FF6692\",\"#B6E880\",\"#FF97FF\",\"#FECB52\"],\"font\":{\"color\":\"#2a3f5f\"},\"geo\":{\"bgcolor\":\"white\",\"lakecolor\":\"white\",\"landcolor\":\"white\",\"showlakes\":true,\"showland\":true,\"subunitcolor\":\"#C8D4E3\"},\"hoverlabel\":{\"align\":\"left\"},\"hovermode\":\"closest\",\"mapbox\":{\"style\":\"light\"},\"paper_bgcolor\":\"white\",\"plot_bgcolor\":\"white\",\"polar\":{\"angularaxis\":{\"gridcolor\":\"#EBF0F8\",\"linecolor\":\"#EBF0F8\",\"ticks\":\"\"},\"bgcolor\":\"white\",\"radialaxis\":{\"gridcolor\":\"#EBF0F8\",\"linecolor\":\"#EBF0F8\",\"ticks\":\"\"}},\"scene\":{\"xaxis\":{\"backgroundcolor\":\"white\",\"gridcolor\":\"#DFE8F3\",\"gridwidth\":2,\"linecolor\":\"#EBF0F8\",\"showbackground\":true,\"ticks\":\"\",\"zerolinecolor\":\"#EBF0F8\"},\"yaxis\":{\"backgroundcolor\":\"white\",\"gridcolor\":\"#DFE8F3\",\"gridwidth\":2,\"linecolor\":\"#EBF0F8\",\"showbackground\":true,\"ticks\":\"\",\"zerolinecolor\":\"#EBF0F8\"},\"zaxis\":{\"backgroundcolor\":\"white\",\"gridcolor\":\"#DFE8F3\",\"gridwidth\":2,\"linecolor\":\"#EBF0F8\",\"showbackground\":true,\"ticks\":\"\",\"zerolinecolor\":\"#EBF0F8\"}},\"shapedefaults\":{\"line\":{\"color\":\"#2a3f5f\"}},\"ternary\":{\"aaxis\":{\"gridcolor\":\"#DFE8F3\",\"linecolor\":\"#A2B1C6\",\"ticks\":\"\"},\"baxis\":{\"gridcolor\":\"#DFE8F3\",\"linecolor\":\"#A2B1C6\",\"ticks\":\"\"},\"bgcolor\":\"white\",\"caxis\":{\"gridcolor\":\"#DFE8F3\",\"linecolor\":\"#A2B1C6\",\"ticks\":\"\"}},\"title\":{\"x\":0.05},\"xaxis\":{\"automargin\":true,\"gridcolor\":\"#EBF0F8\",\"linecolor\":\"#EBF0F8\",\"ticks\":\"\",\"title\":{\"standoff\":15},\"zerolinecolor\":\"#EBF0F8\",\"zerolinewidth\":2},\"yaxis\":{\"automargin\":true,\"gridcolor\":\"#EBF0F8\",\"linecolor\":\"#EBF0F8\",\"ticks\":\"\",\"title\":{\"standoff\":15},\"zerolinecolor\":\"#EBF0F8\",\"zerolinewidth\":2}}},\"xaxis\":{\"anchor\":\"y\",\"domain\":[0.0,0.49],\"title\":{\"text\":\"Actual Cost, $\"},\"showgrid\":true,\"gridwidth\":1,\"gridcolor\":\"#EAEAEA\",\"zeroline\":true,\"zerolinewidth\":2,\"zerolinecolor\":\"#5E5E5E\"},\"yaxis\":{\"anchor\":\"x\",\"domain\":[0.0,0.46499999999999997],\"title\":{\"text\":\"Predicted Cost, $\"},\"showgrid\":true,\"gridwidth\":1,\"gridcolor\":\"#E3E3E3\",\"zeroline\":true,\"zerolinewidth\":2,\"zerolinecolor\":\"#5E5E5E\"},\"xaxis2\":{\"anchor\":\"y2\",\"domain\":[0.51,1.0],\"matches\":\"x\",\"title\":{\"text\":\"Actual Cost, $\"},\"showgrid\":true,\"gridwidth\":1,\"gridcolor\":\"#EAEAEA\",\"zeroline\":true,\"zerolinewidth\":2,\"zerolinecolor\":\"#5E5E5E\"},\"yaxis2\":{\"anchor\":\"x2\",\"domain\":[0.0,0.46499999999999997],\"matches\":\"y\",\"showticklabels\":false,\"showgrid\":true,\"gridwidth\":1,\"gridcolor\":\"#E3E3E3\",\"zeroline\":true,\"zerolinewidth\":2,\"zerolinecolor\":\"#5E5E5E\"},\"xaxis3\":{\"anchor\":\"y3\",\"domain\":[0.0,0.49],\"matches\":\"x\",\"showticklabels\":false,\"showgrid\":true,\"gridwidth\":1,\"gridcolor\":\"#EAEAEA\",\"zeroline\":true,\"zerolinewidth\":2,\"zerolinecolor\":\"#5E5E5E\"},\"yaxis3\":{\"anchor\":\"x3\",\"domain\":[0.5349999999999999,0.9999999999999999],\"matches\":\"y\",\"title\":{\"text\":\"Predicted Cost, $\"},\"showgrid\":true,\"gridwidth\":1,\"gridcolor\":\"#E3E3E3\",\"zeroline\":true,\"zerolinewidth\":2,\"zerolinecolor\":\"#5E5E5E\"},\"xaxis4\":{\"anchor\":\"y4\",\"domain\":[0.51,1.0],\"matches\":\"x\",\"showticklabels\":false,\"showgrid\":true,\"gridwidth\":1,\"gridcolor\":\"#EAEAEA\",\"zeroline\":true,\"zerolinewidth\":2,\"zerolinecolor\":\"#5E5E5E\"},\"yaxis4\":{\"anchor\":\"x4\",\"domain\":[0.5349999999999999,0.9999999999999999],\"matches\":\"y\",\"showticklabels\":false,\"showgrid\":true,\"gridwidth\":1,\"gridcolor\":\"#E3E3E3\",\"zeroline\":true,\"zerolinewidth\":2,\"zerolinecolor\":\"#5E5E5E\"},\"annotations\":[{\"showarrow\":false,\"text\":\"northwest\",\"x\":0.245,\"xanchor\":\"center\",\"xref\":\"paper\",\"y\":0.46499999999999997,\"yanchor\":\"bottom\",\"yref\":\"paper\"},{\"showarrow\":false,\"text\":\"northeast\",\"x\":0.755,\"xanchor\":\"center\",\"xref\":\"paper\",\"y\":0.46499999999999997,\"yanchor\":\"bottom\",\"yref\":\"paper\"},{\"showarrow\":false,\"text\":\"southwest\",\"x\":0.245,\"xanchor\":\"center\",\"xref\":\"paper\",\"y\":0.9999999999999999,\"yanchor\":\"bottom\",\"yref\":\"paper\"},{\"showarrow\":false,\"text\":\"southeast\",\"x\":0.755,\"xanchor\":\"center\",\"xref\":\"paper\",\"y\":0.9999999999999999,\"yanchor\":\"bottom\",\"yref\":\"paper\"},{\"showarrow\":false,\"text\":\"Adj. R-Squared = 75.3%<br>RMSE = 4,830\",\"x\":51000.0,\"xref\":\"x3\",\"y\":15000.0,\"yref\":\"y3\"},{\"showarrow\":false,\"text\":\"Adj. R-Squared = 89.5%<br>RMSE = 4,167\",\"x\":51000.0,\"xref\":\"x4\",\"y\":15000.0,\"yref\":\"y4\"},{\"showarrow\":false,\"text\":\"Adj. R-Squared = 68.3%<br>RMSE = 5,821\",\"x\":51000.0,\"xref\":\"x\",\"y\":15000.0,\"yref\":\"y\"},{\"showarrow\":false,\"text\":\"Adj. R-Squared = 69.5%<br>RMSE = 4,709\",\"x\":51000.0,\"xref\":\"x2\",\"y\":15000.0,\"yref\":\"y2\"}],\"legend\":{\"title\":{\"text\":\"index\"},\"tracegroupgap\":0},\"title\":{\"text\":\"Actual vs Predicted Insurance Costs by Region,<br>Support Vector Regression\"},\"height\":700,\"font\":{\"color\":\"#303030\"},\"paper_bgcolor\":\"white\",\"plot_bgcolor\":\"white\"},                        {\"responsive\": true}                    ).then(function(){\n",
              "                            \n",
              "var gd = document.getElementById('050e47f1-a81b-42ee-9d23-afc49a5fe41e');\n",
              "var x = new MutationObserver(function (mutations, observer) {{\n",
              "        var display = window.getComputedStyle(gd).display;\n",
              "        if (!display || display === 'none') {{\n",
              "            console.log([gd, 'removed!']);\n",
              "            Plotly.purge(gd);\n",
              "            observer.disconnect();\n",
              "        }}\n",
              "}});\n",
              "\n",
              "// Listen for the removal of the full notebook cells\n",
              "var notebookContainer = gd.closest('#notebook-container');\n",
              "if (notebookContainer) {{\n",
              "    x.observe(notebookContainer, {childList: true});\n",
              "}}\n",
              "\n",
              "// Listen for the clearing of the current output cell\n",
              "var outputEl = gd.closest('.output');\n",
              "if (outputEl) {{\n",
              "    x.observe(outputEl, {childList: true});\n",
              "}}\n",
              "\n",
              "                        })                };                });            </script>        </div>"
            ]
          },
          "metadata": {}
        }
      ],
      "source": [
        "## SUPPORT VECTOR REGRESSION\n",
        "## đặt trước thông số\n",
        "actuals=[]\n",
        "preds=[]\n",
        "rmses=[]\n",
        "r2_scores=[]\n",
        "adj_r2_scores=[]\n",
        "feat_importance=pd.DataFrame()\n",
        "\n",
        "## tạo vòng lặp:\n",
        "for i in regions:\n",
        "    \n",
        "    print(\"\\nRegion: {}\\n\".format(i))\n",
        "    \n",
        "    ## chia dữ liệu theo 'region':\n",
        "    # Filter data by region\n",
        "    ins_df = ins[ins.region==i]\n",
        "    X=ins_df.drop(['charges', 'region'], axis=1)\n",
        "    y=ins_df.charges\n",
        "    \n",
        "    ## thêm bước xử lý dữ liệu: \n",
        "    # Add polynomial features\n",
        "    pf = PolynomialFeatures(degree=2, include_bias=False)\n",
        "    X_pf = pd.DataFrame(data=pf.fit_transform(X), columns=pf.get_feature_names(X.columns))\n",
        "    \n",
        "    ## tạo train và test:\n",
        "    # Create training and test sets\n",
        "    X_train, X_test, y_train, y_test = train_test_split(X_pf, y, test_size=0.2, random_state=1)\n",
        "    X_train = pd.DataFrame(X_train, columns = X_pf.columns)\n",
        "    X_test = pd.DataFrame(X_test, columns = X_pf.columns)\n",
        "    actuals.append(pd.Series(y_test, name='actuals').reset_index())\n",
        "    \n",
        "    # Scale features\n",
        "    X_train = pd.DataFrame(data=s.fit_transform(X_train), columns=X_pf.columns)\n",
        "    X_test = pd.DataFrame(data=s.transform(X_test), columns=X_pf.columns)\n",
        "    \n",
        "    ## chạy SVM: \n",
        "    # Tuning SVM\n",
        "    grid = {'kernel':['linear','rbf','poly','sigmoid'],\n",
        "            'C': np.logspace(-3, 3, 10),\n",
        "            'gamma':np.logspace(-3, 3, 10)}\n",
        "    svm = SVR()\n",
        "    svm_cv=RandomizedSearchCV(estimator=svm, param_distributions=grid, scoring='neg_mean_squared_error', \n",
        "                              n_iter=10, cv=3, random_state=21, n_jobs=-1)\n",
        "    svm_cv.fit(X_train, y_train)\n",
        "    print(\"Best SVM Parameters:\\n\",svm_cv.best_params_)\n",
        "    y_pred=svm_cv.predict(X_test)\n",
        "    preds.append(pd.Series(y_pred, name='preds').reset_index(drop=True))\n",
        "    rmse=np.sqrt(mean_squared_error(y_test, y_pred)).round(2)\n",
        "    r2=r2_score(y_test, y_pred)\n",
        "    adj_r2 = 1 - (1-r2)*(len(y_test)-1)/(len(y_test)-X_test.shape[1]-1)\n",
        "    rmses.append(rmse)\n",
        "    r2_scores.append(r2)\n",
        "    adj_r2_scores.append(adj_r2)\n",
        "    \n",
        "    ## In kết quả:\n",
        "    print(\"\\nTest Error (RMSE) = {:,}\".format(rmse))\n",
        "    print(\"R-Squared = {:.2f}%, Adjusted R-Squared = {:.2f}%\".format(r2*100, adj_r2*100))\n",
        "    if i != 'Northeast':\n",
        "        print(\"__________________________\")\n",
        "\n",
        "        ## Đồ thị mô tả hồi quy:\n",
        "# Plot results\n",
        "for i in range(0,4):\n",
        "    actuals[i].loc[:,'index']=regions[i]\n",
        "actual = pd.concat([actuals[i] for i in range(4)], axis = 0)\n",
        "pred = pd.concat([preds[i] for i in range(4)], axis = 0)\n",
        "df = pd.concat([actual, pred], axis=1).reset_index(drop=True)\n",
        "\n",
        "fig = px.scatter(df, x=\"actuals\", y=\"preds\", color=\"index\", trendline=\"lowess\", height=700,\n",
        "                 title=\"Actual vs Predicted Insurance Costs by Region,<br>Support Vector Regression\",\n",
        "                 color_discrete_sequence=col, opacity=0.7, facet_col='index', facet_col_wrap=2)\n",
        "\n",
        "fig.for_each_annotation(lambda a: a.update(text=a.text.split(\"=\")[-1]))\n",
        "fig.add_annotation(text=\"Adj. R-Squared = {:.1f}%<br>RMSE = {:,.0f}\".format(adj_r2_scores[0]*100,rmses[0]),\n",
        "                   x=51e3,y=15e3, row=2,col=1, showarrow=False)\n",
        "fig.add_annotation(text=\"Adj. R-Squared = {:.1f}%<br>RMSE = {:,.0f}\".format(adj_r2_scores[1]*100,rmses[1]),\n",
        "                   x=51e3,y=15e3, row=2,col=2, showarrow=False)\n",
        "fig.add_annotation(text=\"Adj. R-Squared = {:.1f}%<br>RMSE = {:,.0f}\".format(adj_r2_scores[2]*100,rmses[2]),\n",
        "                   x=51e3,y=15e3, row=1,col=1, showarrow=False)\n",
        "fig.add_annotation(text=\"Adj. R-Squared = {:.1f}%<br>RMSE = {:,.0f}\".format(adj_r2_scores[3]*100,rmses[3]),\n",
        "                   x=51e3,y=15e3, row=1,col=2, showarrow=False)\n",
        "\n",
        "fig.update_traces(hovertemplate=\"Actual Cost: %{x:$,.2f}<br>Predicted Cost: %{y:$,.2f}\",\n",
        "                  marker=dict(size=10,line=dict(width=1,color=\"#F7F7F7\")),\n",
        "                  selector=dict(mode=\"markers\"), showlegend=False)\n",
        "fig.update_xaxes(title=\"Actual Cost, $\", row=1)\n",
        "fig.update_xaxes(showgrid=True, gridwidth=1, gridcolor='#EAEAEA',\n",
        "                 zeroline=True, zerolinewidth=2, zerolinecolor='#5E5E5E')\n",
        "fig.update_yaxes(title=\"Predicted Cost, $\", col=1)\n",
        "fig.update_yaxes(showgrid=True, gridwidth=1, gridcolor='#E3E3E3',\n",
        "                 zeroline=True, zerolinewidth=2, zerolinecolor='#5E5E5E')\n",
        "fig.update_layout(font_color=\"#303030\", paper_bgcolor=\"white\", plot_bgcolor=\"white\")\n",
        "fig.show(renderer=\"colab\")\n"
      ]
    },
    {
      "cell_type": "code",
      "execution_count": null,
      "id": "9930bbae",
      "metadata": {
        "colab": {
          "base_uri": "https://localhost:8080/",
          "height": 143
        },
        "id": "9930bbae",
        "outputId": "4a605f96-44b4-4e61-d305-9cc72230caf1"
      },
      "outputs": [
        {
          "output_type": "display_data",
          "data": {
            "text/plain": [
              "                  Average RMSE Avg. Adjusted R2\n",
              "SVM                  4881.5125         0.756359\n",
              "KNN                    5080.18         0.729063\n",
              "Linear Regression     5565.895         0.752981"
            ],
            "text/html": [
              "\n",
              "  <div id=\"df-89f48ea0-1d24-4ef5-bb74-cee0a8ff7b52\">\n",
              "    <div class=\"colab-df-container\">\n",
              "      <div>\n",
              "<style scoped>\n",
              "    .dataframe tbody tr th:only-of-type {\n",
              "        vertical-align: middle;\n",
              "    }\n",
              "\n",
              "    .dataframe tbody tr th {\n",
              "        vertical-align: top;\n",
              "    }\n",
              "\n",
              "    .dataframe thead th {\n",
              "        text-align: right;\n",
              "    }\n",
              "</style>\n",
              "<table border=\"1\" class=\"dataframe\">\n",
              "  <thead>\n",
              "    <tr style=\"text-align: right;\">\n",
              "      <th></th>\n",
              "      <th>Average RMSE</th>\n",
              "      <th>Avg. Adjusted R2</th>\n",
              "    </tr>\n",
              "  </thead>\n",
              "  <tbody>\n",
              "    <tr>\n",
              "      <th>SVM</th>\n",
              "      <td>4881.5125</td>\n",
              "      <td>0.756359</td>\n",
              "    </tr>\n",
              "    <tr>\n",
              "      <th>KNN</th>\n",
              "      <td>5080.18</td>\n",
              "      <td>0.729063</td>\n",
              "    </tr>\n",
              "    <tr>\n",
              "      <th>Linear Regression</th>\n",
              "      <td>5565.895</td>\n",
              "      <td>0.752981</td>\n",
              "    </tr>\n",
              "  </tbody>\n",
              "</table>\n",
              "</div>\n",
              "      <button class=\"colab-df-convert\" onclick=\"convertToInteractive('df-89f48ea0-1d24-4ef5-bb74-cee0a8ff7b52')\"\n",
              "              title=\"Convert this dataframe to an interactive table.\"\n",
              "              style=\"display:none;\">\n",
              "        \n",
              "  <svg xmlns=\"http://www.w3.org/2000/svg\" height=\"24px\"viewBox=\"0 0 24 24\"\n",
              "       width=\"24px\">\n",
              "    <path d=\"M0 0h24v24H0V0z\" fill=\"none\"/>\n",
              "    <path d=\"M18.56 5.44l.94 2.06.94-2.06 2.06-.94-2.06-.94-.94-2.06-.94 2.06-2.06.94zm-11 1L8.5 8.5l.94-2.06 2.06-.94-2.06-.94L8.5 2.5l-.94 2.06-2.06.94zm10 10l.94 2.06.94-2.06 2.06-.94-2.06-.94-.94-2.06-.94 2.06-2.06.94z\"/><path d=\"M17.41 7.96l-1.37-1.37c-.4-.4-.92-.59-1.43-.59-.52 0-1.04.2-1.43.59L10.3 9.45l-7.72 7.72c-.78.78-.78 2.05 0 2.83L4 21.41c.39.39.9.59 1.41.59.51 0 1.02-.2 1.41-.59l7.78-7.78 2.81-2.81c.8-.78.8-2.07 0-2.86zM5.41 20L4 18.59l7.72-7.72 1.47 1.35L5.41 20z\"/>\n",
              "  </svg>\n",
              "      </button>\n",
              "      \n",
              "  <style>\n",
              "    .colab-df-container {\n",
              "      display:flex;\n",
              "      flex-wrap:wrap;\n",
              "      gap: 12px;\n",
              "    }\n",
              "\n",
              "    .colab-df-convert {\n",
              "      background-color: #E8F0FE;\n",
              "      border: none;\n",
              "      border-radius: 50%;\n",
              "      cursor: pointer;\n",
              "      display: none;\n",
              "      fill: #1967D2;\n",
              "      height: 32px;\n",
              "      padding: 0 0 0 0;\n",
              "      width: 32px;\n",
              "    }\n",
              "\n",
              "    .colab-df-convert:hover {\n",
              "      background-color: #E2EBFA;\n",
              "      box-shadow: 0px 1px 2px rgba(60, 64, 67, 0.3), 0px 1px 3px 1px rgba(60, 64, 67, 0.15);\n",
              "      fill: #174EA6;\n",
              "    }\n",
              "\n",
              "    [theme=dark] .colab-df-convert {\n",
              "      background-color: #3B4455;\n",
              "      fill: #D2E3FC;\n",
              "    }\n",
              "\n",
              "    [theme=dark] .colab-df-convert:hover {\n",
              "      background-color: #434B5C;\n",
              "      box-shadow: 0px 1px 3px 1px rgba(0, 0, 0, 0.15);\n",
              "      filter: drop-shadow(0px 1px 2px rgba(0, 0, 0, 0.3));\n",
              "      fill: #FFFFFF;\n",
              "    }\n",
              "  </style>\n",
              "\n",
              "      <script>\n",
              "        const buttonEl =\n",
              "          document.querySelector('#df-89f48ea0-1d24-4ef5-bb74-cee0a8ff7b52 button.colab-df-convert');\n",
              "        buttonEl.style.display =\n",
              "          google.colab.kernel.accessAllowed ? 'block' : 'none';\n",
              "\n",
              "        async function convertToInteractive(key) {\n",
              "          const element = document.querySelector('#df-89f48ea0-1d24-4ef5-bb74-cee0a8ff7b52');\n",
              "          const dataTable =\n",
              "            await google.colab.kernel.invokeFunction('convertToInteractive',\n",
              "                                                     [key], {});\n",
              "          if (!dataTable) return;\n",
              "\n",
              "          const docLinkHtml = 'Like what you see? Visit the ' +\n",
              "            '<a target=\"_blank\" href=https://colab.research.google.com/notebooks/data_table.ipynb>data table notebook</a>'\n",
              "            + ' to learn more about interactive tables.';\n",
              "          element.innerHTML = '';\n",
              "          dataTable['output_type'] = 'display_data';\n",
              "          await google.colab.output.renderOutput(dataTable, element);\n",
              "          const docLink = document.createElement('div');\n",
              "          docLink.innerHTML = docLinkHtml;\n",
              "          element.appendChild(docLink);\n",
              "        }\n",
              "      </script>\n",
              "    </div>\n",
              "  </div>\n",
              "  "
            ]
          },
          "metadata": {}
        }
      ],
      "source": [
        "## SO SÁNH KẾT QUẢ CÁC PHƯƠNG PHÁP HỒI QUY:\n",
        "mod_res.iloc[2,0]=pd.Series(rmses).mean()\n",
        "mod_res.iloc[2,1]=pd.Series(adj_r2_scores).mean()\n",
        "display(mod_res.iloc[:3,].sort_values(\"Average RMSE\"))"
      ]
    },
    {
      "cell_type": "code",
      "execution_count": null,
      "id": "9e2f4cd7",
      "metadata": {
        "colab": {
          "base_uri": "https://localhost:8080/",
          "height": 1000
        },
        "id": "9e2f4cd7",
        "outputId": "8d6147c5-8854-44c2-b2d5-134c3198ab64"
      },
      "outputs": [
        {
          "output_type": "stream",
          "name": "stdout",
          "text": [
            "\n",
            "Region: southwest\n",
            "\n",
            "Train Shape:(260, 20) (260,)  Test Shape:(65, 20) (65,)\n",
            "Test Error (RMSE) = 4,644.12\n",
            "R-Squared = 84.28%, Adjusted R-Squared = 77.14%\n",
            "__________________________\n",
            "\n",
            "Region: southeast\n",
            "\n",
            "Train Shape:(291, 20) (291,)  Test Shape:(73, 20) (73,)\n",
            "Test Error (RMSE) = 3,345.08\n",
            "R-Squared = 95.09%, Adjusted R-Squared = 93.21%\n",
            "__________________________\n",
            "\n",
            "Region: northwest\n",
            "\n",
            "Train Shape:(260, 20) (260,)  Test Shape:(65, 20) (65,)\n",
            "Test Error (RMSE) = 4,801.7\n",
            "R-Squared = 85.17%, Adjusted R-Squared = 78.44%\n",
            "__________________________\n",
            "\n",
            "Region: northeast\n",
            "\n",
            "Train Shape:(259, 20) (259,)  Test Shape:(65, 20) (65,)\n",
            "Test Error (RMSE) = 5,492.81\n",
            "R-Squared = 71.47%, Adjusted R-Squared = 58.50%\n",
            "__________________________\n"
          ]
        },
        {
          "output_type": "display_data",
          "data": {
            "text/html": [
              "<html>\n",
              "<head><meta charset=\"utf-8\" /></head>\n",
              "<body>\n",
              "    <div>            <script src=\"https://cdnjs.cloudflare.com/ajax/libs/mathjax/2.7.5/MathJax.js?config=TeX-AMS-MML_SVG\"></script><script type=\"text/javascript\">if (window.MathJax) {MathJax.Hub.Config({SVG: {font: \"STIX-Web\"}});}</script>                <script type=\"text/javascript\">window.PlotlyConfig = {MathJaxConfig: 'local'};</script>\n",
              "        <script src=\"https://cdn.plot.ly/plotly-2.8.3.min.js\"></script>                <div id=\"f2a9341f-a180-4dcc-bc1c-3ea2f0b2e783\" class=\"plotly-graph-div\" style=\"height:700px; width:100%;\"></div>            <script type=\"text/javascript\">                                    window.PLOTLYENV=window.PLOTLYENV || {};                                    if (document.getElementById(\"f2a9341f-a180-4dcc-bc1c-3ea2f0b2e783\")) {                    Plotly.newPlot(                        \"f2a9341f-a180-4dcc-bc1c-3ea2f0b2e783\",                        [{\"hovertemplate\":\"Actual Cost: %{x:$,.2f}<br>Predicted Cost: %{y:$,.2f}\",\"legendgroup\":\"southwest\",\"marker\":{\"color\":\"#B14B51\",\"opacity\":0.7,\"symbol\":\"circle\",\"line\":{\"color\":\"#F7F7F7\",\"width\":1},\"size\":10},\"mode\":\"markers\",\"name\":\"southwest\",\"orientation\":\"v\",\"showlegend\":false,\"x\":[3761.292,11674.13,6311.952,14319.031,11552.904,5080.096,8269.044,3693.428,36837.467,13224.693,23306.547,35160.13457,12347.172,10065.413,5488.262,38711.0,7196.867,6571.544,5979.731,34828.654,6600.361,39836.519,1256.299,1242.26,4762.329,9264.797,13470.86,1759.338,1241.565,48173.361,16232.847,25309.489,10791.96,4751.07,8556.907,42856.838,8277.523,11576.13,7623.518,12146.971,20630.28351,4646.759,26140.3603,2007.945,8444.474,17081.08,13822.803,8825.086,37079.372,10096.97,11411.685,14988.432,11362.755,6875.961,10795.93733,18259.216,1261.859,17942.106,11150.78,38415.474,8522.003,8703.456,3987.926,1964.78,1743.214],\"xaxis\":\"x3\",\"y\":[3997.7496157410023,10748.49333904801,9433.953299027606,14575.201179928412,10983.532134317855,4102.56435968254,9137.529929286313,4928.320680487268,37127.95859258361,12147.405464739311,24517.423662314963,10550.927462330155,25149.47518704354,10924.285202605864,6408.631991980054,41388.768999465465,7474.872008349336,6208.626629224692,8445.235662530582,34821.12233283415,6885.417589171753,41640.33825428949,1295.5772835638713,1323.1799923569379,5830.3126745099435,6972.592115712833,13354.521830893827,2344.576079205621,1320.3457769351792,49408.46818365605,18388.745696232094,23866.96397286108,11274.08056416612,6337.326811353472,8866.997746149422,42604.169457343916,14103.400063399296,9713.561964396493,7252.646892433695,13245.270045960067,10779.176026007151,13515.140592757163,9755.926826739531,1776.1870939217426,9085.221735770701,17057.043771843313,17089.56360595526,8534.129516415906,36467.72666112966,13836.913999144508,11634.876481877693,18836.783030113336,11186.424799535083,7085.925904810021,4130.571061917231,19114.98028656786,1297.9912939089895,19519.976815594186,10783.373640242695,39896.76208823397,8097.314169451869,10020.32748964257,5901.771605767338,1892.655757063931,2094.4785208790126],\"yaxis\":\"y3\",\"type\":\"scatter\"},{\"hovertemplate\":\"<b>LOWESS trendline</b><br><br>index=southwest<br>actuals=%{x}<br>preds=%{y} <b>(trend)</b><extra></extra>\",\"legendgroup\":\"southwest\",\"marker\":{\"color\":\"#B14B51\",\"symbol\":\"circle\"},\"mode\":\"lines\",\"name\":\"southwest\",\"showlegend\":false,\"x\":[1241.565,1242.26,1256.299,1261.859,1743.214,1759.338,1964.78,2007.945,3693.428,3761.292,3987.926,4646.759,4751.07,4762.329,5080.096,5488.262,5979.731,6311.952,6571.544,6600.361,6875.961,7196.867,7623.518,8269.044,8277.523,8444.474,8522.003,8556.907,8703.456,8825.086,9264.797,10065.413,10096.97,10791.96,10795.93733,11150.78,11362.755,11411.685,11552.904,11576.13,11674.13,12146.971,12347.172,13224.693,13470.86,13822.803,14319.031,14988.432,16232.847,17081.08,17942.106,18259.216,20630.28351,23306.547,25309.489,26140.3603,34828.654,35160.13457,36837.467,37079.372,38415.474,38711.0,39836.519,42856.838,48173.361],\"xaxis\":\"x3\",\"y\":[1578.3212667707737,1579.0567212565522,1593.9115148794895,1599.7938700063357,2107.476797114206,2124.428521596078,2340.108423126312,2385.3515818107126,4135.3383119826185,4205.317332632079,4438.9174646187075,5118.097402289603,5225.798513215058,5237.428820597697,5566.241245269237,5991.076791128182,6509.831694721226,6865.6012900312435,7137.720393726352,7166.777286872953,7423.381918791912,7697.761784748015,8061.142743763388,8614.42127888271,8621.774909473634,8767.388312200093,8835.83824520357,8866.826218559612,8998.117584642188,9108.490095336738,9509.90749566524,10288.288556206835,10317.399903351778,10973.221549672591,10977.073935606353,11359.646141916513,11596.167407472756,11651.09191090973,11809.9534606465,11836.1049330888,11946.443425174364,12476.55945973447,12692.895442628374,13666.113871966787,13937.744275484827,14326.3973069413,14879.935157959371,15623.560713618075,16931.872709486335,17758.70348210778,18596.17200539858,18906.865007449855,21267.590092617913,23764.413387920464,25834.37108017948,26710.067019068552,35539.93964290405,35875.47086399303,37573.869129004815,37818.924159636364,39173.21132881049,39472.986890615204,40615.549374073766,43687.37823829467,49108.962036808705],\"yaxis\":\"y3\",\"type\":\"scatter\"},{\"hovertemplate\":\"Actual Cost: %{x:$,.2f}<br>Predicted Cost: %{y:$,.2f}\",\"legendgroup\":\"southeast\",\"marker\":{\"color\":\"#D0A99C\",\"opacity\":0.7,\"symbol\":\"circle\",\"line\":{\"color\":\"#F7F7F7\",\"width\":1},\"size\":10},\"mode\":\"markers\",\"name\":\"southeast\",\"orientation\":\"v\",\"showlegend\":false,\"x\":[44202.6536,6781.3542,5478.0368,32548.3405,1815.8759,11093.6229,11090.7178,13470.8044,47269.854,10107.2206,38282.7495,19350.3689,1615.7667,40974.1649,1824.2854,7243.8136,36950.2567,41999.52,6184.2994,20462.99766,7152.6714,2219.4451,8232.6388,4266.1658,19521.9682,27808.7251,16586.49771,5966.8874,4504.6624,3500.6123,4340.4409,5974.3847,3227.1211,11363.2832,12592.5345,6313.759,5920.1041,12142.5786,3561.8889,4673.3922,46599.1084,2566.4707,41676.0811,8978.1851,48970.2476,24667.419,8596.8278,38709.176,1136.3994,18806.14547,1981.5819,1131.5066,6500.2359,1146.7966,8547.6913,39611.7577,11881.9696,48675.5177,44400.4064,18223.4512,28287.89766,9855.1314,10702.6424,5245.2269,1664.9996,2464.6188,9377.9047,10226.2842,36124.5737,4779.6023,6338.0756,42112.2356,1633.9618],\"xaxis\":\"x4\",\"y\":[42498.10624147678,8110.437363042185,5135.965003446837,34372.76444597152,3899.328964352461,13794.847547697706,13071.035108130432,13879.040736474672,44444.6104468496,12097.958188639508,37837.80126934448,20679.446914213855,4110.029705807609,42498.10624147678,4115.648368572549,5711.700628332631,36251.01628375761,42498.10624147678,5306.089929408234,14776.58942280771,8824.31121399864,4280.154631769006,9033.84611120973,7878.248715981729,20859.104806806405,28472.301625846958,3887.058766424061,7772.615704394255,4783.231745968953,4549.901185689482,4920.00608481652,6887.736451985033,4907.73588688812,13035.658987626459,20203.167839617094,7057.86137794643,7857.244329424689,13922.403805781314,6506.854520208584,6351.8447056144605,44601.56853839731,4579.988030433776,42498.10624147678,8896.639030135999,46518.109965495656,24971.154554368208,11270.808785645884,37823.057671767194,3912.4046530373744,8824.31121399864,4115.648368572549,3912.4046530373744,7645.834663435749,3874.2885942574444,9636.074017926328,37268.68469041245,13883.225975094743,46518.109965495656,44140.58646515337,20759.118317725985,13133.161536318707,11741.121932832777,12477.880104137492,6358.361828183011,3887.058766424061,4555.732143473815,10736.94966895624,13035.658987626459,35186.646553332044,5135.965003446837,7794.698869251301,37837.80126934448,4022.306419650785],\"yaxis\":\"y4\",\"type\":\"scatter\"},{\"hovertemplate\":\"<b>LOWESS trendline</b><br><br>index=southeast<br>actuals=%{x}<br>preds=%{y} <b>(trend)</b><extra></extra>\",\"legendgroup\":\"southeast\",\"marker\":{\"color\":\"#D0A99C\",\"symbol\":\"circle\"},\"mode\":\"lines\",\"name\":\"southeast\",\"showlegend\":false,\"x\":[1131.5066,1136.3994,1146.7966,1615.7667,1633.9618,1664.9996,1815.8759,1824.2854,1981.5819,2219.4451,2464.6188,2566.4707,3227.1211,3500.6123,3561.8889,4266.1658,4340.4409,4504.6624,4673.3922,4779.6023,5245.2269,5478.0368,5920.1041,5966.8874,5974.3847,6184.2994,6313.759,6338.0756,6500.2359,6781.3542,7152.6714,7243.8136,8232.6388,8547.6913,8596.8278,8978.1851,9377.9047,9855.1314,10107.2206,10226.2842,10702.6424,11090.7178,11093.6229,11363.2832,11881.9696,12142.5786,12592.5345,13470.8044,16586.49771,18223.4512,18806.14547,19350.3689,19521.9682,20462.99766,24667.419,27808.7251,28287.89766,32548.3405,36124.5737,36950.2567,38282.7495,38709.176,39611.7577,40974.1649,41676.0811,41999.52,42112.2356,44202.6536,44400.4064,46599.1084,47269.854,48675.5177,48970.2476],\"xaxis\":\"x4\",\"y\":[3383.537316853108,3387.6523961890875,3396.398003759708,3792.398143594249,3807.8231722200476,3834.14636106999,3962.2966433111487,3969.448828287562,4103.410612627003,4306.64737258683,4516.962759643694,4604.581832616591,5176.428492946387,5414.917646182786,5468.491138847395,6087.812674755911,6153.499028096625,6298.966938830775,6448.755922009929,6543.207506495953,6958.6661077058525,7167.128727015224,7563.811769445002,7605.815868586458,7612.546998497837,7800.926213609731,7916.95212589889,7938.725995083377,8083.738593283088,8334.464684903403,8669.525498274748,8754.617264648612,9816.25984530926,10151.292959553142,10203.423426023033,10607.388173104826,11030.452382898256,11536.283363879422,11808.406526948143,11938.502200897441,12450.159075506697,12857.124184277982,12860.310957799999,13134.27148373227,13637.326596950496,13888.4857608347,14324.762777566148,15186.393757103006,18062.249682602887,19556.394015477723,20096.744497487718,20604.13814841755,20764.684900778215,21633.22467827217,25318.93504298119,28134.8351878315,28561.1067614727,32322.24955107266,35476.22682765432,36203.95280022923,37377.93777488787,37753.53058368278,38548.33827141766,39747.59271465741,40365.2409049044,40649.803406557774,40748.96414778585,42587.31947992093,42761.15704819049,44692.99396477367,45281.92091483769,46515.42467330821,46773.93800453856],\"yaxis\":\"y4\",\"type\":\"scatter\"},{\"hovertemplate\":\"Actual Cost: %{x:$,.2f}<br>Predicted Cost: %{y:$,.2f}\",\"legendgroup\":\"northwest\",\"marker\":{\"color\":\"#5D8370\",\"opacity\":0.7,\"symbol\":\"circle\",\"line\":{\"color\":\"#F7F7F7\",\"width\":1},\"size\":10},\"mode\":\"markers\",\"name\":\"northwest\",\"orientation\":\"v\",\"showlegend\":false,\"x\":[9174.13565,4433.3877,21774.32215,7731.85785,33471.97189,4618.0799,3594.17085,12235.8392,6203.90175,11840.77505,4466.6214,8162.71625,6393.60345,1906.35825,23967.38305,2775.19215,3537.703,32787.45859,6112.35295,9301.89355,11945.1327,6389.37785,23807.2406,10264.4421,4243.59005,16455.70785,8413.46305,26018.95052,60021.39897,3579.8287,12479.70895,5855.9025,7153.5539,1635.73365,6986.697,43921.1837,15019.76005,29330.98315,5630.45785,8827.2099,8059.6791,5729.0053,14382.70905,29141.3603,38746.3551,3877.30425,42760.5022,6373.55735,28950.4692,16420.49455,10600.5483,18033.9679,39983.42595,6940.90985,4239.89265,6360.9936,8116.26885,6796.86325,2136.88225,33307.5508,13415.0381,10976.24575,3353.4703,5261.46945,5989.52365],\"xaxis\":\"x\",\"y\":[12196.732518115945,7949.686629080627,23935.228460363986,10798.716061982781,13210.650728241617,9422.779284277847,5147.708436415971,13694.637256617,7756.949333091033,12251.639356939339,9163.47375231666,9188.639493142027,7691.394169153777,4444.07863747724,25521.538001369317,6014.448075659276,9401.094466803517,24464.695023768938,7670.636952274525,10214.494487444297,13746.355407921883,7620.092389225044,25521.538001369317,13440.14631386399,5772.447315899113,13717.31060583128,11430.679716883924,9659.40305067412,42627.311329499425,9659.40305067412,12736.785439150275,7075.018725540539,7673.061622659329,4541.580114852508,9188.639493142027,41666.59310861158,13671.127225934035,26983.913005085065,7890.113805191295,11332.212789806672,8024.956367977782,7537.440734497057,13278.83836430428,26950.30664851341,36519.30996446993,9163.47375231666,41975.12965965435,10462.313286100341,26950.30664851341,20946.87244414298,14604.237113240588,18030.28564173862,40321.51830599409,7620.092389225044,5772.447315899113,13362.895819529094,9188.639493142027,7519.328618604176,4206.457922990383,33498.979933651644,12574.750470511968,12715.836754857892,6018.471884637472,8141.615476135322,9366.459883011828],\"yaxis\":\"y\",\"type\":\"scatter\"},{\"hovertemplate\":\"<b>LOWESS trendline</b><br><br>index=northwest<br>actuals=%{x}<br>preds=%{y} <b>(trend)</b><extra></extra>\",\"legendgroup\":\"northwest\",\"marker\":{\"color\":\"#5D8370\",\"symbol\":\"circle\"},\"mode\":\"lines\",\"name\":\"northwest\",\"showlegend\":false,\"x\":[1635.73365,1906.35825,2136.88225,2775.19215,3353.4703,3537.703,3579.8287,3594.17085,3877.30425,4239.89265,4243.59005,4433.3877,4466.6214,4618.0799,5261.46945,5630.45785,5729.0053,5855.9025,5989.52365,6112.35295,6203.90175,6360.9936,6373.55735,6389.37785,6393.60345,6796.86325,6940.90985,6986.697,7153.5539,7731.85785,8059.6791,8116.26885,8162.71625,8413.46305,8827.2099,9174.13565,9301.89355,10264.4421,10600.5483,10976.24575,11840.77505,11945.1327,12235.8392,12479.70895,13415.0381,14382.70905,15019.76005,16420.49455,16455.70785,18033.9679,21774.32215,23807.2406,23967.38305,26018.95052,28950.4692,29141.3603,29330.98315,32787.45859,33307.5508,33471.97189,38746.3551,39983.42595,42760.5022,43921.1837,60021.39897],\"xaxis\":\"x\",\"y\":[5200.9955207228495,5400.03250885131,5568.822545180426,6033.667060546404,6454.284509197785,6588.774928077493,6619.585210676935,6630.080464027905,6837.900692857494,7106.009180509116,7108.755140664434,7250.050398330752,7274.861506929685,7388.206041254698,7873.914377779528,8153.834352748565,8228.408329348473,8324.138837865885,8424.42181756905,8515.969319238766,8583.704099976276,8698.734454386062,8707.862294909697,8719.340278756037,8722.402970494164,9009.00464818635,9110.777472597398,9151.724917573254,9285.092576662017,9793.081948184148,10069.012759495514,10115.055382701708,10152.410303008159,10353.46966678592,10678.354409461948,10961.751060384471,11052.738494285044,11676.410010982408,11891.37915665389,12149.015320336448,12794.532185603166,12875.362712110986,13101.498029903314,13291.490867876259,14031.527952008437,14890.779466038013,15593.77763933712,17168.326396304437,17206.834872249183,18781.446816876483,21772.20332958983,23583.23796120201,23729.991124232834,25660.55195959858,28439.226551889707,28617.531090213633,28794.40365416059,31993.527561549723,32472.923549466806,32624.453105216722,37487.123879294246,38630.20033347287,41202.45372371863,42279.91760643988,57304.66240862375],\"yaxis\":\"y\",\"type\":\"scatter\"},{\"hovertemplate\":\"Actual Cost: %{x:$,.2f}<br>Predicted Cost: %{y:$,.2f}\",\"legendgroup\":\"northeast\",\"marker\":{\"color\":\"#6C839B\",\"opacity\":0.7,\"symbol\":\"circle\",\"line\":{\"color\":\"#F7F7F7\",\"width\":1},\"size\":10},\"mode\":\"markers\",\"name\":\"northeast\",\"orientation\":\"v\",\"showlegend\":false,\"x\":[58571.07448,41034.2214,13129.60345,17128.42608,13224.05705,42303.69215,8627.5411,11512.405,13228.84695,12730.9996,3558.62025,14590.63205,13019.16105,6113.23105,4846.92015,14451.83515,9282.4806,5594.8455,2203.73595,6640.54485,12323.936,7935.29115,3857.75925,1712.227,2727.3951,7639.41745,3044.2133,25517.11363,11938.25595,3393.35635,14449.8544,33475.81715,20709.02034,8334.45755,2217.6012,11879.10405,11394.06555,10072.05505,2396.0959,7729.64575,2211.13075,3385.39915,24106.91255,2205.9808,9722.7695,13616.3586,11658.37915,6067.12675,19594.80965,2217.46915,22395.74424,12029.2867,9866.30485,16115.3045,7050.0213,5428.7277,13430.265,2196.4732,7985.815,13725.47184,3481.868,13143.86485,23241.47453,7133.9025,8606.2174],\"xaxis\":\"x2\",\"y\":[36880.538676420205,39625.42017630222,14184.565478050034,9037.699384997077,15106.91439891376,39129.85928925004,8243.980869924279,14647.887307472267,16900.193595909088,17454.515695336428,5421.971165664595,15693.094082001515,15364.880672379442,8803.042549172276,8508.500273457841,13908.74784126896,8751.394146300916,9782.133739747858,6306.146065835883,7060.8496547659915,12215.235264320378,11787.935354967607,6417.028175484943,4444.278254540432,6546.681761596919,10839.245007537877,3830.174566000138,10826.293885833069,12839.806535315629,8950.843506013849,13874.1147806411,29191.687925126174,11029.676081126006,9931.438207849149,6704.407736950885,14587.44821949309,12512.139178940915,12469.389751404131,2870.9770318742007,7821.104881988425,6889.033936129571,6394.195013740898,24683.09794497005,6249.379699583056,11890.176833206191,13917.273989370802,12971.37720530865,6590.864681629309,21791.5733248458,6709.910522843884,4683.423529808293,10869.348713162004,13554.142274809632,17362.557873377515,10390.867293708729,8821.153578731373,14890.586806102843,3155.3257046880217,7947.77154490886,7231.975158698537,6202.895429586199,14294.290434433628,4324.620151190445,8062.4836221765545,8038.066695988922],\"yaxis\":\"y2\",\"type\":\"scatter\"},{\"hovertemplate\":\"<b>LOWESS trendline</b><br><br>index=northeast<br>actuals=%{x}<br>preds=%{y} <b>(trend)</b><extra></extra>\",\"legendgroup\":\"northeast\",\"marker\":{\"color\":\"#6C839B\",\"symbol\":\"circle\"},\"mode\":\"lines\",\"name\":\"northeast\",\"showlegend\":false,\"x\":[1712.227,2196.4732,2203.73595,2205.9808,2211.13075,2217.46915,2217.6012,2396.0959,2727.3951,3044.2133,3385.39915,3393.35635,3481.868,3558.62025,3857.75925,4846.92015,5428.7277,5594.8455,6067.12675,6113.23105,6640.54485,7050.0213,7133.9025,7639.41745,7729.64575,7935.29115,7985.815,8334.45755,8606.2174,8627.5411,9282.4806,9722.7695,9866.30485,10072.05505,11394.06555,11512.405,11658.37915,11879.10405,11938.25595,12029.2867,12323.936,12730.9996,13019.16105,13129.60345,13143.86485,13224.05705,13228.84695,13430.265,13616.3586,13725.47184,14449.8544,14451.83515,14590.63205,16115.3045,17128.42608,19594.80965,20709.02034,22395.74424,23241.47453,24106.91255,25517.11363,33475.81715,41034.2214,42303.69215,58571.07448],\"xaxis\":\"x2\",\"y\":[5218.402346459007,5557.655006593006,5562.741633927828,5564.313860168298,5567.920725505693,5572.359932311115,5572.45241564784,5697.455565733854,5929.404497631791,6151.160524954939,6389.968207360915,6395.538928225418,6457.511301331536,6511.260682559258,6720.867967897947,7416.988513928373,7830.751508553828,7949.779190800148,8290.661117288459,8324.127635590014,8708.825536389018,9008.493931057761,9069.742822862881,9446.572185485344,9521.6147021014,9706.696055291899,9750.665169127024,10062.7364691253,10284.038872536048,10300.165890915963,10868.498683609643,11265.72402235965,11392.924257781486,11575.011053427657,12714.358698868116,12811.783881616959,12932.89603464561,13111.906835547354,13159.610968077382,13232.84368967032,13477.020769098019,13789.76818805728,13989.93259641866,14061.78166019604,14073.031975185115,14135.884182643716,14139.614306471683,14293.310403310057,14427.920803154886,14485.895021552433,14819.927421376842,14820.533800659827,14861.323715006181,15224.410789273843,15802.871959832548,17347.589576929495,18140.99053845352,19906.45443377912,20678.474042654692,21371.029430162922,22734.044610374018,30840.025728195877,37629.04504103247,38781.611649458035,53860.04864497186],\"yaxis\":\"y2\",\"type\":\"scatter\"}],                        {\"template\":{\"data\":{\"barpolar\":[{\"marker\":{\"line\":{\"color\":\"white\",\"width\":0.5},\"pattern\":{\"fillmode\":\"overlay\",\"size\":10,\"solidity\":0.2}},\"type\":\"barpolar\"}],\"bar\":[{\"error_x\":{\"color\":\"#2a3f5f\"},\"error_y\":{\"color\":\"#2a3f5f\"},\"marker\":{\"line\":{\"color\":\"white\",\"width\":0.5},\"pattern\":{\"fillmode\":\"overlay\",\"size\":10,\"solidity\":0.2}},\"type\":\"bar\"}],\"carpet\":[{\"aaxis\":{\"endlinecolor\":\"#2a3f5f\",\"gridcolor\":\"#C8D4E3\",\"linecolor\":\"#C8D4E3\",\"minorgridcolor\":\"#C8D4E3\",\"startlinecolor\":\"#2a3f5f\"},\"baxis\":{\"endlinecolor\":\"#2a3f5f\",\"gridcolor\":\"#C8D4E3\",\"linecolor\":\"#C8D4E3\",\"minorgridcolor\":\"#C8D4E3\",\"startlinecolor\":\"#2a3f5f\"},\"type\":\"carpet\"}],\"choropleth\":[{\"colorbar\":{\"outlinewidth\":0,\"ticks\":\"\"},\"type\":\"choropleth\"}],\"contourcarpet\":[{\"colorbar\":{\"outlinewidth\":0,\"ticks\":\"\"},\"type\":\"contourcarpet\"}],\"contour\":[{\"colorbar\":{\"outlinewidth\":0,\"ticks\":\"\"},\"colorscale\":[[0.0,\"#0d0887\"],[0.1111111111111111,\"#46039f\"],[0.2222222222222222,\"#7201a8\"],[0.3333333333333333,\"#9c179e\"],[0.4444444444444444,\"#bd3786\"],[0.5555555555555556,\"#d8576b\"],[0.6666666666666666,\"#ed7953\"],[0.7777777777777778,\"#fb9f3a\"],[0.8888888888888888,\"#fdca26\"],[1.0,\"#f0f921\"]],\"type\":\"contour\"}],\"heatmapgl\":[{\"colorbar\":{\"outlinewidth\":0,\"ticks\":\"\"},\"colorscale\":[[0.0,\"#0d0887\"],[0.1111111111111111,\"#46039f\"],[0.2222222222222222,\"#7201a8\"],[0.3333333333333333,\"#9c179e\"],[0.4444444444444444,\"#bd3786\"],[0.5555555555555556,\"#d8576b\"],[0.6666666666666666,\"#ed7953\"],[0.7777777777777778,\"#fb9f3a\"],[0.8888888888888888,\"#fdca26\"],[1.0,\"#f0f921\"]],\"type\":\"heatmapgl\"}],\"heatmap\":[{\"colorbar\":{\"outlinewidth\":0,\"ticks\":\"\"},\"colorscale\":[[0.0,\"#0d0887\"],[0.1111111111111111,\"#46039f\"],[0.2222222222222222,\"#7201a8\"],[0.3333333333333333,\"#9c179e\"],[0.4444444444444444,\"#bd3786\"],[0.5555555555555556,\"#d8576b\"],[0.6666666666666666,\"#ed7953\"],[0.7777777777777778,\"#fb9f3a\"],[0.8888888888888888,\"#fdca26\"],[1.0,\"#f0f921\"]],\"type\":\"heatmap\"}],\"histogram2dcontour\":[{\"colorbar\":{\"outlinewidth\":0,\"ticks\":\"\"},\"colorscale\":[[0.0,\"#0d0887\"],[0.1111111111111111,\"#46039f\"],[0.2222222222222222,\"#7201a8\"],[0.3333333333333333,\"#9c179e\"],[0.4444444444444444,\"#bd3786\"],[0.5555555555555556,\"#d8576b\"],[0.6666666666666666,\"#ed7953\"],[0.7777777777777778,\"#fb9f3a\"],[0.8888888888888888,\"#fdca26\"],[1.0,\"#f0f921\"]],\"type\":\"histogram2dcontour\"}],\"histogram2d\":[{\"colorbar\":{\"outlinewidth\":0,\"ticks\":\"\"},\"colorscale\":[[0.0,\"#0d0887\"],[0.1111111111111111,\"#46039f\"],[0.2222222222222222,\"#7201a8\"],[0.3333333333333333,\"#9c179e\"],[0.4444444444444444,\"#bd3786\"],[0.5555555555555556,\"#d8576b\"],[0.6666666666666666,\"#ed7953\"],[0.7777777777777778,\"#fb9f3a\"],[0.8888888888888888,\"#fdca26\"],[1.0,\"#f0f921\"]],\"type\":\"histogram2d\"}],\"histogram\":[{\"marker\":{\"pattern\":{\"fillmode\":\"overlay\",\"size\":10,\"solidity\":0.2}},\"type\":\"histogram\"}],\"mesh3d\":[{\"colorbar\":{\"outlinewidth\":0,\"ticks\":\"\"},\"type\":\"mesh3d\"}],\"parcoords\":[{\"line\":{\"colorbar\":{\"outlinewidth\":0,\"ticks\":\"\"}},\"type\":\"parcoords\"}],\"pie\":[{\"automargin\":true,\"type\":\"pie\"}],\"scatter3d\":[{\"line\":{\"colorbar\":{\"outlinewidth\":0,\"ticks\":\"\"}},\"marker\":{\"colorbar\":{\"outlinewidth\":0,\"ticks\":\"\"}},\"type\":\"scatter3d\"}],\"scattercarpet\":[{\"marker\":{\"colorbar\":{\"outlinewidth\":0,\"ticks\":\"\"}},\"type\":\"scattercarpet\"}],\"scattergeo\":[{\"marker\":{\"colorbar\":{\"outlinewidth\":0,\"ticks\":\"\"}},\"type\":\"scattergeo\"}],\"scattergl\":[{\"marker\":{\"colorbar\":{\"outlinewidth\":0,\"ticks\":\"\"}},\"type\":\"scattergl\"}],\"scattermapbox\":[{\"marker\":{\"colorbar\":{\"outlinewidth\":0,\"ticks\":\"\"}},\"type\":\"scattermapbox\"}],\"scatterpolargl\":[{\"marker\":{\"colorbar\":{\"outlinewidth\":0,\"ticks\":\"\"}},\"type\":\"scatterpolargl\"}],\"scatterpolar\":[{\"marker\":{\"colorbar\":{\"outlinewidth\":0,\"ticks\":\"\"}},\"type\":\"scatterpolar\"}],\"scatter\":[{\"marker\":{\"colorbar\":{\"outlinewidth\":0,\"ticks\":\"\"}},\"type\":\"scatter\"}],\"scatterternary\":[{\"marker\":{\"colorbar\":{\"outlinewidth\":0,\"ticks\":\"\"}},\"type\":\"scatterternary\"}],\"surface\":[{\"colorbar\":{\"outlinewidth\":0,\"ticks\":\"\"},\"colorscale\":[[0.0,\"#0d0887\"],[0.1111111111111111,\"#46039f\"],[0.2222222222222222,\"#7201a8\"],[0.3333333333333333,\"#9c179e\"],[0.4444444444444444,\"#bd3786\"],[0.5555555555555556,\"#d8576b\"],[0.6666666666666666,\"#ed7953\"],[0.7777777777777778,\"#fb9f3a\"],[0.8888888888888888,\"#fdca26\"],[1.0,\"#f0f921\"]],\"type\":\"surface\"}],\"table\":[{\"cells\":{\"fill\":{\"color\":\"#EBF0F8\"},\"line\":{\"color\":\"white\"}},\"header\":{\"fill\":{\"color\":\"#C8D4E3\"},\"line\":{\"color\":\"white\"}},\"type\":\"table\"}]},\"layout\":{\"annotationdefaults\":{\"arrowcolor\":\"#2a3f5f\",\"arrowhead\":0,\"arrowwidth\":1},\"autotypenumbers\":\"strict\",\"coloraxis\":{\"colorbar\":{\"outlinewidth\":0,\"ticks\":\"\"}},\"colorscale\":{\"diverging\":[[0,\"#8e0152\"],[0.1,\"#c51b7d\"],[0.2,\"#de77ae\"],[0.3,\"#f1b6da\"],[0.4,\"#fde0ef\"],[0.5,\"#f7f7f7\"],[0.6,\"#e6f5d0\"],[0.7,\"#b8e186\"],[0.8,\"#7fbc41\"],[0.9,\"#4d9221\"],[1,\"#276419\"]],\"sequential\":[[0.0,\"#0d0887\"],[0.1111111111111111,\"#46039f\"],[0.2222222222222222,\"#7201a8\"],[0.3333333333333333,\"#9c179e\"],[0.4444444444444444,\"#bd3786\"],[0.5555555555555556,\"#d8576b\"],[0.6666666666666666,\"#ed7953\"],[0.7777777777777778,\"#fb9f3a\"],[0.8888888888888888,\"#fdca26\"],[1.0,\"#f0f921\"]],\"sequentialminus\":[[0.0,\"#0d0887\"],[0.1111111111111111,\"#46039f\"],[0.2222222222222222,\"#7201a8\"],[0.3333333333333333,\"#9c179e\"],[0.4444444444444444,\"#bd3786\"],[0.5555555555555556,\"#d8576b\"],[0.6666666666666666,\"#ed7953\"],[0.7777777777777778,\"#fb9f3a\"],[0.8888888888888888,\"#fdca26\"],[1.0,\"#f0f921\"]]},\"colorway\":[\"#636efa\",\"#EF553B\",\"#00cc96\",\"#ab63fa\",\"#FFA15A\",\"#19d3f3\",\"#FF6692\",\"#B6E880\",\"#FF97FF\",\"#FECB52\"],\"font\":{\"color\":\"#2a3f5f\"},\"geo\":{\"bgcolor\":\"white\",\"lakecolor\":\"white\",\"landcolor\":\"white\",\"showlakes\":true,\"showland\":true,\"subunitcolor\":\"#C8D4E3\"},\"hoverlabel\":{\"align\":\"left\"},\"hovermode\":\"closest\",\"mapbox\":{\"style\":\"light\"},\"paper_bgcolor\":\"white\",\"plot_bgcolor\":\"white\",\"polar\":{\"angularaxis\":{\"gridcolor\":\"#EBF0F8\",\"linecolor\":\"#EBF0F8\",\"ticks\":\"\"},\"bgcolor\":\"white\",\"radialaxis\":{\"gridcolor\":\"#EBF0F8\",\"linecolor\":\"#EBF0F8\",\"ticks\":\"\"}},\"scene\":{\"xaxis\":{\"backgroundcolor\":\"white\",\"gridcolor\":\"#DFE8F3\",\"gridwidth\":2,\"linecolor\":\"#EBF0F8\",\"showbackground\":true,\"ticks\":\"\",\"zerolinecolor\":\"#EBF0F8\"},\"yaxis\":{\"backgroundcolor\":\"white\",\"gridcolor\":\"#DFE8F3\",\"gridwidth\":2,\"linecolor\":\"#EBF0F8\",\"showbackground\":true,\"ticks\":\"\",\"zerolinecolor\":\"#EBF0F8\"},\"zaxis\":{\"backgroundcolor\":\"white\",\"gridcolor\":\"#DFE8F3\",\"gridwidth\":2,\"linecolor\":\"#EBF0F8\",\"showbackground\":true,\"ticks\":\"\",\"zerolinecolor\":\"#EBF0F8\"}},\"shapedefaults\":{\"line\":{\"color\":\"#2a3f5f\"}},\"ternary\":{\"aaxis\":{\"gridcolor\":\"#DFE8F3\",\"linecolor\":\"#A2B1C6\",\"ticks\":\"\"},\"baxis\":{\"gridcolor\":\"#DFE8F3\",\"linecolor\":\"#A2B1C6\",\"ticks\":\"\"},\"bgcolor\":\"white\",\"caxis\":{\"gridcolor\":\"#DFE8F3\",\"linecolor\":\"#A2B1C6\",\"ticks\":\"\"}},\"title\":{\"x\":0.05},\"xaxis\":{\"automargin\":true,\"gridcolor\":\"#EBF0F8\",\"linecolor\":\"#EBF0F8\",\"ticks\":\"\",\"title\":{\"standoff\":15},\"zerolinecolor\":\"#EBF0F8\",\"zerolinewidth\":2},\"yaxis\":{\"automargin\":true,\"gridcolor\":\"#EBF0F8\",\"linecolor\":\"#EBF0F8\",\"ticks\":\"\",\"title\":{\"standoff\":15},\"zerolinecolor\":\"#EBF0F8\",\"zerolinewidth\":2}}},\"xaxis\":{\"anchor\":\"y\",\"domain\":[0.0,0.49],\"title\":{\"text\":\"Actual Cost, $\"},\"showgrid\":true,\"gridwidth\":1,\"gridcolor\":\"#EAEAEA\",\"zeroline\":true,\"zerolinewidth\":2,\"zerolinecolor\":\"#5E5E5E\"},\"yaxis\":{\"anchor\":\"x\",\"domain\":[0.0,0.46499999999999997],\"title\":{\"text\":\"Predicted Cost, $\"},\"showgrid\":true,\"gridwidth\":1,\"gridcolor\":\"#E3E3E3\",\"zeroline\":true,\"zerolinewidth\":2,\"zerolinecolor\":\"#5E5E5E\"},\"xaxis2\":{\"anchor\":\"y2\",\"domain\":[0.51,1.0],\"matches\":\"x\",\"title\":{\"text\":\"Actual Cost, $\"},\"showgrid\":true,\"gridwidth\":1,\"gridcolor\":\"#EAEAEA\",\"zeroline\":true,\"zerolinewidth\":2,\"zerolinecolor\":\"#5E5E5E\"},\"yaxis2\":{\"anchor\":\"x2\",\"domain\":[0.0,0.46499999999999997],\"matches\":\"y\",\"showticklabels\":false,\"showgrid\":true,\"gridwidth\":1,\"gridcolor\":\"#E3E3E3\",\"zeroline\":true,\"zerolinewidth\":2,\"zerolinecolor\":\"#5E5E5E\"},\"xaxis3\":{\"anchor\":\"y3\",\"domain\":[0.0,0.49],\"matches\":\"x\",\"showticklabels\":false,\"showgrid\":true,\"gridwidth\":1,\"gridcolor\":\"#EAEAEA\",\"zeroline\":true,\"zerolinewidth\":2,\"zerolinecolor\":\"#5E5E5E\"},\"yaxis3\":{\"anchor\":\"x3\",\"domain\":[0.5349999999999999,0.9999999999999999],\"matches\":\"y\",\"title\":{\"text\":\"Predicted Cost, $\"},\"showgrid\":true,\"gridwidth\":1,\"gridcolor\":\"#E3E3E3\",\"zeroline\":true,\"zerolinewidth\":2,\"zerolinecolor\":\"#5E5E5E\"},\"xaxis4\":{\"anchor\":\"y4\",\"domain\":[0.51,1.0],\"matches\":\"x\",\"showticklabels\":false,\"showgrid\":true,\"gridwidth\":1,\"gridcolor\":\"#EAEAEA\",\"zeroline\":true,\"zerolinewidth\":2,\"zerolinecolor\":\"#5E5E5E\"},\"yaxis4\":{\"anchor\":\"x4\",\"domain\":[0.5349999999999999,0.9999999999999999],\"matches\":\"y\",\"showticklabels\":false,\"showgrid\":true,\"gridwidth\":1,\"gridcolor\":\"#E3E3E3\",\"zeroline\":true,\"zerolinewidth\":2,\"zerolinecolor\":\"#5E5E5E\"},\"annotations\":[{\"showarrow\":false,\"text\":\"northwest\",\"x\":0.245,\"xanchor\":\"center\",\"xref\":\"paper\",\"y\":0.46499999999999997,\"yanchor\":\"bottom\",\"yref\":\"paper\"},{\"showarrow\":false,\"text\":\"northeast\",\"x\":0.755,\"xanchor\":\"center\",\"xref\":\"paper\",\"y\":0.46499999999999997,\"yanchor\":\"bottom\",\"yref\":\"paper\"},{\"showarrow\":false,\"text\":\"southwest\",\"x\":0.245,\"xanchor\":\"center\",\"xref\":\"paper\",\"y\":0.9999999999999999,\"yanchor\":\"bottom\",\"yref\":\"paper\"},{\"showarrow\":false,\"text\":\"southeast\",\"x\":0.755,\"xanchor\":\"center\",\"xref\":\"paper\",\"y\":0.9999999999999999,\"yanchor\":\"bottom\",\"yref\":\"paper\"},{\"showarrow\":false,\"text\":\"Adj. R-Squared = 77.1%<br>RMSE = 4,644\",\"x\":51000.0,\"xref\":\"x3\",\"y\":15000.0,\"yref\":\"y3\"},{\"showarrow\":false,\"text\":\"Adj. R-Squared = 93.2%<br>RMSE = 3,345\",\"x\":51000.0,\"xref\":\"x4\",\"y\":15000.0,\"yref\":\"y4\"},{\"showarrow\":false,\"text\":\"Adj. R-Squared = 78.4%<br>RMSE = 4,802\",\"x\":51000.0,\"xref\":\"x\",\"y\":15000.0,\"yref\":\"y\"},{\"showarrow\":false,\"text\":\"Adj. R-Squared = 58.5%<br>RMSE = 5,493\",\"x\":51000.0,\"xref\":\"x2\",\"y\":15000.0,\"yref\":\"y2\"}],\"legend\":{\"title\":{\"text\":\"index\"},\"tracegroupgap\":0},\"title\":{\"text\":\"Actual vs Predicted Insurance Costs by Region,<br>Gradient Boosting\"},\"height\":700,\"font\":{\"color\":\"#303030\"},\"paper_bgcolor\":\"white\",\"plot_bgcolor\":\"white\"},                        {\"responsive\": true}                    ).then(function(){\n",
              "                            \n",
              "var gd = document.getElementById('f2a9341f-a180-4dcc-bc1c-3ea2f0b2e783');\n",
              "var x = new MutationObserver(function (mutations, observer) {{\n",
              "        var display = window.getComputedStyle(gd).display;\n",
              "        if (!display || display === 'none') {{\n",
              "            console.log([gd, 'removed!']);\n",
              "            Plotly.purge(gd);\n",
              "            observer.disconnect();\n",
              "        }}\n",
              "}});\n",
              "\n",
              "// Listen for the removal of the full notebook cells\n",
              "var notebookContainer = gd.closest('#notebook-container');\n",
              "if (notebookContainer) {{\n",
              "    x.observe(notebookContainer, {childList: true});\n",
              "}}\n",
              "\n",
              "// Listen for the clearing of the current output cell\n",
              "var outputEl = gd.closest('.output');\n",
              "if (outputEl) {{\n",
              "    x.observe(outputEl, {childList: true});\n",
              "}}\n",
              "\n",
              "                        })                };                            </script>        </div>\n",
              "</body>\n",
              "</html>"
            ]
          },
          "metadata": {}
        }
      ],
      "source": [
        "actuals=[]\n",
        "preds=[]\n",
        "rmses=[]\n",
        "r2_scores=[]\n",
        "adj_r2_scores=[]\n",
        "feat_importance=pd.DataFrame()\n",
        "\n",
        "for i in regions:\n",
        "    \n",
        "    # Filter data by region\n",
        "    ins_df = ins[ins.region==i]\n",
        "    X=ins_df.drop(['charges', 'region'], axis=1)\n",
        "    y=ins_df.charges\n",
        "    \n",
        "    # Add polynomial features\n",
        "    pf = PolynomialFeatures(degree=2, include_bias=False)\n",
        "    X_pf = pd.DataFrame(data=pf.fit_transform(X), columns=pf.get_feature_names(X.columns))\n",
        "    \n",
        "    # Create training and test sets\n",
        "    X_train, X_test, y_train, y_test = train_test_split(X_pf, y, test_size=0.2, random_state=1)\n",
        "    X_train = pd.DataFrame(X_train, columns = X_pf.columns)\n",
        "    X_test = pd.DataFrame(X_test, columns = X_pf.columns)\n",
        "    actuals.append(pd.Series(y_test, name='actuals').reset_index())\n",
        "    print(\"\\nRegion: {}\\n\".format(i))\n",
        "    print(\"Train Shape:{} {}  Test Shape:{} {}\".format(X_train.shape, y_train.shape, X_test.shape, y_test.shape))\n",
        "    \n",
        "    # Scale features\n",
        "    X_train = pd.DataFrame(data=s.fit_transform(X_train), columns=X_pf.columns)\n",
        "    X_test = pd.DataFrame(data=s.transform(X_test), columns=X_pf.columns)\n",
        "    \n",
        "    # Tuning \n",
        "    grid = {'learning_rate': [0.0001, 0.001, 0.01, 0.1, 0.25, 0.5],\n",
        "            'n_estimators': [int(x) for x in np.linspace(start = 200, stop = 1000, num = 5)],\n",
        "            'subsample': [0.5, 0.8, 1],\n",
        "            'min_samples_split': [2, 5, 10],\n",
        "            'min_samples_leaf': [1, 2, 4],\n",
        "            'max_depth': [int(x) for x in np.linspace(2, 10, num = 5)],\n",
        "            'max_features': [None, 'sqrt']}\n",
        "    xgb=GradientBoostingRegressor(random_state=21)\n",
        "    xgb_cv=RandomizedSearchCV(estimator=xgb, param_distributions=grid, scoring='neg_mean_squared_error', \n",
        "                              n_iter=100, cv=3, random_state=21, n_jobs=-1)\n",
        "    xgb_cv.fit(X_train, y_train)\n",
        "    y_pred=xgb_cv.predict(X_test)\n",
        "    preds.append(pd.Series(y_pred, name='preds').reset_index(drop=True))\n",
        "    rmse=np.sqrt(mean_squared_error(y_test, y_pred)).round(2)\n",
        "    r2=r2_score(y_test, y_pred)\n",
        "    adj_r2 = 1 - (1-r2)*(len(y_test)-1)/(len(y_test)-X_test.shape[1]-1)\n",
        "    rmses.append(rmse)\n",
        "    r2_scores.append(r2)\n",
        "    adj_r2_scores.append(adj_r2)\n",
        "    \n",
        "    # Save feature importance\n",
        "    feat_importance[\"Importance_\"+str(i)]=xgb_cv.best_estimator_.feature_importances_\n",
        "    \n",
        "    print(\"Test Error (RMSE) = {:,}\".format(rmse))\n",
        "    print(\"R-Squared = {:.2f}%, Adjusted R-Squared = {:.2f}%\".format(r2*100, adj_r2*100))\n",
        "    if i != 'Northeast':\n",
        "        print(\"__________________________\")\n",
        "\n",
        "# Plot results\n",
        "for i in range(0,4):\n",
        "    actuals[i].loc[:,'index']=regions[i]\n",
        "actual = pd.concat([actuals[i] for i in range(4)], axis = 0)\n",
        "pred = pd.concat([preds[i] for i in range(4)], axis = 0)\n",
        "df = pd.concat([actual, pred], axis=1).reset_index(drop=True)\n",
        "\n",
        "fig = px.scatter(df, x=\"actuals\", y=\"preds\", color=\"index\", trendline=\"lowess\", height=700,\n",
        "                 title=\"Actual vs Predicted Insurance Costs by Region,<br>Gradient Boosting\",\n",
        "                 color_discrete_sequence=col, opacity=0.7, facet_col='index', facet_col_wrap=2)\n",
        "\n",
        "fig.for_each_annotation(lambda a: a.update(text=a.text.split(\"=\")[-1]))\n",
        "fig.add_annotation(text=\"Adj. R-Squared = {:.1f}%<br>RMSE = {:,.0f}\".format(adj_r2_scores[0]*100,rmses[0]),\n",
        "                   x=51e3,y=15e3, row=2,col=1, showarrow=False)\n",
        "fig.add_annotation(text=\"Adj. R-Squared = {:.1f}%<br>RMSE = {:,.0f}\".format(adj_r2_scores[1]*100,rmses[1]),\n",
        "                   x=51e3,y=15e3, row=2,col=2, showarrow=False)\n",
        "fig.add_annotation(text=\"Adj. R-Squared = {:.1f}%<br>RMSE = {:,.0f}\".format(adj_r2_scores[2]*100,rmses[2]),\n",
        "                   x=51e3,y=15e3, row=1,col=1, showarrow=False)\n",
        "fig.add_annotation(text=\"Adj. R-Squared = {:.1f}%<br>RMSE = {:,.0f}\".format(adj_r2_scores[3]*100,rmses[3]),\n",
        "                   x=51e3,y=15e3, row=1,col=2, showarrow=False)\n",
        "\n",
        "fig.update_traces(hovertemplate=\"Actual Cost: %{x:$,.2f}<br>Predicted Cost: %{y:$,.2f}\",\n",
        "                  marker=dict(size=10,line=dict(width=1,color=\"#F7F7F7\")),\n",
        "                  selector=dict(mode=\"markers\"), showlegend=False)\n",
        "fig.update_xaxes(title=\"Actual Cost, $\", row=1)\n",
        "fig.update_xaxes(showgrid=True, gridwidth=1, gridcolor='#EAEAEA',\n",
        "                 zeroline=True, zerolinewidth=2, zerolinecolor='#5E5E5E')\n",
        "fig.update_yaxes(title=\"Predicted Cost, $\", col=1)\n",
        "fig.update_yaxes(showgrid=True, gridwidth=1, gridcolor='#E3E3E3',\n",
        "                 zeroline=True, zerolinewidth=2, zerolinecolor='#5E5E5E')\n",
        "fig.update_layout(font_color=\"#303030\", paper_bgcolor=\"white\", plot_bgcolor=\"white\")\n",
        "fig.show(renderer=\"colab\")"
      ]
    },
    {
      "cell_type": "code",
      "execution_count": null,
      "id": "37c3da1c",
      "metadata": {
        "colab": {
          "base_uri": "https://localhost:8080/",
          "height": 175
        },
        "id": "37c3da1c",
        "outputId": "9a5c38bd-12a5-4195-dedd-72f9f93bb5b9"
      },
      "outputs": [
        {
          "output_type": "display_data",
          "data": {
            "text/plain": [
              "                  Average RMSE Avg. Adjusted R2\n",
              "Gradient Boosting     4,570.93           76.82%\n",
              "SVM                   4,881.51           75.64%\n",
              "KNN                   5,080.18           72.91%\n",
              "Linear Regression     5,565.90           75.30%"
            ],
            "text/html": [
              "\n",
              "  <div id=\"df-1588f606-7993-49fb-bc59-74ca979fb5f8\">\n",
              "    <div class=\"colab-df-container\">\n",
              "      <div>\n",
              "<style scoped>\n",
              "    .dataframe tbody tr th:only-of-type {\n",
              "        vertical-align: middle;\n",
              "    }\n",
              "\n",
              "    .dataframe tbody tr th {\n",
              "        vertical-align: top;\n",
              "    }\n",
              "\n",
              "    .dataframe thead th {\n",
              "        text-align: right;\n",
              "    }\n",
              "</style>\n",
              "<table border=\"1\" class=\"dataframe\">\n",
              "  <thead>\n",
              "    <tr style=\"text-align: right;\">\n",
              "      <th></th>\n",
              "      <th>Average RMSE</th>\n",
              "      <th>Avg. Adjusted R2</th>\n",
              "    </tr>\n",
              "  </thead>\n",
              "  <tbody>\n",
              "    <tr>\n",
              "      <th>Gradient Boosting</th>\n",
              "      <td>4,570.93</td>\n",
              "      <td>76.82%</td>\n",
              "    </tr>\n",
              "    <tr>\n",
              "      <th>SVM</th>\n",
              "      <td>4,881.51</td>\n",
              "      <td>75.64%</td>\n",
              "    </tr>\n",
              "    <tr>\n",
              "      <th>KNN</th>\n",
              "      <td>5,080.18</td>\n",
              "      <td>72.91%</td>\n",
              "    </tr>\n",
              "    <tr>\n",
              "      <th>Linear Regression</th>\n",
              "      <td>5,565.90</td>\n",
              "      <td>75.30%</td>\n",
              "    </tr>\n",
              "  </tbody>\n",
              "</table>\n",
              "</div>\n",
              "      <button class=\"colab-df-convert\" onclick=\"convertToInteractive('df-1588f606-7993-49fb-bc59-74ca979fb5f8')\"\n",
              "              title=\"Convert this dataframe to an interactive table.\"\n",
              "              style=\"display:none;\">\n",
              "        \n",
              "  <svg xmlns=\"http://www.w3.org/2000/svg\" height=\"24px\"viewBox=\"0 0 24 24\"\n",
              "       width=\"24px\">\n",
              "    <path d=\"M0 0h24v24H0V0z\" fill=\"none\"/>\n",
              "    <path d=\"M18.56 5.44l.94 2.06.94-2.06 2.06-.94-2.06-.94-.94-2.06-.94 2.06-2.06.94zm-11 1L8.5 8.5l.94-2.06 2.06-.94-2.06-.94L8.5 2.5l-.94 2.06-2.06.94zm10 10l.94 2.06.94-2.06 2.06-.94-2.06-.94-.94-2.06-.94 2.06-2.06.94z\"/><path d=\"M17.41 7.96l-1.37-1.37c-.4-.4-.92-.59-1.43-.59-.52 0-1.04.2-1.43.59L10.3 9.45l-7.72 7.72c-.78.78-.78 2.05 0 2.83L4 21.41c.39.39.9.59 1.41.59.51 0 1.02-.2 1.41-.59l7.78-7.78 2.81-2.81c.8-.78.8-2.07 0-2.86zM5.41 20L4 18.59l7.72-7.72 1.47 1.35L5.41 20z\"/>\n",
              "  </svg>\n",
              "      </button>\n",
              "      \n",
              "  <style>\n",
              "    .colab-df-container {\n",
              "      display:flex;\n",
              "      flex-wrap:wrap;\n",
              "      gap: 12px;\n",
              "    }\n",
              "\n",
              "    .colab-df-convert {\n",
              "      background-color: #E8F0FE;\n",
              "      border: none;\n",
              "      border-radius: 50%;\n",
              "      cursor: pointer;\n",
              "      display: none;\n",
              "      fill: #1967D2;\n",
              "      height: 32px;\n",
              "      padding: 0 0 0 0;\n",
              "      width: 32px;\n",
              "    }\n",
              "\n",
              "    .colab-df-convert:hover {\n",
              "      background-color: #E2EBFA;\n",
              "      box-shadow: 0px 1px 2px rgba(60, 64, 67, 0.3), 0px 1px 3px 1px rgba(60, 64, 67, 0.15);\n",
              "      fill: #174EA6;\n",
              "    }\n",
              "\n",
              "    [theme=dark] .colab-df-convert {\n",
              "      background-color: #3B4455;\n",
              "      fill: #D2E3FC;\n",
              "    }\n",
              "\n",
              "    [theme=dark] .colab-df-convert:hover {\n",
              "      background-color: #434B5C;\n",
              "      box-shadow: 0px 1px 3px 1px rgba(0, 0, 0, 0.15);\n",
              "      filter: drop-shadow(0px 1px 2px rgba(0, 0, 0, 0.3));\n",
              "      fill: #FFFFFF;\n",
              "    }\n",
              "  </style>\n",
              "\n",
              "      <script>\n",
              "        const buttonEl =\n",
              "          document.querySelector('#df-1588f606-7993-49fb-bc59-74ca979fb5f8 button.colab-df-convert');\n",
              "        buttonEl.style.display =\n",
              "          google.colab.kernel.accessAllowed ? 'block' : 'none';\n",
              "\n",
              "        async function convertToInteractive(key) {\n",
              "          const element = document.querySelector('#df-1588f606-7993-49fb-bc59-74ca979fb5f8');\n",
              "          const dataTable =\n",
              "            await google.colab.kernel.invokeFunction('convertToInteractive',\n",
              "                                                     [key], {});\n",
              "          if (!dataTable) return;\n",
              "\n",
              "          const docLinkHtml = 'Like what you see? Visit the ' +\n",
              "            '<a target=\"_blank\" href=https://colab.research.google.com/notebooks/data_table.ipynb>data table notebook</a>'\n",
              "            + ' to learn more about interactive tables.';\n",
              "          element.innerHTML = '';\n",
              "          dataTable['output_type'] = 'display_data';\n",
              "          await google.colab.output.renderOutput(dataTable, element);\n",
              "          const docLink = document.createElement('div');\n",
              "          docLink.innerHTML = docLinkHtml;\n",
              "          element.appendChild(docLink);\n",
              "        }\n",
              "      </script>\n",
              "    </div>\n",
              "  </div>\n",
              "  "
            ]
          },
          "metadata": {}
        }
      ],
      "source": [
        "## SO SÁNH KẾT QUẢ CÁC PHƯƠNG PHÁP HỒI QUY:\n",
        "mod_res.iloc[3,0]=pd.Series(rmses).mean()\n",
        "mod_res.iloc[3,1]=pd.Series(adj_r2_scores).mean()\n",
        "mod_res[\"Average RMSE\"]=mod_res[\"Average RMSE\"].map('{:,.2f}'.format)\n",
        "mod_res[\"Avg. Adjusted R2\"]=mod_res[\"Avg. Adjusted R2\"].mul(100).map('{:.2f}%'.format)\n",
        "display(mod_res.sort_values(\"Average RMSE\"))"
      ]
    },
    {
      "cell_type": "code",
      "execution_count": null,
      "id": "77866716",
      "metadata": {
        "colab": {
          "base_uri": "https://localhost:8080/",
          "height": 717
        },
        "id": "77866716",
        "outputId": "9d6ec0cc-1f9d-460e-e3cf-16d686b61f81"
      },
      "outputs": [
        {
          "output_type": "display_data",
          "data": {
            "text/html": [
              "<html>\n",
              "<head><meta charset=\"utf-8\" /></head>\n",
              "<body>\n",
              "    <div>            <script src=\"https://cdnjs.cloudflare.com/ajax/libs/mathjax/2.7.5/MathJax.js?config=TeX-AMS-MML_SVG\"></script><script type=\"text/javascript\">if (window.MathJax) {MathJax.Hub.Config({SVG: {font: \"STIX-Web\"}});}</script>                <script type=\"text/javascript\">window.PlotlyConfig = {MathJaxConfig: 'local'};</script>\n",
              "        <script src=\"https://cdn.plot.ly/plotly-2.8.3.min.js\"></script>                <div id=\"29ce4c96-b70d-494e-8d6b-6571c241edbd\" class=\"plotly-graph-div\" style=\"height:700px; width:700px;\"></div>            <script type=\"text/javascript\">                                    window.PLOTLYENV=window.PLOTLYENV || {};                                    if (document.getElementById(\"29ce4c96-b70d-494e-8d6b-6571c241edbd\")) {                    Plotly.newPlot(                        \"29ce4c96-b70d-494e-8d6b-6571c241edbd\",                        [{\"alignmentgroup\":\"True\",\"hovertemplate\":\"Importance = <b>%{x:.2}</b>\",\"legendgroup\":\"age smoker_yes\",\"marker\":{\"color\":\"#fde7a9\",\"opacity\":0.8,\"pattern\":{\"shape\":\"\"},\"line\":{\"color\":\"#3F3B3A\",\"width\":1}},\"name\":\"age smoker_yes\",\"offsetgroup\":\"age smoker_yes\",\"orientation\":\"h\",\"showlegend\":false,\"text\":[0.20199474545279714],\"textposition\":\"outside\",\"x\":[0.20199474545279714],\"xaxis\":\"x\",\"y\":[\"age smoker_yes\"],\"yaxis\":\"y\",\"type\":\"bar\",\"texttemplate\":\"%{text:.2f}\"},{\"alignmentgroup\":\"True\",\"hovertemplate\":\"Importance = <b>%{x:.2}</b>\",\"legendgroup\":\"bmi smoker_yes\",\"marker\":{\"color\":\"#fed194\",\"opacity\":0.8,\"pattern\":{\"shape\":\"\"},\"line\":{\"color\":\"#3F3B3A\",\"width\":1}},\"name\":\"bmi smoker_yes\",\"offsetgroup\":\"bmi smoker_yes\",\"orientation\":\"h\",\"showlegend\":false,\"text\":[0.17815499997315262],\"textposition\":\"outside\",\"x\":[0.17815499997315262],\"xaxis\":\"x\",\"y\":[\"bmi smoker_yes\"],\"yaxis\":\"y\",\"type\":\"bar\",\"texttemplate\":\"%{text:.2f}\"},{\"alignmentgroup\":\"True\",\"hovertemplate\":\"Importance = <b>%{x:.2}</b>\",\"legendgroup\":\"smoker_yes^2\",\"marker\":{\"color\":\"#febb81\",\"opacity\":0.8,\"pattern\":{\"shape\":\"\"},\"line\":{\"color\":\"#3F3B3A\",\"width\":1}},\"name\":\"smoker_yes^2\",\"offsetgroup\":\"smoker_yes^2\",\"orientation\":\"h\",\"showlegend\":false,\"text\":[0.1688314291735808],\"textposition\":\"outside\",\"x\":[0.1688314291735808],\"xaxis\":\"x\",\"y\":[\"smoker_yes^2\"],\"yaxis\":\"y\",\"type\":\"bar\",\"texttemplate\":\"%{text:.2f}\"},{\"alignmentgroup\":\"True\",\"hovertemplate\":\"Importance = <b>%{x:.2}</b>\",\"legendgroup\":\"smoker_yes\",\"marker\":{\"color\":\"#fea571\",\"opacity\":0.8,\"pattern\":{\"shape\":\"\"},\"line\":{\"color\":\"#3F3B3A\",\"width\":1}},\"name\":\"smoker_yes\",\"offsetgroup\":\"smoker_yes\",\"orientation\":\"h\",\"showlegend\":false,\"text\":[0.11294777998310865],\"textposition\":\"outside\",\"x\":[0.11294777998310865],\"xaxis\":\"x\",\"y\":[\"smoker_yes\"],\"yaxis\":\"y\",\"type\":\"bar\",\"texttemplate\":\"%{text:.2f}\"},{\"alignmentgroup\":\"True\",\"hovertemplate\":\"Importance = <b>%{x:.2}</b>\",\"legendgroup\":\"bmi\",\"marker\":{\"color\":\"#fc8e64\",\"opacity\":0.8,\"pattern\":{\"shape\":\"\"},\"line\":{\"color\":\"#3F3B3A\",\"width\":1}},\"name\":\"bmi\",\"offsetgroup\":\"bmi\",\"orientation\":\"h\",\"showlegend\":false,\"text\":[0.07745771313753817],\"textposition\":\"outside\",\"x\":[0.07745771313753817],\"xaxis\":\"x\",\"y\":[\"bmi\"],\"yaxis\":\"y\",\"type\":\"bar\",\"texttemplate\":\"%{text:.2f}\"},{\"alignmentgroup\":\"True\",\"hovertemplate\":\"Importance = <b>%{x:.2}</b>\",\"legendgroup\":\"bmi^2\",\"marker\":{\"color\":\"#f8765c\",\"opacity\":0.8,\"pattern\":{\"shape\":\"\"},\"line\":{\"color\":\"#3F3B3A\",\"width\":1}},\"name\":\"bmi^2\",\"offsetgroup\":\"bmi^2\",\"orientation\":\"h\",\"showlegend\":false,\"text\":[0.06966727354010346],\"textposition\":\"outside\",\"x\":[0.06966727354010346],\"xaxis\":\"x\",\"y\":[\"bmi^2\"],\"yaxis\":\"y\",\"type\":\"bar\",\"texttemplate\":\"%{text:.2f}\"},{\"alignmentgroup\":\"True\",\"hovertemplate\":\"Importance = <b>%{x:.2}</b>\",\"legendgroup\":\"age bmi\",\"marker\":{\"color\":\"#f1605d\",\"opacity\":0.8,\"pattern\":{\"shape\":\"\"},\"line\":{\"color\":\"#3F3B3A\",\"width\":1}},\"name\":\"age bmi\",\"offsetgroup\":\"age bmi\",\"orientation\":\"h\",\"showlegend\":false,\"text\":[0.06260004405536282],\"textposition\":\"outside\",\"x\":[0.06260004405536282],\"xaxis\":\"x\",\"y\":[\"age bmi\"],\"yaxis\":\"y\",\"type\":\"bar\",\"texttemplate\":\"%{text:.2f}\"},{\"alignmentgroup\":\"True\",\"hovertemplate\":\"Importance = <b>%{x:.2}</b>\",\"legendgroup\":\"age\",\"marker\":{\"color\":\"#e44f64\",\"opacity\":0.8,\"pattern\":{\"shape\":\"\"},\"line\":{\"color\":\"#3F3B3A\",\"width\":1}},\"name\":\"age\",\"offsetgroup\":\"age\",\"orientation\":\"h\",\"showlegend\":false,\"text\":[0.03312459967753909],\"textposition\":\"outside\",\"x\":[0.03312459967753909],\"xaxis\":\"x\",\"y\":[\"age\"],\"yaxis\":\"y\",\"type\":\"bar\",\"texttemplate\":\"%{text:.2f}\"},{\"alignmentgroup\":\"True\",\"hovertemplate\":\"Importance = <b>%{x:.2}</b>\",\"legendgroup\":\"age^2\",\"marker\":{\"color\":\"#d3436e\",\"opacity\":0.8,\"pattern\":{\"shape\":\"\"},\"line\":{\"color\":\"#3F3B3A\",\"width\":1}},\"name\":\"age^2\",\"offsetgroup\":\"age^2\",\"orientation\":\"h\",\"showlegend\":false,\"text\":[0.03244219410616136],\"textposition\":\"outside\",\"x\":[0.03244219410616136],\"xaxis\":\"x\",\"y\":[\"age^2\"],\"yaxis\":\"y\",\"type\":\"bar\",\"texttemplate\":\"%{text:.2f}\"},{\"alignmentgroup\":\"True\",\"hovertemplate\":\"Importance = <b>%{x:.2}</b>\",\"legendgroup\":\"age children\",\"marker\":{\"color\":\"#c03a76\",\"opacity\":0.8,\"pattern\":{\"shape\":\"\"},\"line\":{\"color\":\"#3F3B3A\",\"width\":1}},\"name\":\"age children\",\"offsetgroup\":\"age children\",\"orientation\":\"h\",\"showlegend\":false,\"text\":[0.011869898550346734],\"textposition\":\"outside\",\"x\":[0.011869898550346734],\"xaxis\":\"x\",\"y\":[\"age children\"],\"yaxis\":\"y\",\"type\":\"bar\",\"texttemplate\":\"%{text:.2f}\"},{\"alignmentgroup\":\"True\",\"hovertemplate\":\"Importance = <b>%{x:.2}</b>\",\"legendgroup\":\"bmi children\",\"marker\":{\"color\":\"#ab337c\",\"opacity\":0.8,\"pattern\":{\"shape\":\"\"},\"line\":{\"color\":\"#3F3B3A\",\"width\":1}},\"name\":\"bmi children\",\"offsetgroup\":\"bmi children\",\"orientation\":\"h\",\"showlegend\":false,\"text\":[0.01178718452039255],\"textposition\":\"outside\",\"x\":[0.01178718452039255],\"xaxis\":\"x\",\"y\":[\"bmi children\"],\"yaxis\":\"y\",\"type\":\"bar\",\"texttemplate\":\"%{text:.2f}\"},{\"alignmentgroup\":\"True\",\"hovertemplate\":\"Importance = <b>%{x:.2}</b>\",\"legendgroup\":\"children smoker_yes\",\"marker\":{\"color\":\"#982d80\",\"opacity\":0.8,\"pattern\":{\"shape\":\"\"},\"line\":{\"color\":\"#3F3B3A\",\"width\":1}},\"name\":\"children smoker_yes\",\"offsetgroup\":\"children smoker_yes\",\"orientation\":\"h\",\"showlegend\":false,\"text\":[0.009202478980358461],\"textposition\":\"outside\",\"x\":[0.009202478980358461],\"xaxis\":\"x\",\"y\":[\"children smoker_yes\"],\"yaxis\":\"y\",\"type\":\"bar\",\"texttemplate\":\"%{text:.2f}\"},{\"alignmentgroup\":\"True\",\"hovertemplate\":\"Importance = <b>%{x:.2}</b>\",\"legendgroup\":\"bmi female\",\"marker\":{\"color\":\"#842681\",\"opacity\":0.8,\"pattern\":{\"shape\":\"\"},\"line\":{\"color\":\"#3F3B3A\",\"width\":1}},\"name\":\"bmi female\",\"offsetgroup\":\"bmi female\",\"orientation\":\"h\",\"showlegend\":false,\"text\":[0.006566583907171256],\"textposition\":\"outside\",\"x\":[0.006566583907171256],\"xaxis\":\"x\",\"y\":[\"bmi female\"],\"yaxis\":\"y\",\"type\":\"bar\",\"texttemplate\":\"%{text:.2f}\"},{\"alignmentgroup\":\"True\",\"hovertemplate\":\"Importance = <b>%{x:.2}</b>\",\"legendgroup\":\"age female\",\"marker\":{\"color\":\"#721f81\",\"opacity\":0.8,\"pattern\":{\"shape\":\"\"},\"line\":{\"color\":\"#3F3B3A\",\"width\":1}},\"name\":\"age female\",\"offsetgroup\":\"age female\",\"orientation\":\"h\",\"showlegend\":false,\"text\":[0.006510123001948285],\"textposition\":\"outside\",\"x\":[0.006510123001948285],\"xaxis\":\"x\",\"y\":[\"age female\"],\"yaxis\":\"y\",\"type\":\"bar\",\"texttemplate\":\"%{text:.2f}\"},{\"alignmentgroup\":\"True\",\"hovertemplate\":\"Importance = <b>%{x:.2}</b>\",\"legendgroup\":\"female smoker_yes\",\"marker\":{\"color\":\"#5f187f\",\"opacity\":0.8,\"pattern\":{\"shape\":\"\"},\"line\":{\"color\":\"#3F3B3A\",\"width\":1}},\"name\":\"female smoker_yes\",\"offsetgroup\":\"female smoker_yes\",\"orientation\":\"h\",\"showlegend\":false,\"text\":[0.006506078146457778],\"textposition\":\"outside\",\"x\":[0.006506078146457778],\"xaxis\":\"x\",\"y\":[\"female smoker_yes\"],\"yaxis\":\"y\",\"type\":\"bar\",\"texttemplate\":\"%{text:.2f}\"},{\"alignmentgroup\":\"True\",\"hovertemplate\":\"Importance = <b>%{x:.2}</b>\",\"legendgroup\":\"children^2\",\"marker\":{\"color\":\"#4a1079\",\"opacity\":0.8,\"pattern\":{\"shape\":\"\"},\"line\":{\"color\":\"#3F3B3A\",\"width\":1}},\"name\":\"children^2\",\"offsetgroup\":\"children^2\",\"orientation\":\"h\",\"showlegend\":false,\"text\":[0.006254484867231567],\"textposition\":\"outside\",\"x\":[0.006254484867231567],\"xaxis\":\"x\",\"y\":[\"children^2\"],\"yaxis\":\"y\",\"type\":\"bar\",\"texttemplate\":\"%{text:.2f}\"},{\"alignmentgroup\":\"True\",\"hovertemplate\":\"Importance = <b>%{x:.2}</b>\",\"legendgroup\":\"children\",\"marker\":{\"color\":\"#36106b\",\"opacity\":0.8,\"pattern\":{\"shape\":\"\"},\"line\":{\"color\":\"#3F3B3A\",\"width\":1}},\"name\":\"children\",\"offsetgroup\":\"children\",\"orientation\":\"h\",\"showlegend\":false,\"text\":[0.0017198936790546716],\"textposition\":\"outside\",\"x\":[0.0017198936790546716],\"xaxis\":\"x\",\"y\":[\"children\"],\"yaxis\":\"y\",\"type\":\"bar\",\"texttemplate\":\"%{text:.2f}\"},{\"alignmentgroup\":\"True\",\"hovertemplate\":\"Importance = <b>%{x:.2}</b>\",\"legendgroup\":\"children female\",\"marker\":{\"color\":\"#221150\",\"opacity\":0.8,\"pattern\":{\"shape\":\"\"},\"line\":{\"color\":\"#3F3B3A\",\"width\":1}},\"name\":\"children female\",\"offsetgroup\":\"children female\",\"orientation\":\"h\",\"showlegend\":false,\"text\":[0.001337373201715646],\"textposition\":\"outside\",\"x\":[0.001337373201715646],\"xaxis\":\"x\",\"y\":[\"children female\"],\"yaxis\":\"y\",\"type\":\"bar\",\"texttemplate\":\"%{text:.2f}\"},{\"alignmentgroup\":\"True\",\"hovertemplate\":\"Importance = <b>%{x:.2}</b>\",\"legendgroup\":\"female\",\"marker\":{\"color\":\"#130d34\",\"opacity\":0.8,\"pattern\":{\"shape\":\"\"},\"line\":{\"color\":\"#3F3B3A\",\"width\":1}},\"name\":\"female\",\"offsetgroup\":\"female\",\"orientation\":\"h\",\"showlegend\":false,\"text\":[0.0007551260941875482],\"textposition\":\"outside\",\"x\":[0.0007551260941875482],\"xaxis\":\"x\",\"y\":[\"female\"],\"yaxis\":\"y\",\"type\":\"bar\",\"texttemplate\":\"%{text:.2f}\"},{\"alignmentgroup\":\"True\",\"hovertemplate\":\"Importance = <b>%{x:.2}</b>\",\"legendgroup\":\"female^2\",\"marker\":{\"color\":\"#06051a\",\"opacity\":0.8,\"pattern\":{\"shape\":\"\"},\"line\":{\"color\":\"#3F3B3A\",\"width\":1}},\"name\":\"female^2\",\"offsetgroup\":\"female^2\",\"orientation\":\"h\",\"showlegend\":false,\"text\":[0.00026999595179153006],\"textposition\":\"outside\",\"x\":[0.00026999595179153006],\"xaxis\":\"x\",\"y\":[\"female^2\"],\"yaxis\":\"y\",\"type\":\"bar\",\"texttemplate\":\"%{text:.2f}\"}],                        {\"template\":{\"data\":{\"barpolar\":[{\"marker\":{\"line\":{\"color\":\"white\",\"width\":0.5},\"pattern\":{\"fillmode\":\"overlay\",\"size\":10,\"solidity\":0.2}},\"type\":\"barpolar\"}],\"bar\":[{\"error_x\":{\"color\":\"#2a3f5f\"},\"error_y\":{\"color\":\"#2a3f5f\"},\"marker\":{\"line\":{\"color\":\"white\",\"width\":0.5},\"pattern\":{\"fillmode\":\"overlay\",\"size\":10,\"solidity\":0.2}},\"type\":\"bar\"}],\"carpet\":[{\"aaxis\":{\"endlinecolor\":\"#2a3f5f\",\"gridcolor\":\"#C8D4E3\",\"linecolor\":\"#C8D4E3\",\"minorgridcolor\":\"#C8D4E3\",\"startlinecolor\":\"#2a3f5f\"},\"baxis\":{\"endlinecolor\":\"#2a3f5f\",\"gridcolor\":\"#C8D4E3\",\"linecolor\":\"#C8D4E3\",\"minorgridcolor\":\"#C8D4E3\",\"startlinecolor\":\"#2a3f5f\"},\"type\":\"carpet\"}],\"choropleth\":[{\"colorbar\":{\"outlinewidth\":0,\"ticks\":\"\"},\"type\":\"choropleth\"}],\"contourcarpet\":[{\"colorbar\":{\"outlinewidth\":0,\"ticks\":\"\"},\"type\":\"contourcarpet\"}],\"contour\":[{\"colorbar\":{\"outlinewidth\":0,\"ticks\":\"\"},\"colorscale\":[[0.0,\"#0d0887\"],[0.1111111111111111,\"#46039f\"],[0.2222222222222222,\"#7201a8\"],[0.3333333333333333,\"#9c179e\"],[0.4444444444444444,\"#bd3786\"],[0.5555555555555556,\"#d8576b\"],[0.6666666666666666,\"#ed7953\"],[0.7777777777777778,\"#fb9f3a\"],[0.8888888888888888,\"#fdca26\"],[1.0,\"#f0f921\"]],\"type\":\"contour\"}],\"heatmapgl\":[{\"colorbar\":{\"outlinewidth\":0,\"ticks\":\"\"},\"colorscale\":[[0.0,\"#0d0887\"],[0.1111111111111111,\"#46039f\"],[0.2222222222222222,\"#7201a8\"],[0.3333333333333333,\"#9c179e\"],[0.4444444444444444,\"#bd3786\"],[0.5555555555555556,\"#d8576b\"],[0.6666666666666666,\"#ed7953\"],[0.7777777777777778,\"#fb9f3a\"],[0.8888888888888888,\"#fdca26\"],[1.0,\"#f0f921\"]],\"type\":\"heatmapgl\"}],\"heatmap\":[{\"colorbar\":{\"outlinewidth\":0,\"ticks\":\"\"},\"colorscale\":[[0.0,\"#0d0887\"],[0.1111111111111111,\"#46039f\"],[0.2222222222222222,\"#7201a8\"],[0.3333333333333333,\"#9c179e\"],[0.4444444444444444,\"#bd3786\"],[0.5555555555555556,\"#d8576b\"],[0.6666666666666666,\"#ed7953\"],[0.7777777777777778,\"#fb9f3a\"],[0.8888888888888888,\"#fdca26\"],[1.0,\"#f0f921\"]],\"type\":\"heatmap\"}],\"histogram2dcontour\":[{\"colorbar\":{\"outlinewidth\":0,\"ticks\":\"\"},\"colorscale\":[[0.0,\"#0d0887\"],[0.1111111111111111,\"#46039f\"],[0.2222222222222222,\"#7201a8\"],[0.3333333333333333,\"#9c179e\"],[0.4444444444444444,\"#bd3786\"],[0.5555555555555556,\"#d8576b\"],[0.6666666666666666,\"#ed7953\"],[0.7777777777777778,\"#fb9f3a\"],[0.8888888888888888,\"#fdca26\"],[1.0,\"#f0f921\"]],\"type\":\"histogram2dcontour\"}],\"histogram2d\":[{\"colorbar\":{\"outlinewidth\":0,\"ticks\":\"\"},\"colorscale\":[[0.0,\"#0d0887\"],[0.1111111111111111,\"#46039f\"],[0.2222222222222222,\"#7201a8\"],[0.3333333333333333,\"#9c179e\"],[0.4444444444444444,\"#bd3786\"],[0.5555555555555556,\"#d8576b\"],[0.6666666666666666,\"#ed7953\"],[0.7777777777777778,\"#fb9f3a\"],[0.8888888888888888,\"#fdca26\"],[1.0,\"#f0f921\"]],\"type\":\"histogram2d\"}],\"histogram\":[{\"marker\":{\"pattern\":{\"fillmode\":\"overlay\",\"size\":10,\"solidity\":0.2}},\"type\":\"histogram\"}],\"mesh3d\":[{\"colorbar\":{\"outlinewidth\":0,\"ticks\":\"\"},\"type\":\"mesh3d\"}],\"parcoords\":[{\"line\":{\"colorbar\":{\"outlinewidth\":0,\"ticks\":\"\"}},\"type\":\"parcoords\"}],\"pie\":[{\"automargin\":true,\"type\":\"pie\"}],\"scatter3d\":[{\"line\":{\"colorbar\":{\"outlinewidth\":0,\"ticks\":\"\"}},\"marker\":{\"colorbar\":{\"outlinewidth\":0,\"ticks\":\"\"}},\"type\":\"scatter3d\"}],\"scattercarpet\":[{\"marker\":{\"colorbar\":{\"outlinewidth\":0,\"ticks\":\"\"}},\"type\":\"scattercarpet\"}],\"scattergeo\":[{\"marker\":{\"colorbar\":{\"outlinewidth\":0,\"ticks\":\"\"}},\"type\":\"scattergeo\"}],\"scattergl\":[{\"marker\":{\"colorbar\":{\"outlinewidth\":0,\"ticks\":\"\"}},\"type\":\"scattergl\"}],\"scattermapbox\":[{\"marker\":{\"colorbar\":{\"outlinewidth\":0,\"ticks\":\"\"}},\"type\":\"scattermapbox\"}],\"scatterpolargl\":[{\"marker\":{\"colorbar\":{\"outlinewidth\":0,\"ticks\":\"\"}},\"type\":\"scatterpolargl\"}],\"scatterpolar\":[{\"marker\":{\"colorbar\":{\"outlinewidth\":0,\"ticks\":\"\"}},\"type\":\"scatterpolar\"}],\"scatter\":[{\"marker\":{\"colorbar\":{\"outlinewidth\":0,\"ticks\":\"\"}},\"type\":\"scatter\"}],\"scatterternary\":[{\"marker\":{\"colorbar\":{\"outlinewidth\":0,\"ticks\":\"\"}},\"type\":\"scatterternary\"}],\"surface\":[{\"colorbar\":{\"outlinewidth\":0,\"ticks\":\"\"},\"colorscale\":[[0.0,\"#0d0887\"],[0.1111111111111111,\"#46039f\"],[0.2222222222222222,\"#7201a8\"],[0.3333333333333333,\"#9c179e\"],[0.4444444444444444,\"#bd3786\"],[0.5555555555555556,\"#d8576b\"],[0.6666666666666666,\"#ed7953\"],[0.7777777777777778,\"#fb9f3a\"],[0.8888888888888888,\"#fdca26\"],[1.0,\"#f0f921\"]],\"type\":\"surface\"}],\"table\":[{\"cells\":{\"fill\":{\"color\":\"#EBF0F8\"},\"line\":{\"color\":\"white\"}},\"header\":{\"fill\":{\"color\":\"#C8D4E3\"},\"line\":{\"color\":\"white\"}},\"type\":\"table\"}]},\"layout\":{\"annotationdefaults\":{\"arrowcolor\":\"#2a3f5f\",\"arrowhead\":0,\"arrowwidth\":1},\"autotypenumbers\":\"strict\",\"coloraxis\":{\"colorbar\":{\"outlinewidth\":0,\"ticks\":\"\"}},\"colorscale\":{\"diverging\":[[0,\"#8e0152\"],[0.1,\"#c51b7d\"],[0.2,\"#de77ae\"],[0.3,\"#f1b6da\"],[0.4,\"#fde0ef\"],[0.5,\"#f7f7f7\"],[0.6,\"#e6f5d0\"],[0.7,\"#b8e186\"],[0.8,\"#7fbc41\"],[0.9,\"#4d9221\"],[1,\"#276419\"]],\"sequential\":[[0.0,\"#0d0887\"],[0.1111111111111111,\"#46039f\"],[0.2222222222222222,\"#7201a8\"],[0.3333333333333333,\"#9c179e\"],[0.4444444444444444,\"#bd3786\"],[0.5555555555555556,\"#d8576b\"],[0.6666666666666666,\"#ed7953\"],[0.7777777777777778,\"#fb9f3a\"],[0.8888888888888888,\"#fdca26\"],[1.0,\"#f0f921\"]],\"sequentialminus\":[[0.0,\"#0d0887\"],[0.1111111111111111,\"#46039f\"],[0.2222222222222222,\"#7201a8\"],[0.3333333333333333,\"#9c179e\"],[0.4444444444444444,\"#bd3786\"],[0.5555555555555556,\"#d8576b\"],[0.6666666666666666,\"#ed7953\"],[0.7777777777777778,\"#fb9f3a\"],[0.8888888888888888,\"#fdca26\"],[1.0,\"#f0f921\"]]},\"colorway\":[\"#636efa\",\"#EF553B\",\"#00cc96\",\"#ab63fa\",\"#FFA15A\",\"#19d3f3\",\"#FF6692\",\"#B6E880\",\"#FF97FF\",\"#FECB52\"],\"font\":{\"color\":\"#2a3f5f\"},\"geo\":{\"bgcolor\":\"white\",\"lakecolor\":\"white\",\"landcolor\":\"white\",\"showlakes\":true,\"showland\":true,\"subunitcolor\":\"#C8D4E3\"},\"hoverlabel\":{\"align\":\"left\"},\"hovermode\":\"closest\",\"mapbox\":{\"style\":\"light\"},\"paper_bgcolor\":\"white\",\"plot_bgcolor\":\"white\",\"polar\":{\"angularaxis\":{\"gridcolor\":\"#EBF0F8\",\"linecolor\":\"#EBF0F8\",\"ticks\":\"\"},\"bgcolor\":\"white\",\"radialaxis\":{\"gridcolor\":\"#EBF0F8\",\"linecolor\":\"#EBF0F8\",\"ticks\":\"\"}},\"scene\":{\"xaxis\":{\"backgroundcolor\":\"white\",\"gridcolor\":\"#DFE8F3\",\"gridwidth\":2,\"linecolor\":\"#EBF0F8\",\"showbackground\":true,\"ticks\":\"\",\"zerolinecolor\":\"#EBF0F8\"},\"yaxis\":{\"backgroundcolor\":\"white\",\"gridcolor\":\"#DFE8F3\",\"gridwidth\":2,\"linecolor\":\"#EBF0F8\",\"showbackground\":true,\"ticks\":\"\",\"zerolinecolor\":\"#EBF0F8\"},\"zaxis\":{\"backgroundcolor\":\"white\",\"gridcolor\":\"#DFE8F3\",\"gridwidth\":2,\"linecolor\":\"#EBF0F8\",\"showbackground\":true,\"ticks\":\"\",\"zerolinecolor\":\"#EBF0F8\"}},\"shapedefaults\":{\"line\":{\"color\":\"#2a3f5f\"}},\"ternary\":{\"aaxis\":{\"gridcolor\":\"#DFE8F3\",\"linecolor\":\"#A2B1C6\",\"ticks\":\"\"},\"baxis\":{\"gridcolor\":\"#DFE8F3\",\"linecolor\":\"#A2B1C6\",\"ticks\":\"\"},\"bgcolor\":\"white\",\"caxis\":{\"gridcolor\":\"#DFE8F3\",\"linecolor\":\"#A2B1C6\",\"ticks\":\"\"}},\"title\":{\"x\":0.05},\"xaxis\":{\"automargin\":true,\"gridcolor\":\"#EBF0F8\",\"linecolor\":\"#EBF0F8\",\"ticks\":\"\",\"title\":{\"standoff\":15},\"zerolinecolor\":\"#EBF0F8\",\"zerolinewidth\":2},\"yaxis\":{\"automargin\":true,\"gridcolor\":\"#EBF0F8\",\"linecolor\":\"#EBF0F8\",\"ticks\":\"\",\"title\":{\"standoff\":15},\"zerolinecolor\":\"#EBF0F8\",\"zerolinewidth\":2}}},\"xaxis\":{\"anchor\":\"y\",\"domain\":[0.0,1.0],\"title\":{\"text\":\"Average Feature Importance\"},\"showgrid\":true,\"showline\":true,\"linecolor\":\"#9A9A9A\",\"gridcolor\":\"#F5F5F5\"},\"yaxis\":{\"anchor\":\"x\",\"domain\":[0.0,1.0],\"title\":{\"text\":\"\"},\"categoryorder\":\"array\",\"categoryarray\":[\"female^2\",\"female\",\"children female\",\"children\",\"children^2\",\"female smoker_yes\",\"age female\",\"bmi female\",\"children smoker_yes\",\"bmi children\",\"age children\",\"age^2\",\"age\",\"age bmi\",\"bmi^2\",\"bmi\",\"smoker_yes\",\"smoker_yes^2\",\"bmi smoker_yes\",\"age smoker_yes\"],\"linecolor\":\"#D8D8D8\"},\"legend\":{\"title\":{\"text\":\"index\"},\"tracegroupgap\":0},\"margin\":{\"t\":60},\"barmode\":\"relative\",\"height\":700,\"width\":700,\"title\":{\"text\":\"Feature Importance in Predicting Health Insurance Costs\"},\"coloraxis\":{\"showscale\":false},\"font\":{\"color\":\"#303030\"}},                        {\"responsive\": true}                    ).then(function(){\n",
              "                            \n",
              "var gd = document.getElementById('29ce4c96-b70d-494e-8d6b-6571c241edbd');\n",
              "var x = new MutationObserver(function (mutations, observer) {{\n",
              "        var display = window.getComputedStyle(gd).display;\n",
              "        if (!display || display === 'none') {{\n",
              "            console.log([gd, 'removed!']);\n",
              "            Plotly.purge(gd);\n",
              "            observer.disconnect();\n",
              "        }}\n",
              "}});\n",
              "\n",
              "// Listen for the removal of the full notebook cells\n",
              "var notebookContainer = gd.closest('#notebook-container');\n",
              "if (notebookContainer) {{\n",
              "    x.observe(notebookContainer, {childList: true});\n",
              "}}\n",
              "\n",
              "// Listen for the clearing of the current output cell\n",
              "var outputEl = gd.closest('.output');\n",
              "if (outputEl) {{\n",
              "    x.observe(outputEl, {childList: true});\n",
              "}}\n",
              "\n",
              "                        })                };                            </script>        </div>\n",
              "</body>\n",
              "</html>"
            ]
          },
          "metadata": {}
        }
      ],
      "source": [
        "col=sns.color_palette(\"magma\", 20).as_hex()[::-1]\n",
        "feat_importance.set_index(X_train.columns, inplace=True)\n",
        "ft=pd.DataFrame({\"Average Importance\":feat_importance.mean(axis=1)})\n",
        "plot_df=ft.nlargest(20, columns=\"Average Importance\").sort_values(by=\"Average Importance\",ascending=False)\n",
        "fig = px.bar(plot_df, x=\"Average Importance\", y=plot_df.index, text=\"Average Importance\", height=700,\n",
        "             color=plot_df.index,width=700,opacity=.8,color_discrete_sequence=col)\n",
        "fig.update_traces(texttemplate='%{text:.2f}', textposition='outside',\n",
        "                  marker_line=dict(width=1, color='#3F3B3A'), showlegend=False, \n",
        "                  hovertemplate='Importance = <b>%{x:.2}</b>')\n",
        "fig.update_layout(title_text='Feature Importance in Predicting Health Insurance Costs', \n",
        "                  coloraxis_showscale=False, yaxis_title=\"\", font_color=\"#303030\", yaxis_linecolor=\"#D8D8D8\", \n",
        "                  xaxis=dict(title=\"Average Feature Importance\", showgrid=True, showline=True, \n",
        "                             linecolor=\"#9A9A9A\", gridcolor=\"#F5F5F5\"))\n",
        "fig.show(renderer=\"colab\")"
      ]
    },
    {
      "cell_type": "code",
      "execution_count": null,
      "id": "3ab0d78e",
      "metadata": {
        "id": "3ab0d78e"
      },
      "outputs": [],
      "source": []
    }
  ],
  "metadata": {
    "kernelspec": {
      "display_name": "Python 3 (ipykernel)",
      "language": "python",
      "name": "python3"
    },
    "language_info": {
      "codemirror_mode": {
        "name": "ipython",
        "version": 3
      },
      "file_extension": ".py",
      "mimetype": "text/x-python",
      "name": "python",
      "nbconvert_exporter": "python",
      "pygments_lexer": "ipython3",
      "version": "3.9.12"
    },
    "colab": {
      "provenance": [],
      "include_colab_link": true
    }
  },
  "nbformat": 4,
  "nbformat_minor": 5
}