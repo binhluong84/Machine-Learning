{
  "nbformat": 4,
  "nbformat_minor": 0,
  "metadata": {
    "colab": {
      "provenance": [],
      "private_outputs": true,
      "authorship_tag": "ABX9TyOeTnCMGJWWdHSDPpnGohT7",
      "include_colab_link": true
    },
    "kernelspec": {
      "name": "python3",
      "display_name": "Python 3"
    },
    "language_info": {
      "name": "python"
    },
    "accelerator": "TPU"
  },
  "cells": [
    {
      "cell_type": "markdown",
      "metadata": {
        "id": "view-in-github",
        "colab_type": "text"
      },
      "source": [
        "<a href=\"https://colab.research.google.com/github/binhluong84/Machine-Learning/blob/main/Time_Series_Classification_with_LSTMs_Sensor_EDA.ipynb\" target=\"_parent\"><img src=\"https://colab.research.google.com/assets/colab-badge.svg\" alt=\"Open In Colab\"/></a>"
      ]
    },
    {
      "cell_type": "code",
      "execution_count": null,
      "metadata": {
        "id": "KBa4VsZnmWwy"
      },
      "outputs": [],
      "source": [
        "#Connect Google Drive\n",
        "from google.colab import drive\n",
        "drive.mount('/gdrive')"
      ]
    },
    {
      "cell_type": "code",
      "source": [
        "import warnings, gc\n",
        "import numpy as np \n",
        "import pandas as pd\n",
        "import matplotlib as mpl\n",
        "import plotly.express as px\n",
        "import plotly.graph_objects as go\n",
        "from plotly.subplots import make_subplots\n",
        "from plotly.offline import init_notebook_mode\n",
        "from scipy.stats import gaussian_kde\n",
        "from sklearn.preprocessing import MinMaxScaler, StandardScaler\n",
        "from sklearn.model_selection import KFold, GroupKFold \n",
        "from sklearn.metrics import roc_auc_score, roc_curve, auc\n",
        "from lightgbm import LGBMClassifier\n",
        "import plotly\n",
        "from plotly.graph_objs import Scatter, Layout\n",
        "import plotly.io as pio\n",
        "pio.renderers.default = \"colab\"\n",
        "\n",
        "\n",
        "plotly.offline.init_notebook_mode(connected=True)\n",
        "\n",
        "plotly.offline.iplot({\n",
        "    \"data\": [Scatter(x=[1, 2, 3, 4], y=[4, 3, 2, 1])],\n",
        "    \"layout\": Layout(title=\"hello world\")\n",
        "})\n",
        "warnings.filterwarnings(\"ignore\")"
      ],
      "metadata": {
        "id": "MrppZ_jscgmP"
      },
      "execution_count": null,
      "outputs": []
    },
    {
      "cell_type": "code",
      "source": [
        "#@title Give me a name {display-mode: \"form\"}\n",
        "\n",
        "# This code will be hidden when the notebook is loaded.\n"
      ],
      "metadata": {
        "id": "fnJ7whHfve3L"
      },
      "execution_count": null,
      "outputs": []
    },
    {
      "cell_type": "code",
      "source": [
        "init_notebook_mode(connected=True)\n",
        "color=px.colors.qualitative.Plotly\n",
        "temp=dict(layout=go.Layout(font=dict(family=\"Franklin Gothic\", size=12), \n",
        "                           height=500, width=700))"
      ],
      "metadata": {
        "id": "7D1T2lsLcxRW"
      },
      "execution_count": null,
      "outputs": []
    },
    {
      "cell_type": "code",
      "source": [
        "train=pd.read_csv('/gdrive/MyDrive/Time Series Classification with LSTMs/train.csv')\n",
        "test=pd.read_csv('/gdrive/MyDrive/Time Series Classification with LSTMs/test.csv')\n",
        "sub=pd.read_csv('/gdrive/MyDrive/Time Series Classification with LSTMs/sample_submission.csv')\n",
        "lbl=pd.read_csv('/gdrive/MyDrive/Time Series Classification with LSTMs/train_labels.csv')"
      ],
      "metadata": {
        "id": "d8H1jv0BdFD7"
      },
      "execution_count": null,
      "outputs": []
    },
    {
      "cell_type": "code",
      "source": [
        "lbl"
      ],
      "metadata": {
        "id": "4GhXLzvwdent"
      },
      "execution_count": null,
      "outputs": []
    },
    {
      "cell_type": "code",
      "source": [
        "print(\"Train Shape: There are {:,.0f} rows and {:,.0f} columns.\\nMissing values = {}, Duplicates = {}.\\n\".\n",
        "      format(train.shape[0], train.shape[1],train.isna().sum().sum(), train.duplicated().sum()))\n",
        "print(\"There are {:,.0f} training labels.\\n\".format(lbl.shape[0]))\n",
        "print(\"Test Shape: There are {:,.0f} rows and {:,.0f} columns.\\nMissing values = {}, Duplicates = {}.\\n\".\n",
        "      format(test.shape[0], test.shape[1], test.isna().sum().sum(), test.duplicated().sum()))"
      ],
      "metadata": {
        "id": "IkUbsNurdpii"
      },
      "execution_count": null,
      "outputs": []
    },
    {
      "cell_type": "code",
      "source": [
        "train=train.merge(lbl, on='sequence')\n",
        "df0=train[train.state==0].describe().reset_index()\n",
        "df1=train[train.state==1].describe().reset_index()\n",
        "df0['state']=0\n",
        "df1['state']=1\n",
        "df=pd.concat([df0,df1], axis=0).set_index(['index','state'])\n",
        "df.index = df.index.set_names(['','State'])\n",
        "df=df.reindex([('count', 0),('count', 1),( 'mean', 0),( 'mean', 1),\n",
        "               (  'std', 0), (  'std', 1),(  'min', 0),(  'min', 1),\n",
        "               (  '25%', 0), (  '25%', 1),(  '50%', 0),(  '50%', 1),\n",
        "               (  '75%', 0),(  '75%', 1),(  'max', 0),(  'max', 1)])\n",
        "display(df.style.format('{:,.2f}')\n",
        "        .background_gradient(subset=(df.index[2:],df.columns[:]), cmap='GnBu', axis=0))"
      ],
      "metadata": {
        "id": "_kXyBF8pdwb6"
      },
      "execution_count": null,
      "outputs": []
    },
    {
      "cell_type": "code",
      "source": [
        "train"
      ],
      "metadata": {
        "id": "rTnu-g19ftQi"
      },
      "execution_count": null,
      "outputs": []
    },
    {
      "cell_type": "code",
      "source": [
        "p1=pd.DataFrame.from_dict({'Train': train.subject.nunique(), 'Test': test.subject.nunique()}, \n",
        "                          orient='index', columns=['count'])\n",
        "p2=pd.DataFrame.from_dict({'Train': train.sequence.nunique(), 'Test': test.sequence.nunique()}, \n",
        "                          orient='index', columns=['count'])\n",
        "p3=pd.DataFrame.from_dict({'Train':(train.groupby('subject')['step'].count().sum()/train.subject.nunique())/60, \n",
        "                           'Test':(test.groupby('subject')['step'].count().sum()/test.subject.nunique())/60}, \n",
        "                          orient='index', columns=['count'])\n",
        "col_list=['#0969AD','#F2BB08']\n",
        "rgb=['rgba'+str(mpl.colors.to_rgba(i, 0.55)) for i in col_list]\n",
        "titles=['Total Participants', '60-Second Sequences',\n",
        "        'Average Time per Participant']\n",
        "fig = make_subplots(rows=1, cols=3, \n",
        "                    subplot_titles=titles)\n",
        "text=['','',' min']\n",
        "legend=True\n",
        "for i, df in enumerate([p1,p2,p3]):\n",
        "    if i!=0: legend=False\n",
        "    for j in range(0,2):\n",
        "        fig.add_trace(go.Bar(x=[df.index[j]], y=df.iloc[j,:], \n",
        "                             text=df.iloc[j,:], name=df.index[j], width=0.8,\n",
        "                             texttemplate='%{text:,.0f}'+str(text[i]), textposition='outside',\n",
        "                             marker=dict(color=rgb[j], line_color=col_list[j], line_width=2),\n",
        "                             hovertemplate='%{x} '+str(titles[i])+' = %{y:,.0f}'+str(text[i]),\n",
        "                             showlegend=legend),row=1,col=i+1)\n",
        "fig.update_layout(template=temp, title='Train and Test Set Overview', barmode='group',\n",
        "                  yaxis1_range=(0,730),yaxis2_range=(0,28000),yaxis3_range=(0,42),\n",
        "                  legend=dict(orientation=\"h\",yanchor=\"bottom\",xanchor=\"right\",\n",
        "                              y=1.14,x=.96,traceorder='normal'))\n",
        "fig.show(renderer=\"colab\")\n"
      ],
      "metadata": {
        "id": "v3G8FgQLf3la"
      },
      "execution_count": null,
      "outputs": []
    },
    {
      "cell_type": "code",
      "source": [
        "rgb=['rgba'+str(mpl.colors.to_rgba(i, 0.5)) for i in color[:2]]\n",
        "fig = make_subplots(rows=2, cols=2,\n",
        "                    specs=[[{},{}],\n",
        "                           [{\"colspan\":2}, None]],\n",
        "                    vertical_spacing=0.18,\n",
        "                    column_widths=(.25,.75),\n",
        "                    row_heights=(.55,.45),\n",
        "                    subplot_titles=('Target Distribution', \n",
        "                                    'Unique Sequences per Participant', \n",
        "                                    'Proportion of time spent in each state'))\n",
        "\n",
        "plot1=train.state.value_counts(normalize=True).mul(100).reset_index()\n",
        "plot1['index']=plot1['index'].apply(lambda x: 'State 0' if x==0 else 'State 1')\n",
        "fig.add_trace(go.Bar(x=plot1['index'], y=plot1['state'], text=plot1['state'],\n",
        "                     texttemplate='%{text:.1f}%', textposition='outside',\n",
        "                     marker=dict(color=rgb[::-1], line_color=color[:2][::-1], \n",
        "                                 line_width=2),\n",
        "                     hovertemplate='%{x} = %{y:.1f}%<extra></extra>',\n",
        "                     showlegend=False),row=1,col=1)\n",
        "\n",
        "plot2=train.groupby(['subject','state'])['sequence'].nunique().reset_index()\n",
        "for i in reversed(range(0,2)): \n",
        "    x=plot2[plot2.state==i]['subject']\n",
        "    y=plot2[plot2.state==i]['sequence']\n",
        "    fig.add_trace(go.Scatter(x=x, y=y, name='State {}'.format(i), mode='lines', \n",
        "                             marker_color=color[i],showlegend=False), \n",
        "                  row=1,col=2)\n",
        "\n",
        "plot3=train.groupby(['subject','state'])['sequence'].nunique()\n",
        "plot3=plot3.div(plot3.sum(level=0), level=0).mul(100).reset_index()\n",
        "p0=plot3[plot3.state==0].sort_values(by='sequence').reset_index(drop=True)\n",
        "p1=plot3[plot3.state==1].sort_values(by='sequence',ascending=False).reset_index(drop=True)\n",
        "fill=['tozeroy','tonexty']\n",
        "for i, df in enumerate([p1,p0]):\n",
        "    fig.add_trace(go.Scatter(x=df.index, y=df.sequence, fill=fill[i], \n",
        "                             stackgroup='one',name='State {}'.format(df.state.max()),\n",
        "                             marker_color=color[:2][::-1][i]),row=2,col=1)\n",
        "fig.update_xaxes(showline=False, zeroline=False)\n",
        "fig.update_layout(template=temp, height=800, hovermode='x unified',\n",
        "                  yaxis1=dict(range=(0,58),ticksuffix='%'),\n",
        "                  xaxis2_title='Participant',\n",
        "                  yaxis3_ticksuffix='%', xaxis3_title=\"Participant\",\n",
        "                  legend=dict(orientation=\"v\",yanchor=\"bottom\",xanchor=\"right\",\n",
        "                              y=.36,x=1,traceorder='normal'))\n",
        "fig.show(renderer=\"colab\")"
      ],
      "metadata": {
        "id": "8F6hEWoGf7fi"
      },
      "execution_count": null,
      "outputs": []
    },
    {
      "cell_type": "code",
      "source": [
        "import numpy as np\n",
        "from matplotlib import pyplot as plt\n",
        "\n",
        "y = np.random.randn(100)\n",
        "x = [x for x in range(len(y))]\n",
        "\n",
        "plt.plot(x, y, '-')\n",
        "plt.fill_between(x, y, 200, where = (y > 195), facecolor='g', alpha=0.6)\n",
        "\n",
        "plt.title(\"Sample Plot\")\n",
        "plt.show()"
      ],
      "metadata": {
        "id": "Ku3w_a0sgYqK"
      },
      "execution_count": null,
      "outputs": []
    },
    {
      "cell_type": "code",
      "source": [
        "## đồ thị về phân phối dữ liệu các sensor:\n",
        "sensors=[col for col in train if col.startswith('sensor')]\n",
        "rowtitles=['Sensor {}'.format(sensors[i][-2:]) for i in range(len(sensors))]\n",
        "t1=['Distribution of Sensor {}'.format(sensors[i][-2:]) for i in range(len(sensors))]\n",
        "t2=['Median Signals by Second' for i in range(len(sensors))]\n",
        "titles=[x for y in zip(t1, t2) for x in y]\n",
        "\n",
        "fig = make_subplots(rows=13, cols=2, \n",
        "                    horizontal_spacing=0.1, \n",
        "                    subplot_titles=titles, \n",
        "                    row_titles=rowtitles)\n",
        "\n",
        "legend=True\n",
        "for i, sensor in enumerate(sensors):\n",
        "    if i != 0:  \n",
        "        legend=False\n",
        "    for j in range(0,2):\n",
        "        hist_data=train[train.state==j][sensor]\n",
        "        density=gaussian_kde(dataset=hist_data)\n",
        "        x=np.arange(hist_data.min(), hist_data.max()) \n",
        "        density.covariance_factor = lambda: 4  \n",
        "        density._compute_covariance()\n",
        "        kde_curve=density(x)\n",
        "        fig.append_trace(go.Scatter(x=x, y=kde_curve, marker_color=color[j], \n",
        "                                    fill='tozeroy', name='State {}'.format(j), \n",
        "                                    hovertemplate='Density = %{y:.5f} at %{x}',\n",
        "                                    showlegend=legend), \n",
        "                         row=i+1, col=1)\n",
        "        fig.update_yaxes(title=\"Density\",row=i+1, col=1)\n",
        "        \n",
        "    plot_df=train.groupby(['step','state'])[sensor].median().reset_index()\n",
        "    for j in reversed(range(0,2)): \n",
        "        y=plot_df[plot_df.state==j][sensor]\n",
        "        x=plot_df.step.unique()\n",
        "        if y.sum() != 0:\n",
        "            fig.append_trace(go.Bar(x=x, y=y, name='State {}'.format(j),\n",
        "                                    marker_color=color[j], \n",
        "                                    hovertemplate='Median Signal = %{y:.5f} at second %{x}',\n",
        "                                    opacity=0.9, showlegend=False),\n",
        "                             row=i+1, col=2)\n",
        "            fig.update_xaxes(title='Time, in seconds',row=i+1, col=2)\n",
        "            fig.update_yaxes(title=\"Signal\",row=i+1, col=2)\n",
        "        else:\n",
        "            fig.append_trace(go.Scatter(x=x, y=y, name='State {}'.format(j),\n",
        "                                        marker_color=color[j], \n",
        "                                        showlegend=False),\n",
        "                             row=i+1, col=2) \n",
        "            fig.update_xaxes(title='Time, in seconds',row=i+1, col=2)\n",
        "            fig.update_yaxes(title=\"Signal\",row=i+1, col=2)\n",
        "fig.update_layout(template=temp, title='Sensor Signal Distributions', \n",
        "                  barmode='relative', height=4000, \n",
        "                  legend=dict(orientation=\"v\",yanchor=\"bottom\",\n",
        "                              xanchor=\"right\",y=1.01,x=.99,\n",
        "                              traceorder='reversed'))\n",
        "fig.show(renderer=\"colab\")"
      ],
      "metadata": {
        "id": "Upuq7nWTiVjV"
      },
      "execution_count": null,
      "outputs": []
    },
    {
      "cell_type": "code",
      "source": [
        "sensors=[col for col in train if col.startswith('sensor')]\n",
        "corr=train.iloc[:,3:-1].corr(method='spearman')\n",
        "t=train[train.subject==1]\n",
        "x,y=[-3,0,0,3],[-1.5,0.25,0,1.5]\n",
        "xbins=dict(start=-3, end=3, size=0.2)\n",
        "ybins=dict(start=-1.5, end=1.5, size=0.2)\n",
        "ax=dict(zeroline=False, showgrid=False,\n",
        "        mirror=True,showline=True,linecolor='#F1F1F1')\n",
        "cmap=mpl.colors.LinearSegmentedColormap.from_list(\"\", \n",
        "                                                  [\"#2290AC\", '#B4DAEA', '#FFB3B3',\"#E92D22\"])\n",
        "col_scale=[[0, 'white'], [0.25, 'rgb(10,136,186)'], \n",
        "           [0.5, 'rgb(242,211,56)'],[0.75, 'rgb(242,143,56)'],\n",
        "           [1, 'rgb(217,30,30)']]\n",
        "\n",
        "fig = make_subplots(rows=13, cols=13, \n",
        "                    shared_yaxes=True)\n",
        "# Density plots\n",
        "for i, sensor in enumerate(sensors):\n",
        "    x_hist=t[sensor]\n",
        "    for j, sen in enumerate(sensors[i:]):\n",
        "        fig.add_trace(go.Histogram2d(x=x_hist, y=t[sen], histnorm='', zsmooth='fast',\n",
        "                                     xbins=xbins,ybins=ybins, name='', showscale=False,\n",
        "                                     colorscale=col_scale), row=i+j+1,col=i+1)\n",
        "        fig.update_yaxes(ax,row=i+j+1,col=i+1)\n",
        "        fig.update_xaxes(ax,row=i+j+1,col=i+1)\n",
        "# Correlations\n",
        "for i, sen in enumerate(sensors):\n",
        "    c=corr[sen][i+1:]\n",
        "    if len(c) > 1:\n",
        "        norm=mpl.colors.TwoSlopeNorm(vmin=corr.min().min()+.1, vcenter=0, vmax=corr.max().max()-.3)\n",
        "    sensor_cmap=cmap(norm(c)).tolist()\n",
        "    m=[mpl.colors.rgb2hex(sensor_cmap[rgb]) for rgb in range(len(sensor_cmap))]\n",
        "    n=i+2\n",
        "    for j in np.arange(i+2,14):\n",
        "        fig.add_trace(go.Scatter(x=x,y=y,mode=\"text\",text=[\"\",\"Corr:\", \"<br>{:.3f}\".format(c[j-n]), \"\"],\n",
        "                                 hovertemplate='Sensor {} and {} Correlation = {:.4f}'.format(i,j-n+i+1,c[j-n]),\n",
        "                                 name='',textfont_color=[\"#ffffff\",\"#555555\",\"{}\".format(m[j-n])],\n",
        "                                 showlegend=False), \n",
        "                      row=i+1,col=j)\n",
        "        fig.update_yaxes(ax,showticklabels=False, row=i+1,col=j)\n",
        "        fig.update_xaxes(ax,showticklabels=False, row=i+1,col=j)\n",
        "fig.update_layout(template=temp, height=1950, width=1000,\n",
        "                  title='Sensor Correlations and Density Plots', \n",
        "                  yaxis1_title='Sensor 0', yaxis14_title='Sensor 1',\n",
        "                  yaxis27_title='Sensor 2', yaxis40_title='Sensor 3', \n",
        "                  yaxis53_title='Sensor 4', yaxis66_title='Sensor 5',\n",
        "                  yaxis79_title='Sensor 6', yaxis92_title='Sensor 7',\n",
        "                  yaxis105_title='Sensor 8', yaxis118_title='Sensor 9',\n",
        "                  yaxis131_title='Sensor 10', yaxis144_title='Sensor 11',\n",
        "                  yaxis157_title='Sensor 12', xaxis157_title='Sensor 0',\n",
        "                  xaxis158_title='Sensor 1', xaxis159_title='Sensor 2',\n",
        "                  xaxis160_title='Sensor 3', xaxis161_title='Sensor 4',\n",
        "                  xaxis162_title='Sensor 5', xaxis163_title='Sensor 6',\n",
        "                  xaxis164_title='Sensor 7', xaxis165_title='Sensor 8',\n",
        "                  xaxis166_title='Sensor 9', xaxis167_title='Sensor 10',\n",
        "                  xaxis168_title='Sensor 11', xaxis169_title='Sensor 12')\n",
        "fig.show(renderer=\"colab\")\n"
      ],
      "metadata": {
        "id": "0V6_VazZjZtL"
      },
      "execution_count": null,
      "outputs": []
    },
    {
      "cell_type": "code",
      "source": [
        "def feat_eng(df):\n",
        "    \n",
        "    seq_df=pd.DataFrame()\n",
        "    sensors=[col for col in df if col.startswith('sensor')]\n",
        "    \n",
        "    for sensor in sensors:\n",
        "        df['{}_lag1'.format(sensor)] = df.groupby('sequence')[sensor].shift(1)\n",
        "        df['{}_lag1'.format(sensor)].fillna(df[sensor].median(), inplace=True)\n",
        "        df['{}_diff'.format(sensor)] = df[sensor] - df['{}_lag1'.format(sensor)] \n",
        "        df['{}_roll_mean3'.format(sensor)]=df['{}'.format(sensor)].rolling(window=3).mean()\n",
        "        df['{}_roll_mean6'.format(sensor)]=df['{}'.format(sensor)].rolling(window=6).mean()\n",
        "        df['{}_roll_mean9'.format(sensor)]=df['{}'.format(sensor)].rolling(window=9).mean()\n",
        "        df['{}_roll_mean3'.format(sensor)].fillna(df['{}_roll_mean3'.format(sensor)].median(), inplace=True)\n",
        "        df['{}_roll_mean6'.format(sensor)].fillna(df['{}_roll_mean6'.format(sensor)].median(), inplace=True)\n",
        "        df['{}_roll_mean9'.format(sensor)].fillna(df['{}_roll_mean9'.format(sensor)].median(), inplace=True)\n",
        "        s_diff='{}_diff'.format(sensor)\n",
        "        seq_df['{}_mean'.format(sensor)] = df.groupby(['sequence','subject'])[sensor].mean()\n",
        "        seq_df['{}_diff_mean'.format(sensor)] = df.groupby(['sequence','subject'])[s_diff].mean()\n",
        "        seq_df['{}_med'.format(sensor)] = df.groupby(['sequence','subject'])[sensor].median()\n",
        "        seq_df['{}_std'.format(sensor)] = df.groupby(['sequence','subject'])[sensor].std()\n",
        "        seq_df['{}_skew'.format(sensor)] = df.groupby(['sequence','subject'])[sensor].skew()\n",
        "        seq_df['{}_kurt'.format(sensor)] = df.groupby(['sequence','subject'])[sensor].apply(pd.DataFrame.kurt)\n",
        "        seq_df['{}_min'.format(sensor)] = df.groupby(['sequence','subject'])[sensor].min()\n",
        "        seq_df['{}_max'.format(sensor)] = df.groupby(['sequence','subject'])[sensor].max()\n",
        "    \n",
        "    return df, seq_df.reset_index()\n",
        "\n",
        "train, seq_df=feat_eng(df=train)\n",
        "test, test_seq_df=feat_eng(df=test)"
      ],
      "metadata": {
        "id": "MDQktLRboMox"
      },
      "execution_count": null,
      "outputs": []
    },
    {
      "cell_type": "code",
      "source": [
        "t1=['Sensor {}  Observed Signals'.format(sensors[i][-2:]) for i in range(len(sensors))]\n",
        "t2=['Differenced Signals' for i in range(len(sensors))]\n",
        "titles=[x for y in zip(t1, t2) for x in y]\n",
        "\n",
        "fig = make_subplots(rows=13, cols=2, shared_yaxes=True,\n",
        "                    horizontal_spacing=0.05, vertical_spacing=0.04,\n",
        "                    subplot_titles=titles)\n",
        "\n",
        "t=train[train.subject==1]\n",
        "for i,sensor in enumerate(sensors): \n",
        "    x=np.arange(0,t.sequence.nunique())\n",
        "    y=t.groupby('sequence')[sensor].mean()\n",
        "    fig.add_trace(go.Scatter(x=x, y=y, name='Average Signal', \n",
        "                             mode='lines+markers',\n",
        "                             hovertemplate='%{y:.3f} at %{x} minutes',\n",
        "                             marker=dict(color='#3698CC', size=4), \n",
        "                             opacity=0.9, showlegend=False),\n",
        "                  row=i+1, col=1)\n",
        "    fig.update_yaxes(title='Signal'.format(i), row=i+1, col=1)\n",
        "    \n",
        "sensor_diff=[col for col in t.columns if 'diff' in col]\n",
        "for i,sensor in enumerate(sensor_diff):\n",
        "    x=np.arange(0,t.sequence.nunique())\n",
        "    y=t.groupby('sequence')[sensor].mean()\n",
        "    fig.add_trace(go.Scatter(x=x, y=y, name='Differenced Signal', \n",
        "                             mode='lines+markers', \n",
        "                             hovertemplate='%{y:.3f} at %{x} minutes',\n",
        "                             marker=dict(color='#EE938D', size=4), \n",
        "                             showlegend=False),\n",
        "                  row=i+1, col=2)\n",
        "fig.update_xaxes(title='Time, in minutes')\n",
        "fig.update_layout(template=temp, title='Original vs. Differenced Sensor Signals', \n",
        "                  hovermode=\"x unified\", height=3500, \n",
        "                  legend=dict(orientation=\"v\",yanchor=\"bottom\",xanchor=\"right\",y=1.01,x=.97))\n",
        "fig.show(renderer=\"colab\")"
      ],
      "metadata": {
        "id": "jw0qoAz0oTjJ"
      },
      "execution_count": null,
      "outputs": []
    },
    {
      "cell_type": "code",
      "source": [
        "import tensorflow as tf\n",
        "from tensorflow.keras.models import Model, Sequential\n",
        "from tensorflow.keras.layers import LSTM, Bidirectional, Concatenate, GRU\n",
        "from tensorflow.keras.layers import Input, Dense, Dropout\n",
        "from tensorflow.keras.layers import BatchNormalization, GlobalMaxPooling1D\n",
        "from tensorflow.keras.callbacks import EarlyStopping, ReduceLROnPlateau\n",
        "from tensorflow.keras import metrics, regularizers\n",
        "\n",
        "tpu = tf.distribute.cluster_resolver.TPUClusterResolver.connect()\n",
        "tpu_strategy = tf.distribute.experimental.TPUStrategy(tpu)"
      ],
      "metadata": {
        "id": "S1RgAerLooqy"
      },
      "execution_count": null,
      "outputs": []
    },
    {
      "cell_type": "code",
      "source": [
        "colors=px.colors.qualitative.Vivid\n",
        "def plot_roc(y_val, y_prob):\n",
        "    fig=make_subplots(rows=1, cols=3)\n",
        "    for i in range(len(y_val)):\n",
        "        y=y_val[i]\n",
        "        prob=y_prob[i]\n",
        "        fpr, tpr, thresh = roc_curve(y, prob)\n",
        "        roc_auc = auc(fpr,tpr)\n",
        "        fig.append_trace(go.Scatter(x=fpr, y=tpr, line=dict(color=colors[i+1], width=3), \n",
        "                                    hovertemplate = 'True positive rate = %{y:.3f}, False positive rate = %{x:.3f}',\n",
        "                                    name='Fold {} AUC = {:.3f}  '.format(i+1,roc_auc)), \n",
        "                         row=1,col=i+1)\n",
        "        fig.add_shape(type=\"line\", xref=\"x\", yref=\"y\", x0=0, y0=0, x1=1, y1=1, \n",
        "                      line=dict(color=\"Black\", width=1, dash=\"dot\"), row=1, col=i+1)\n",
        "        fig.update_xaxes(title='False Positive Rate')\n",
        "    fig.update_layout(template=temp, title=\"Cross-Validation ROC Curves\", \n",
        "                      hovermode=\"x unified\", height=400,\n",
        "                      yaxis_title='True Positive Rate (Sensitivity)', \n",
        "                      legend=dict(orientation='h',y=1.175, x=.5, xanchor=\"center\",\n",
        "                                  bordercolor=\"black\", borderwidth=.5, font=dict(size=12)))\n",
        "    fig.show()\n",
        "    \n",
        "def plot_predictions(df, title):\n",
        "    plot_df=pd.DataFrame.from_dict({'State 1':(len(df[df.state>0.5])/len(df.state))*100, \n",
        "         'State 0':(len(df[df.state<=0.5])/len(df.state))*100}, orient='index', columns=['pct'])\n",
        "    fig=go.Figure()\n",
        "    col=['#F7AA9D','#B1B6FC']\n",
        "    text=['State 1', 'State 0']\n",
        "    fig.add_trace(go.Pie(labels=plot_df.index, values=plot_df['pct'], hole=.38, \n",
        "                         text=text, showlegend=False,\n",
        "                         marker=dict(colors=col,line=dict(color=color[:2][::-1],width=2)),\n",
        "                         hovertemplate = \"%{label}: %{value:.2f}%<extra></extra>\"))\n",
        "    fig.update_layout(template=temp, title=title,\n",
        "                      uniformtext_minsize=15, uniformtext_mode='hide')\n",
        "    fig.show(renderer=\"colab\")"
      ],
      "metadata": {
        "id": "lz4CZOdHxxLJ"
      },
      "execution_count": null,
      "outputs": []
    },
    {
      "cell_type": "code",
      "source": [
        "\n",
        "k_fold = GroupKFold(n_splits=3)\n",
        "scaler = StandardScaler()\n",
        "\n",
        "train_seq_df=seq_df.merge(lbl, on='sequence')\n",
        "y=train_seq_df[['state']]\n",
        "X=train_seq_df.drop(['sequence','subject','state'], axis=1)\n",
        "X=pd.DataFrame(scaler.fit_transform(X))\n",
        "X_test=test_seq_df.drop(['sequence','subject'], axis=1)\n",
        "X_test=pd.DataFrame(scaler.transform(X_test))\n",
        "\n",
        "y_valid=[]\n",
        "glm_preds=[]\n",
        "test_preds=[]\n",
        "\n",
        "for fold, (train_index, val_index) in enumerate(k_fold.split(X, y, groups=train_seq_df.subject)):\n",
        "    \n",
        "    print(\"\\nFold {}\".format(fold+1))\n",
        "    \n",
        "    X_train, y_train = X.iloc[train_index,:], y.iloc[train_index,:].values\n",
        "    X_val, y_val = X.iloc[val_index,:], y.iloc[val_index,:].values\n",
        "    print(\"Train shape: {}, {}, Valid shape: {}, {}\".format(\n",
        "        X_train.shape, y_train.shape, X_val.shape, y_val.shape))\n",
        "        \n",
        "    with tpu_strategy.scope():\n",
        "        \n",
        "        # Logistic Regression\n",
        "        mod = Sequential()\n",
        "        mod.add(Dense(1, activation='sigmoid', \n",
        "                      kernel_regularizer=regularizers.L2(1e-4), \n",
        "                      input_dim=X_train.shape[1]))\n",
        "\n",
        "        mod.compile(optimizer='adam', loss='binary_crossentropy', \n",
        "                    metrics=[metrics.AUC(name = 'auc')])\n",
        "\n",
        "        mod.fit(X_train, y_train, epochs=5, validation_data=(X_val, y_val), verbose=False)\n",
        "\n",
        "        glm_pred = mod.predict(X_val).squeeze()\n",
        "        auc_score=roc_auc_score(y_val, glm_pred)\n",
        "        print(\"Validation AUC = {:.4f}\".format(auc_score))\n",
        "\n",
        "        y_valid.append(y_val)\n",
        "        glm_preds.append(glm_pred)\n",
        "        test_preds.append(mod.predict(X_test).squeeze())\n",
        "    \n",
        "    del X_train, y_train, X_val, y_val\n",
        "    gc.collect()\n",
        "    \n",
        "  "
      ],
      "metadata": {
        "id": "Puzu8fGpx_Dw"
      },
      "execution_count": null,
      "outputs": []
    },
    {
      "cell_type": "code",
      "source": [
        "plot_roc(y_val=y_valid, y_prob=glm_preds)"
      ],
      "metadata": {
        "id": "lW9w3fPyyxrP"
      },
      "execution_count": null,
      "outputs": []
    },
    {
      "cell_type": "markdown",
      "source": [],
      "metadata": {
        "id": "lk4lRmakRYu7"
      }
    },
    {
      "cell_type": "markdown",
      "source": [
        "Gradient Boosting"
      ],
      "metadata": {
        "id": "YURnMqbeUBti"
      }
    },
    {
      "cell_type": "code",
      "source": [
        "sub_glm=sub.copy()\n",
        "sub_glm['state']=np.mean(test_preds, axis=0)\n",
        "sub_glm.to_csv(\"submission_glm.csv\", index=False)\n",
        "plot_predictions(df=sub_glm, title=\"Predicted Target Distribution,<br>Logistic Regression\")"
      ],
      "metadata": {
        "id": "6NY3efu1RcvR"
      },
      "execution_count": null,
      "outputs": []
    },
    {
      "cell_type": "code",
      "source": [],
      "metadata": {
        "id": "z26MruxZTkM2"
      },
      "execution_count": null,
      "outputs": []
    },
    {
      "cell_type": "markdown",
      "source": [
        "Gradient Boosting"
      ],
      "metadata": {
        "id": "T0Yfj_csUDwg"
      }
    },
    {
      "cell_type": "code",
      "source": [
        "train_seq_df=seq_df.merge(lbl, on='sequence')\n",
        "y=train_seq_df[['state']]\n",
        "X=train_seq_df.drop(['sequence','subject','state'], axis=1)\n",
        "X=pd.DataFrame(scaler.fit_transform(X))\n",
        "X_test=test_seq_df.drop(['sequence','subject'], axis=1)\n",
        "X_test=pd.DataFrame(scaler.transform(X_test))\n",
        "\n",
        "y_valid=[]\n",
        "gbm_probs=[]\n",
        "test_preds=[]    \n",
        "                    \n",
        "for fold, (train_index, val_index) in enumerate(k_fold.split(X, y, groups=train_seq_df.subject)):\n",
        "    \n",
        "    print(\"\\nFold {}\".format(fold+1))\n",
        "    \n",
        "    X_train, y_train = X.iloc[train_index,:], y.iloc[train_index,:].values\n",
        "    X_val, y_val = X.iloc[val_index,:], y.iloc[val_index,:].values\n",
        "    print(\"Train shape: {}, {}, Valid shape: {}, {}\".format(\n",
        "        X_train.shape, y_train.shape, X_val.shape, y_val.shape))\n",
        "    \n",
        "    params = {'boosting_type': 'gbdt',\n",
        "              'n_estimators': 500,\n",
        "              'objective': 'binary',\n",
        "              'learning_rate': 0.1,\n",
        "              'colsample_bytree': 0.75,\n",
        "              'subsample': 0.75,\n",
        "              'metric': 'auc',\n",
        "              'random_state': 21}\n",
        "    \n",
        "    gbm = LGBMClassifier(**params).fit(X_train, y_train, \n",
        "                                       eval_set=[(X_train, y_train), (X_val, y_val)],\n",
        "                                       verbose=150,\n",
        "                                       eval_metric=['binary_logloss','auc'])\n",
        "    gbm_prob = gbm.predict_proba(X_val)[:,1]\n",
        "    y_valid.append(y_val)\n",
        "    gbm_probs.append(gbm_prob)\n",
        "    auc_score=roc_auc_score(y_val, gbm_prob)\n",
        "    print(\"Validation AUC = {:.4f}\".format(auc_score))\n",
        "    test_preds.append(gbm.predict_proba(X_test)[:,1])\n",
        "      \n",
        "    del X_train, y_train, X_val, y_val\n",
        "    gc.collect()  \n",
        "    \n",
        "plot_roc(y_val=y_valid, y_prob=gbm_probs) "
      ],
      "metadata": {
        "id": "nh2JgXIHUF0u"
      },
      "execution_count": null,
      "outputs": []
    },
    {
      "cell_type": "code",
      "source": [
        "sub_gbm=sub.copy()\n",
        "sub_gbm['state']=np.mean(test_preds, axis=0)\n",
        "sub_gbm.to_csv(\"submission_gbm.csv\", index=False)\n",
        "plot_predictions(df=sub_gbm, title='Predicted Target Distribution<br>with Gradient Boosting')"
      ],
      "metadata": {
        "id": "SicUJ9kvULUG"
      },
      "execution_count": null,
      "outputs": []
    },
    {
      "cell_type": "code",
      "source": [],
      "metadata": {
        "id": "UUpfDK6oVnam"
      },
      "execution_count": null,
      "outputs": []
    },
    {
      "cell_type": "markdown",
      "source": [
        "Bidirectional LSTM"
      ],
      "metadata": {
        "id": "4EN984EBVt8C"
      }
    },
    {
      "cell_type": "code",
      "source": [
        "y=np.array(lbl.state)\n",
        "X=train.drop(['sequence','subject','step','state'], axis=1)\n",
        "X=scaler.fit_transform(X)\n",
        "X=X.reshape(-1, 60, X.shape[1])\n",
        "X_test=test.drop(['sequence','subject','step'], axis=1)\n",
        "X_test=scaler.transform(X_test)\n",
        "X_test=X_test.reshape(-1, 60, X_test.shape[1])\n",
        "groups=train.sequence.unique()\n",
        "\n",
        "y_valid=[]\n",
        "lstm_preds=[]\n",
        "test_preds=[]    \n",
        "                    \n",
        "for fold, (train_index, val_index) in enumerate(k_fold.split(X, y, groups=groups)):\n",
        "    \n",
        "    X_train, y_train = X[train_index], y[train_index]\n",
        "    X_val, y_val = X[val_index], y[val_index]\n",
        "    \n",
        "    with tpu_strategy.scope():\n",
        "        \n",
        "        x_input = Input(shape=(X.shape[-2:]))\n",
        "        x1 = Bidirectional(LSTM(units=512, return_sequences=True))(x_input)\n",
        "        \n",
        "        l1 = Bidirectional(LSTM(units=384, return_sequences=True))(x1)\n",
        "        l2 = Bidirectional(LSTM(units=384, return_sequences=True))(x_input)\n",
        "\n",
        "        c1 = Concatenate(axis=2)([l1,l2])\n",
        "\n",
        "        l3 = Bidirectional(LSTM(units=256, return_sequences=True))(c1)\n",
        "        l4 = Bidirectional(LSTM(units=256, return_sequences=True))(l2)\n",
        "        \n",
        "        c2 = Concatenate(axis=2)([l3,l4])\n",
        "        \n",
        "        l6 = GlobalMaxPooling1D()(c2)\n",
        "        l7 = Dense(units=128, activation='selu')(l6)\n",
        "        l8 = Dropout(0.05)(l7)\n",
        "        \n",
        "        output = Dense(1, activation='sigmoid')(l8)\n",
        "        \n",
        "        lr = ReduceLROnPlateau(monitor='val_auc', factor=0.4,  patience=3, verbose=True)\n",
        "        es = EarlyStopping(monitor='val_auc', mode='max', patience=5, \n",
        "                           restore_best_weights=True, verbose=True)\n",
        "        \n",
        "        model = Model(inputs=x_input, outputs=output, \n",
        "                      name='Bidirectional_LSTM')\n",
        "        \n",
        "        model.compile(optimizer='adam', \n",
        "                      loss='binary_crossentropy', \n",
        "                      metrics=[metrics.AUC(name = 'auc')])\n",
        "        \n",
        "        if fold==0:\n",
        "            model.summary() \n",
        "        \n",
        "        print(\"\\nFold {}\".format(fold+1))\n",
        "        print(\"Train shape: {}, {}, Valid shape: {}, {}\".format(\n",
        "            X_train.shape, y_train.shape, X_val.shape, y_val.shape))\n",
        "        \n",
        "        model.fit(X_train, y_train,\n",
        "                  validation_data=(X_val, y_val), epochs=5, batch_size=128, \n",
        "                  callbacks=[es,lr], verbose=True)\n",
        "    \n",
        "        lstm_pred = model.predict(X_val).squeeze()\n",
        "        y_valid.append(y_val)\n",
        "        lstm_preds.append(lstm_pred)\n",
        "        test_preds.append(model.predict(X_test).squeeze())\n",
        "      \n",
        "    del X_train, y_train, X_val, y_val\n",
        "    gc.collect()\n",
        "\n",
        "plot_roc(y_val=y_valid, y_prob=lstm_preds) "
      ],
      "metadata": {
        "id": "Dmdn_8BaVuOm"
      },
      "execution_count": null,
      "outputs": []
    },
    {
      "cell_type": "code",
      "source": [
        "sub_lstm=sub.copy()\n",
        "sub_lstm['state']=np.mean(test_preds, axis=0)\n",
        "sub_lstm.to_csv(\"submission_lstm.csv\", index=False)\n",
        "plot_predictions(df=sub_lstm, title='LSTM Predicted Target Distribution')"
      ],
      "metadata": {
        "id": "sqxHA6EfVxYu"
      },
      "execution_count": null,
      "outputs": []
    },
    {
      "cell_type": "code",
      "source": [],
      "metadata": {
        "id": "JU73WfRbaJmQ"
      },
      "execution_count": null,
      "outputs": []
    }
  ]
}