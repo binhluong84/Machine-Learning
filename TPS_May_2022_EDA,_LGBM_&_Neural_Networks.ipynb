{
  "nbformat": 4,
  "nbformat_minor": 0,
  "metadata": {
    "colab": {
      "private_outputs": true,
      "provenance": [],
      "authorship_tag": "ABX9TyOivWaKYNYbItp+0fpk6oWv",
      "include_colab_link": true
    },
    "kernelspec": {
      "name": "python3",
      "display_name": "Python 3"
    },
    "language_info": {
      "name": "python"
    },
    "accelerator": "TPU"
  },
  "cells": [
    {
      "cell_type": "markdown",
      "metadata": {
        "id": "view-in-github",
        "colab_type": "text"
      },
      "source": [
        "<a href=\"https://colab.research.google.com/github/binhluong84/Machine-Learning/blob/main/TPS_May_2022_EDA%2C_LGBM_%26_Neural_Networks.ipynb\" target=\"_parent\"><img src=\"https://colab.research.google.com/assets/colab-badge.svg\" alt=\"Open In Colab\"/></a>"
      ]
    },
    {
      "cell_type": "code",
      "execution_count": null,
      "metadata": {
        "id": "w_JOrC9SRW9o"
      },
      "outputs": [],
      "source": [
        "#Connect Google Drive\n",
        "from google.colab import drive\n",
        "drive.mount('/gdrive')\n"
      ]
    },
    {
      "cell_type": "markdown",
      "source": [
        "# Mục mới"
      ],
      "metadata": {
        "id": "TX2nixm8TW07"
      }
    },
    {
      "cell_type": "code",
      "source": [
        "import numpy as np \n",
        "import pandas as pd\n",
        "import seaborn as sns\n",
        "import matplotlib.pyplot as plt\n",
        "import matplotlib.colors\n",
        "import plotly.express as px\n",
        "import plotly.graph_objects as go\n",
        "from plotly.subplots import make_subplots\n",
        "from plotly.offline import init_notebook_mode\n",
        "from sklearn.preprocessing import OrdinalEncoder, StandardScaler\n",
        "from sklearn.model_selection import KFold \n",
        "from sklearn.metrics import roc_auc_score, roc_curve, auc\n",
        "from sklearn.calibration import CalibratedClassifierCV, calibration_curve\n",
        "from lightgbm import LGBMClassifier\n",
        "import warnings, gc, string, random\n",
        "warnings.filterwarnings(\"ignore\")\n",
        "import plotly.figure_factory as ff\n",
        "\n",
        "init_notebook_mode(connected=True)\n",
        "color=px.colors.qualitative.Plotly\n",
        "temp=dict(layout=go.Layout(font=dict(family=\"Franklin Gothic\", size=12), \n",
        "                           height=500, width=1000))\n",
        "\n",
        "train=pd.read_csv('/gdrive/MyDrive/TPS May 2022 EDA, LGBM & Neural Networks/train.csv', index_col='id')\n",
        "test=pd.read_csv('/gdrive/MyDrive/TPS May 2022 EDA, LGBM & Neural Networks/test.csv', index_col='id')\n",
        "sub=pd.read_csv('/gdrive/MyDrive/TPS May 2022 EDA, LGBM & Neural Networks/sample_submission.csv')\n",
        "\n",
        "print(\"Train Shape: There are {:,.0f} rows and {:,.0f} columns.\\nMissing values = {}, Duplicates = {}.\\n\".\n",
        "      format(train.shape[0], train.shape[1],train.isna().sum().sum(), train.duplicated().sum()))\n",
        "print(\"Test Shape: There are {:,.0f} rows and {:,.0f} columns.\\nMissing values = {}, Duplicates = {}.\\n\".\n",
        "      format(test.shape[0], test.shape[1], test.isna().sum().sum(), test.duplicated().sum()))\n",
        "df=train.describe()\n",
        "display(df.style.format('{:,.3f}')\n",
        "        .background_gradient(subset=(df.index[1:],df.columns[:]), cmap='GnBu'))"
      ],
      "metadata": {
        "id": "Kr0EtqyWRh4j"
      },
      "execution_count": null,
      "outputs": []
    },
    {
      "cell_type": "markdown",
      "source": [],
      "metadata": {
        "id": "Vfuf1VwxUTOq"
      }
    },
    {
      "cell_type": "code",
      "source": [
        "target=train.target.value_counts(normalize=True)[::-1]\n",
        "text=['State {}'.format(i) for i in target.index]\n",
        "color,pal=['#38A6A5','#E1B580'],['#88CAC9','#EDD3B3']\n",
        "if text[0]=='State 0':\n",
        "    color,pal=color,pal\n",
        "else:\n",
        "    color,pal=color[::-1],pal[::-1]\n",
        "fig=go.Figure()\n",
        "fig.add_trace(go.Pie(labels=target.index, values=target*100, hole=.5, \n",
        "                     text=text, sort=False, showlegend=False,\n",
        "                     marker=dict(colors=pal,line=dict(color=color,width=2)),\n",
        "                     hovertemplate = \"State %{label}: %{value:.2f}%<extra></extra>\"))\n",
        "fig.update_layout(template=temp, title='Target Distribution', \n",
        "                  uniformtext_minsize=15, uniformtext_mode='hide',width=700)\n",
        "fig.show(renderer=\"colab\")                                                                                    "
      ],
      "metadata": {
        "id": "tuI1j6_KTzZM"
      },
      "execution_count": null,
      "outputs": []
    },
    {
      "cell_type": "markdown",
      "source": [
        "                                                                                                                 2 | Exploratory Data Analysis                "
      ],
      "metadata": {
        "id": "8gIIEFOpUXQz"
      }
    },
    {
      "cell_type": "markdown",
      "source": [
        "                                                2.1 | EDA of Numerical Variables"
      ],
      "metadata": {
        "id": "1V1laIyXUugy"
      }
    },
    {
      "cell_type": "markdown",
      "source": [],
      "metadata": {
        "id": "IMlSw3pEUP7M"
      }
    },
    {
      "cell_type": "code",
      "source": [
        "float_cols=train.select_dtypes('float')\n",
        "df=pd.concat([float_cols,train['target']], axis=1)\n",
        "titles=['Feature {}'.format(i.split('_')[-1]) for i in df.columns[:-1]]\n",
        "fig, ax = plt.subplots(4,4, figsize=(14,24))\n",
        "row=0\n",
        "col=[0,1,2,3]*4\n",
        "for i, column in enumerate(df.columns[:-1]):\n",
        "    if (i!=0) & (i%4==0):\n",
        "        row+=1\n",
        "    color='#38A6A5'\n",
        "    rgb=matplotlib.colors.to_rgba(color,0.2)\n",
        "    ax[row,col[i]].boxplot(df[df.target==0][column], positions=[0], \n",
        "                           widths=0.7, patch_artist=True,\n",
        "                           boxprops=dict(color=color, facecolor=rgb, linewidth=1.5),\n",
        "                           capprops=dict(color=color,linewidth=1.5),\n",
        "                           whiskerprops=dict(color=color,linewidth=1.5),\n",
        "                           flierprops=dict(markerfacecolor=rgb, markeredgecolor=color),\n",
        "                           medianprops=dict(color=color,linewidth=1.5))\n",
        "    color='#E1B580'\n",
        "    rgb=matplotlib.colors.to_rgba(color,0.2)\n",
        "    ax[row,col[i]].boxplot(df[df.target==1][column], positions=[1],\n",
        "                           widths=0.7, patch_artist=True,\n",
        "                           boxprops=dict(color=color, facecolor=rgb, linewidth=1.5),\n",
        "                           capprops=dict(color=color, linewidth=1.5),\n",
        "                           whiskerprops=dict(color=color, linewidth=1.5),\n",
        "                           flierprops=dict(markerfacecolor=rgb,markeredgecolor=color),\n",
        "                           medianprops=dict(color=color,linewidth=1.5))\n",
        "    ax[row,col[i]].grid(visible=True, which='major', axis='y', color='#F2F2F2')\n",
        "    ax[row,col[i]].tick_params(left=False,bottom=False)\n",
        "    ax[row,col[i]].set_title('\\n\\n{}'.format(titles[i]))\n",
        "sns.despine(bottom=True, trim=True)\n",
        "plt.suptitle('Distributions of Numerical Variables',fontsize=16)\n",
        "plt.tight_layout(rect=[0, 0.2, 1, 0.99])"
      ],
      "metadata": {
        "id": "DnuJA_weUr5E"
      },
      "execution_count": null,
      "outputs": []
    },
    {
      "cell_type": "code",
      "source": [
        "float_cols=pd.concat([float_cols,train['target']],axis=1)\n",
        "fig=make_subplots(rows=4,cols=4,\n",
        "                  subplot_titles=titles,\n",
        "                  shared_yaxes=True)\n",
        "col=[1,2,3,4]*4\n",
        "row=0\n",
        "pal=sns.color_palette(\"GnBu\",30).as_hex()[12:]\n",
        "for i,column in enumerate(float_cols.columns[:-1]):\n",
        "    if i%4==0:\n",
        "        row+=1\n",
        "    float_cols['bins'] = pd.cut(float_cols[column],250)\n",
        "    float_cols['mean'] = float_cols.bins.apply(lambda x: x.mid)\n",
        "    df = float_cols.groupby('mean')[column,'target'].transform('mean')\n",
        "    df = df.drop_duplicates(subset=[column]).sort_values(by=column)\n",
        "    fig.add_trace(go.Scatter(x=df[column], y=df.target, name=column,\n",
        "                             marker_color=pal[i],showlegend=False),\n",
        "                  row=row, col=col[i])\n",
        "    fig.update_xaxes(zeroline=False, row=row, col=col[i])\n",
        "    if i%4==0:\n",
        "        fig.update_yaxes(title='Target Probabilitiy',row=row,col=col[i])\n",
        "fig.update_layout(template=temp, title='Feature Relationships with Target', \n",
        "                  hovermode=\"x unified\",height=1000,width=900)\n",
        "\n",
        "\n",
        "fig.show(renderer=\"colab\")\n"
      ],
      "metadata": {
        "id": "BvN8fU1IU2m6"
      },
      "execution_count": null,
      "outputs": []
    },
    {
      "cell_type": "code",
      "source": [
        "int_df=train.select_dtypes('int')\n",
        "sub_titles=['Feature {}'.format(i.split('_')[-1]) for i in int_df.columns[:-1]]\n",
        "\n",
        "pal=['#38A6A5','#E1B580']\n",
        "rgb=['rgba'+str(matplotlib.colors.to_rgba(i,0.6)) for i in pal]\n",
        "\n",
        "fig = make_subplots(rows=5, cols=3, subplot_titles=sub_titles)\n",
        "row=0\n",
        "c=[1,2,3]*5\n",
        "for i,col in enumerate(int_df.columns[:-1]):\n",
        "    if i%3==0:\n",
        "        row+=1\n",
        "    df=int_df.groupby(col)['target'].value_counts().rename('count').reset_index()\n",
        "    fig.add_trace(go.Bar(x=df[df.target==0][col], y=df[df.target==0]['count'],width=.3,\n",
        "                         marker_color=rgb[0], marker_line=dict(color=pal[0],width=2.5),\n",
        "                         hovertemplate='Value: %{x}<br>Count: %{y}',\n",
        "                         name='State 0', showlegend=(True if i==0 else False)),\n",
        "                  row=row, col=c[i])\n",
        "    fig.add_trace(go.Bar(x=df[df.target==1][col], y=df[df.target==1]['count'],width=.3,\n",
        "                         marker_color=rgb[1], marker_line=dict(color=pal[1],width=2.5), \n",
        "                         hovertemplate='Value: %{x}<br>Count: %{y}',\n",
        "                         name='State 1', showlegend=(True if i==0 else False)),\n",
        "                  row=row, col=c[i])\n",
        "    if i%3==0:\n",
        "        fig.update_yaxes(title='Count',row=row,col=c[i])\n",
        "fig.update_layout(template=temp,title=\"Distributions of Discrete Variables\",\n",
        "                  legend=dict(orientation=\"h\",yanchor=\"bottom\",y=1.03,xanchor=\"right\",x=.95),\n",
        "                  barmode='group',height=1500,width=900)\n",
        "fig.show(renderer=\"colab\")"
      ],
      "metadata": {
        "id": "V8gt2eWPVFvZ"
      },
      "execution_count": null,
      "outputs": []
    },
    {
      "cell_type": "markdown",
      "source": [],
      "metadata": {
        "id": "19DztishWbaU"
      }
    },
    {
      "cell_type": "code",
      "source": [
        "corr=train.corr().round(2)  \n",
        "corr=corr.iloc[:-1,-1].sort_values(ascending=False)\n",
        "titles=['Feature '+str(i.split('_')[1]) for i in corr.index]\n",
        "corr.index=titles\n",
        "pal=sns.color_palette(\"RdYlBu\",32).as_hex()\n",
        "pal=[j for i,j in enumerate(pal) if i not in (14,15)]\n",
        "rgb=['rgba'+str(matplotlib.colors.to_rgba(i,0.8)) for i in pal] \n",
        "fig=go.Figure()\n",
        "fig.add_trace(go.Bar(x=corr.index, y=corr, marker_color=rgb,\n",
        "                     marker_line=dict(color=pal,width=2),\n",
        "                     hovertemplate='%{x} correlation with Target = %{y}',\n",
        "                     showlegend=False, name=''))\n",
        "fig.update_layout(template=temp, title='Feature Correlations with Target', \n",
        "                  yaxis_title='Correlation', xaxis_tickangle=45, width=800)\n",
        "fig.show(renderer=\"colab\")"
      ],
      "metadata": {
        "id": "vKd1AxUUWski"
      },
      "execution_count": null,
      "outputs": []
    },
    {
      "cell_type": "code",
      "source": [
        "corr=train.iloc[:,:-1].corr().round(2)  \n",
        "mask=np.triu(np.ones_like(corr, dtype=bool))\n",
        "c_mask = np.where(~mask, corr, 100)\n",
        "c=[]\n",
        "for i in c_mask.tolist()[1:]:\n",
        "    c.append([x for x in i if x != 100])\n",
        "    \n",
        "cor=c[::-1]\n",
        "x=corr.index.tolist()[:-1]\n",
        "y=corr.columns.tolist()[1:][::-1]\n",
        "fig=ff.create_annotated_heatmap(z=cor, x=x, y=y,\n",
        "                                hovertemplate='Correlation between %{x} and %{y}= %{z}',\n",
        "                                colorscale='emrld', reversescale=True, name='')\n",
        "fig.update_layout(template=temp, title='Correlations between Features',\n",
        "                  yaxis=dict(showgrid=False,autorange=\"reversed\"),\n",
        "                  xaxis=dict(showgrid=False), height=1000,width=1000)\n",
        "fig.show(renderer=\"colab\")"
      ],
      "metadata": {
        "id": "jhsjIksIWvPi"
      },
      "execution_count": null,
      "outputs": []
    },
    {
      "cell_type": "code",
      "source": [
        "enc = OrdinalEncoder()\n",
        "def feature_eng(df):\n",
        "    df=df.copy()\n",
        "    df['char_unique']=df['f_27'].apply(lambda x: len(set(x)))\n",
        "    for i in range(df.f_27.str.len().max()):\n",
        "        df['f_27_char{}'.format(i+1)]=enc.fit_transform(df['f_27'].str.get(i).values.reshape(-1,1))\n",
        "    return df.drop(['f_27'],axis=1)\n",
        "\n",
        "train_df=feature_eng(df=train)\n",
        "test_df=feature_eng(df=test)"
      ],
      "metadata": {
        "id": "hQ6X3lnTWyk4"
      },
      "execution_count": null,
      "outputs": []
    },
    {
      "cell_type": "code",
      "source": [
        "char=train['f_27'].value_counts().nlargest(20)\n",
        "pal=sns.color_palette(\"Spectral\",22).as_hex() \n",
        "pal=[j for i,j in enumerate(pal) if i not in (10,11)]\n",
        "rgb=['rgba'+str(matplotlib.colors.to_rgba(i,0.75)) for i in pal] \n",
        "fig = go.Figure()\n",
        "fig.add_trace(go.Bar(x=char.index, y=char, marker_color=rgb, \n",
        "                     marker_line=dict(color=pal,width=2), name='',\n",
        "                     hovertemplate='String: %{x}, Frequency: %{y}',\n",
        "                     showlegend=False))\n",
        "fig.update_layout(template=temp,title=\"Most Common Character Strings\",\n",
        "                  yaxis_title=\"Frequency\", width=800)\n",
        "fig.show(renderer=\"colab\")"
      ],
      "metadata": {
        "id": "LUr7EzDCW4lY"
      },
      "execution_count": null,
      "outputs": []
    },
    {
      "cell_type": "code",
      "source": [
        "df=train[['f_27']]\n",
        "for letter in string.ascii_uppercase:\n",
        "    df['{}'.format(letter)]=df['f_27'].str.count(letter)\n",
        "df_sum=df.iloc[:,1:].sum(axis=0).rename('sum').reset_index()\n",
        "pal=sns.color_palette(\"Spectral_r\",28).as_hex()\n",
        "pal=[j for i,j in enumerate(pal) if i !=14]\n",
        "rgb=['rgba'+str(matplotlib.colors.to_rgba(i,0.8)) for i in pal] \n",
        "fig = go.Figure()\n",
        "fig.add_trace(go.Bar(x=df_sum['index'], y=df_sum['sum'], marker_color=rgb, \n",
        "                     marker_line=dict(color=pal,width=2), name='',\n",
        "                     hovertemplate='Letter: %{x}, Frequency: %{y}',\n",
        "                     showlegend=False))\n",
        "fig.update_layout(template=temp,title=\"Most Common Letters\",\n",
        "                  yaxis_title=\"Frequency\", width=800)\n",
        "fig.show(renderer=\"colab\")"
      ],
      "metadata": {
        "id": "N3-eSGEoXCIh"
      },
      "execution_count": null,
      "outputs": []
    },
    {
      "cell_type": "code",
      "source": [
        "scaler = StandardScaler()\n",
        "y=train_df['target']\n",
        "X=train_df.drop(['target'], axis=1)\n",
        "X=pd.DataFrame(scaler.fit_transform(X),columns=X.columns)\n",
        "X_test=pd.DataFrame(scaler.transform(test_df))\n",
        "\n",
        "y_valid, gbm_val_preds, gbm_test_preds=[],[],[]\n",
        "cal_true, cal_pred=[],[]\n",
        "feat_importance=pd.DataFrame(index=X.columns)\n",
        "k_fold = KFold(n_splits=5, shuffle=True, random_state=21)\n",
        "for fold, (train_idx, val_idx) in enumerate(k_fold.split(X, y)):\n",
        "    \n",
        "    print(\"\\nFold {}\".format(fold+1))\n",
        "    X_train, y_train = X.iloc[train_idx,:], y[train_idx]\n",
        "    X_val, y_val = X.iloc[val_idx,:], y[val_idx]\n",
        "    print(\"Train shape: {}, {}, Valid shape: {}, {}\".format(\n",
        "        X_train.shape, y_train.shape, X_val.shape, y_val.shape))\n",
        "    \n",
        "    params = {'boosting_type': 'gbdt',\n",
        "              'n_estimators': 250,\n",
        "              'num_leaves': 50,\n",
        "              'learning_rate': 0.1,\n",
        "              'colsample_bytree': 0.9,\n",
        "              'subsample': 0.8,\n",
        "              'reg_alpha': 0.1,\n",
        "              'objective': 'binary',\n",
        "              'metric': 'auc',\n",
        "              'random_state': 21}\n",
        "    \n",
        "    gbm = LGBMClassifier(**params).fit(X_train, y_train, \n",
        "                                       eval_set=[(X_train, y_train), (X_val, y_val)],\n",
        "                                       verbose=100,\n",
        "                                       eval_metric=['binary_logloss','auc'])\n",
        "    \n",
        "    gbm_prob = gbm.predict_proba(X_val)[:,1]\n",
        "    y_valid.append(y_val)\n",
        "    gbm_val_preds.append(gbm_prob)\n",
        "    gbm_test_preds.append(gbm.predict_proba(X_test)[:,1])\n",
        "    feat_importance[\"Importance_Fold\"+str(fold)]=gbm.feature_importances_\n",
        "    \n",
        "    calibrated_gbm = CalibratedClassifierCV(base_estimator=gbm, cv=\"prefit\")\n",
        "    cal_fit = calibrated_gbm.fit(X_train, y_train)\n",
        "    cal_probs = calibrated_gbm.predict_proba(X_val)[:, 1]\n",
        "    prob_true, prob_pred = calibration_curve(y_val, cal_probs, n_bins=10)\n",
        "    cal_true.append(prob_true)\n",
        "    cal_pred.append(prob_pred)\n",
        "    auc_score=roc_auc_score(y_val, gbm_prob)\n",
        "    print(\"Validation AUC = {:.4f}\".format(auc_score))\n",
        "      \n",
        "    del X_train, y_train, X_val, y_val\n",
        "    gc.collect()  "
      ],
      "metadata": {
        "id": "Zg80vya6XHkZ"
      },
      "execution_count": null,
      "outputs": []
    },
    {
      "cell_type": "code",
      "source": [
        "colors=px.colors.qualitative.Prism\n",
        "def plot_roc_calibration(y_val, y_prob, mpv_cal, fop_cal):\n",
        "    fig=go.Figure()\n",
        "    fig.add_trace(go.Scatter(x=np.linspace(0,1,11), y=np.linspace(0,1,11), \n",
        "                             name='Random Chance',mode='lines',\n",
        "                             line=dict(color=\"Black\", width=1, dash=\"dot\")))\n",
        "    for i in range(len(y_val)):\n",
        "        y=y_val[i]\n",
        "        prob=y_prob[i]\n",
        "        fpr, tpr, thresh = roc_curve(y, prob)\n",
        "        roc_auc = auc(fpr,tpr)\n",
        "        fig.add_trace(go.Scatter(x=fpr, y=tpr, line=dict(color=colors[::-1][i+6], width=3), \n",
        "                                 hovertemplate = 'True positive rate = %{y:.3f}, False positive rate = %{x:.3f}',\n",
        "                                 name='Fold {} AUC = {:.4f}'.format(i+1,roc_auc)))\n",
        "    fig.update_layout(template=temp, title=\"Cross-Validation ROC Curves\", \n",
        "                      hovermode=\"x unified\", width=600,height=500,\n",
        "                      xaxis_title='False Positive Rate (1 - Specificity)',\n",
        "                      yaxis_title='True Positive Rate (Sensitivity)',\n",
        "                      legend=dict(orientation='v', y=.07, x=1, xanchor=\"right\",\n",
        "                                  bordercolor=\"black\", borderwidth=.5))\n",
        "    fig.show()\n",
        "    fig=go.Figure()\n",
        "    fig.add_trace(go.Scatter(x=np.linspace(0,1,11), y=np.linspace(0,1,11), \n",
        "                             name='Perfectly Calibrated',mode='lines',\n",
        "                             line=dict(color=\"Black\", width=1, dash=\"dot\"),legendgroup=2))\n",
        "    for i in range(len(mpv_cal)):\n",
        "        mpv=mpv_cal[i]\n",
        "        fop=fop_cal[i]\n",
        "        fig.add_trace(go.Scatter(x=mpv, y=fop, line=dict(color=colors[::-1][i+6], width=3), \n",
        "                                 hovertemplate = 'Proportion of Positives = %{y:.3f}, Mean Predicted Probability = %{x:.3f}',\n",
        "                                 name='Fold {}'.format(i+1),legendgroup=2))\n",
        "    fig.update_layout(template=temp, title=\"Probability Calibration Curves\", \n",
        "                      hovermode=\"x unified\", width=600,height=500,\n",
        "                      xaxis_title='Mean Predicted Probability',\n",
        "                      yaxis_title='Proportion of Positives',\n",
        "                      legend=dict(orientation='v', y=.07, x=1, xanchor=\"right\",\n",
        "                                  bordercolor=\"black\", borderwidth=.5))\n",
        "    fig.show()\n",
        "    \n",
        "def plot_target_predictions(df):\n",
        "    plot_df=pd.DataFrame.from_dict({'1':(len(df[df.target>0.5])/len(df.target))*100, \n",
        "                                    '0':(len(df[df.target<=0.5])/len(df.target))*100}, \n",
        "                                   orient='index', columns=['pct'])\n",
        "    text=['State {}'.format(i) for i in plot_df.index]\n",
        "    color,pal=['#38A6A5','#E1B580'],['#88CAC9','#EDD3B3']\n",
        "    if text[0]=='State 0':\n",
        "        color,pal=color,pal\n",
        "    else:\n",
        "        color,pal=color[::-1],pal[::-1]\n",
        "    fig=go.Figure()\n",
        "    fig.add_trace(go.Pie(labels=plot_df.index, values=plot_df.pct, hole=.5, \n",
        "                         text=text, sort=False, showlegend=False,\n",
        "                         marker=dict(colors=pal,line=dict(color=color,width=2)),\n",
        "                         hovertemplate = \"State %{label}: %{value:.2f}%<extra></extra>\"))\n",
        "    fig.update_layout(template=temp, title='Predicted Target Distribution', width=700,\n",
        "                      uniformtext_minsize=15, uniformtext_mode='hide')\n",
        "fig.show(renderer=\"colab\") \n",
        "    \n"
      ],
      "metadata": {
        "id": "XLwpj3-YXPkR"
      },
      "execution_count": null,
      "outputs": []
    },
    {
      "cell_type": "code",
      "source": [
        "\n",
        "fig, axs = plt.subplots(1, 3, figsize=(9, 3), sharey=True)\n",
        "axs.plot(y_valid, gbm_val_preds)\n",
        "fig.suptitle('Categorical Plotting')\n",
        "fig.show()"
      ],
      "metadata": {
        "id": "ad9_vR6XaOyl"
      },
      "execution_count": null,
      "outputs": []
    },
    {
      "cell_type": "code",
      "source": [
        "feat_importance['avg']=feat_importance.mean(axis=1)\n",
        "feat_importance=feat_importance.sort_values(by='avg',ascending=True)\n",
        "\n",
        "pal=sns.color_palette(\"YlGnBu\", 55).as_hex()\n",
        "fig=go.Figure()\n",
        "for i in range(len(feat_importance.index)):\n",
        "    fig.add_shape(dict(type=\"line\", y0=i, y1=i, x0=0, x1=feat_importance['avg'][i], \n",
        "                       line_color=pal[::-1][i],opacity=0.8,line_width=4))\n",
        "fig.add_trace(go.Scatter(x=feat_importance['avg'], y=feat_importance.index, mode='markers', \n",
        "                         marker_color=pal[::-1], marker_size=8,\n",
        "                         hovertemplate='%{y} Importance = %{x:.0f}<extra></extra>'))\n",
        "fig.update_layout(template=temp,title='Feature Importance', \n",
        "                  xaxis=dict(title='Average Importance',zeroline=False),\n",
        "                  yaxis_showgrid=False, height=900, width=800)\n",
        "fig.show(renderer=\"colab\")"
      ],
      "metadata": {
        "id": "c5qTwlFEaD-S"
      },
      "execution_count": null,
      "outputs": []
    },
    {
      "cell_type": "code",
      "source": [
        "sub_gbm=sub.copy()\n",
        "sub_gbm['target']=np.mean(gbm_test_preds, axis=0)\n",
        "sub_gbm.to_csv(\"sub_gbm.csv\", index=False)\n",
        "plot_target_predictions(sub_gbm)"
      ],
      "metadata": {
        "id": "FTi-Xys3bqi5"
      },
      "execution_count": null,
      "outputs": []
    },
    {
      "cell_type": "code",
      "source": [
        "sub_gbm"
      ],
      "metadata": {
        "id": "GYTDhHEUd_Xs"
      },
      "execution_count": null,
      "outputs": []
    },
    {
      "cell_type": "code",
      "source": [
        "import tensorflow as tf\n",
        "from tensorflow.keras.models import Model\n",
        "from tensorflow.keras.layers import Dense, Input, InputLayer, Add\n",
        "from tensorflow.keras.callbacks import ReduceLROnPlateau, EarlyStopping\n",
        "from tensorflow.keras import metrics, regularizers\n",
        "from tensorflow.keras.utils import plot_model"
      ],
      "metadata": {
        "id": "kQMnYVwDcgf5"
      },
      "execution_count": null,
      "outputs": []
    },
    {
      "cell_type": "code",
      "source": [
        "tpu = tf.distribute.cluster_resolver.TPUClusterResolver.connect()\n",
        "tpu_strategy = tf.distribute.experimental.TPUStrategy(tpu)\n",
        "def nn_model():\n",
        "    \n",
        "    x_input = Input(shape=(X.shape[1]))\n",
        "    x = Dense(512, kernel_regularizer=regularizers.l2(1e-5),\n",
        "              activation='swish')(x_input)\n",
        "    x = Dense(384, kernel_regularizer=regularizers.l2(1e-5),\n",
        "              activation='swish')(x)\n",
        "    x = Dense(256, kernel_regularizer=regularizers.l2(1e-5),\n",
        "              activation='swish')(x)\n",
        "    x = Dense(128, kernel_regularizer=regularizers.l2(1e-5),\n",
        "              activation='swish')(x)\n",
        "    x = Dense(64, kernel_regularizer=regularizers.l2(1e-5),\n",
        "              activation='swish')(x)\n",
        "    output = Dense(1, activation='sigmoid')(x)\n",
        "    \n",
        "    model = Model(inputs=x_input, outputs=output)\n",
        "    \n",
        "    return model\n",
        "\n",
        "model = nn_model()\n",
        "plot_model(model, show_layer_names=False, show_shapes=True)"
      ],
      "metadata": {
        "id": "CfYsoKQBeGNg"
      },
      "execution_count": null,
      "outputs": []
    },
    {
      "cell_type": "code",
      "source": [
        "y=train_df['target']\n",
        "X=train_df.drop(['target'], axis=1)\n",
        "X=pd.DataFrame(scaler.fit_transform(X),columns=X.columns)\n",
        "X_test=pd.DataFrame(scaler.transform(test_df))\n",
        "\n",
        "y_valid, nn_val_preds, nn_test_preds=[],[],[]\n",
        "cal_true, cal_pred=[],[]\n",
        "k_fold = KFold(n_splits=5, shuffle=True, random_state=21)\n",
        "\n",
        "np.random.seed(1)\n",
        "random.seed(1)\n",
        "tf.random.set_seed(1)\n",
        "\n",
        "\n",
        "for fold, (train_idx, val_idx) in enumerate(k_fold.split(X, y)):\n",
        "    \n",
        "    print(\"\\n*****Fold {}*****\".format(fold+1))\n",
        "    X_train, y_train = X.iloc[train_idx,:], y[train_idx]\n",
        "    X_val, y_val = X.iloc[val_idx,:], y[val_idx]\n",
        "    print(\"Train shape: {}, {}, Valid shape: {}, {}\".format(\n",
        "        X_train.shape, y_train.shape, X_val.shape, y_val.shape))\n",
        "    with tpu_strategy.scope():\n",
        "\n",
        "        model = nn_model()\n",
        "        \n",
        "        model.compile(optimizer=tf.keras.optimizers.Adam(learning_rate=0.01),\n",
        "                      loss=tf.keras.losses.BinaryCrossentropy(),\n",
        "                      metrics=[metrics.AUC(name = 'auc')])\n",
        "        \n",
        "        lr = ReduceLROnPlateau(monitor='val_auc', factor=0.5,  patience=3, verbose=True)\n",
        "        es = EarlyStopping(monitor='val_auc', mode='max', patience=5, \n",
        "                           restore_best_weights=True, verbose=True)\n",
        "        \n",
        "        model.fit(X_train, y_train,\n",
        "                  validation_data=(X_val, y_val), \n",
        "                  epochs=50, batch_size=4096, \n",
        "                  callbacks=[es,lr], verbose=True, shuffle=True)\n",
        "        \n",
        "        nn_preds = model.predict(X_val).squeeze()\n",
        "        y_valid.append(y_val)\n",
        "        nn_val_preds.append(nn_preds)\n",
        "        nn_test_preds.append(model.predict(X_test).squeeze())\n",
        "        \n",
        "        prob_true, prob_pred = calibration_curve(y_val, nn_preds, n_bins=10)\n",
        "        cal_true.append(prob_true)\n",
        "        cal_pred.append(prob_pred)\n",
        "      \n",
        "    del X_train, y_train, X_val, y_val\n",
        "    gc.collect()  "
      ],
      "metadata": {
        "id": "q6GHWGHBeJ4w"
      },
      "execution_count": null,
      "outputs": []
    },
    {
      "cell_type": "code",
      "source": [
        "sub_nn=sub.copy()\n",
        "sub_nn['target']=np.mean(nn_test_preds, axis=0)\n",
        "sub_nn.to_csv(\"sub_nn.csv\", index=False)\n",
        "plot_target_predictions(sub_nn)"
      ],
      "metadata": {
        "id": "tWxYP-VieNxg"
      },
      "execution_count": null,
      "outputs": []
    },
    {
      "cell_type": "code",
      "source": [],
      "metadata": {
        "id": "YDSqUo2Pjc3L"
      },
      "execution_count": null,
      "outputs": []
    }
  ]
}