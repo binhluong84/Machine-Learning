{
  "nbformat": 4,
  "nbformat_minor": 0,
  "metadata": {
    "colab": {
      "provenance": [],
      "authorship_tag": "ABX9TyNsHJ0soGozqTgzXd0R5zmR",
      "include_colab_link": true
    },
    "kernelspec": {
      "name": "python3",
      "display_name": "Python 3"
    },
    "language_info": {
      "name": "python"
    }
  },
  "cells": [
    {
      "cell_type": "markdown",
      "metadata": {
        "id": "view-in-github",
        "colab_type": "text"
      },
      "source": [
        "<a href=\"https://colab.research.google.com/github/binhluong84/Machine-Learning/blob/main/Email_Spam_Classification.ipynb\" target=\"_parent\"><img src=\"https://colab.research.google.com/assets/colab-badge.svg\" alt=\"Open In Colab\"/></a>"
      ]
    },
    {
      "cell_type": "code",
      "execution_count": 3,
      "metadata": {
        "colab": {
          "base_uri": "https://localhost:8080/"
        },
        "id": "gocRboCDA7ng",
        "outputId": "bbcbc445-6358-4bfe-8fe7-96b8bc4f3855"
      },
      "outputs": [
        {
          "output_type": "stream",
          "name": "stdout",
          "text": [
            "Drive already mounted at /gdrive; to attempt to forcibly remount, call drive.mount(\"/gdrive\", force_remount=True).\n"
          ]
        }
      ],
      "source": [
        "#Connect Google Drive\n",
        "from google.colab import drive\n",
        "drive.mount('/gdrive')"
      ]
    },
    {
      "cell_type": "code",
      "source": [
        "import numpy as np\n",
        "import pandas as pd\n",
        "\n",
        "from sklearn.model_selection import train_test_split\n",
        "\n",
        "import tensorflow as tf"
      ],
      "metadata": {
        "id": "_s0HKuMKA_CW"
      },
      "execution_count": 4,
      "outputs": []
    },
    {
      "cell_type": "code",
      "source": [
        "data = pd.read_csv('/gdrive/MyDrive/Spam Email raw text for NLP/Spam Email raw text for NLP.csv')"
      ],
      "metadata": {
        "id": "OO_oULf9BGne"
      },
      "execution_count": 5,
      "outputs": []
    },
    {
      "cell_type": "code",
      "source": [
        "data"
      ],
      "metadata": {
        "colab": {
          "base_uri": "https://localhost:8080/",
          "height": 424
        },
        "id": "oTbh0FooBuW_",
        "outputId": "375eff9f-94dc-4b25-9105-c750e082410a"
      },
      "execution_count": 6,
      "outputs": [
        {
          "output_type": "execute_result",
          "data": {
            "text/plain": [
              "      CATEGORY                                            MESSAGE  \\\n",
              "0            1  Dear Homeowner,\\n\\n \\n\\nInterest Rates are at ...   \n",
              "1            1  ATTENTION: This is a MUST for ALL Computer Use...   \n",
              "2            1  This is a multi-part message in MIME format.\\n...   \n",
              "3            1  IMPORTANT INFORMATION:\\n\\n\\n\\nThe new domain n...   \n",
              "4            1  This is the bottom line.  If you can GIVE AWAY...   \n",
              "...        ...                                                ...   \n",
              "5791         0  I'm one of the 30,000 but it's not working ver...   \n",
              "5792         0  Damien Morton quoted:\\n\\n>W3C approves HTML 4 ...   \n",
              "5793         0  On Mon, 2002-07-22 at 06:50, che wrote:\\n\\n\\n\\...   \n",
              "5794         0  Once upon a time, Manfred wrote :\\n\\n\\n\\n> I w...   \n",
              "5795         0  If you run Pick, and then use the \"New FTOC\" b...   \n",
              "\n",
              "                                   FILE_NAME  \n",
              "0     00249.5f45607c1bffe89f60ba1ec9f878039a  \n",
              "1     00373.ebe8670ac56b04125c25100a36ab0510  \n",
              "2     00214.1367039e50dc6b7adb0f2aa8aba83216  \n",
              "3     00210.050ffd105bd4e006771ee63cabc59978  \n",
              "4     00033.9babb58d9298daa2963d4f514193d7d6  \n",
              "...                                      ...  \n",
              "5791  00609.dd49926ce94a1ea328cce9b62825bc97  \n",
              "5792  00957.e0b56b117f3ec5f85e432a9d2a47801f  \n",
              "5793  01127.841233b48eceb74a825417d8d918abf8  \n",
              "5794  01178.5c977dff972cd6eef64d4173b90307f0  \n",
              "5795  00747.352d424267d36975a7b40b85ffd0885e  \n",
              "\n",
              "[5796 rows x 3 columns]"
            ],
            "text/html": [
              "\n",
              "  <div id=\"df-09407d06-58a8-47bd-9fa1-6c36eeeb814d\">\n",
              "    <div class=\"colab-df-container\">\n",
              "      <div>\n",
              "<style scoped>\n",
              "    .dataframe tbody tr th:only-of-type {\n",
              "        vertical-align: middle;\n",
              "    }\n",
              "\n",
              "    .dataframe tbody tr th {\n",
              "        vertical-align: top;\n",
              "    }\n",
              "\n",
              "    .dataframe thead th {\n",
              "        text-align: right;\n",
              "    }\n",
              "</style>\n",
              "<table border=\"1\" class=\"dataframe\">\n",
              "  <thead>\n",
              "    <tr style=\"text-align: right;\">\n",
              "      <th></th>\n",
              "      <th>CATEGORY</th>\n",
              "      <th>MESSAGE</th>\n",
              "      <th>FILE_NAME</th>\n",
              "    </tr>\n",
              "  </thead>\n",
              "  <tbody>\n",
              "    <tr>\n",
              "      <th>0</th>\n",
              "      <td>1</td>\n",
              "      <td>Dear Homeowner,\\n\\n \\n\\nInterest Rates are at ...</td>\n",
              "      <td>00249.5f45607c1bffe89f60ba1ec9f878039a</td>\n",
              "    </tr>\n",
              "    <tr>\n",
              "      <th>1</th>\n",
              "      <td>1</td>\n",
              "      <td>ATTENTION: This is a MUST for ALL Computer Use...</td>\n",
              "      <td>00373.ebe8670ac56b04125c25100a36ab0510</td>\n",
              "    </tr>\n",
              "    <tr>\n",
              "      <th>2</th>\n",
              "      <td>1</td>\n",
              "      <td>This is a multi-part message in MIME format.\\n...</td>\n",
              "      <td>00214.1367039e50dc6b7adb0f2aa8aba83216</td>\n",
              "    </tr>\n",
              "    <tr>\n",
              "      <th>3</th>\n",
              "      <td>1</td>\n",
              "      <td>IMPORTANT INFORMATION:\\n\\n\\n\\nThe new domain n...</td>\n",
              "      <td>00210.050ffd105bd4e006771ee63cabc59978</td>\n",
              "    </tr>\n",
              "    <tr>\n",
              "      <th>4</th>\n",
              "      <td>1</td>\n",
              "      <td>This is the bottom line.  If you can GIVE AWAY...</td>\n",
              "      <td>00033.9babb58d9298daa2963d4f514193d7d6</td>\n",
              "    </tr>\n",
              "    <tr>\n",
              "      <th>...</th>\n",
              "      <td>...</td>\n",
              "      <td>...</td>\n",
              "      <td>...</td>\n",
              "    </tr>\n",
              "    <tr>\n",
              "      <th>5791</th>\n",
              "      <td>0</td>\n",
              "      <td>I'm one of the 30,000 but it's not working ver...</td>\n",
              "      <td>00609.dd49926ce94a1ea328cce9b62825bc97</td>\n",
              "    </tr>\n",
              "    <tr>\n",
              "      <th>5792</th>\n",
              "      <td>0</td>\n",
              "      <td>Damien Morton quoted:\\n\\n&gt;W3C approves HTML 4 ...</td>\n",
              "      <td>00957.e0b56b117f3ec5f85e432a9d2a47801f</td>\n",
              "    </tr>\n",
              "    <tr>\n",
              "      <th>5793</th>\n",
              "      <td>0</td>\n",
              "      <td>On Mon, 2002-07-22 at 06:50, che wrote:\\n\\n\\n\\...</td>\n",
              "      <td>01127.841233b48eceb74a825417d8d918abf8</td>\n",
              "    </tr>\n",
              "    <tr>\n",
              "      <th>5794</th>\n",
              "      <td>0</td>\n",
              "      <td>Once upon a time, Manfred wrote :\\n\\n\\n\\n&gt; I w...</td>\n",
              "      <td>01178.5c977dff972cd6eef64d4173b90307f0</td>\n",
              "    </tr>\n",
              "    <tr>\n",
              "      <th>5795</th>\n",
              "      <td>0</td>\n",
              "      <td>If you run Pick, and then use the \"New FTOC\" b...</td>\n",
              "      <td>00747.352d424267d36975a7b40b85ffd0885e</td>\n",
              "    </tr>\n",
              "  </tbody>\n",
              "</table>\n",
              "<p>5796 rows × 3 columns</p>\n",
              "</div>\n",
              "      <button class=\"colab-df-convert\" onclick=\"convertToInteractive('df-09407d06-58a8-47bd-9fa1-6c36eeeb814d')\"\n",
              "              title=\"Convert this dataframe to an interactive table.\"\n",
              "              style=\"display:none;\">\n",
              "        \n",
              "  <svg xmlns=\"http://www.w3.org/2000/svg\" height=\"24px\"viewBox=\"0 0 24 24\"\n",
              "       width=\"24px\">\n",
              "    <path d=\"M0 0h24v24H0V0z\" fill=\"none\"/>\n",
              "    <path d=\"M18.56 5.44l.94 2.06.94-2.06 2.06-.94-2.06-.94-.94-2.06-.94 2.06-2.06.94zm-11 1L8.5 8.5l.94-2.06 2.06-.94-2.06-.94L8.5 2.5l-.94 2.06-2.06.94zm10 10l.94 2.06.94-2.06 2.06-.94-2.06-.94-.94-2.06-.94 2.06-2.06.94z\"/><path d=\"M17.41 7.96l-1.37-1.37c-.4-.4-.92-.59-1.43-.59-.52 0-1.04.2-1.43.59L10.3 9.45l-7.72 7.72c-.78.78-.78 2.05 0 2.83L4 21.41c.39.39.9.59 1.41.59.51 0 1.02-.2 1.41-.59l7.78-7.78 2.81-2.81c.8-.78.8-2.07 0-2.86zM5.41 20L4 18.59l7.72-7.72 1.47 1.35L5.41 20z\"/>\n",
              "  </svg>\n",
              "      </button>\n",
              "      \n",
              "  <style>\n",
              "    .colab-df-container {\n",
              "      display:flex;\n",
              "      flex-wrap:wrap;\n",
              "      gap: 12px;\n",
              "    }\n",
              "\n",
              "    .colab-df-convert {\n",
              "      background-color: #E8F0FE;\n",
              "      border: none;\n",
              "      border-radius: 50%;\n",
              "      cursor: pointer;\n",
              "      display: none;\n",
              "      fill: #1967D2;\n",
              "      height: 32px;\n",
              "      padding: 0 0 0 0;\n",
              "      width: 32px;\n",
              "    }\n",
              "\n",
              "    .colab-df-convert:hover {\n",
              "      background-color: #E2EBFA;\n",
              "      box-shadow: 0px 1px 2px rgba(60, 64, 67, 0.3), 0px 1px 3px 1px rgba(60, 64, 67, 0.15);\n",
              "      fill: #174EA6;\n",
              "    }\n",
              "\n",
              "    [theme=dark] .colab-df-convert {\n",
              "      background-color: #3B4455;\n",
              "      fill: #D2E3FC;\n",
              "    }\n",
              "\n",
              "    [theme=dark] .colab-df-convert:hover {\n",
              "      background-color: #434B5C;\n",
              "      box-shadow: 0px 1px 3px 1px rgba(0, 0, 0, 0.15);\n",
              "      filter: drop-shadow(0px 1px 2px rgba(0, 0, 0, 0.3));\n",
              "      fill: #FFFFFF;\n",
              "    }\n",
              "  </style>\n",
              "\n",
              "      <script>\n",
              "        const buttonEl =\n",
              "          document.querySelector('#df-09407d06-58a8-47bd-9fa1-6c36eeeb814d button.colab-df-convert');\n",
              "        buttonEl.style.display =\n",
              "          google.colab.kernel.accessAllowed ? 'block' : 'none';\n",
              "\n",
              "        async function convertToInteractive(key) {\n",
              "          const element = document.querySelector('#df-09407d06-58a8-47bd-9fa1-6c36eeeb814d');\n",
              "          const dataTable =\n",
              "            await google.colab.kernel.invokeFunction('convertToInteractive',\n",
              "                                                     [key], {});\n",
              "          if (!dataTable) return;\n",
              "\n",
              "          const docLinkHtml = 'Like what you see? Visit the ' +\n",
              "            '<a target=\"_blank\" href=https://colab.research.google.com/notebooks/data_table.ipynb>data table notebook</a>'\n",
              "            + ' to learn more about interactive tables.';\n",
              "          element.innerHTML = '';\n",
              "          dataTable['output_type'] = 'display_data';\n",
              "          await google.colab.output.renderOutput(dataTable, element);\n",
              "          const docLink = document.createElement('div');\n",
              "          docLink.innerHTML = docLinkHtml;\n",
              "          element.appendChild(docLink);\n",
              "        }\n",
              "      </script>\n",
              "    </div>\n",
              "  </div>\n",
              "  "
            ]
          },
          "metadata": {},
          "execution_count": 6
        }
      ]
    },
    {
      "cell_type": "code",
      "source": [
        "data.info()"
      ],
      "metadata": {
        "colab": {
          "base_uri": "https://localhost:8080/"
        },
        "id": "iKAJyN64Bv6N",
        "outputId": "638a8b88-dec0-4ff2-f63d-950abb4da4e4"
      },
      "execution_count": 7,
      "outputs": [
        {
          "output_type": "stream",
          "name": "stdout",
          "text": [
            "<class 'pandas.core.frame.DataFrame'>\n",
            "RangeIndex: 5796 entries, 0 to 5795\n",
            "Data columns (total 3 columns):\n",
            " #   Column     Non-Null Count  Dtype \n",
            "---  ------     --------------  ----- \n",
            " 0   CATEGORY   5796 non-null   int64 \n",
            " 1   MESSAGE    5796 non-null   object\n",
            " 2   FILE_NAME  5796 non-null   object\n",
            "dtypes: int64(1), object(2)\n",
            "memory usage: 136.0+ KB\n"
          ]
        }
      ]
    },
    {
      "cell_type": "code",
      "source": [
        "def get_sequences(texts, tokenizer, train=True, max_seq_length=None):\n",
        "    sequences = tokenizer.texts_to_sequences(texts)\n",
        "    \n",
        "    if train == True:\n",
        "        max_seq_length = np.max(list(map(lambda x: len(x), sequences)))\n",
        "    \n",
        "    sequences = tf.keras.preprocessing.sequence.pad_sequences(sequences, maxlen=max_seq_length, padding='post')\n",
        "    \n",
        "    return sequences"
      ],
      "metadata": {
        "id": "EMoZsqhPByNE"
      },
      "execution_count": 8,
      "outputs": []
    },
    {
      "cell_type": "code",
      "source": [
        "def preprocess_inputs(df):\n",
        "    df = df.copy()\n",
        "    \n",
        "    # Drop FILE_NAME column\n",
        "    df = df.drop('FILE_NAME', axis=1)\n",
        "    \n",
        "    # Split df into X and y\n",
        "    y = df['CATEGORY']\n",
        "    X = df['MESSAGE']\n",
        "    \n",
        "    # Train-test split\n",
        "    X_train, X_test, y_train, y_test = train_test_split(X, y, train_size=0.7, shuffle=True, random_state=1)\n",
        "    \n",
        "    # Create tokenizer\n",
        "    tokenizer = tf.keras.preprocessing.text.Tokenizer(num_words=30000)\n",
        "    \n",
        "    # Fit the tokenizer\n",
        "    tokenizer.fit_on_texts(X_train)\n",
        "    \n",
        "    # Convert texts to sequences\n",
        "    X_train = get_sequences(X_train, tokenizer, train=True)\n",
        "    X_test = get_sequences(X_test, tokenizer, train=False, max_seq_length=X_train.shape[1])\n",
        "    \n",
        "    return X_train, X_test, y_train, y_test"
      ],
      "metadata": {
        "id": "J-HRiweiB0Dc"
      },
      "execution_count": 9,
      "outputs": []
    },
    {
      "cell_type": "code",
      "source": [
        "X_train, X_test, y_train, y_test = preprocess_inputs(data)"
      ],
      "metadata": {
        "id": "nnhlbBk1B2gd"
      },
      "execution_count": 10,
      "outputs": []
    },
    {
      "cell_type": "code",
      "source": [
        "X_train"
      ],
      "metadata": {
        "colab": {
          "base_uri": "https://localhost:8080/"
        },
        "id": "Lt8PplKZB5PM",
        "outputId": "f9023187-44d1-457b-91c1-8ddefeff2a5b"
      },
      "execution_count": 11,
      "outputs": [
        {
          "output_type": "execute_result",
          "data": {
            "text/plain": [
              "array([[   14,   135,   188, ...,     0,     0,     0],\n",
              "       [  183,  1452,  2119, ...,     0,     0,     0],\n",
              "       [   56,   129,    20, ...,     0,     0,     0],\n",
              "       ...,\n",
              "       [  309,    12,    32, ...,     0,     0,     0],\n",
              "       [   56,   179,   298, ...,     0,     0,     0],\n",
              "       [   94,  4671, 11648, ...,     0,     0,     0]], dtype=int32)"
            ]
          },
          "metadata": {},
          "execution_count": 11
        }
      ]
    },
    {
      "cell_type": "code",
      "source": [
        "y_train.value_counts()"
      ],
      "metadata": {
        "colab": {
          "base_uri": "https://localhost:8080/"
        },
        "id": "skjwJZdCB9xU",
        "outputId": "b3255c4e-c202-46b2-9f9a-bd87416259c1"
      },
      "execution_count": 12,
      "outputs": [
        {
          "output_type": "execute_result",
          "data": {
            "text/plain": [
              "0    2738\n",
              "1    1319\n",
              "Name: CATEGORY, dtype: int64"
            ]
          },
          "metadata": {},
          "execution_count": 12
        }
      ]
    },
    {
      "cell_type": "code",
      "source": [
        "X_train.shape"
      ],
      "metadata": {
        "colab": {
          "base_uri": "https://localhost:8080/"
        },
        "id": "opWImr7QCCBk",
        "outputId": "48bc6053-f6a1-43e5-92f5-e5078bef15d6"
      },
      "execution_count": 13,
      "outputs": [
        {
          "output_type": "execute_result",
          "data": {
            "text/plain": [
              "(4057, 14804)"
            ]
          },
          "metadata": {},
          "execution_count": 13
        }
      ]
    },
    {
      "cell_type": "code",
      "source": [
        "inputs = tf.keras.Input(shape=(14804,))\n",
        "\n",
        "embedding = tf.keras.layers.Embedding(\n",
        "    input_dim=30000,\n",
        "    output_dim=64\n",
        ")(inputs)\n",
        "\n",
        "flatten = tf.keras.layers.Flatten()(embedding)\n",
        "\n",
        "outputs = tf.keras.layers.Dense(1, activation='sigmoid')(flatten)\n",
        "\n",
        "\n",
        "model = tf.keras.Model(inputs=inputs, outputs=outputs)\n",
        "\n",
        "\n",
        "model.compile(\n",
        "    optimizer='adam',\n",
        "    loss='binary_crossentropy',\n",
        "    metrics=[\n",
        "        'accuracy',\n",
        "        tf.keras.metrics.AUC(name='auc')\n",
        "    ]\n",
        ")\n",
        "\n",
        "\n",
        "print(model.summary())"
      ],
      "metadata": {
        "colab": {
          "base_uri": "https://localhost:8080/"
        },
        "id": "GWHnd93aCEy8",
        "outputId": "d4435e74-494a-4469-ba8d-d451724d2e99"
      },
      "execution_count": 14,
      "outputs": [
        {
          "output_type": "stream",
          "name": "stdout",
          "text": [
            "Model: \"model\"\n",
            "_________________________________________________________________\n",
            " Layer (type)                Output Shape              Param #   \n",
            "=================================================================\n",
            " input_1 (InputLayer)        [(None, 14804)]           0         \n",
            "                                                                 \n",
            " embedding (Embedding)       (None, 14804, 64)         1920000   \n",
            "                                                                 \n",
            " flatten (Flatten)           (None, 947456)            0         \n",
            "                                                                 \n",
            " dense (Dense)               (None, 1)                 947457    \n",
            "                                                                 \n",
            "=================================================================\n",
            "Total params: 2,867,457\n",
            "Trainable params: 2,867,457\n",
            "Non-trainable params: 0\n",
            "_________________________________________________________________\n",
            "None\n"
          ]
        }
      ]
    },
    {
      "cell_type": "code",
      "source": [
        "history = model.fit(\n",
        "    X_train,\n",
        "    y_train,\n",
        "    validation_split=0.2,\n",
        "    batch_size=32,\n",
        "    epochs=100,\n",
        "    callbacks=[\n",
        "        tf.keras.callbacks.EarlyStopping(\n",
        "            monitor='val_loss',\n",
        "            patience=3,\n",
        "            restore_best_weights=True\n",
        "        )\n",
        "    ]\n",
        ")"
      ],
      "metadata": {
        "colab": {
          "base_uri": "https://localhost:8080/"
        },
        "id": "-bNG0E1zCHTN",
        "outputId": "4171c502-9d12-439a-82be-573008e48f22"
      },
      "execution_count": 15,
      "outputs": [
        {
          "output_type": "stream",
          "name": "stdout",
          "text": [
            "Epoch 1/100\n",
            "102/102 [==============================] - 16s 137ms/step - loss: 1.0507 - accuracy: 0.7941 - auc: 0.7692 - val_loss: 0.1223 - val_accuracy: 0.9520 - val_auc: 0.9973\n",
            "Epoch 2/100\n",
            "102/102 [==============================] - 14s 134ms/step - loss: 0.0586 - accuracy: 0.9871 - auc: 0.9994 - val_loss: 0.0441 - val_accuracy: 0.9877 - val_auc: 0.9991\n",
            "Epoch 3/100\n",
            "102/102 [==============================] - 14s 133ms/step - loss: 0.0173 - accuracy: 0.9975 - auc: 1.0000 - val_loss: 0.0348 - val_accuracy: 0.9877 - val_auc: 0.9992\n",
            "Epoch 4/100\n",
            "102/102 [==============================] - 14s 138ms/step - loss: 0.0084 - accuracy: 0.9994 - auc: 1.0000 - val_loss: 0.0315 - val_accuracy: 0.9877 - val_auc: 0.9993\n",
            "Epoch 5/100\n",
            "102/102 [==============================] - 14s 133ms/step - loss: 0.0052 - accuracy: 0.9994 - auc: 1.0000 - val_loss: 0.0308 - val_accuracy: 0.9889 - val_auc: 0.9992\n",
            "Epoch 6/100\n",
            "102/102 [==============================] - 14s 133ms/step - loss: 0.0036 - accuracy: 0.9994 - auc: 1.0000 - val_loss: 0.0311 - val_accuracy: 0.9901 - val_auc: 0.9993\n",
            "Epoch 7/100\n",
            "102/102 [==============================] - 14s 136ms/step - loss: 0.0027 - accuracy: 0.9994 - auc: 1.0000 - val_loss: 0.0307 - val_accuracy: 0.9889 - val_auc: 0.9993\n",
            "Epoch 8/100\n",
            "102/102 [==============================] - 14s 133ms/step - loss: 0.0021 - accuracy: 0.9994 - auc: 1.0000 - val_loss: 0.0308 - val_accuracy: 0.9889 - val_auc: 0.9993\n",
            "Epoch 9/100\n",
            "102/102 [==============================] - 14s 133ms/step - loss: 0.0017 - accuracy: 0.9994 - auc: 1.0000 - val_loss: 0.0310 - val_accuracy: 0.9889 - val_auc: 0.9992\n",
            "Epoch 10/100\n",
            "102/102 [==============================] - 14s 136ms/step - loss: 0.0014 - accuracy: 1.0000 - auc: 1.0000 - val_loss: 0.0323 - val_accuracy: 0.9889 - val_auc: 0.9993\n"
          ]
        }
      ]
    },
    {
      "cell_type": "code",
      "source": [
        "results = model.evaluate(X_test, y_test, verbose=0)\n",
        "\n",
        "print(\"    Test Loss: {:.4f}\".format(results[0]))\n",
        "print(\"Test Accuracy: {:.2f}%\".format(results[1] * 100))\n",
        "print(\"     Test AUC: {:.4f}\".format(results[2]))"
      ],
      "metadata": {
        "colab": {
          "base_uri": "https://localhost:8080/"
        },
        "id": "v0l8nbF1CKOc",
        "outputId": "0f3708ac-8e75-4c03-9de0-adddd8f46ad6"
      },
      "execution_count": 16,
      "outputs": [
        {
          "output_type": "stream",
          "name": "stdout",
          "text": [
            "    Test Loss: 0.0238\n",
            "Test Accuracy: 99.31%\n",
            "     Test AUC: 0.9988\n"
          ]
        }
      ]
    },
    {
      "cell_type": "code",
      "source": [],
      "metadata": {
        "id": "2FiXBjJhCV6E"
      },
      "execution_count": null,
      "outputs": []
    }
  ]
}