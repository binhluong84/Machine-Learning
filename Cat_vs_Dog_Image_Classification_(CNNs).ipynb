{
  "nbformat": 4,
  "nbformat_minor": 0,
  "metadata": {
    "colab": {
      "provenance": [],
      "authorship_tag": "ABX9TyPsVq/JUvlGysySUz6LpaJw",
      "include_colab_link": true
    },
    "kernelspec": {
      "name": "python3",
      "display_name": "Python 3"
    },
    "language_info": {
      "name": "python"
    }
  },
  "cells": [
    {
      "cell_type": "markdown",
      "metadata": {
        "id": "view-in-github",
        "colab_type": "text"
      },
      "source": [
        "<a href=\"https://colab.research.google.com/github/binhluong84/Machine-Learning/blob/main/Cat_vs_Dog_Image_Classification_(CNNs).ipynb\" target=\"_parent\"><img src=\"https://colab.research.google.com/assets/colab-badge.svg\" alt=\"Open In Colab\"/></a>"
      ]
    },
    {
      "cell_type": "code",
      "execution_count": 1,
      "metadata": {
        "colab": {
          "base_uri": "https://localhost:8080/"
        },
        "id": "nm-zokP0WQdY",
        "outputId": "e353ab85-dac9-453c-c6a2-e46573d7a1be"
      },
      "outputs": [
        {
          "output_type": "stream",
          "name": "stdout",
          "text": [
            "Mounted at /gdrive\n"
          ]
        }
      ],
      "source": [
        "#Connect Google Drive\n",
        "from google.colab import drive\n",
        "drive.mount('/gdrive')\n"
      ]
    },
    {
      "cell_type": "code",
      "source": [
        "import numpy as np\n",
        "import pandas as pd\n",
        "from pathlib import Path\n",
        "import os.path\n",
        "\n",
        "import matplotlib.pyplot as plt\n",
        "import seaborn as sns\n",
        "\n",
        "from sklearn.model_selection import train_test_split\n",
        "\n",
        "import tensorflow as tf\n",
        "\n",
        "from sklearn.metrics import confusion_matrix, classification_report"
      ],
      "metadata": {
        "id": "2XxQ8KciggiL"
      },
      "execution_count": 2,
      "outputs": []
    },
    {
      "cell_type": "code",
      "source": [
        "image_dir = Path('/gdrive/MyDrive/Cat and Dog Image Classification (CNN)/Dog and Cat .png')"
      ],
      "metadata": {
        "id": "uSGIXdCggkHi"
      },
      "execution_count": 3,
      "outputs": []
    },
    {
      "cell_type": "code",
      "source": [
        "filepaths = list(image_dir.glob(r'**/*.png'))\n",
        "labels = list(map(lambda x: os.path.split(os.path.split(x)[0])[1], filepaths))\n",
        "\n",
        "filepaths = pd.Series(filepaths, name='Filepath').astype(str)\n",
        "labels = pd.Series(labels, name='Label')\n",
        "\n",
        "image_df = pd.concat([filepaths, labels], axis=1)"
      ],
      "metadata": {
        "id": "Li497t3Jgry6"
      },
      "execution_count": 4,
      "outputs": []
    },
    {
      "cell_type": "code",
      "source": [
        "image_df\n"
      ],
      "metadata": {
        "colab": {
          "base_uri": "https://localhost:8080/",
          "height": 424
        },
        "id": "CiWra-CIgtga",
        "outputId": "89f3f6e2-2137-444e-bf01-1afc5f764f91"
      },
      "execution_count": 5,
      "outputs": [
        {
          "output_type": "execute_result",
          "data": {
            "text/plain": [
              "                                              Filepath Label\n",
              "0    /gdrive/MyDrive/Cat and Dog Image Classificati...   Dog\n",
              "1    /gdrive/MyDrive/Cat and Dog Image Classificati...   Dog\n",
              "2    /gdrive/MyDrive/Cat and Dog Image Classificati...   Dog\n",
              "3    /gdrive/MyDrive/Cat and Dog Image Classificati...   Dog\n",
              "4    /gdrive/MyDrive/Cat and Dog Image Classificati...   Dog\n",
              "..                                                 ...   ...\n",
              "994  /gdrive/MyDrive/Cat and Dog Image Classificati...   Cat\n",
              "995  /gdrive/MyDrive/Cat and Dog Image Classificati...   Cat\n",
              "996  /gdrive/MyDrive/Cat and Dog Image Classificati...   Cat\n",
              "997  /gdrive/MyDrive/Cat and Dog Image Classificati...   Cat\n",
              "998  /gdrive/MyDrive/Cat and Dog Image Classificati...   Cat\n",
              "\n",
              "[999 rows x 2 columns]"
            ],
            "text/html": [
              "\n",
              "  <div id=\"df-b151a80f-8df6-4d6f-97ac-1564b6897da6\">\n",
              "    <div class=\"colab-df-container\">\n",
              "      <div>\n",
              "<style scoped>\n",
              "    .dataframe tbody tr th:only-of-type {\n",
              "        vertical-align: middle;\n",
              "    }\n",
              "\n",
              "    .dataframe tbody tr th {\n",
              "        vertical-align: top;\n",
              "    }\n",
              "\n",
              "    .dataframe thead th {\n",
              "        text-align: right;\n",
              "    }\n",
              "</style>\n",
              "<table border=\"1\" class=\"dataframe\">\n",
              "  <thead>\n",
              "    <tr style=\"text-align: right;\">\n",
              "      <th></th>\n",
              "      <th>Filepath</th>\n",
              "      <th>Label</th>\n",
              "    </tr>\n",
              "  </thead>\n",
              "  <tbody>\n",
              "    <tr>\n",
              "      <th>0</th>\n",
              "      <td>/gdrive/MyDrive/Cat and Dog Image Classificati...</td>\n",
              "      <td>Dog</td>\n",
              "    </tr>\n",
              "    <tr>\n",
              "      <th>1</th>\n",
              "      <td>/gdrive/MyDrive/Cat and Dog Image Classificati...</td>\n",
              "      <td>Dog</td>\n",
              "    </tr>\n",
              "    <tr>\n",
              "      <th>2</th>\n",
              "      <td>/gdrive/MyDrive/Cat and Dog Image Classificati...</td>\n",
              "      <td>Dog</td>\n",
              "    </tr>\n",
              "    <tr>\n",
              "      <th>3</th>\n",
              "      <td>/gdrive/MyDrive/Cat and Dog Image Classificati...</td>\n",
              "      <td>Dog</td>\n",
              "    </tr>\n",
              "    <tr>\n",
              "      <th>4</th>\n",
              "      <td>/gdrive/MyDrive/Cat and Dog Image Classificati...</td>\n",
              "      <td>Dog</td>\n",
              "    </tr>\n",
              "    <tr>\n",
              "      <th>...</th>\n",
              "      <td>...</td>\n",
              "      <td>...</td>\n",
              "    </tr>\n",
              "    <tr>\n",
              "      <th>994</th>\n",
              "      <td>/gdrive/MyDrive/Cat and Dog Image Classificati...</td>\n",
              "      <td>Cat</td>\n",
              "    </tr>\n",
              "    <tr>\n",
              "      <th>995</th>\n",
              "      <td>/gdrive/MyDrive/Cat and Dog Image Classificati...</td>\n",
              "      <td>Cat</td>\n",
              "    </tr>\n",
              "    <tr>\n",
              "      <th>996</th>\n",
              "      <td>/gdrive/MyDrive/Cat and Dog Image Classificati...</td>\n",
              "      <td>Cat</td>\n",
              "    </tr>\n",
              "    <tr>\n",
              "      <th>997</th>\n",
              "      <td>/gdrive/MyDrive/Cat and Dog Image Classificati...</td>\n",
              "      <td>Cat</td>\n",
              "    </tr>\n",
              "    <tr>\n",
              "      <th>998</th>\n",
              "      <td>/gdrive/MyDrive/Cat and Dog Image Classificati...</td>\n",
              "      <td>Cat</td>\n",
              "    </tr>\n",
              "  </tbody>\n",
              "</table>\n",
              "<p>999 rows × 2 columns</p>\n",
              "</div>\n",
              "      <button class=\"colab-df-convert\" onclick=\"convertToInteractive('df-b151a80f-8df6-4d6f-97ac-1564b6897da6')\"\n",
              "              title=\"Convert this dataframe to an interactive table.\"\n",
              "              style=\"display:none;\">\n",
              "        \n",
              "  <svg xmlns=\"http://www.w3.org/2000/svg\" height=\"24px\"viewBox=\"0 0 24 24\"\n",
              "       width=\"24px\">\n",
              "    <path d=\"M0 0h24v24H0V0z\" fill=\"none\"/>\n",
              "    <path d=\"M18.56 5.44l.94 2.06.94-2.06 2.06-.94-2.06-.94-.94-2.06-.94 2.06-2.06.94zm-11 1L8.5 8.5l.94-2.06 2.06-.94-2.06-.94L8.5 2.5l-.94 2.06-2.06.94zm10 10l.94 2.06.94-2.06 2.06-.94-2.06-.94-.94-2.06-.94 2.06-2.06.94z\"/><path d=\"M17.41 7.96l-1.37-1.37c-.4-.4-.92-.59-1.43-.59-.52 0-1.04.2-1.43.59L10.3 9.45l-7.72 7.72c-.78.78-.78 2.05 0 2.83L4 21.41c.39.39.9.59 1.41.59.51 0 1.02-.2 1.41-.59l7.78-7.78 2.81-2.81c.8-.78.8-2.07 0-2.86zM5.41 20L4 18.59l7.72-7.72 1.47 1.35L5.41 20z\"/>\n",
              "  </svg>\n",
              "      </button>\n",
              "      \n",
              "  <style>\n",
              "    .colab-df-container {\n",
              "      display:flex;\n",
              "      flex-wrap:wrap;\n",
              "      gap: 12px;\n",
              "    }\n",
              "\n",
              "    .colab-df-convert {\n",
              "      background-color: #E8F0FE;\n",
              "      border: none;\n",
              "      border-radius: 50%;\n",
              "      cursor: pointer;\n",
              "      display: none;\n",
              "      fill: #1967D2;\n",
              "      height: 32px;\n",
              "      padding: 0 0 0 0;\n",
              "      width: 32px;\n",
              "    }\n",
              "\n",
              "    .colab-df-convert:hover {\n",
              "      background-color: #E2EBFA;\n",
              "      box-shadow: 0px 1px 2px rgba(60, 64, 67, 0.3), 0px 1px 3px 1px rgba(60, 64, 67, 0.15);\n",
              "      fill: #174EA6;\n",
              "    }\n",
              "\n",
              "    [theme=dark] .colab-df-convert {\n",
              "      background-color: #3B4455;\n",
              "      fill: #D2E3FC;\n",
              "    }\n",
              "\n",
              "    [theme=dark] .colab-df-convert:hover {\n",
              "      background-color: #434B5C;\n",
              "      box-shadow: 0px 1px 3px 1px rgba(0, 0, 0, 0.15);\n",
              "      filter: drop-shadow(0px 1px 2px rgba(0, 0, 0, 0.3));\n",
              "      fill: #FFFFFF;\n",
              "    }\n",
              "  </style>\n",
              "\n",
              "      <script>\n",
              "        const buttonEl =\n",
              "          document.querySelector('#df-b151a80f-8df6-4d6f-97ac-1564b6897da6 button.colab-df-convert');\n",
              "        buttonEl.style.display =\n",
              "          google.colab.kernel.accessAllowed ? 'block' : 'none';\n",
              "\n",
              "        async function convertToInteractive(key) {\n",
              "          const element = document.querySelector('#df-b151a80f-8df6-4d6f-97ac-1564b6897da6');\n",
              "          const dataTable =\n",
              "            await google.colab.kernel.invokeFunction('convertToInteractive',\n",
              "                                                     [key], {});\n",
              "          if (!dataTable) return;\n",
              "\n",
              "          const docLinkHtml = 'Like what you see? Visit the ' +\n",
              "            '<a target=\"_blank\" href=https://colab.research.google.com/notebooks/data_table.ipynb>data table notebook</a>'\n",
              "            + ' to learn more about interactive tables.';\n",
              "          element.innerHTML = '';\n",
              "          dataTable['output_type'] = 'display_data';\n",
              "          await google.colab.output.renderOutput(dataTable, element);\n",
              "          const docLink = document.createElement('div');\n",
              "          docLink.innerHTML = docLinkHtml;\n",
              "          element.appendChild(docLink);\n",
              "        }\n",
              "      </script>\n",
              "    </div>\n",
              "  </div>\n",
              "  "
            ]
          },
          "metadata": {},
          "execution_count": 5
        }
      ]
    },
    {
      "cell_type": "code",
      "source": [
        "train_df, test_df = train_test_split(image_df, train_size=0.7, shuffle=True, random_state=1)"
      ],
      "metadata": {
        "id": "7lIO9I6kgvna"
      },
      "execution_count": 12,
      "outputs": []
    },
    {
      "cell_type": "code",
      "source": [
        "train_generator = tf.keras.preprocessing.image.ImageDataGenerator(\n",
        "    rescale=1./255,\n",
        "    horizontal_flip=True,\n",
        "    width_shift_range=0.2,\n",
        "    height_shift_range=0.2,\n",
        "    validation_split=0.2\n",
        ")\n",
        "\n",
        "test_generator = tf.keras.preprocessing.image.ImageDataGenerator(\n",
        "    rescale=1./255\n",
        ")"
      ],
      "metadata": {
        "id": "TH_1PDkagx3J"
      },
      "execution_count": 13,
      "outputs": []
    },
    {
      "cell_type": "code",
      "source": [
        "train_images = train_generator.flow_from_dataframe(\n",
        "    dataframe=train_df,\n",
        "    x_col='Filepath',\n",
        "    y_col='Label',\n",
        "    target_size=(224, 224),\n",
        "    color_mode='rgb',\n",
        "    class_mode='binary',\n",
        "    batch_size=32,\n",
        "    shuffle=True,\n",
        "    seed=42,\n",
        "    subset='training'\n",
        ")\n",
        "\n",
        "val_images = train_generator.flow_from_dataframe(\n",
        "    dataframe=train_df,\n",
        "    x_col='Filepath',\n",
        "    y_col='Label',\n",
        "    target_size=(224, 224),\n",
        "    color_mode='rgb',\n",
        "    class_mode='binary',\n",
        "    batch_size=32,\n",
        "    shuffle=True,\n",
        "    seed=42,\n",
        "    subset='validation'\n",
        ")\n",
        "\n",
        "test_images = test_generator.flow_from_dataframe(\n",
        "    dataframe=test_df,\n",
        "    x_col='Filepath',\n",
        "    y_col='Label',\n",
        "    target_size=(224, 224),\n",
        "    color_mode='rgb',\n",
        "    class_mode='binary',\n",
        "    batch_size=32,\n",
        "    shuffle=False\n",
        ")"
      ],
      "metadata": {
        "colab": {
          "base_uri": "https://localhost:8080/"
        },
        "id": "B-f45VLkgzsy",
        "outputId": "a46f90f9-4d62-4b38-c59b-6e0a356bf584"
      },
      "execution_count": 14,
      "outputs": [
        {
          "output_type": "stream",
          "name": "stdout",
          "text": [
            "Found 560 validated image filenames belonging to 2 classes.\n",
            "Found 139 validated image filenames belonging to 2 classes.\n",
            "Found 300 validated image filenames belonging to 2 classes.\n"
          ]
        }
      ]
    },
    {
      "cell_type": "code",
      "source": [
        "inputs = tf.keras.Input(shape=(224, 224, 3))\n",
        "x = tf.keras.layers.Conv2D(filters=16, kernel_size=(3, 3), activation='relu')(inputs)\n",
        "x = tf.keras.layers.MaxPool2D()(x)\n",
        "x = tf.keras.layers.Conv2D(filters=32, kernel_size=(3, 3), activation='relu')(x)\n",
        "x = tf.keras.layers.MaxPool2D()(x)\n",
        "x = tf.keras.layers.GlobalAveragePooling2D()(x)\n",
        "x = tf.keras.layers.Dense(128, activation='relu')(x)\n",
        "x = tf.keras.layers.Dense(128, activation='relu')(x)\n",
        "outputs = tf.keras.layers.Dense(1, activation='sigmoid')(x)\n",
        "\n",
        "model = tf.keras.Model(inputs=inputs, outputs=outputs)\n",
        "\n",
        "model.compile(\n",
        "    optimizer='adam',\n",
        "    loss='binary_crossentropy',\n",
        "    metrics=['accuracy']\n",
        ")\n",
        "\n",
        "history = model.fit(\n",
        "    train_images,\n",
        "    validation_data=val_images,\n",
        "    epochs=100,\n",
        "    callbacks=[\n",
        "        tf.keras.callbacks.EarlyStopping(\n",
        "            monitor='val_loss',\n",
        "            patience=5,\n",
        "            restore_best_weights=True\n",
        "        ),\n",
        "        tf.keras.callbacks.ReduceLROnPlateau(\n",
        "            monitor='val_loss',\n",
        "            patience=3\n",
        "        )\n",
        "    ]\n",
        ")"
      ],
      "metadata": {
        "colab": {
          "base_uri": "https://localhost:8080/"
        },
        "id": "UMg5W5wcg2Hp",
        "outputId": "42270081-7610-4292-8b4a-31109ce42405"
      },
      "execution_count": 15,
      "outputs": [
        {
          "output_type": "stream",
          "name": "stdout",
          "text": [
            "Epoch 1/100\n",
            "18/18 [==============================] - 33s 2s/step - loss: 0.6949 - accuracy: 0.4786 - val_loss: 0.6920 - val_accuracy: 0.4964 - lr: 0.0010\n",
            "Epoch 2/100\n",
            "18/18 [==============================] - 31s 2s/step - loss: 0.6922 - accuracy: 0.5125 - val_loss: 0.6891 - val_accuracy: 0.6187 - lr: 0.0010\n",
            "Epoch 3/100\n",
            "18/18 [==============================] - 31s 2s/step - loss: 0.6895 - accuracy: 0.5482 - val_loss: 0.6845 - val_accuracy: 0.5971 - lr: 0.0010\n",
            "Epoch 4/100\n",
            "18/18 [==============================] - 31s 2s/step - loss: 0.6832 - accuracy: 0.5696 - val_loss: 0.6875 - val_accuracy: 0.4820 - lr: 0.0010\n",
            "Epoch 5/100\n",
            "18/18 [==============================] - 31s 2s/step - loss: 0.6801 - accuracy: 0.5607 - val_loss: 0.6894 - val_accuracy: 0.4820 - lr: 0.0010\n",
            "Epoch 6/100\n",
            "18/18 [==============================] - 31s 2s/step - loss: 0.6756 - accuracy: 0.5982 - val_loss: 0.6658 - val_accuracy: 0.5899 - lr: 0.0010\n",
            "Epoch 7/100\n",
            "18/18 [==============================] - 31s 2s/step - loss: 0.6687 - accuracy: 0.6054 - val_loss: 0.6693 - val_accuracy: 0.5971 - lr: 0.0010\n",
            "Epoch 8/100\n",
            "18/18 [==============================] - 31s 2s/step - loss: 0.6759 - accuracy: 0.5679 - val_loss: 0.6590 - val_accuracy: 0.5899 - lr: 0.0010\n",
            "Epoch 9/100\n",
            "18/18 [==============================] - 31s 2s/step - loss: 0.6622 - accuracy: 0.6321 - val_loss: 0.6608 - val_accuracy: 0.5971 - lr: 0.0010\n",
            "Epoch 10/100\n",
            "18/18 [==============================] - 31s 2s/step - loss: 0.6670 - accuracy: 0.6196 - val_loss: 0.6727 - val_accuracy: 0.5899 - lr: 0.0010\n",
            "Epoch 11/100\n",
            "18/18 [==============================] - 32s 2s/step - loss: 0.6719 - accuracy: 0.5929 - val_loss: 0.6627 - val_accuracy: 0.5971 - lr: 0.0010\n",
            "Epoch 12/100\n",
            "18/18 [==============================] - 31s 2s/step - loss: 0.6706 - accuracy: 0.5946 - val_loss: 0.6584 - val_accuracy: 0.5971 - lr: 1.0000e-04\n",
            "Epoch 13/100\n",
            "18/18 [==============================] - 32s 2s/step - loss: 0.6619 - accuracy: 0.6161 - val_loss: 0.6534 - val_accuracy: 0.6331 - lr: 1.0000e-04\n",
            "Epoch 14/100\n",
            "18/18 [==============================] - 31s 2s/step - loss: 0.6583 - accuracy: 0.6250 - val_loss: 0.6546 - val_accuracy: 0.6043 - lr: 1.0000e-04\n",
            "Epoch 15/100\n",
            "18/18 [==============================] - 32s 2s/step - loss: 0.6557 - accuracy: 0.6375 - val_loss: 0.6569 - val_accuracy: 0.6043 - lr: 1.0000e-04\n",
            "Epoch 16/100\n",
            "18/18 [==============================] - 32s 2s/step - loss: 0.6533 - accuracy: 0.6464 - val_loss: 0.6511 - val_accuracy: 0.6115 - lr: 1.0000e-04\n",
            "Epoch 17/100\n",
            "18/18 [==============================] - 32s 2s/step - loss: 0.6545 - accuracy: 0.6411 - val_loss: 0.6478 - val_accuracy: 0.6115 - lr: 1.0000e-04\n",
            "Epoch 18/100\n",
            "18/18 [==============================] - 31s 2s/step - loss: 0.6520 - accuracy: 0.6339 - val_loss: 0.6460 - val_accuracy: 0.6259 - lr: 1.0000e-04\n",
            "Epoch 19/100\n",
            "18/18 [==============================] - 31s 2s/step - loss: 0.6525 - accuracy: 0.6429 - val_loss: 0.6477 - val_accuracy: 0.5899 - lr: 1.0000e-04\n",
            "Epoch 20/100\n",
            "18/18 [==============================] - 31s 2s/step - loss: 0.6494 - accuracy: 0.6339 - val_loss: 0.6425 - val_accuracy: 0.6115 - lr: 1.0000e-04\n",
            "Epoch 21/100\n",
            "18/18 [==============================] - 31s 2s/step - loss: 0.6509 - accuracy: 0.6268 - val_loss: 0.6551 - val_accuracy: 0.5971 - lr: 1.0000e-04\n",
            "Epoch 22/100\n",
            "18/18 [==============================] - 31s 2s/step - loss: 0.6483 - accuracy: 0.6393 - val_loss: 0.6445 - val_accuracy: 0.5971 - lr: 1.0000e-04\n",
            "Epoch 23/100\n",
            "18/18 [==============================] - 31s 2s/step - loss: 0.6516 - accuracy: 0.6268 - val_loss: 0.6397 - val_accuracy: 0.6403 - lr: 1.0000e-04\n",
            "Epoch 24/100\n",
            "18/18 [==============================] - 33s 2s/step - loss: 0.6481 - accuracy: 0.6446 - val_loss: 0.6359 - val_accuracy: 0.6187 - lr: 1.0000e-04\n",
            "Epoch 25/100\n",
            "18/18 [==============================] - 31s 2s/step - loss: 0.6522 - accuracy: 0.6286 - val_loss: 0.6409 - val_accuracy: 0.6115 - lr: 1.0000e-04\n",
            "Epoch 26/100\n",
            "18/18 [==============================] - 31s 2s/step - loss: 0.6446 - accuracy: 0.6250 - val_loss: 0.6430 - val_accuracy: 0.6187 - lr: 1.0000e-04\n",
            "Epoch 27/100\n",
            "18/18 [==============================] - 31s 2s/step - loss: 0.6444 - accuracy: 0.6411 - val_loss: 0.6333 - val_accuracy: 0.6331 - lr: 1.0000e-04\n",
            "Epoch 28/100\n",
            "18/18 [==============================] - 31s 2s/step - loss: 0.6460 - accuracy: 0.6411 - val_loss: 0.6339 - val_accuracy: 0.6187 - lr: 1.0000e-04\n",
            "Epoch 29/100\n",
            "18/18 [==============================] - 31s 2s/step - loss: 0.6478 - accuracy: 0.6214 - val_loss: 0.6291 - val_accuracy: 0.6115 - lr: 1.0000e-04\n",
            "Epoch 30/100\n",
            "18/18 [==============================] - 31s 2s/step - loss: 0.6515 - accuracy: 0.6250 - val_loss: 0.6286 - val_accuracy: 0.6403 - lr: 1.0000e-04\n",
            "Epoch 31/100\n",
            "18/18 [==============================] - 31s 2s/step - loss: 0.6473 - accuracy: 0.6393 - val_loss: 0.6286 - val_accuracy: 0.6187 - lr: 1.0000e-04\n",
            "Epoch 32/100\n",
            "18/18 [==============================] - 31s 2s/step - loss: 0.6453 - accuracy: 0.6339 - val_loss: 0.6309 - val_accuracy: 0.6475 - lr: 1.0000e-04\n",
            "Epoch 33/100\n",
            "18/18 [==============================] - 31s 2s/step - loss: 0.6491 - accuracy: 0.6161 - val_loss: 0.6316 - val_accuracy: 0.6475 - lr: 1.0000e-04\n",
            "Epoch 34/100\n",
            "18/18 [==============================] - 31s 2s/step - loss: 0.6481 - accuracy: 0.6357 - val_loss: 0.6303 - val_accuracy: 0.6547 - lr: 1.0000e-05\n",
            "Epoch 35/100\n",
            "18/18 [==============================] - 31s 2s/step - loss: 0.6443 - accuracy: 0.6321 - val_loss: 0.6305 - val_accuracy: 0.6619 - lr: 1.0000e-05\n",
            "Epoch 36/100\n",
            "18/18 [==============================] - 31s 2s/step - loss: 0.6431 - accuracy: 0.6375 - val_loss: 0.6322 - val_accuracy: 0.6475 - lr: 1.0000e-05\n"
          ]
        }
      ]
    },
    {
      "cell_type": "code",
      "source": [
        "results = model.evaluate(test_images, verbose=0)\n",
        "\n",
        "print(\"    Test Loss: {:.5f}\".format(results[0]))\n",
        "print(\"Test Accuracy: {:.2f}%\".format(results[1] * 100))"
      ],
      "metadata": {
        "colab": {
          "base_uri": "https://localhost:8080/"
        },
        "id": "hY-AurIgg5gR",
        "outputId": "3dcffe07-c205-450c-a52e-d13487786e60"
      },
      "execution_count": 16,
      "outputs": [
        {
          "output_type": "stream",
          "name": "stdout",
          "text": [
            "    Test Loss: 0.65530\n",
            "Test Accuracy: 59.67%\n"
          ]
        }
      ]
    },
    {
      "cell_type": "code",
      "source": [
        "predictions = (model.predict(test_images) >= 0.5).astype(np.int)\n",
        "\n",
        "cm = confusion_matrix(test_images.labels, predictions, labels=[0, 1])\n",
        "clr = classification_report(test_images.labels, predictions, labels=[0, 1], target_names=[\"CAT\", \"DOG\"])\n",
        "\n",
        "plt.figure(figsize=(6, 6))\n",
        "sns.heatmap(cm, annot=True, fmt='g', vmin=0, cmap='Blues', cbar=False)\n",
        "plt.xticks(ticks=[0.5, 1.5], labels=[\"CAT\", \"DOG\"])\n",
        "plt.yticks(ticks=[0.5, 1.5], labels=[\"CAT\", \"DOG\"])\n",
        "plt.xlabel(\"Predicted\")\n",
        "plt.ylabel(\"Actual\")\n",
        "plt.title(\"Confusion Matrix\")\n",
        "plt.show()\n",
        "\n",
        "print(\"Classification Report:\\n----------------------\\n\", clr)"
      ],
      "metadata": {
        "colab": {
          "base_uri": "https://localhost:8080/",
          "height": 684
        },
        "id": "YZN6ihXrg7ah",
        "outputId": "01ae1277-e914-41f6-ca96-8262c899906b"
      },
      "execution_count": 17,
      "outputs": [
        {
          "output_type": "stream",
          "name": "stdout",
          "text": [
            "10/10 [==============================] - 5s 488ms/step\n"
          ]
        },
        {
          "output_type": "stream",
          "name": "stderr",
          "text": [
            "/usr/local/lib/python3.7/dist-packages/ipykernel_launcher.py:1: DeprecationWarning: `np.int` is a deprecated alias for the builtin `int`. To silence this warning, use `int` by itself. Doing this will not modify any behavior and is safe. When replacing `np.int`, you may wish to use e.g. `np.int64` or `np.int32` to specify the precision. If you wish to review your current use, check the release note link for additional information.\n",
            "Deprecated in NumPy 1.20; for more details and guidance: https://numpy.org/devdocs/release/1.20.0-notes.html#deprecations\n",
            "  \"\"\"Entry point for launching an IPython kernel.\n"
          ]
        },
        {
          "output_type": "display_data",
          "data": {
            "text/plain": [
              "<Figure size 432x432 with 1 Axes>"
            ],
            "image/png": "[encoded data removed]"
          },
          "metadata": {
            "needs_background": "light"
          }
        },
        {
          "output_type": "stream",
          "name": "stdout",
          "text": [
            "Classification Report:\n",
            "----------------------\n",
            "               precision    recall  f1-score   support\n",
            "\n",
            "         CAT       0.61      0.54      0.57       151\n",
            "         DOG       0.58      0.66      0.62       149\n",
            "\n",
            "    accuracy                           0.60       300\n",
            "   macro avg       0.60      0.60      0.60       300\n",
            "weighted avg       0.60      0.60      0.60       300\n",
            "\n"
          ]
        }
      ]
    },
    {
      "cell_type": "code",
      "source": [],
      "metadata": {
        "id": "lpr7u8-Sg-Hp"
      },
      "execution_count": null,
      "outputs": []
    }
  ]
}