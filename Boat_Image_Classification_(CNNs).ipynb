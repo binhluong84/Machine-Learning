{
  "nbformat": 4,
  "nbformat_minor": 0,
  "metadata": {
    "colab": {
      "provenance": [],
      "authorship_tag": "ABX9TyPUEhz8Vi9kjygQ/SSLUjun",
      "include_colab_link": true
    },
    "kernelspec": {
      "name": "python3",
      "display_name": "Python 3"
    },
    "language_info": {
      "name": "python"
    }
  },
  "cells": [
    {
      "cell_type": "markdown",
      "metadata": {
        "id": "view-in-github",
        "colab_type": "text"
      },
      "source": [
        "<a href=\"https://colab.research.google.com/github/binhluong84/Machine-Learning/blob/main/Boat_Image_Classification_(CNNs).ipynb\" target=\"_parent\"><img src=\"https://colab.research.google.com/assets/colab-badge.svg\" alt=\"Open In Colab\"/></a>"
      ]
    },
    {
      "cell_type": "code",
      "execution_count": 1,
      "metadata": {
        "colab": {
          "base_uri": "https://localhost:8080/"
        },
        "id": "6Z9T84QI6GpF",
        "outputId": "5c6788f9-36a9-4fb3-ab81-c3732ffe4d7b"
      },
      "outputs": [
        {
          "output_type": "stream",
          "name": "stdout",
          "text": [
            "Mounted at /gdrive\n"
          ]
        }
      ],
      "source": [
        "#Connect Google Drive\n",
        "from google.colab import drive\n",
        "drive.mount('/gdrive')"
      ]
    },
    {
      "cell_type": "code",
      "source": [
        "import numpy as np\n",
        "import pandas as pd\n",
        "import os\n",
        "from pathlib import Path\n",
        "\n",
        "import matplotlib.pyplot as plt\n",
        "import seaborn as sns\n",
        "\n",
        "from sklearn.model_selection import train_test_split\n",
        "\n",
        "import tensorflow as tf\n",
        "\n",
        "from sklearn.metrics import confusion_matrix, classification_report\n",
        "\n",
        "import warnings\n",
        "warnings.filterwarnings(action='ignore')"
      ],
      "metadata": {
        "id": "JU0tsLEk6He2"
      },
      "execution_count": 2,
      "outputs": []
    },
    {
      "cell_type": "code",
      "source": [
        "image_dir = Path('/gdrive/MyDrive/Boat Image Classification (CNN)/archive/Train')"
      ],
      "metadata": {
        "id": "3JniX6C-6K-b"
      },
      "execution_count": 3,
      "outputs": []
    },
    {
      "cell_type": "code",
      "source": [
        "image_files = list(image_dir.glob(r'**/*.jpg'))\n",
        "labels = list(map(lambda x: os.path.split(os.path.split(x)[0])[1], image_files))\n",
        "\n",
        "image_df = pd.DataFrame({'Filepath': image_files, 'Label': labels}).astype(str).sample(frac=1.0, random_state=1).reset_index(drop=True)\n",
        "image_df"
      ],
      "metadata": {
        "colab": {
          "base_uri": "https://localhost:8080/",
          "height": 424
        },
        "id": "4aIzGwCM6YFD",
        "outputId": "eeb88836-cd18-4388-c240-62bad93e2569"
      },
      "execution_count": 4,
      "outputs": [
        {
          "output_type": "execute_result",
          "data": {
            "text/plain": [
              "                                               Filepath        Label\n",
              "0     /gdrive/MyDrive/Boat Image Classification (CNN...  cruise_ship\n",
              "1     /gdrive/MyDrive/Boat Image Classification (CNN...     sailboat\n",
              "2     /gdrive/MyDrive/Boat Image Classification (CNN...        kayak\n",
              "3     /gdrive/MyDrive/Boat Image Classification (CNN...  cruise_ship\n",
              "4     /gdrive/MyDrive/Boat Image Classification (CNN...         buoy\n",
              "...                                                 ...          ...\n",
              "1157  /gdrive/MyDrive/Boat Image Classification (CNN...  cruise_ship\n",
              "1158  /gdrive/MyDrive/Boat Image Classification (CNN...      gondola\n",
              "1159  /gdrive/MyDrive/Boat Image Classification (CNN...   ferry_boat\n",
              "1160  /gdrive/MyDrive/Boat Image Classification (CNN...     sailboat\n",
              "1161  /gdrive/MyDrive/Boat Image Classification (CNN...   ferry_boat\n",
              "\n",
              "[1162 rows x 2 columns]"
            ],
            "text/html": [
              "\n",
              "  <div id=\"df-bcba29d3-648d-4b19-a200-d677aa2173af\">\n",
              "    <div class=\"colab-df-container\">\n",
              "      <div>\n",
              "<style scoped>\n",
              "    .dataframe tbody tr th:only-of-type {\n",
              "        vertical-align: middle;\n",
              "    }\n",
              "\n",
              "    .dataframe tbody tr th {\n",
              "        vertical-align: top;\n",
              "    }\n",
              "\n",
              "    .dataframe thead th {\n",
              "        text-align: right;\n",
              "    }\n",
              "</style>\n",
              "<table border=\"1\" class=\"dataframe\">\n",
              "  <thead>\n",
              "    <tr style=\"text-align: right;\">\n",
              "      <th></th>\n",
              "      <th>Filepath</th>\n",
              "      <th>Label</th>\n",
              "    </tr>\n",
              "  </thead>\n",
              "  <tbody>\n",
              "    <tr>\n",
              "      <th>0</th>\n",
              "      <td>/gdrive/MyDrive/Boat Image Classification (CNN...</td>\n",
              "      <td>cruise_ship</td>\n",
              "    </tr>\n",
              "    <tr>\n",
              "      <th>1</th>\n",
              "      <td>/gdrive/MyDrive/Boat Image Classification (CNN...</td>\n",
              "      <td>sailboat</td>\n",
              "    </tr>\n",
              "    <tr>\n",
              "      <th>2</th>\n",
              "      <td>/gdrive/MyDrive/Boat Image Classification (CNN...</td>\n",
              "      <td>kayak</td>\n",
              "    </tr>\n",
              "    <tr>\n",
              "      <th>3</th>\n",
              "      <td>/gdrive/MyDrive/Boat Image Classification (CNN...</td>\n",
              "      <td>cruise_ship</td>\n",
              "    </tr>\n",
              "    <tr>\n",
              "      <th>4</th>\n",
              "      <td>/gdrive/MyDrive/Boat Image Classification (CNN...</td>\n",
              "      <td>buoy</td>\n",
              "    </tr>\n",
              "    <tr>\n",
              "      <th>...</th>\n",
              "      <td>...</td>\n",
              "      <td>...</td>\n",
              "    </tr>\n",
              "    <tr>\n",
              "      <th>1157</th>\n",
              "      <td>/gdrive/MyDrive/Boat Image Classification (CNN...</td>\n",
              "      <td>cruise_ship</td>\n",
              "    </tr>\n",
              "    <tr>\n",
              "      <th>1158</th>\n",
              "      <td>/gdrive/MyDrive/Boat Image Classification (CNN...</td>\n",
              "      <td>gondola</td>\n",
              "    </tr>\n",
              "    <tr>\n",
              "      <th>1159</th>\n",
              "      <td>/gdrive/MyDrive/Boat Image Classification (CNN...</td>\n",
              "      <td>ferry_boat</td>\n",
              "    </tr>\n",
              "    <tr>\n",
              "      <th>1160</th>\n",
              "      <td>/gdrive/MyDrive/Boat Image Classification (CNN...</td>\n",
              "      <td>sailboat</td>\n",
              "    </tr>\n",
              "    <tr>\n",
              "      <th>1161</th>\n",
              "      <td>/gdrive/MyDrive/Boat Image Classification (CNN...</td>\n",
              "      <td>ferry_boat</td>\n",
              "    </tr>\n",
              "  </tbody>\n",
              "</table>\n",
              "<p>1162 rows × 2 columns</p>\n",
              "</div>\n",
              "      <button class=\"colab-df-convert\" onclick=\"convertToInteractive('df-bcba29d3-648d-4b19-a200-d677aa2173af')\"\n",
              "              title=\"Convert this dataframe to an interactive table.\"\n",
              "              style=\"display:none;\">\n",
              "        \n",
              "  <svg xmlns=\"http://www.w3.org/2000/svg\" height=\"24px\"viewBox=\"0 0 24 24\"\n",
              "       width=\"24px\">\n",
              "    <path d=\"M0 0h24v24H0V0z\" fill=\"none\"/>\n",
              "    <path d=\"M18.56 5.44l.94 2.06.94-2.06 2.06-.94-2.06-.94-.94-2.06-.94 2.06-2.06.94zm-11 1L8.5 8.5l.94-2.06 2.06-.94-2.06-.94L8.5 2.5l-.94 2.06-2.06.94zm10 10l.94 2.06.94-2.06 2.06-.94-2.06-.94-.94-2.06-.94 2.06-2.06.94z\"/><path d=\"M17.41 7.96l-1.37-1.37c-.4-.4-.92-.59-1.43-.59-.52 0-1.04.2-1.43.59L10.3 9.45l-7.72 7.72c-.78.78-.78 2.05 0 2.83L4 21.41c.39.39.9.59 1.41.59.51 0 1.02-.2 1.41-.59l7.78-7.78 2.81-2.81c.8-.78.8-2.07 0-2.86zM5.41 20L4 18.59l7.72-7.72 1.47 1.35L5.41 20z\"/>\n",
              "  </svg>\n",
              "      </button>\n",
              "      \n",
              "  <style>\n",
              "    .colab-df-container {\n",
              "      display:flex;\n",
              "      flex-wrap:wrap;\n",
              "      gap: 12px;\n",
              "    }\n",
              "\n",
              "    .colab-df-convert {\n",
              "      background-color: #E8F0FE;\n",
              "      border: none;\n",
              "      border-radius: 50%;\n",
              "      cursor: pointer;\n",
              "      display: none;\n",
              "      fill: #1967D2;\n",
              "      height: 32px;\n",
              "      padding: 0 0 0 0;\n",
              "      width: 32px;\n",
              "    }\n",
              "\n",
              "    .colab-df-convert:hover {\n",
              "      background-color: #E2EBFA;\n",
              "      box-shadow: 0px 1px 2px rgba(60, 64, 67, 0.3), 0px 1px 3px 1px rgba(60, 64, 67, 0.15);\n",
              "      fill: #174EA6;\n",
              "    }\n",
              "\n",
              "    [theme=dark] .colab-df-convert {\n",
              "      background-color: #3B4455;\n",
              "      fill: #D2E3FC;\n",
              "    }\n",
              "\n",
              "    [theme=dark] .colab-df-convert:hover {\n",
              "      background-color: #434B5C;\n",
              "      box-shadow: 0px 1px 3px 1px rgba(0, 0, 0, 0.15);\n",
              "      filter: drop-shadow(0px 1px 2px rgba(0, 0, 0, 0.3));\n",
              "      fill: #FFFFFF;\n",
              "    }\n",
              "  </style>\n",
              "\n",
              "      <script>\n",
              "        const buttonEl =\n",
              "          document.querySelector('#df-bcba29d3-648d-4b19-a200-d677aa2173af button.colab-df-convert');\n",
              "        buttonEl.style.display =\n",
              "          google.colab.kernel.accessAllowed ? 'block' : 'none';\n",
              "\n",
              "        async function convertToInteractive(key) {\n",
              "          const element = document.querySelector('#df-bcba29d3-648d-4b19-a200-d677aa2173af');\n",
              "          const dataTable =\n",
              "            await google.colab.kernel.invokeFunction('convertToInteractive',\n",
              "                                                     [key], {});\n",
              "          if (!dataTable) return;\n",
              "\n",
              "          const docLinkHtml = 'Like what you see? Visit the ' +\n",
              "            '<a target=\"_blank\" href=https://colab.research.google.com/notebooks/data_table.ipynb>data table notebook</a>'\n",
              "            + ' to learn more about interactive tables.';\n",
              "          element.innerHTML = '';\n",
              "          dataTable['output_type'] = 'display_data';\n",
              "          await google.colab.output.renderOutput(dataTable, element);\n",
              "          const docLink = document.createElement('div');\n",
              "          docLink.innerHTML = docLinkHtml;\n",
              "          element.appendChild(docLink);\n",
              "        }\n",
              "      </script>\n",
              "    </div>\n",
              "  </div>\n",
              "  "
            ]
          },
          "metadata": {},
          "execution_count": 4
        }
      ]
    },
    {
      "cell_type": "code",
      "source": [
        "image_df['Label'].value_counts()"
      ],
      "metadata": {
        "colab": {
          "base_uri": "https://localhost:8080/"
        },
        "id": "BOPC8tn-6bCy",
        "outputId": "f829d46f-6fb8-426c-b137-9334bb353a09"
      },
      "execution_count": 5,
      "outputs": [
        {
          "output_type": "execute_result",
          "data": {
            "text/plain": [
              "sailboat           389\n",
              "kayak              203\n",
              "gondola            193\n",
              "cruise_ship        191\n",
              "ferry_boat          63\n",
              "buoy                53\n",
              "paper_boat          31\n",
              "freight_boat        23\n",
              "inflatable_boat     16\n",
              "Name: Label, dtype: int64"
            ]
          },
          "metadata": {},
          "execution_count": 5
        }
      ]
    },
    {
      "cell_type": "code",
      "source": [
        "train_df, test_df = train_test_split(image_df, train_size=0.7, shuffle=True, random_state=1)"
      ],
      "metadata": {
        "id": "mAEQQKv_6hlK"
      },
      "execution_count": 6,
      "outputs": []
    },
    {
      "cell_type": "code",
      "source": [
        "train_generator = tf.keras.preprocessing.image.ImageDataGenerator(\n",
        "    rescale=1./255,\n",
        "    validation_split=0.2\n",
        ")\n",
        "\n",
        "test_generator = tf.keras.preprocessing.image.ImageDataGenerator(\n",
        "    rescale=1./255\n",
        ")"
      ],
      "metadata": {
        "id": "sFrt41g46kRq"
      },
      "execution_count": 7,
      "outputs": []
    },
    {
      "cell_type": "code",
      "source": [
        "train_images = train_generator.flow_from_dataframe(\n",
        "    dataframe=train_df,\n",
        "    x_col='Filepath',\n",
        "    y_col='Label',\n",
        "    target_size=(224, 224),\n",
        "    color_mode='rgb',\n",
        "    class_mode='categorical',\n",
        "    batch_size=32,\n",
        "    shuffle=True,\n",
        "    seed=42,\n",
        "    subset='training'\n",
        ")\n",
        "\n",
        "val_images = train_generator.flow_from_dataframe(\n",
        "    dataframe=train_df,\n",
        "    x_col='Filepath',\n",
        "    y_col='Label',\n",
        "    target_size=(224, 224),\n",
        "    color_mode='rgb',\n",
        "    class_mode='categorical',\n",
        "    batch_size=32,\n",
        "    shuffle=True,\n",
        "    seed=42,\n",
        "    subset='validation'\n",
        ")\n",
        "\n",
        "test_images = test_generator.flow_from_dataframe(\n",
        "    dataframe=test_df,\n",
        "    x_col='Filepath',\n",
        "    y_col='Label',\n",
        "    target_size=(224, 224),\n",
        "    color_mode='rgb',\n",
        "    class_mode='categorical',\n",
        "    batch_size=32,\n",
        "    shuffle=False\n",
        ")"
      ],
      "metadata": {
        "colab": {
          "base_uri": "https://localhost:8080/"
        },
        "id": "kZCADhnh6t-S",
        "outputId": "bf39af07-bb3b-42ce-e6e2-b264b245a72b"
      },
      "execution_count": 8,
      "outputs": [
        {
          "output_type": "stream",
          "name": "stdout",
          "text": [
            "Found 651 validated image filenames belonging to 9 classes.\n",
            "Found 162 validated image filenames belonging to 9 classes.\n",
            "Found 349 validated image filenames belonging to 9 classes.\n"
          ]
        }
      ]
    },
    {
      "cell_type": "code",
      "source": [
        "inputs = tf.keras.Input(shape=(224, 224, 3))\n",
        "x = tf.keras.layers.Conv2D(filters=32, kernel_size=(3, 3), activation='relu')(inputs)\n",
        "x = tf.keras.layers.MaxPool2D()(x)\n",
        "x = tf.keras.layers.Conv2D(filters=32, kernel_size=(3, 3), activation='relu')(x)\n",
        "x = tf.keras.layers.MaxPool2D()(x)\n",
        "x = tf.keras.layers.GlobalAveragePooling2D()(x)\n",
        "x = tf.keras.layers.Dense(128, activation='relu')(x)\n",
        "x = tf.keras.layers.Dense(128, activation='relu')(x)\n",
        "outputs = tf.keras.layers.Dense(9, activation='softmax')(x)\n",
        "\n",
        "model = tf.keras.Model(inputs=inputs, outputs=outputs)\n",
        "\n",
        "\n",
        "model.compile(\n",
        "    optimizer='adam',\n",
        "    loss='categorical_crossentropy',\n",
        "    metrics=['accuracy']\n",
        ")\n",
        "\n",
        "\n",
        "history = model.fit(\n",
        "    train_images,\n",
        "    validation_data=val_images,\n",
        "    epochs=100,\n",
        "    callbacks=[\n",
        "        tf.keras.callbacks.EarlyStopping(\n",
        "            monitor='val_loss',\n",
        "            patience=3,\n",
        "            restore_best_weights=True\n",
        "        )\n",
        "    ]\n",
        ")"
      ],
      "metadata": {
        "colab": {
          "base_uri": "https://localhost:8080/"
        },
        "id": "rcDyHYm06wVS",
        "outputId": "67546c20-fc1a-4c8e-f0de-5b48993a6634"
      },
      "execution_count": 9,
      "outputs": [
        {
          "output_type": "stream",
          "name": "stdout",
          "text": [
            "Epoch 1/100\n",
            "21/21 [==============================] - 248s 12s/step - loss: 1.9397 - accuracy: 0.3241 - val_loss: 1.7472 - val_accuracy: 0.3519\n",
            "Epoch 2/100\n",
            "21/21 [==============================] - 50s 2s/step - loss: 1.7971 - accuracy: 0.3395 - val_loss: 1.7449 - val_accuracy: 0.3519\n",
            "Epoch 3/100\n",
            "21/21 [==============================] - 54s 3s/step - loss: 1.7836 - accuracy: 0.3395 - val_loss: 1.7345 - val_accuracy: 0.3519\n",
            "Epoch 4/100\n",
            "21/21 [==============================] - 51s 2s/step - loss: 1.7800 - accuracy: 0.3395 - val_loss: 1.7383 - val_accuracy: 0.3519\n",
            "Epoch 5/100\n",
            "21/21 [==============================] - 52s 3s/step - loss: 1.7891 - accuracy: 0.3395 - val_loss: 1.7263 - val_accuracy: 0.3519\n",
            "Epoch 6/100\n",
            "21/21 [==============================] - 55s 3s/step - loss: 1.7667 - accuracy: 0.3395 - val_loss: 1.7186 - val_accuracy: 0.3519\n",
            "Epoch 7/100\n",
            "21/21 [==============================] - 51s 2s/step - loss: 1.7488 - accuracy: 0.3395 - val_loss: 1.7111 - val_accuracy: 0.3519\n",
            "Epoch 8/100\n",
            "21/21 [==============================] - 50s 2s/step - loss: 1.7417 - accuracy: 0.3487 - val_loss: 1.6810 - val_accuracy: 0.3580\n",
            "Epoch 9/100\n",
            "21/21 [==============================] - 50s 2s/step - loss: 1.7004 - accuracy: 0.3671 - val_loss: 1.7034 - val_accuracy: 0.3704\n",
            "Epoch 10/100\n",
            "21/21 [==============================] - 50s 2s/step - loss: 1.6832 - accuracy: 0.3871 - val_loss: 1.6577 - val_accuracy: 0.3827\n",
            "Epoch 11/100\n",
            "21/21 [==============================] - 50s 2s/step - loss: 1.6628 - accuracy: 0.3948 - val_loss: 1.6530 - val_accuracy: 0.3889\n",
            "Epoch 12/100\n",
            "21/21 [==============================] - 50s 2s/step - loss: 1.6569 - accuracy: 0.3902 - val_loss: 1.6986 - val_accuracy: 0.3704\n",
            "Epoch 13/100\n",
            "21/21 [==============================] - 50s 2s/step - loss: 1.6632 - accuracy: 0.3717 - val_loss: 1.6717 - val_accuracy: 0.3580\n",
            "Epoch 14/100\n",
            "21/21 [==============================] - 55s 3s/step - loss: 1.6502 - accuracy: 0.3825 - val_loss: 1.6909 - val_accuracy: 0.3580\n"
          ]
        }
      ]
    },
    {
      "cell_type": "code",
      "source": [
        "results = model.evaluate(test_images, verbose=0)\n",
        "\n",
        "print(\"    Test Loss: {:.5f}\".format(results[0]))\n",
        "print(\"Test Accuracy: {:.2f}%\".format(results[1] * 100))"
      ],
      "metadata": {
        "colab": {
          "base_uri": "https://localhost:8080/"
        },
        "id": "hXki7TqB6zaq",
        "outputId": "a75afab7-5c1d-4b59-a99f-70860d1df595"
      },
      "execution_count": 10,
      "outputs": [
        {
          "output_type": "stream",
          "name": "stdout",
          "text": [
            "    Test Loss: 1.73335\n",
            "Test Accuracy: 35.82%\n"
          ]
        }
      ]
    },
    {
      "cell_type": "code",
      "source": [
        "predictions = np.argmax(model.predict(test_images), axis=1)\n",
        "\n",
        "cm = confusion_matrix(test_images.labels, predictions)\n",
        "clr = classification_report(test_images.labels, predictions, target_names=list(train_images.class_indices.keys()))\n",
        "\n",
        "plt.figure(figsize=(12, 12))\n",
        "sns.heatmap(cm, annot=True, fmt='g', vmin=0, cmap='Blues', cbar=False)\n",
        "plt.xticks(ticks=np.arange(9) + 0.5, labels=list(train_images.class_indices.keys()))\n",
        "plt.yticks(ticks=np.arange(9) + 0.5, labels=list(train_images.class_indices.keys()))\n",
        "plt.xlabel(\"Predicted\")\n",
        "plt.ylabel(\"Actual\")\n",
        "plt.title(\"Confusion Matrix\")\n",
        "plt.show()\n",
        "\n",
        "print(\"Classification Report:\\n----------------------\\n\", clr)"
      ],
      "metadata": {
        "colab": {
          "base_uri": "https://localhost:8080/",
          "height": 1000
        },
        "id": "ZspYHo_-_zvt",
        "outputId": "b3a426a3-ff50-443f-d0dc-c4ebdc7c9d4b"
      },
      "execution_count": 11,
      "outputs": [
        {
          "output_type": "stream",
          "name": "stdout",
          "text": [
            "11/11 [==============================] - 14s 1s/step\n"
          ]
        },
        {
          "output_type": "display_data",
          "data": {
            "text/plain": [
              "<Figure size 864x864 with 1 Axes>"
            ],
            "image/png": "[encoded data removed]"
          },
          "metadata": {
            "needs_background": "light"
          }
        },
        {
          "output_type": "stream",
          "name": "stdout",
          "text": [
            "Classification Report:\n",
            "----------------------\n",
            "                  precision    recall  f1-score   support\n",
            "\n",
            "           buoy       0.00      0.00      0.00        23\n",
            "    cruise_ship       0.00      0.00      0.00        50\n",
            "     ferry_boat       0.00      0.00      0.00        21\n",
            "   freight_boat       0.00      0.00      0.00         8\n",
            "        gondola       0.34      0.82      0.48        62\n",
            "inflatable_boat       0.00      0.00      0.00         5\n",
            "          kayak       0.00      0.00      0.00        60\n",
            "     paper_boat       0.00      0.00      0.00         9\n",
            "       sailboat       0.38      0.67      0.48       111\n",
            "\n",
            "       accuracy                           0.36       349\n",
            "      macro avg       0.08      0.17      0.11       349\n",
            "   weighted avg       0.18      0.36      0.24       349\n",
            "\n"
          ]
        }
      ]
    },
    {
      "cell_type": "code",
      "source": [],
      "metadata": {
        "id": "fmRy0fCc_2ZT"
      },
      "execution_count": null,
      "outputs": []
    }
  ]
}