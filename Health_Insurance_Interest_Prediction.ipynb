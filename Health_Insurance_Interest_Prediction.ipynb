{
  "nbformat": 4,
  "nbformat_minor": 0,
  "metadata": {
    "colab": {
      "private_outputs": true,
      "provenance": [],
      "authorship_tag": "ABX9TyOi2cC5UcRD2WfEufB+tEdd",
      "include_colab_link": true
    },
    "kernelspec": {
      "name": "python3",
      "display_name": "Python 3"
    },
    "language_info": {
      "name": "python"
    }
  },
  "cells": [
    {
      "cell_type": "markdown",
      "metadata": {
        "id": "view-in-github",
        "colab_type": "text"
      },
      "source": [
        "<a href=\"https://colab.research.google.com/github/binhluong84/Machine-Learning/blob/main/Health_Insurance_Interest_Prediction.ipynb\" target=\"_parent\"><img src=\"https://colab.research.google.com/assets/colab-badge.svg\" alt=\"Open In Colab\"/></a>"
      ]
    },
    {
      "cell_type": "code",
      "execution_count": null,
      "metadata": {
        "id": "gLxPsF9Bbj7g"
      },
      "outputs": [],
      "source": [
        "import numpy as np\n",
        "import pandas as pd\n",
        "import plotly.express as px\n",
        "\n",
        "from sklearn.preprocessing import LabelEncoder\n",
        "from sklearn.preprocessing import MinMaxScaler\n",
        "from sklearn.model_selection import train_test_split\n",
        "\n",
        "import tensorflow as tf"
      ]
    },
    {
      "cell_type": "code",
      "source": [
        "#Connect Google Drive\n",
        "from google.colab import drive\n",
        "drive.mount('/gdrive')\n"
      ],
      "metadata": {
        "id": "SjB6FUz9oSEc"
      },
      "execution_count": null,
      "outputs": []
    },
    {
      "cell_type": "code",
      "source": [
        "train_df = pd.read_csv('/gdrive/MyDrive/Health Insurance Cross Sell Prediction/train.csv.zip')\n",
        "test_df = pd.read_csv('/gdrive/MyDrive/Health Insurance Cross Sell Prediction/test.csv.zip')\n",
        "sample_submission = pd.read_csv('/gdrive/MyDrive/Health Insurance Cross Sell Prediction/sample_submission.csv.zip')"
      ],
      "metadata": {
        "id": "UYg3TBoGoUgC"
      },
      "execution_count": null,
      "outputs": []
    },
    {
      "cell_type": "code",
      "source": [
        "train_df"
      ],
      "metadata": {
        "id": "S1lkAv_apU2d"
      },
      "execution_count": null,
      "outputs": []
    },
    {
      "cell_type": "code",
      "source": [
        "test_df"
      ],
      "metadata": {
        "id": "ZL-UOlripVJV"
      },
      "execution_count": null,
      "outputs": []
    },
    {
      "cell_type": "code",
      "source": [
        "sample_submission"
      ],
      "metadata": {
        "id": "iOPsURyzpX8C"
      },
      "execution_count": null,
      "outputs": []
    },
    {
      "cell_type": "code",
      "source": [
        "train_df.info()"
      ],
      "metadata": {
        "id": "EmuXM3MhqQBR"
      },
      "execution_count": null,
      "outputs": []
    },
    {
      "cell_type": "code",
      "source": [
        "train_df.isna().sum()"
      ],
      "metadata": {
        "id": "pIazsQmsqmOq"
      },
      "execution_count": null,
      "outputs": []
    },
    {
      "cell_type": "code",
      "source": [
        "test_df.isna().sum()"
      ],
      "metadata": {
        "id": "kcPUzHfBqpLq"
      },
      "execution_count": null,
      "outputs": []
    },
    {
      "cell_type": "code",
      "source": [
        "train_df"
      ],
      "metadata": {
        "id": "8MROiMreqrGh"
      },
      "execution_count": null,
      "outputs": []
    },
    {
      "cell_type": "code",
      "source": [
        "def get_uniques(df, columns):\n",
        "    return {column: list(df[column].unique()) for column in columns}"
      ],
      "metadata": {
        "id": "n46wkXkTrH4L"
      },
      "execution_count": null,
      "outputs": []
    },
    {
      "cell_type": "code",
      "source": [
        "categorical_features = ['Gender', 'Vehicle_Age', 'Vehicle_Damage']\n",
        "\n",
        "get_uniques(train_df, categorical_features)"
      ],
      "metadata": {
        "id": "f0sj_5lnrLvq"
      },
      "execution_count": null,
      "outputs": []
    },
    {
      "cell_type": "code",
      "source": [
        "binary_features = ['Gender', 'Vehicle_Damage']\n",
        "\n",
        "ordinal_features = ['Vehicle_Age']"
      ],
      "metadata": {
        "id": "tFOVRUeTrSCy"
      },
      "execution_count": null,
      "outputs": []
    },
    {
      "cell_type": "code",
      "source": [
        "def binary_encode(df, column, positive_label):\n",
        "    df = df.copy()\n",
        "    df[column] = df[column].apply(lambda x: 1 if x == positive_label else 0)\n",
        "    return df"
      ],
      "metadata": {
        "id": "cYp4frA5rVy6"
      },
      "execution_count": null,
      "outputs": []
    },
    {
      "cell_type": "code",
      "source": [
        "train_df"
      ],
      "metadata": {
        "id": "f1iQ1ESUrYW6"
      },
      "execution_count": null,
      "outputs": []
    },
    {
      "cell_type": "code",
      "source": [
        "train_df = binary_encode(train_df, 'Gender', 'Male')\n",
        "test_df = binary_encode(test_df, 'Gender', 'Male')\n",
        "\n",
        "train_df = binary_encode(train_df, 'Vehicle_Damage', 'Yes')\n",
        "test_df = binary_encode(test_df, 'Vehicle_Damage', 'Yes')"
      ],
      "metadata": {
        "id": "ggG3608uraVq"
      },
      "execution_count": null,
      "outputs": []
    },
    {
      "cell_type": "code",
      "source": [
        "def ordinal_encode(df, column, ordering):\n",
        "    df = df.copy()\n",
        "    df[column] = df[column].apply(lambda x: ordering.index(x))\n",
        "    return df"
      ],
      "metadata": {
        "id": "0NBkqMAFrsLK"
      },
      "execution_count": null,
      "outputs": []
    },
    {
      "cell_type": "code",
      "source": [
        "age_ordering = ['< 1 Year', '1-2 Year', '> 2 Years']\n",
        "\n",
        "train_df = ordinal_encode(train_df, 'Vehicle_Age', age_ordering)\n",
        "test_df = ordinal_encode(test_df, 'Vehicle_Age', age_ordering)"
      ],
      "metadata": {
        "id": "yqsntONNruTS"
      },
      "execution_count": null,
      "outputs": []
    },
    {
      "cell_type": "code",
      "source": [
        "train_df"
      ],
      "metadata": {
        "id": "W_n7EEb4rzDp"
      },
      "execution_count": null,
      "outputs": []
    },
    {
      "cell_type": "code",
      "source": [
        "test_df"
      ],
      "metadata": {
        "id": "qS02j-MTr56C"
      },
      "execution_count": null,
      "outputs": []
    },
    {
      "cell_type": "code",
      "source": [
        "test_ids = test_df['id'].tolist()\n",
        "\n",
        "train_df = train_df.drop('id', axis=1)\n",
        "test_df = test_df.drop('id', axis=1)"
      ],
      "metadata": {
        "id": "GQ0KE6Htr9gq"
      },
      "execution_count": null,
      "outputs": []
    },
    {
      "cell_type": "code",
      "source": [
        "y = train_df['Response']\n",
        "X = train_df.drop('Response', axis=1)"
      ],
      "metadata": {
        "id": "PcJYXHsCr_-K"
      },
      "execution_count": null,
      "outputs": []
    },
    {
      "cell_type": "code",
      "source": [
        "X.plot(kind='box', figsize=(20, 10), logy=True)"
      ],
      "metadata": {
        "id": "NfQiBGn8sCCa"
      },
      "execution_count": null,
      "outputs": []
    },
    {
      "cell_type": "code",
      "source": [
        "scaler = MinMaxScaler()\n",
        "\n",
        "X = scaler.fit_transform(X)\n",
        "test_df = scaler.fit_transform(test_df)"
      ],
      "metadata": {
        "id": "vks4hfqZsGpi"
      },
      "execution_count": null,
      "outputs": []
    },
    {
      "cell_type": "code",
      "source": [
        "X_train, X_test, y_train, y_test = train_test_split(X, y, train_size=0.7)"
      ],
      "metadata": {
        "id": "EfBJXREksJWy"
      },
      "execution_count": null,
      "outputs": []
    },
    {
      "cell_type": "code",
      "source": [
        "X.shape"
      ],
      "metadata": {
        "id": "EmslFl9WsMMC"
      },
      "execution_count": null,
      "outputs": []
    },
    {
      "cell_type": "code",
      "source": [
        "y.shape"
      ],
      "metadata": {
        "id": "6rzQspk-sN8q"
      },
      "execution_count": null,
      "outputs": []
    },
    {
      "cell_type": "code",
      "source": [
        "y.sum() / len(y)"
      ],
      "metadata": {
        "id": "nWwe3J00sP8q"
      },
      "execution_count": null,
      "outputs": []
    },
    {
      "cell_type": "code",
      "source": [
        "inputs = tf.keras.Input(shape=(10,))\n",
        "x = tf.keras.layers.Dense(64, activation='relu')(inputs)\n",
        "x = tf.keras.layers.Dense(64, activation='relu')(x)\n",
        "outputs = tf.keras.layers.Dense(1, activation='sigmoid')(x)\n",
        "\n",
        "model = tf.keras.Model(inputs=inputs, outputs=outputs)\n",
        "\n",
        "\n",
        "model.compile(\n",
        "    optimizer='adam',\n",
        "    loss='binary_crossentropy',\n",
        "    metrics=[tf.keras.metrics.AUC(name='auc')]\n",
        ")\n",
        "\n",
        "\n",
        "batch_size = 64\n",
        "epochs = 25\n",
        "\n",
        "history = model.fit(\n",
        "    X_train,\n",
        "    y_train,\n",
        "    validation_split=0.2,\n",
        "    batch_size=batch_size,\n",
        "    epochs=epochs,\n",
        "    callbacks=[tf.keras.callbacks.ReduceLROnPlateau()],\n",
        "    verbose=0\n",
        ")"
      ],
      "metadata": {
        "id": "PtFyG2IBsSFi"
      },
      "execution_count": null,
      "outputs": []
    },
    {
      "cell_type": "code",
      "source": [
        "fig = px.line(\n",
        "    history.history, y=['loss', 'val_loss'], \n",
        "    labels={'index': 'Epoch', 'value': 'Loss'}, \n",
        "    title='Training History')\n",
        "fig.show()"
      ],
      "metadata": {
        "id": "sj8uWPUCsVpq"
      },
      "execution_count": null,
      "outputs": []
    },
    {
      "cell_type": "code",
      "source": [
        "model.evaluate(X_test, y_test)"
      ],
      "metadata": {
        "id": "bQVYF9TYu_az"
      },
      "execution_count": null,
      "outputs": []
    },
    {
      "cell_type": "code",
      "source": [
        "sample_submission"
      ],
      "metadata": {
        "id": "hcALJKR4vCBy"
      },
      "execution_count": null,
      "outputs": []
    },
    {
      "cell_type": "code",
      "source": [
        "preds = model.predict(test_df)"
      ],
      "metadata": {
        "id": "uj_8AXPavF7C"
      },
      "execution_count": null,
      "outputs": []
    },
    {
      "cell_type": "code",
      "source": [
        "preds = list(map(lambda x: np.int(x[0]),  preds >= 0.5))"
      ],
      "metadata": {
        "id": "dyaRCJW-vIRz"
      },
      "execution_count": null,
      "outputs": []
    },
    {
      "cell_type": "code",
      "source": [
        "submission = pd.concat([pd.Series(test_ids), pd.Series(preds)], axis=1)\n",
        "submission.columns = ['id', 'Response']"
      ],
      "metadata": {
        "id": "ysPca2d0vL95"
      },
      "execution_count": null,
      "outputs": []
    },
    {
      "cell_type": "code",
      "source": [
        "submission"
      ],
      "metadata": {
        "id": "OOlqb2TUvP_5"
      },
      "execution_count": null,
      "outputs": []
    },
    {
      "cell_type": "code",
      "source": [
        "sample_submission.shape == submission.shape"
      ],
      "metadata": {
        "id": "6avjfnWpvSgq"
      },
      "execution_count": null,
      "outputs": []
    },
    {
      "cell_type": "code",
      "source": [
        "submission.to_csv('./submission.csv')"
      ],
      "metadata": {
        "id": "-196KZIUvUuC"
      },
      "execution_count": null,
      "outputs": []
    },
    {
      "cell_type": "code",
      "source": [],
      "metadata": {
        "id": "WPIRF-T9vWvh"
      },
      "execution_count": null,
      "outputs": []
    }
  ]
}